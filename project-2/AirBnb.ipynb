{
 "cells": [
  {
   "cell_type": "markdown",
   "metadata": {
    "application/vnd.databricks.v1+cell": {
     "cellMetadata": {
      "byteLimit": 2048000,
      "rowLimit": 10000
     },
     "inputWidgets": {},
     "nuid": "7be581d6-0489-49dc-9e35-e9f4e16fb04d",
     "showTitle": false,
     "tableResultSettingsMap": {},
     "title": ""
    }
   },
   "source": [
    "\n",
    "## Overview\n"
   ]
  },
  {
   "cell_type": "code",
   "execution_count": null,
   "metadata": {
    "application/vnd.databricks.v1+cell": {
     "cellMetadata": {
      "byteLimit": 2048000,
      "rowLimit": 10000
     },
     "inputWidgets": {},
     "nuid": "1b42e494-fd45-431d-9d35-dc4223dfae32",
     "showTitle": false,
     "tableResultSettingsMap": {},
     "title": ""
    }
   },
   "outputs": [
    {
     "data": {
      "text/html": [
       "\n",
       "            <div>\n",
       "                <p><b>SparkSession - hive</b></p>\n",
       "                \n",
       "        <div>\n",
       "            <p><b>SparkContext</b></p>\n",
       "\n",
       "            <p><a href=\"/?o=282214648998941#setting/sparkui/1221-104616-59o45cxw/driver-4259245420256438431\">Spark UI</a></p>\n",
       "\n",
       "            <dl>\n",
       "              <dt>Version</dt>\n",
       "                <dd><code>v3.3.2</code></dd>\n",
       "              <dt>Master</dt>\n",
       "                <dd><code>local[8]</code></dd>\n",
       "              <dt>AppName</dt>\n",
       "                <dd><code>Databricks Shell</code></dd>\n",
       "            </dl>\n",
       "        </div>\n",
       "        \n",
       "            </div>\n",
       "        "
      ]
     },
     "metadata": {
      "application/vnd.databricks.v1+output": {
       "addedWidgets": {},
       "arguments": {},
       "data": "\n            <div>\n                <p><b>SparkSession - hive</b></p>\n                \n        <div>\n            <p><b>SparkContext</b></p>\n\n            <p><a href=\"/?o=282214648998941#setting/sparkui/1221-104616-59o45cxw/driver-4259245420256438431\">Spark UI</a></p>\n\n            <dl>\n              <dt>Version</dt>\n                <dd><code>v3.3.2</code></dd>\n              <dt>Master</dt>\n                <dd><code>local[8]</code></dd>\n              <dt>AppName</dt>\n                <dd><code>Databricks Shell</code></dd>\n            </dl>\n        </div>\n        \n            </div>\n        ",
       "datasetInfos": [],
       "metadata": {},
       "removedWidgets": [],
       "textData": null,
       "type": "htmlSandbox"
      }
     },
     "output_type": "display_data"
    }
   ],
   "source": [
    "from pyspark.sql import SparkSession\n",
    "from pyspark.sql.functions import countDistinct\n",
    "from pyspark.sql import functions as F\n",
    "\n",
    "spark = SparkSession \\\n",
    "    .builder \\\n",
    "    .appName(\"Airbnb New User Bookings\") \\\n",
    "    .getOrCreate()\n",
    "\n",
    "spark"
   ]
  },
  {
   "cell_type": "code",
   "execution_count": null,
   "metadata": {
    "application/vnd.databricks.v1+cell": {
     "cellMetadata": {
      "byteLimit": 2048000,
      "rowLimit": 10000
     },
     "inputWidgets": {},
     "nuid": "b1b9e477-ccd8-41e5-8b1b-b0c704440fe7",
     "showTitle": false,
     "tableResultSettingsMap": {},
     "title": ""
    }
   },
   "outputs": [
    {
     "name": "stdout",
     "output_type": "stream",
     "text": [
      "Out[2]: 8"
     ]
    }
   ],
   "source": [
    "# Check default parallelism\n",
    "sc = spark.sparkContext\n",
    "sc.defaultParallelism"
   ]
  },
  {
   "cell_type": "code",
   "execution_count": null,
   "metadata": {
    "application/vnd.databricks.v1+cell": {
     "cellMetadata": {
      "byteLimit": 2048000,
      "rowLimit": 10000
     },
     "inputWidgets": {},
     "nuid": "f695f550-d115-4def-932e-1b03153961c3",
     "showTitle": false,
     "tableResultSettingsMap": {},
     "title": ""
    }
   },
   "outputs": [
    {
     "name": "stdout",
     "output_type": "stream",
     "text": [
      "Out[3]: '134217728b'"
     ]
    }
   ],
   "source": [
    "spark.conf.get( \"spark.sql.files.maxPartitionBytes\")"
   ]
  },
  {
   "cell_type": "code",
   "execution_count": null,
   "metadata": {
    "application/vnd.databricks.v1+cell": {
     "cellMetadata": {
      "byteLimit": 2048000,
      "rowLimit": 10000
     },
     "inputWidgets": {},
     "nuid": "68632f40-80db-4d36-b1f8-874d773d7ec1",
     "showTitle": false,
     "tableResultSettingsMap": {},
     "title": ""
    }
   },
   "outputs": [
    {
     "name": "stdout",
     "output_type": "stream",
     "text": [
      "Out[4]: '200'"
     ]
    }
   ],
   "source": [
    "#Check default number of shuffle partitions\n",
    "spark.conf.get( \"spark.sql.shuffle.partitions\" )"
   ]
  },
  {
   "cell_type": "code",
   "execution_count": null,
   "metadata": {
    "application/vnd.databricks.v1+cell": {
     "cellMetadata": {
      "byteLimit": 2048000,
      "rowLimit": 10000
     },
     "inputWidgets": {},
     "nuid": "67c81e31-30b6-47e7-a848-6b608a08d46a",
     "showTitle": false,
     "tableResultSettingsMap": {},
     "title": ""
    }
   },
   "outputs": [],
   "source": [
    "# Here we 're working with a relatively small dataset (where the data can fit into memory across the executors), we wouldn't need too many partitions. In this case, we could lower the number of partitions to reduce overhead\n",
    "spark.conf.set(\"spark.sql.shuffle.partitions\", 4)"
   ]
  },
  {
   "cell_type": "code",
   "execution_count": null,
   "metadata": {
    "application/vnd.databricks.v1+cell": {
     "cellMetadata": {
      "byteLimit": 2048000,
      "rowLimit": 10000
     },
     "inputWidgets": {},
     "nuid": "033250c7-8412-4529-a358-89a1c965dd87",
     "showTitle": false,
     "tableResultSettingsMap": {},
     "title": ""
    }
   },
   "outputs": [],
   "source": [
    "# Enable Adaptive Query Execution (AQE) in Spark to dynamically adjust shuffle partitions during execution\n",
    "spark.conf.set(\"spark.sql.adaptive.enabled\", \"true\")"
   ]
  },
  {
   "cell_type": "code",
   "execution_count": null,
   "metadata": {
    "application/vnd.databricks.v1+cell": {
     "cellMetadata": {
      "byteLimit": 2048000,
      "rowLimit": 10000
     },
     "inputWidgets": {},
     "nuid": "e6ef7c84-ed64-4e9a-adb5-a51aec900871",
     "showTitle": false,
     "tableResultSettingsMap": {},
     "title": ""
    }
   },
   "outputs": [],
   "source": [
    "spark.conf.set(\"spark.sql.files.minPartitionNum\", 8)"
   ]
  },
  {
   "cell_type": "markdown",
   "metadata": {
    "application/vnd.databricks.v1+cell": {
     "cellMetadata": {
      "byteLimit": 2048000,
      "rowLimit": 10000
     },
     "inputWidgets": {},
     "nuid": "3eb37c80-6563-473c-8f60-48eda30f59e2",
     "showTitle": false,
     "tableResultSettingsMap": {},
     "title": ""
    }
   },
   "source": [
    "###### Processing udf"
   ]
  },
  {
   "cell_type": "code",
   "execution_count": null,
   "metadata": {
    "application/vnd.databricks.v1+cell": {
     "cellMetadata": {
      "byteLimit": 2048000,
      "rowLimit": 10000
     },
     "inputWidgets": {},
     "nuid": "be6c47ae-5579-43c5-8aa7-78728be6df1d",
     "showTitle": false,
     "tableResultSettingsMap": {},
     "title": ""
    }
   },
   "outputs": [],
   "source": [
    "from pyspark.sql.functions import col, count, when, isnan\n",
    "\n",
    "# get null percentage\n",
    "def null_percentage_analysis(df):\n",
    "    print(\"\\nNull Percentage Analysis:\")\n",
    "    print(\"-\" * 40)\n",
    "    total_rows = df.count()\n",
    "    \n",
    "    for column in df.columns:\n",
    "        null_count = df.filter(col(column).isNull()).count()\n",
    "        null_percent = (null_count / total_rows) * 100\n",
    "        \n",
    "        if null_count > 0:\n",
    "            print(f\"{column}: {null_count} null values ({null_percent:.2f}%)\")\n",
    "    \n",
    "    print(\"-\" * 40)\n"
   ]
  },
  {
   "cell_type": "markdown",
   "metadata": {
    "application/vnd.databricks.v1+cell": {
     "cellMetadata": {
      "byteLimit": 2048000,
      "rowLimit": 10000
     },
     "inputWidgets": {},
     "nuid": "ed02bff8-38c6-426b-aa92-f28f2e98dd98",
     "showTitle": false,
     "tableResultSettingsMap": {},
     "title": ""
    }
   },
   "source": [
    "## Read the files"
   ]
  },
  {
   "cell_type": "markdown",
   "metadata": {
    "application/vnd.databricks.v1+cell": {
     "cellMetadata": {
      "byteLimit": 2048000,
      "rowLimit": 10000
     },
     "inputWidgets": {},
     "nuid": "1d5587c3-94e0-432d-9e0e-7ebe5e67fc48",
     "showTitle": false,
     "tableResultSettingsMap": {},
     "title": ""
    }
   },
   "source": [
    " \n",
    "**There are 12 possible outcomes of the destination country: 'US', 'FR', 'CA', 'GB', 'ES', 'IT', 'PT', 'NL','DE', 'AU', 'NDF' (no destination found), and 'other'. Please note that 'NDF' is different from 'other' because `'other' means there was a booking, but is to a country not included in the list`, while `'NDF' means there wasn't a booking`.**\n",
    "\n",
    "\n",
    "**File descriptions**\n",
    "\n",
    "train_users.csv - the training set of users\n",
    "\n",
    "test_users.csv - the test set of users\n",
    "\n",
    "* id: user id\n",
    "\n",
    "* date_account_created: the date of account creation\n",
    "\n",
    "* timestamp_first_active: timestamp of the first activity, `note` that it can be earlier than date_account_created or date_first_booking because a user can search before signing up\n",
    "\n",
    "* date_first_booking: date of first booking\n",
    "\n",
    "* gender\n",
    "\n",
    "* age\n",
    "\n",
    "* signup_method\n",
    "\n",
    "* signup_flow: the page a user came to signup up from\n",
    "\n",
    "* language: international language preference\n",
    "\n",
    "* affiliate_channel: what kind of paid marketing\n",
    "\n",
    "* affiliate_provider: where the marketing is e.g. google, craigslist, other\n",
    "\n",
    "* first_affiliate_tracked: whats the first marketing the user interacted with before the signing up\n",
    "\n",
    "* signup_app\n",
    "\n",
    "* first_device_type\n",
    "\n",
    "* first_browser\n",
    "\n",
    "* country_destination: this is the target variable you are to predict\n",
    "\n",
    "**sessions.csv - web sessions log for users**\n",
    "\n",
    "* user_id: to be joined with the column 'id' in users table\n",
    "\n",
    "* action\n",
    "\n",
    "* action_type\n",
    "\n",
    "* action_detail\n",
    "\n",
    "* device_type\n",
    "\n",
    "* secs_elapsed\n",
    "\n",
    "**countries.csv - summary statistics of destination countries in this dataset and their locations**\n",
    "\n",
    "**age_gender_bkts.csv - summary statistics of users' age group, gender, country of destination**\n",
    "\n",
    "**sample_submission.csv - correct format for submitting your predictions**\n"
   ]
  },
  {
   "cell_type": "code",
   "execution_count": null,
   "metadata": {
    "application/vnd.databricks.v1+cell": {
     "cellMetadata": {
      "byteLimit": 2048000,
      "rowLimit": 10000
     },
     "inputWidgets": {},
     "nuid": "c44829c6-2268-4630-8a78-9866be48863a",
     "showTitle": false,
     "tableResultSettingsMap": {},
     "title": ""
    }
   },
   "outputs": [],
   "source": [
    "## Add types not to infer schema but add it manually.\n",
    "from pyspark.sql.types import LongType, StringType, StructField, StructType, BooleanType, ArrayType, IntegerType, DateType, FloatType"
   ]
  },
  {
   "cell_type": "code",
   "execution_count": null,
   "metadata": {
    "application/vnd.databricks.v1+cell": {
     "cellMetadata": {
      "byteLimit": 2048000,
      "rowLimit": 10000
     },
     "inputWidgets": {},
     "nuid": "a81019f7-f738-47d0-a0d2-a698d2867377",
     "showTitle": false,
     "tableResultSettingsMap": {},
     "title": ""
    }
   },
   "outputs": [],
   "source": [
    "################################ CSV files read configurations\n",
    "# File location and type\n",
    "file_type = \"csv\"\n",
    "\n",
    "# CSV options\n",
    "infer_schema = \"false\"\n",
    "first_row_is_header = \"false\"\n",
    "delimiter = \",\""
   ]
  },
  {
   "cell_type": "markdown",
   "metadata": {
    "application/vnd.databricks.v1+cell": {
     "cellMetadata": {
      "byteLimit": 2048000,
      "rowLimit": 10000
     },
     "inputWidgets": {},
     "nuid": "94b29885-27d7-4859-b5df-ebdea6a91eb0",
     "showTitle": false,
     "tableResultSettingsMap": {},
     "title": ""
    }
   },
   "source": [
    "#### 1. age_gender_bkts.csv file"
   ]
  },
  {
   "cell_type": "code",
   "execution_count": null,
   "metadata": {
    "application/vnd.databricks.v1+cell": {
     "cellMetadata": {
      "byteLimit": 2048000,
      "rowLimit": 10000
     },
     "inputWidgets": {},
     "nuid": "95f8e57b-41c3-4ad2-b367-58a23d6df553",
     "showTitle": false,
     "tableResultSettingsMap": {},
     "title": ""
    }
   },
   "outputs": [
    {
     "name": "stdout",
     "output_type": "stream",
     "text": [
      "(420, 5)\n",
      "Distinct count for country_destination: 10\n",
      "Distinct count for gender: 2\n"
     ]
    },
    {
     "data": {
      "text/html": [
       "<style scoped>\n",
       "  .table-result-container {\n",
       "    max-height: 300px;\n",
       "    overflow: auto;\n",
       "  }\n",
       "  table, th, td {\n",
       "    border: 1px solid black;\n",
       "    border-collapse: collapse;\n",
       "  }\n",
       "  th, td {\n",
       "    padding: 5px;\n",
       "  }\n",
       "  th {\n",
       "    text-align: left;\n",
       "  }\n",
       "</style><div class='table-result-container'><table class='table-result'><thead style='background-color: white'><tr><th>age_bucket</th><th>country_destination</th><th>gender</th><th>population_in_thousands</th><th>year</th></tr></thead><tbody><tr><td>100+</td><td>AU</td><td>male</td><td>1.0</td><td>2015.0</td></tr><tr><td>95-99</td><td>AU</td><td>male</td><td>9.0</td><td>2015.0</td></tr><tr><td>90-94</td><td>AU</td><td>male</td><td>47.0</td><td>2015.0</td></tr><tr><td>85-89</td><td>AU</td><td>male</td><td>118.0</td><td>2015.0</td></tr><tr><td>80-84</td><td>AU</td><td>male</td><td>199.0</td><td>2015.0</td></tr><tr><td>75-79</td><td>AU</td><td>male</td><td>298.0</td><td>2015.0</td></tr><tr><td>70-74</td><td>AU</td><td>male</td><td>415.0</td><td>2015.0</td></tr><tr><td>65-69</td><td>AU</td><td>male</td><td>574.0</td><td>2015.0</td></tr><tr><td>60-64</td><td>AU</td><td>male</td><td>636.0</td><td>2015.0</td></tr><tr><td>55-59</td><td>AU</td><td>male</td><td>714.0</td><td>2015.0</td></tr></tbody></table></div>"
      ]
     },
     "metadata": {
      "application/vnd.databricks.v1+output": {
       "addedWidgets": {},
       "aggData": [],
       "aggError": "",
       "aggOverflow": false,
       "aggSchema": [],
       "aggSeriesLimitReached": false,
       "aggType": "",
       "arguments": {},
       "columnCustomDisplayInfos": {},
       "data": [
        [
         "100+",
         "AU",
         "male",
         1,
         2015
        ],
        [
         "95-99",
         "AU",
         "male",
         9,
         2015
        ],
        [
         "90-94",
         "AU",
         "male",
         47,
         2015
        ],
        [
         "85-89",
         "AU",
         "male",
         118,
         2015
        ],
        [
         "80-84",
         "AU",
         "male",
         199,
         2015
        ],
        [
         "75-79",
         "AU",
         "male",
         298,
         2015
        ],
        [
         "70-74",
         "AU",
         "male",
         415,
         2015
        ],
        [
         "65-69",
         "AU",
         "male",
         574,
         2015
        ],
        [
         "60-64",
         "AU",
         "male",
         636,
         2015
        ],
        [
         "55-59",
         "AU",
         "male",
         714,
         2015
        ]
       ],
       "datasetInfos": [],
       "dbfsResultPath": null,
       "isJsonSchema": true,
       "metadata": {},
       "overflow": false,
       "plotOptions": {
        "customPlotOptions": {},
        "displayType": "table",
        "pivotAggregation": null,
        "pivotColumns": null,
        "xColumns": null,
        "yColumns": null
       },
       "removedWidgets": [],
       "schema": [
        {
         "metadata": "{}",
         "name": "age_bucket",
         "type": "\"string\""
        },
        {
         "metadata": "{}",
         "name": "country_destination",
         "type": "\"string\""
        },
        {
         "metadata": "{}",
         "name": "gender",
         "type": "\"string\""
        },
        {
         "metadata": "{}",
         "name": "population_in_thousands",
         "type": "\"float\""
        },
        {
         "metadata": "{}",
         "name": "year",
         "type": "\"float\""
        }
       ],
       "type": "table"
      }
     },
     "output_type": "display_data"
    }
   ],
   "source": [
    "#############################################\n",
    "## Read age_gender_bkts\n",
    "#############################################\n",
    "file_location = \"/FileStore/tables/age_gender_bkts.csv\"\n",
    "\n",
    "age_gender_bkts_schema = StructType([\n",
    "    StructField(\"age_bucket\", StringType(), True),\n",
    "    StructField(\"country_destination\", StringType(), True),\n",
    "    StructField(\"gender\", StringType(), True),\n",
    "    StructField(\"population_in_thousands\", FloatType(), True),\n",
    "    StructField(\"year\", FloatType(), True)\n",
    "])\n",
    "\n",
    "# The applied options are for CSV files. For other file types, these will be ignored.\n",
    "age_gender_bkts = spark.read.format(file_type) \\\n",
    "  .option(\"inferSchema\", infer_schema) \\\n",
    "  .option(\"header\", \"true\") \\\n",
    "  .schema(age_gender_bkts_schema) \\\n",
    "  .load(file_location)\n",
    "\n",
    "print((age_gender_bkts.count(), len(age_gender_bkts.columns)))\n",
    "\n",
    "# Get distinct count of records in a specific column (e.g., 'name')\n",
    "distinct_count = age_gender_bkts.select(countDistinct(\"country_destination\")).collect()[0][0]\n",
    "print(f\"Distinct count for country_destination: {distinct_count}\")\n",
    "\n",
    "distinct_count = age_gender_bkts.select(countDistinct(\"gender\")).collect()[0][0]\n",
    "print(f\"Distinct count for gender: {distinct_count}\")\n",
    "\n",
    "display(age_gender_bkts.limit(10))\n",
    "# age_gender_bkts.printSchema()\n",
    "# age_gender_bkts.show(5)"
   ]
  },
  {
   "cell_type": "code",
   "execution_count": null,
   "metadata": {
    "application/vnd.databricks.v1+cell": {
     "cellMetadata": {
      "byteLimit": 2048000,
      "rowLimit": 10000
     },
     "inputWidgets": {},
     "nuid": "f60553a2-4c55-406d-a88a-8eee40112625",
     "showTitle": false,
     "tableResultSettingsMap": {},
     "title": ""
    }
   },
   "outputs": [
    {
     "name": "stdout",
     "output_type": "stream",
     "text": [
      "+-------------------+----------------+\n",
      "|country_destination|total_population|\n",
      "+-------------------+----------------+\n",
      "|                 AU|         23923.0|\n",
      "|                 FR|         64983.0|\n",
      "|                 US|        325132.0|\n",
      "|                 CA|         35871.0|\n",
      "|                 IT|         61145.0|\n",
      "|                 NL|         16848.0|\n",
      "|                 PT|         10609.0|\n",
      "|                 ES|         47203.0|\n",
      "|                 DE|         82562.0|\n",
      "|                 GB|         63840.0|\n",
      "+-------------------+----------------+\n",
      "\n"
     ]
    }
   ],
   "source": [
    "age_gender_bkts_distinct = age_gender_bkts.groupBy(\"country_destination\").agg(\n",
    "    F.sum(\"population_in_thousands\").alias(\"total_population\")\n",
    ")\n",
    "age_gender_bkts_distinct.show()"
   ]
  },
  {
   "cell_type": "code",
   "execution_count": null,
   "metadata": {
    "application/vnd.databricks.v1+cell": {
     "cellMetadata": {
      "byteLimit": 2048000,
      "rowLimit": 10000
     },
     "inputWidgets": {},
     "nuid": "fb249cfc-9069-444e-abdc-2a4e08d7206c",
     "showTitle": false,
     "tableResultSettingsMap": {},
     "title": ""
    }
   },
   "outputs": [
    {
     "name": "stdout",
     "output_type": "stream",
     "text": [
      "+-------------------+-----+\n",
      "|country_destination|count|\n",
      "+-------------------+-----+\n",
      "|                 AU|   42|\n",
      "|                 FR|   42|\n",
      "|                 US|   42|\n",
      "|                 CA|   42|\n",
      "|                 IT|   42|\n",
      "|                 NL|   42|\n",
      "|                 PT|   42|\n",
      "|                 ES|   42|\n",
      "|                 DE|   42|\n",
      "|                 GB|   42|\n",
      "+-------------------+-----+\n",
      "\n"
     ]
    }
   ],
   "source": [
    "age_gender_bkts.groupBy(\"country_destination\").count().filter(\"count > 1\").show()"
   ]
  },
  {
   "cell_type": "code",
   "execution_count": null,
   "metadata": {
    "application/vnd.databricks.v1+cell": {
     "cellMetadata": {
      "byteLimit": 2048000,
      "rowLimit": 10000
     },
     "inputWidgets": {},
     "nuid": "fb8a5365-857b-4921-bca6-3d772cd7385d",
     "showTitle": false,
     "tableResultSettingsMap": {},
     "title": ""
    }
   },
   "outputs": [],
   "source": [
    "age_gender_bkts = age_gender_bkts.repartition(\"gender\")"
   ]
  },
  {
   "cell_type": "code",
   "execution_count": null,
   "metadata": {
    "application/vnd.databricks.v1+cell": {
     "cellMetadata": {
      "byteLimit": 2048000,
      "rowLimit": 10000
     },
     "inputWidgets": {},
     "nuid": "9aec9020-a893-4dfa-a534-3bf480f590c4",
     "showTitle": false,
     "tableResultSettingsMap": {},
     "title": ""
    }
   },
   "outputs": [
    {
     "name": "stdout",
     "output_type": "stream",
     "text": [
      "+------+-----+\n",
      "|gender|count|\n",
      "+------+-----+\n",
      "|  male|  210|\n",
      "|female|  210|\n",
      "+------+-----+\n",
      "\n"
     ]
    }
   ],
   "source": [
    "age_gender_bkts.groupBy(\"gender\").count().filter(\"count > 1\").show()"
   ]
  },
  {
   "cell_type": "markdown",
   "metadata": {
    "application/vnd.databricks.v1+cell": {
     "cellMetadata": {
      "byteLimit": 2048000,
      "rowLimit": 10000
     },
     "inputWidgets": {},
     "nuid": "87e704f7-6077-46c4-8fcb-7fc8fabb2dcf",
     "showTitle": false,
     "tableResultSettingsMap": {},
     "title": ""
    }
   },
   "source": [
    "**as we see it 420 instance every country take 42 which is equally distributed**\n",
    "\n",
    "**we can join this data frame using country but we will get nulls regarding NDF which represent 58% of the train df if we use left join and lose it if we use inner join which is not acceptable**\n",
    "\n",
    "**if we join using gender, here we have two (male,female) but at train we have unknow which represent 47% of the data. it will cause which take us to the same problem and i can't change this to any gender which will make our data more biased and why? a do not have any information to do it so?**"
   ]
  },
  {
   "cell_type": "markdown",
   "metadata": {
    "application/vnd.databricks.v1+cell": {
     "cellMetadata": {
      "byteLimit": 2048000,
      "rowLimit": 10000
     },
     "inputWidgets": {},
     "nuid": "4b7e73a0-18fc-4d40-9f7d-c2aaf4bc42f0",
     "showTitle": false,
     "tableResultSettingsMap": {},
     "title": ""
    }
   },
   "source": [
    "#### 2. Read the countries.csv file."
   ]
  },
  {
   "cell_type": "code",
   "execution_count": null,
   "metadata": {
    "application/vnd.databricks.v1+cell": {
     "cellMetadata": {
      "byteLimit": 2048000,
      "rowLimit": 10000
     },
     "inputWidgets": {},
     "nuid": "ba100b51-faa1-4aca-8713-e84ea4b992c6",
     "showTitle": false,
     "tableResultSettingsMap": {},
     "title": ""
    }
   },
   "outputs": [
    {
     "name": "stdout",
     "output_type": "stream",
     "text": [
      "(10, 7)\n",
      "Distinct count for country_destination: 10\n"
     ]
    },
    {
     "data": {
      "text/html": [
       "<style scoped>\n",
       "  .table-result-container {\n",
       "    max-height: 300px;\n",
       "    overflow: auto;\n",
       "  }\n",
       "  table, th, td {\n",
       "    border: 1px solid black;\n",
       "    border-collapse: collapse;\n",
       "  }\n",
       "  th, td {\n",
       "    padding: 5px;\n",
       "  }\n",
       "  th {\n",
       "    text-align: left;\n",
       "  }\n",
       "</style><div class='table-result-container'><table class='table-result'><thead style='background-color: white'><tr><th>country_destination</th><th>lat_destination</th><th>lng_destination</th><th>distance_km</th><th>destination_km2</th><th>destination_language</th><th>language_levenshtein_distance</th></tr></thead><tbody><tr><td>AU</td><td>-26.853388</td><td>133.27516</td><td>15297.744</td><td>7741220.0</td><td>eng</td><td>0.0</td></tr><tr><td>CA</td><td>62.393303</td><td>-96.818146</td><td>2828.1333</td><td>9984670.0</td><td>eng</td><td>0.0</td></tr><tr><td>DE</td><td>51.165707</td><td>10.452764</td><td>7879.568</td><td>357022.0</td><td>deu</td><td>72.61</td></tr><tr><td>ES</td><td>39.896027</td><td>-2.4876945</td><td>7730.724</td><td>505370.0</td><td>spa</td><td>92.25</td></tr><tr><td>FR</td><td>46.232193</td><td>2.209667</td><td>7682.945</td><td>643801.0</td><td>fra</td><td>92.06</td></tr><tr><td>GB</td><td>54.63322</td><td>-3.4322774</td><td>6883.659</td><td>243610.0</td><td>eng</td><td>0.0</td></tr><tr><td>IT</td><td>41.87399</td><td>12.564167</td><td>8636.631</td><td>301340.0</td><td>ita</td><td>89.4</td></tr><tr><td>NL</td><td>52.133057</td><td>5.29525</td><td>7524.3203</td><td>41543.0</td><td>nld</td><td>63.22</td></tr><tr><td>PT</td><td>39.553444</td><td>-7.839319</td><td>7355.2534</td><td>92090.0</td><td>por</td><td>95.45</td></tr><tr><td>US</td><td>36.966427</td><td>-95.84403</td><td>0.0</td><td>9826675.0</td><td>eng</td><td>0.0</td></tr></tbody></table></div>"
      ]
     },
     "metadata": {
      "application/vnd.databricks.v1+output": {
       "addedWidgets": {},
       "aggData": [],
       "aggError": "",
       "aggOverflow": false,
       "aggSchema": [],
       "aggSeriesLimitReached": false,
       "aggType": "",
       "arguments": {},
       "columnCustomDisplayInfos": {},
       "data": [
        [
         "AU",
         -26.853388,
         133.27516,
         15297.744,
         7741220,
         "eng",
         0
        ],
        [
         "CA",
         62.393303,
         -96.818146,
         2828.1333,
         9984670,
         "eng",
         0
        ],
        [
         "DE",
         51.165707,
         10.452764,
         7879.568,
         357022,
         "deu",
         72.61
        ],
        [
         "ES",
         39.896027,
         -2.4876945,
         7730.724,
         505370,
         "spa",
         92.25
        ],
        [
         "FR",
         46.232193,
         2.209667,
         7682.945,
         643801,
         "fra",
         92.06
        ],
        [
         "GB",
         54.63322,
         -3.4322774,
         6883.659,
         243610,
         "eng",
         0
        ],
        [
         "IT",
         41.87399,
         12.564167,
         8636.631,
         301340,
         "ita",
         89.4
        ],
        [
         "NL",
         52.133057,
         5.29525,
         7524.3203,
         41543,
         "nld",
         63.22
        ],
        [
         "PT",
         39.553444,
         -7.839319,
         7355.2534,
         92090,
         "por",
         95.45
        ],
        [
         "US",
         36.966427,
         -95.84403,
         0,
         9826675,
         "eng",
         0
        ]
       ],
       "datasetInfos": [],
       "dbfsResultPath": null,
       "isJsonSchema": true,
       "metadata": {},
       "overflow": false,
       "plotOptions": {
        "customPlotOptions": {},
        "displayType": "table",
        "pivotAggregation": null,
        "pivotColumns": null,
        "xColumns": null,
        "yColumns": null
       },
       "removedWidgets": [],
       "schema": [
        {
         "metadata": "{}",
         "name": "country_destination",
         "type": "\"string\""
        },
        {
         "metadata": "{}",
         "name": "lat_destination",
         "type": "\"float\""
        },
        {
         "metadata": "{}",
         "name": "lng_destination",
         "type": "\"float\""
        },
        {
         "metadata": "{}",
         "name": "distance_km",
         "type": "\"float\""
        },
        {
         "metadata": "{}",
         "name": "destination_km2",
         "type": "\"float\""
        },
        {
         "metadata": "{}",
         "name": "destination_language",
         "type": "\"string\""
        },
        {
         "metadata": "{}",
         "name": "language_levenshtein_distance",
         "type": "\"float\""
        }
       ],
       "type": "table"
      }
     },
     "output_type": "display_data"
    }
   ],
   "source": [
    "#############################################\n",
    "## Read countries\n",
    "#############################################\n",
    "file_location = \"/FileStore/tables/countries.csv\"\n",
    "\n",
    "countries_schema = StructType([\n",
    "    StructField(\"country_destination\", StringType(), True),\n",
    "    StructField(\"lat_destination\", FloatType(), True),\n",
    "    StructField(\"lng_destination\", FloatType(), True),\n",
    "    StructField(\"distance_km\", FloatType(), True),\n",
    "    StructField(\"destination_km2\", FloatType(), True),\n",
    "    StructField(\"destination_language\", StringType(), True),\n",
    "    StructField(\"language_levenshtein_distance\", FloatType(), True)])\n",
    "\n",
    "# The applied options are for CSV files. For other file types, these will be ignored.\n",
    "countries = spark.read.format(file_type) \\\n",
    "  .option(\"inferSchema\", infer_schema) \\\n",
    "  .option(\"header\", \"true\") \\\n",
    "  .schema(countries_schema) \\\n",
    "  .load(file_location)\n",
    "\n",
    "print((countries.count(), len(countries.columns)))\n",
    "\n",
    "# Get distinct count of records in a specific column (e.g., 'name')\n",
    "distinct_count = countries.select(countDistinct(\"country_destination\")).collect()[0][0]\n",
    "print(f\"Distinct count for country_destination: {distinct_count}\")\n",
    "\n",
    "display(countries.limit(10))\n",
    "# countries.printSchema()\n",
    "# countries.show(5)"
   ]
  },
  {
   "cell_type": "code",
   "execution_count": null,
   "metadata": {
    "application/vnd.databricks.v1+cell": {
     "cellMetadata": {
      "byteLimit": 2048000,
      "rowLimit": 10000
     },
     "inputWidgets": {},
     "nuid": "683b02e0-e73d-47ca-8303-356d8efb2b33",
     "showTitle": false,
     "tableResultSettingsMap": {},
     "title": ""
    }
   },
   "outputs": [
    {
     "name": "stdout",
     "output_type": "stream",
     "text": [
      "+-------------------+\n",
      "|country_destination|\n",
      "+-------------------+\n",
      "|AU                 |\n",
      "|CA                 |\n",
      "|DE                 |\n",
      "|ES                 |\n",
      "|FR                 |\n",
      "|GB                 |\n",
      "|IT                 |\n",
      "|NL                 |\n",
      "|PT                 |\n",
      "|US                 |\n",
      "+-------------------+\n",
      "\n"
     ]
    }
   ],
   "source": [
    "countries.select('country_destination').distinct().orderBy('country_destination').show(11,truncate=False)"
   ]
  },
  {
   "cell_type": "markdown",
   "metadata": {
    "application/vnd.databricks.v1+cell": {
     "cellMetadata": {
      "byteLimit": 2048000,
      "rowLimit": 10000
     },
     "inputWidgets": {},
     "nuid": "68ff1f3a-32d3-45de-94dd-6c1eb290cb51",
     "showTitle": false,
     "tableResultSettingsMap": {},
     "title": ""
    }
   },
   "source": [
    "there is no need to join this data with our train data as NDF  is nearly 57% of the train data and if we join we get most the this column as nulls as it not represented here in the countries_df so no need for it "
   ]
  },
  {
   "cell_type": "markdown",
   "metadata": {
    "application/vnd.databricks.v1+cell": {
     "cellMetadata": {
      "byteLimit": 2048000,
      "rowLimit": 10000
     },
     "inputWidgets": {},
     "nuid": "0c4b617f-8b5c-4e57-bf9c-d9b8cf29eb6e",
     "showTitle": false,
     "tableResultSettingsMap": {},
     "title": ""
    }
   },
   "source": [
    "joining data with left join to perserve most of our data will get us this analysis \n",
    "\n",
    "```python\n",
    "Null Percentage Analysis:\n",
    "----------------------------------------\n",
    "date_first_booking: 124543 null values (58.35%)\n",
    "age: 87990 null values (41.22%)\n",
    "first_affiliate_tracked: 6065 null values (2.84%)\n",
    "lat_destination: 134637 null values (63.08%)\n",
    "lng_destination: 134637 null values (63.08%)\n",
    "distance_km: 134637 null values (63.08%)\n",
    "destination_km2: 134637 null values (63.08%)\n",
    "destination_language: 134637 null values (63.08%)\n",
    "language_levenshtein_distance: 134637 null values (63.08%)\n",
    "----------------------------------------\n",
    "```"
   ]
  },
  {
   "cell_type": "markdown",
   "metadata": {
    "application/vnd.databricks.v1+cell": {
     "cellMetadata": {
      "byteLimit": 2048000,
      "rowLimit": 10000
     },
     "inputWidgets": {},
     "nuid": "1e7c0e31-7274-4e1d-8eaa-fbac50e3a84a",
     "showTitle": false,
     "tableResultSettingsMap": {},
     "title": ""
    }
   },
   "source": [
    "``` python\n",
    "from pyspark.sql.functions import col, count, when, isnan\n",
    "\n",
    "file_location = \"/FileStore/tables/train_users_2.csv\"\n",
    "\n",
    "train_users_2_schema = StructType([\n",
    "    StructField(\"id\", StringType(), True),\n",
    "    StructField(\"date_account_created\", DateType(), True),\n",
    "    StructField(\"timestamp_first_active\", StringType(), True),\n",
    "    StructField(\"date_first_booking\", DateType(), True),\n",
    "    StructField(\"gender\", StringType(), True),\n",
    "    StructField(\"age\", FloatType(), True),\n",
    "    StructField(\"signup_method\", StringType(), True),\n",
    "    StructField(\"signup_flow\", FloatType(), True),\n",
    "    StructField(\"language\", StringType(), True),\n",
    "    StructField(\"affiliate_channel\", StringType(), True),\n",
    "    StructField(\"affiliate_provider\", StringType(), True),\n",
    "    StructField(\"first_affiliate_tracked\", StringType(), True),\n",
    "    StructField(\"signup_app\", StringType(), True),\n",
    "    StructField(\"first_device_type\", StringType(), True),\n",
    "    StructField(\"first_browser\", StringType(), True),\n",
    "    StructField(\"country_destination\", StringType(), True)])\n",
    "\n",
    "# The applied options are for CSV files. For other file types, these will be ignored.\n",
    "train_users_2 = spark.read.format(file_type) \\\n",
    "  .option(\"inferSchema\", infer_schema) \\\n",
    "  .option(\"header\", \"true\") \\\n",
    "  .schema(train_users_2_schema) \\\n",
    "  .load(file_location)\n",
    "\n",
    "\n",
    "from pyspark.sql import functions as F\n",
    "\n",
    "\n",
    "# Perform the join on country_destination\n",
    "joined_df = train_users_2.join(\n",
    "    countries,\n",
    "    on=\"country_destination\",\n",
    "    how=\"left\"  # Use \"left\" join to keep all rows from train_users_2\n",
    ")\n",
    "\n",
    "\n",
    "# get null percentage\n",
    "def null_percentage_analysis(df):\n",
    "    print(\"\\nNull Percentage Analysis:\")\n",
    "    print(\"-\" * 40)\n",
    "    total_rows = df.count()\n",
    "    \n",
    "    for column in df.columns:\n",
    "        null_count = df.filter(col(column).isNull()).count()\n",
    "        null_percent = (null_count / total_rows) * 100\n",
    "        \n",
    "        if null_count > 0:\n",
    "            print(f\"{column}: {null_count} null values ({null_percent:.2f}%)\")\n",
    "    \n",
    "    print(\"-\" * 40)\n",
    "\n",
    "null_percentage_analysis(joined_df)\n",
    "\n",
    "```"
   ]
  },
  {
   "cell_type": "markdown",
   "metadata": {
    "application/vnd.databricks.v1+cell": {
     "cellMetadata": {
      "byteLimit": 2048000,
      "rowLimit": 10000
     },
     "inputWidgets": {},
     "nuid": "54872fda-b356-4709-8024-5e2fc67b8112",
     "showTitle": false,
     "tableResultSettingsMap": {},
     "title": ""
    }
   },
   "source": [
    "###### Unpersist the countries dataframe as we won't use it in out train."
   ]
  },
  {
   "cell_type": "code",
   "execution_count": null,
   "metadata": {
    "application/vnd.databricks.v1+cell": {
     "cellMetadata": {
      "byteLimit": 2048000,
      "rowLimit": 10000
     },
     "inputWidgets": {},
     "nuid": "7b88cd40-3475-458a-9c6e-6562d2684f01",
     "showTitle": false,
     "tableResultSettingsMap": {},
     "title": ""
    }
   },
   "outputs": [
    {
     "name": "stdout",
     "output_type": "stream",
     "text": [
      "Out[18]: DataFrame[country_destination: string, lat_destination: float, lng_destination: float, distance_km: float, destination_km2: float, destination_language: string, language_levenshtein_distance: float]"
     ]
    }
   ],
   "source": [
    "countries.unpersist()"
   ]
  },
  {
   "cell_type": "markdown",
   "metadata": {
    "application/vnd.databricks.v1+cell": {
     "cellMetadata": {
      "byteLimit": 2048000,
      "rowLimit": 10000
     },
     "inputWidgets": {},
     "nuid": "a3e1b084-8c02-4e6c-a328-9a72f105baf0",
     "showTitle": false,
     "tableResultSettingsMap": {},
     "title": ""
    }
   },
   "source": [
    "#### 3. sessions.csv file."
   ]
  },
  {
   "cell_type": "code",
   "execution_count": null,
   "metadata": {
    "application/vnd.databricks.v1+cell": {
     "cellMetadata": {
      "byteLimit": 2048000,
      "rowLimit": 10000
     },
     "inputWidgets": {},
     "nuid": "88a6a3ab-be63-4bad-8392-764713ee20fa",
     "showTitle": false,
     "tableResultSettingsMap": {},
     "title": ""
    }
   },
   "outputs": [
    {
     "name": "stdout",
     "output_type": "stream",
     "text": [
      "(10567737, 6)\n",
      "Distinct count for user_id: 135483\n"
     ]
    },
    {
     "data": {
      "text/html": [
       "<style scoped>\n",
       "  .table-result-container {\n",
       "    max-height: 300px;\n",
       "    overflow: auto;\n",
       "  }\n",
       "  table, th, td {\n",
       "    border: 1px solid black;\n",
       "    border-collapse: collapse;\n",
       "  }\n",
       "  th, td {\n",
       "    padding: 5px;\n",
       "  }\n",
       "  th {\n",
       "    text-align: left;\n",
       "  }\n",
       "</style><div class='table-result-container'><table class='table-result'><thead style='background-color: white'><tr><th>user_id</th><th>action</th><th>action_type</th><th>action_detail</th><th>device_type</th><th>secs_elapsed</th></tr></thead><tbody><tr><td>d1mm9tcy42</td><td>lookup</td><td>null</td><td>null</td><td>Windows Desktop</td><td>319.0</td></tr><tr><td>d1mm9tcy42</td><td>search_results</td><td>click</td><td>view_search_results</td><td>Windows Desktop</td><td>67753.0</td></tr><tr><td>d1mm9tcy42</td><td>lookup</td><td>null</td><td>null</td><td>Windows Desktop</td><td>301.0</td></tr><tr><td>d1mm9tcy42</td><td>search_results</td><td>click</td><td>view_search_results</td><td>Windows Desktop</td><td>22141.0</td></tr><tr><td>d1mm9tcy42</td><td>lookup</td><td>null</td><td>null</td><td>Windows Desktop</td><td>435.0</td></tr><tr><td>d1mm9tcy42</td><td>search_results</td><td>click</td><td>view_search_results</td><td>Windows Desktop</td><td>7703.0</td></tr><tr><td>d1mm9tcy42</td><td>lookup</td><td>null</td><td>null</td><td>Windows Desktop</td><td>115.0</td></tr><tr><td>d1mm9tcy42</td><td>personalize</td><td>data</td><td>wishlist_content_update</td><td>Windows Desktop</td><td>831.0</td></tr><tr><td>d1mm9tcy42</td><td>index</td><td>view</td><td>view_search_results</td><td>Windows Desktop</td><td>20842.0</td></tr><tr><td>d1mm9tcy42</td><td>lookup</td><td>null</td><td>null</td><td>Windows Desktop</td><td>683.0</td></tr></tbody></table></div>"
      ]
     },
     "metadata": {
      "application/vnd.databricks.v1+output": {
       "addedWidgets": {},
       "aggData": [],
       "aggError": "",
       "aggOverflow": false,
       "aggSchema": [],
       "aggSeriesLimitReached": false,
       "aggType": "",
       "arguments": {},
       "columnCustomDisplayInfos": {},
       "data": [
        [
         "d1mm9tcy42",
         "lookup",
         null,
         null,
         "Windows Desktop",
         319
        ],
        [
         "d1mm9tcy42",
         "search_results",
         "click",
         "view_search_results",
         "Windows Desktop",
         67753
        ],
        [
         "d1mm9tcy42",
         "lookup",
         null,
         null,
         "Windows Desktop",
         301
        ],
        [
         "d1mm9tcy42",
         "search_results",
         "click",
         "view_search_results",
         "Windows Desktop",
         22141
        ],
        [
         "d1mm9tcy42",
         "lookup",
         null,
         null,
         "Windows Desktop",
         435
        ],
        [
         "d1mm9tcy42",
         "search_results",
         "click",
         "view_search_results",
         "Windows Desktop",
         7703
        ],
        [
         "d1mm9tcy42",
         "lookup",
         null,
         null,
         "Windows Desktop",
         115
        ],
        [
         "d1mm9tcy42",
         "personalize",
         "data",
         "wishlist_content_update",
         "Windows Desktop",
         831
        ],
        [
         "d1mm9tcy42",
         "index",
         "view",
         "view_search_results",
         "Windows Desktop",
         20842
        ],
        [
         "d1mm9tcy42",
         "lookup",
         null,
         null,
         "Windows Desktop",
         683
        ]
       ],
       "datasetInfos": [],
       "dbfsResultPath": null,
       "isJsonSchema": true,
       "metadata": {},
       "overflow": false,
       "plotOptions": {
        "customPlotOptions": {},
        "displayType": "table",
        "pivotAggregation": null,
        "pivotColumns": null,
        "xColumns": null,
        "yColumns": null
       },
       "removedWidgets": [],
       "schema": [
        {
         "metadata": "{}",
         "name": "user_id",
         "type": "\"string\""
        },
        {
         "metadata": "{}",
         "name": "action",
         "type": "\"string\""
        },
        {
         "metadata": "{}",
         "name": "action_type",
         "type": "\"string\""
        },
        {
         "metadata": "{}",
         "name": "action_detail",
         "type": "\"string\""
        },
        {
         "metadata": "{}",
         "name": "device_type",
         "type": "\"string\""
        },
        {
         "metadata": "{}",
         "name": "secs_elapsed",
         "type": "\"float\""
        }
       ],
       "type": "table"
      }
     },
     "output_type": "display_data"
    }
   ],
   "source": [
    "#############################################\n",
    "## Read sessions\n",
    "#############################################\n",
    "file_location = \"/FileStore/tables/sessions.csv\"\n",
    "\n",
    "sessions_schema = StructType([\n",
    "    StructField(\"user_id\", StringType(), True),\n",
    "    StructField(\"action\", StringType(), True),\n",
    "    StructField(\"action_type\", StringType(), True),\n",
    "    StructField(\"action_detail\", StringType(), True),\n",
    "    StructField(\"device_type\", StringType(), True),\n",
    "    StructField(\"secs_elapsed\", FloatType(), True)])\n",
    "\n",
    "# The applied options are for CSV files. For other file types, these will be ignored.\n",
    "sessions = spark.read.format(file_type) \\\n",
    "  .option(\"inferSchema\", infer_schema) \\\n",
    "  .option(\"header\", \"true\") \\\n",
    "  .schema(sessions_schema) \\\n",
    "  .load(file_location)\n",
    "\n",
    "print((sessions.count(), len(sessions.columns)))\n",
    "\n",
    "distinct_count = sessions.select(countDistinct(\"user_id\")).collect()[0][0]\n",
    "print(f\"Distinct count for user_id: {distinct_count}\")\n",
    "\n",
    "display(sessions.limit(10))\n",
    "# sessions.printSchema()\n",
    "# sessions.show(5)"
   ]
  },
  {
   "cell_type": "markdown",
   "metadata": {
    "application/vnd.databricks.v1+cell": {
     "cellMetadata": {
      "byteLimit": 2048000,
      "rowLimit": 10000
     },
     "inputWidgets": {},
     "nuid": "c831f7bf-2adb-4930-96c1-3319a72368d1",
     "showTitle": false,
     "tableResultSettingsMap": {},
     "title": ""
    }
   },
   "source": [
    "#### 4. Read the train_users_2.csv file."
   ]
  },
  {
   "cell_type": "code",
   "execution_count": null,
   "metadata": {
    "application/vnd.databricks.v1+cell": {
     "cellMetadata": {
      "byteLimit": 2048000,
      "rowLimit": 10000
     },
     "inputWidgets": {},
     "nuid": "93270365-8ac8-43c6-b6ea-3be654ebabec",
     "showTitle": false,
     "tableResultSettingsMap": {},
     "title": ""
    }
   },
   "outputs": [
    {
     "name": "stdout",
     "output_type": "stream",
     "text": [
      "(213451, 16)\n",
      "Distinct count for country_destination: 12\n",
      "Distinct count for id: 213451\n"
     ]
    },
    {
     "data": {
      "text/html": [
       "<style scoped>\n",
       "  .table-result-container {\n",
       "    max-height: 300px;\n",
       "    overflow: auto;\n",
       "  }\n",
       "  table, th, td {\n",
       "    border: 1px solid black;\n",
       "    border-collapse: collapse;\n",
       "  }\n",
       "  th, td {\n",
       "    padding: 5px;\n",
       "  }\n",
       "  th {\n",
       "    text-align: left;\n",
       "  }\n",
       "</style><div class='table-result-container'><table class='table-result'><thead style='background-color: white'><tr><th>id</th><th>date_account_created</th><th>timestamp_first_active</th><th>date_first_booking</th><th>gender</th><th>age</th><th>signup_method</th><th>signup_flow</th><th>language</th><th>affiliate_channel</th><th>affiliate_provider</th><th>first_affiliate_tracked</th><th>signup_app</th><th>first_device_type</th><th>first_browser</th><th>country_destination</th></tr></thead><tbody><tr><td>gxn3p5htnn</td><td>2010-06-28</td><td>20090319043255</td><td>null</td><td>-unknown-</td><td>null</td><td>facebook</td><td>0.0</td><td>en</td><td>direct</td><td>direct</td><td>untracked</td><td>Web</td><td>Mac Desktop</td><td>Chrome</td><td>NDF</td></tr><tr><td>820tgsjxq7</td><td>2011-05-25</td><td>20090523174809</td><td>null</td><td>MALE</td><td>38.0</td><td>facebook</td><td>0.0</td><td>en</td><td>seo</td><td>google</td><td>untracked</td><td>Web</td><td>Mac Desktop</td><td>Chrome</td><td>NDF</td></tr><tr><td>4ft3gnwmtx</td><td>2010-09-28</td><td>20090609231247</td><td>2010-08-02</td><td>FEMALE</td><td>56.0</td><td>basic</td><td>3.0</td><td>en</td><td>direct</td><td>direct</td><td>untracked</td><td>Web</td><td>Windows Desktop</td><td>IE</td><td>US</td></tr><tr><td>bjjt8pjhuk</td><td>2011-12-05</td><td>20091031060129</td><td>2012-09-08</td><td>FEMALE</td><td>42.0</td><td>facebook</td><td>0.0</td><td>en</td><td>direct</td><td>direct</td><td>untracked</td><td>Web</td><td>Mac Desktop</td><td>Firefox</td><td>other</td></tr><tr><td>87mebub9p4</td><td>2010-09-14</td><td>20091208061105</td><td>2010-02-18</td><td>-unknown-</td><td>41.0</td><td>basic</td><td>0.0</td><td>en</td><td>direct</td><td>direct</td><td>untracked</td><td>Web</td><td>Mac Desktop</td><td>Chrome</td><td>US</td></tr><tr><td>osr2jwljor</td><td>2010-01-01</td><td>20100101215619</td><td>2010-01-02</td><td>-unknown-</td><td>null</td><td>basic</td><td>0.0</td><td>en</td><td>other</td><td>other</td><td>omg</td><td>Web</td><td>Mac Desktop</td><td>Chrome</td><td>US</td></tr><tr><td>lsw9q7uk0j</td><td>2010-01-02</td><td>20100102012558</td><td>2010-01-05</td><td>FEMALE</td><td>46.0</td><td>basic</td><td>0.0</td><td>en</td><td>other</td><td>craigslist</td><td>untracked</td><td>Web</td><td>Mac Desktop</td><td>Safari</td><td>US</td></tr><tr><td>0d01nltbrs</td><td>2010-01-03</td><td>20100103191905</td><td>2010-01-13</td><td>FEMALE</td><td>47.0</td><td>basic</td><td>0.0</td><td>en</td><td>direct</td><td>direct</td><td>omg</td><td>Web</td><td>Mac Desktop</td><td>Safari</td><td>US</td></tr><tr><td>a1vcnhxeij</td><td>2010-01-04</td><td>20100104004211</td><td>2010-07-29</td><td>FEMALE</td><td>50.0</td><td>basic</td><td>0.0</td><td>en</td><td>other</td><td>craigslist</td><td>untracked</td><td>Web</td><td>Mac Desktop</td><td>Safari</td><td>US</td></tr><tr><td>6uh8zyj2gn</td><td>2010-01-04</td><td>20100104023758</td><td>2010-01-04</td><td>-unknown-</td><td>46.0</td><td>basic</td><td>0.0</td><td>en</td><td>other</td><td>craigslist</td><td>omg</td><td>Web</td><td>Mac Desktop</td><td>Firefox</td><td>US</td></tr></tbody></table></div>"
      ]
     },
     "metadata": {
      "application/vnd.databricks.v1+output": {
       "addedWidgets": {},
       "aggData": [],
       "aggError": "",
       "aggOverflow": false,
       "aggSchema": [],
       "aggSeriesLimitReached": false,
       "aggType": "",
       "arguments": {},
       "columnCustomDisplayInfos": {},
       "data": [
        [
         "gxn3p5htnn",
         "2010-06-28",
         "20090319043255",
         null,
         "-unknown-",
         null,
         "facebook",
         0,
         "en",
         "direct",
         "direct",
         "untracked",
         "Web",
         "Mac Desktop",
         "Chrome",
         "NDF"
        ],
        [
         "820tgsjxq7",
         "2011-05-25",
         "20090523174809",
         null,
         "MALE",
         38,
         "facebook",
         0,
         "en",
         "seo",
         "google",
         "untracked",
         "Web",
         "Mac Desktop",
         "Chrome",
         "NDF"
        ],
        [
         "4ft3gnwmtx",
         "2010-09-28",
         "20090609231247",
         "2010-08-02",
         "FEMALE",
         56,
         "basic",
         3,
         "en",
         "direct",
         "direct",
         "untracked",
         "Web",
         "Windows Desktop",
         "IE",
         "US"
        ],
        [
         "bjjt8pjhuk",
         "2011-12-05",
         "20091031060129",
         "2012-09-08",
         "FEMALE",
         42,
         "facebook",
         0,
         "en",
         "direct",
         "direct",
         "untracked",
         "Web",
         "Mac Desktop",
         "Firefox",
         "other"
        ],
        [
         "87mebub9p4",
         "2010-09-14",
         "20091208061105",
         "2010-02-18",
         "-unknown-",
         41,
         "basic",
         0,
         "en",
         "direct",
         "direct",
         "untracked",
         "Web",
         "Mac Desktop",
         "Chrome",
         "US"
        ],
        [
         "osr2jwljor",
         "2010-01-01",
         "20100101215619",
         "2010-01-02",
         "-unknown-",
         null,
         "basic",
         0,
         "en",
         "other",
         "other",
         "omg",
         "Web",
         "Mac Desktop",
         "Chrome",
         "US"
        ],
        [
         "lsw9q7uk0j",
         "2010-01-02",
         "20100102012558",
         "2010-01-05",
         "FEMALE",
         46,
         "basic",
         0,
         "en",
         "other",
         "craigslist",
         "untracked",
         "Web",
         "Mac Desktop",
         "Safari",
         "US"
        ],
        [
         "0d01nltbrs",
         "2010-01-03",
         "20100103191905",
         "2010-01-13",
         "FEMALE",
         47,
         "basic",
         0,
         "en",
         "direct",
         "direct",
         "omg",
         "Web",
         "Mac Desktop",
         "Safari",
         "US"
        ],
        [
         "a1vcnhxeij",
         "2010-01-04",
         "20100104004211",
         "2010-07-29",
         "FEMALE",
         50,
         "basic",
         0,
         "en",
         "other",
         "craigslist",
         "untracked",
         "Web",
         "Mac Desktop",
         "Safari",
         "US"
        ],
        [
         "6uh8zyj2gn",
         "2010-01-04",
         "20100104023758",
         "2010-01-04",
         "-unknown-",
         46,
         "basic",
         0,
         "en",
         "other",
         "craigslist",
         "omg",
         "Web",
         "Mac Desktop",
         "Firefox",
         "US"
        ]
       ],
       "datasetInfos": [],
       "dbfsResultPath": null,
       "isJsonSchema": true,
       "metadata": {},
       "overflow": false,
       "plotOptions": {
        "customPlotOptions": {},
        "displayType": "table",
        "pivotAggregation": null,
        "pivotColumns": null,
        "xColumns": null,
        "yColumns": null
       },
       "removedWidgets": [],
       "schema": [
        {
         "metadata": "{}",
         "name": "id",
         "type": "\"string\""
        },
        {
         "metadata": "{}",
         "name": "date_account_created",
         "type": "\"date\""
        },
        {
         "metadata": "{}",
         "name": "timestamp_first_active",
         "type": "\"string\""
        },
        {
         "metadata": "{}",
         "name": "date_first_booking",
         "type": "\"date\""
        },
        {
         "metadata": "{}",
         "name": "gender",
         "type": "\"string\""
        },
        {
         "metadata": "{}",
         "name": "age",
         "type": "\"float\""
        },
        {
         "metadata": "{}",
         "name": "signup_method",
         "type": "\"string\""
        },
        {
         "metadata": "{}",
         "name": "signup_flow",
         "type": "\"float\""
        },
        {
         "metadata": "{}",
         "name": "language",
         "type": "\"string\""
        },
        {
         "metadata": "{}",
         "name": "affiliate_channel",
         "type": "\"string\""
        },
        {
         "metadata": "{}",
         "name": "affiliate_provider",
         "type": "\"string\""
        },
        {
         "metadata": "{}",
         "name": "first_affiliate_tracked",
         "type": "\"string\""
        },
        {
         "metadata": "{}",
         "name": "signup_app",
         "type": "\"string\""
        },
        {
         "metadata": "{}",
         "name": "first_device_type",
         "type": "\"string\""
        },
        {
         "metadata": "{}",
         "name": "first_browser",
         "type": "\"string\""
        },
        {
         "metadata": "{}",
         "name": "country_destination",
         "type": "\"string\""
        }
       ],
       "type": "table"
      }
     },
     "output_type": "display_data"
    }
   ],
   "source": [
    "#############################################\n",
    "## Read train_users_2\n",
    "#############################################\n",
    "file_location = \"/FileStore/tables/train_users_2.csv\"\n",
    "\n",
    "train_users_2_schema = StructType([\n",
    "    StructField(\"id\", StringType(), True),\n",
    "    StructField(\"date_account_created\", DateType(), True),\n",
    "    StructField(\"timestamp_first_active\", StringType(), True),\n",
    "    StructField(\"date_first_booking\", DateType(), True),\n",
    "    StructField(\"gender\", StringType(), True),\n",
    "    StructField(\"age\", FloatType(), True),\n",
    "    StructField(\"signup_method\", StringType(), True),\n",
    "    StructField(\"signup_flow\", FloatType(), True),\n",
    "    StructField(\"language\", StringType(), True),\n",
    "    StructField(\"affiliate_channel\", StringType(), True),\n",
    "    StructField(\"affiliate_provider\", StringType(), True),\n",
    "    StructField(\"first_affiliate_tracked\", StringType(), True),\n",
    "    StructField(\"signup_app\", StringType(), True),\n",
    "    StructField(\"first_device_type\", StringType(), True),\n",
    "    StructField(\"first_browser\", StringType(), True),\n",
    "    StructField(\"country_destination\", StringType(), True)])\n",
    "\n",
    "# The applied options are for CSV files. For other file types, these will be ignored.\n",
    "train_users_2 = spark.read.format(file_type) \\\n",
    "  .option(\"inferSchema\", infer_schema) \\\n",
    "  .option(\"header\", \"true\") \\\n",
    "  .schema(train_users_2_schema) \\\n",
    "  .load(file_location)\n",
    "\n",
    "print((train_users_2.count(), len(train_users_2.columns)))\n",
    "\n",
    "# Get distinct count of records in a specific column (e.g., 'name')\n",
    "distinct_count = train_users_2.select(countDistinct(\"country_destination\")).collect()[0][0]\n",
    "print(f\"Distinct count for country_destination: {distinct_count}\")\n",
    "\n",
    "distinct_count = train_users_2.select(countDistinct(\"id\")).collect()[0][0]\n",
    "print(f\"Distinct count for id: {distinct_count}\")\n",
    "\n",
    "display(train_users_2.limit(10))\n",
    "# train_users_2.printSchema()\n",
    "# train_users_2.show(5)"
   ]
  },
  {
   "cell_type": "code",
   "execution_count": null,
   "metadata": {
    "application/vnd.databricks.v1+cell": {
     "cellMetadata": {
      "byteLimit": 2048000,
      "rowLimit": 10000
     },
     "inputWidgets": {},
     "nuid": "7fb74dcb-8cb4-426b-85bf-813d59f42425",
     "showTitle": false,
     "tableResultSettingsMap": {},
     "title": ""
    }
   },
   "outputs": [
    {
     "name": "stdout",
     "output_type": "stream",
     "text": [
      "+-------------------+------+\n",
      "|country_destination| count|\n",
      "+-------------------+------+\n",
      "|                 US| 62376|\n",
      "|                 FR|  5023|\n",
      "|                 AU|   539|\n",
      "|                NDF|124543|\n",
      "|                 CA|  1428|\n",
      "|                 IT|  2835|\n",
      "|                 PT|   217|\n",
      "|                 NL|   762|\n",
      "|              other| 10094|\n",
      "|                 ES|  2249|\n",
      "|                 GB|  2324|\n",
      "|                 DE|  1061|\n",
      "+-------------------+------+\n",
      "\n"
     ]
    }
   ],
   "source": [
    "# Check if our target label is balanced\n",
    "train_users_2.groupBy(\"country_destination\").count().show()"
   ]
  },
  {
   "cell_type": "markdown",
   "metadata": {
    "application/vnd.databricks.v1+cell": {
     "cellMetadata": {
      "byteLimit": 2048000,
      "rowLimit": 10000
     },
     "inputWidgets": {},
     "nuid": "941b5f61-00cb-407c-8b66-73768a2bac12",
     "showTitle": false,
     "tableResultSettingsMap": {},
     "title": ""
    }
   },
   "source": [
    "#### 5. Read the test_users.csv file."
   ]
  },
  {
   "cell_type": "code",
   "execution_count": null,
   "metadata": {
    "application/vnd.databricks.v1+cell": {
     "cellMetadata": {
      "byteLimit": 2048000,
      "rowLimit": 10000
     },
     "inputWidgets": {},
     "nuid": "9ecf7479-4b54-4bba-8667-c23c1c4f6792",
     "showTitle": false,
     "tableResultSettingsMap": {},
     "title": ""
    }
   },
   "outputs": [
    {
     "name": "stdout",
     "output_type": "stream",
     "text": [
      "(62096, 15)\n"
     ]
    },
    {
     "data": {
      "text/html": [
       "<style scoped>\n",
       "  .table-result-container {\n",
       "    max-height: 300px;\n",
       "    overflow: auto;\n",
       "  }\n",
       "  table, th, td {\n",
       "    border: 1px solid black;\n",
       "    border-collapse: collapse;\n",
       "  }\n",
       "  th, td {\n",
       "    padding: 5px;\n",
       "  }\n",
       "  th {\n",
       "    text-align: left;\n",
       "  }\n",
       "</style><div class='table-result-container'><table class='table-result'><thead style='background-color: white'><tr><th>id</th><th>date_account_created</th><th>timestamp_first_active</th><th>date_first_booking</th><th>gender</th><th>age</th><th>signup_method</th><th>signup_flow</th><th>language</th><th>affiliate_channel</th><th>affiliate_provider</th><th>first_affiliate_tracked</th><th>signup_app</th><th>first_device_type</th><th>first_browser</th></tr></thead><tbody><tr><td>5uwns89zht</td><td>2014-07-01</td><td>20140701000006</td><td>null</td><td>FEMALE</td><td>35.0</td><td>facebook</td><td>0.0</td><td>en</td><td>direct</td><td>direct</td><td>untracked</td><td>Moweb</td><td>iPhone</td><td>Mobile Safari</td></tr><tr><td>jtl0dijy2j</td><td>2014-07-01</td><td>20140701000051</td><td>null</td><td>-unknown-</td><td>null</td><td>basic</td><td>0.0</td><td>en</td><td>direct</td><td>direct</td><td>untracked</td><td>Moweb</td><td>iPhone</td><td>Mobile Safari</td></tr><tr><td>xx0ulgorjt</td><td>2014-07-01</td><td>20140701000148</td><td>null</td><td>-unknown-</td><td>null</td><td>basic</td><td>0.0</td><td>en</td><td>direct</td><td>direct</td><td>linked</td><td>Web</td><td>Windows Desktop</td><td>Chrome</td></tr><tr><td>6c6puo6ix0</td><td>2014-07-01</td><td>20140701000215</td><td>null</td><td>-unknown-</td><td>null</td><td>basic</td><td>0.0</td><td>en</td><td>direct</td><td>direct</td><td>linked</td><td>Web</td><td>Windows Desktop</td><td>IE</td></tr><tr><td>czqhjk3yfe</td><td>2014-07-01</td><td>20140701000305</td><td>null</td><td>-unknown-</td><td>null</td><td>basic</td><td>0.0</td><td>en</td><td>direct</td><td>direct</td><td>untracked</td><td>Web</td><td>Mac Desktop</td><td>Safari</td></tr><tr><td>szx28ujmhf</td><td>2014-07-01</td><td>20140701000336</td><td>null</td><td>FEMALE</td><td>28.0</td><td>basic</td><td>0.0</td><td>en</td><td>sem-brand</td><td>google</td><td>omg</td><td>Web</td><td>Windows Desktop</td><td>Chrome</td></tr><tr><td>guenkfjcbq</td><td>2014-07-01</td><td>20140701000514</td><td>null</td><td>MALE</td><td>48.0</td><td>basic</td><td>25.0</td><td>en</td><td>direct</td><td>direct</td><td>untracked</td><td>iOS</td><td>iPhone</td><td>-unknown-</td></tr><tr><td>tkpq0mlugk</td><td>2014-07-01</td><td>20140701000649</td><td>null</td><td>-unknown-</td><td>null</td><td>basic</td><td>0.0</td><td>en</td><td>direct</td><td>direct</td><td>untracked</td><td>Web</td><td>Mac Desktop</td><td>Chrome</td></tr><tr><td>3xtgd5p9dn</td><td>2014-07-01</td><td>20140701000837</td><td>null</td><td>-unknown-</td><td>null</td><td>basic</td><td>0.0</td><td>en</td><td>direct</td><td>direct</td><td>untracked</td><td>Web</td><td>Mac Desktop</td><td>Chrome</td></tr><tr><td>md9aj22l5a</td><td>2014-07-01</td><td>20140701002245</td><td>null</td><td>-unknown-</td><td>null</td><td>basic</td><td>0.0</td><td>en</td><td>sem-non-brand</td><td>google</td><td>omg</td><td>Web</td><td>Windows Desktop</td><td>Firefox</td></tr></tbody></table></div>"
      ]
     },
     "metadata": {
      "application/vnd.databricks.v1+output": {
       "addedWidgets": {},
       "aggData": [],
       "aggError": "",
       "aggOverflow": false,
       "aggSchema": [],
       "aggSeriesLimitReached": false,
       "aggType": "",
       "arguments": {},
       "columnCustomDisplayInfos": {},
       "data": [
        [
         "5uwns89zht",
         "2014-07-01",
         "20140701000006",
         null,
         "FEMALE",
         35,
         "facebook",
         0,
         "en",
         "direct",
         "direct",
         "untracked",
         "Moweb",
         "iPhone",
         "Mobile Safari"
        ],
        [
         "jtl0dijy2j",
         "2014-07-01",
         "20140701000051",
         null,
         "-unknown-",
         null,
         "basic",
         0,
         "en",
         "direct",
         "direct",
         "untracked",
         "Moweb",
         "iPhone",
         "Mobile Safari"
        ],
        [
         "xx0ulgorjt",
         "2014-07-01",
         "20140701000148",
         null,
         "-unknown-",
         null,
         "basic",
         0,
         "en",
         "direct",
         "direct",
         "linked",
         "Web",
         "Windows Desktop",
         "Chrome"
        ],
        [
         "6c6puo6ix0",
         "2014-07-01",
         "20140701000215",
         null,
         "-unknown-",
         null,
         "basic",
         0,
         "en",
         "direct",
         "direct",
         "linked",
         "Web",
         "Windows Desktop",
         "IE"
        ],
        [
         "czqhjk3yfe",
         "2014-07-01",
         "20140701000305",
         null,
         "-unknown-",
         null,
         "basic",
         0,
         "en",
         "direct",
         "direct",
         "untracked",
         "Web",
         "Mac Desktop",
         "Safari"
        ],
        [
         "szx28ujmhf",
         "2014-07-01",
         "20140701000336",
         null,
         "FEMALE",
         28,
         "basic",
         0,
         "en",
         "sem-brand",
         "google",
         "omg",
         "Web",
         "Windows Desktop",
         "Chrome"
        ],
        [
         "guenkfjcbq",
         "2014-07-01",
         "20140701000514",
         null,
         "MALE",
         48,
         "basic",
         25,
         "en",
         "direct",
         "direct",
         "untracked",
         "iOS",
         "iPhone",
         "-unknown-"
        ],
        [
         "tkpq0mlugk",
         "2014-07-01",
         "20140701000649",
         null,
         "-unknown-",
         null,
         "basic",
         0,
         "en",
         "direct",
         "direct",
         "untracked",
         "Web",
         "Mac Desktop",
         "Chrome"
        ],
        [
         "3xtgd5p9dn",
         "2014-07-01",
         "20140701000837",
         null,
         "-unknown-",
         null,
         "basic",
         0,
         "en",
         "direct",
         "direct",
         "untracked",
         "Web",
         "Mac Desktop",
         "Chrome"
        ],
        [
         "md9aj22l5a",
         "2014-07-01",
         "20140701002245",
         null,
         "-unknown-",
         null,
         "basic",
         0,
         "en",
         "sem-non-brand",
         "google",
         "omg",
         "Web",
         "Windows Desktop",
         "Firefox"
        ]
       ],
       "datasetInfos": [],
       "dbfsResultPath": null,
       "isJsonSchema": true,
       "metadata": {},
       "overflow": false,
       "plotOptions": {
        "customPlotOptions": {},
        "displayType": "table",
        "pivotAggregation": null,
        "pivotColumns": null,
        "xColumns": null,
        "yColumns": null
       },
       "removedWidgets": [],
       "schema": [
        {
         "metadata": "{}",
         "name": "id",
         "type": "\"string\""
        },
        {
         "metadata": "{}",
         "name": "date_account_created",
         "type": "\"date\""
        },
        {
         "metadata": "{}",
         "name": "timestamp_first_active",
         "type": "\"string\""
        },
        {
         "metadata": "{}",
         "name": "date_first_booking",
         "type": "\"date\""
        },
        {
         "metadata": "{}",
         "name": "gender",
         "type": "\"string\""
        },
        {
         "metadata": "{}",
         "name": "age",
         "type": "\"float\""
        },
        {
         "metadata": "{}",
         "name": "signup_method",
         "type": "\"string\""
        },
        {
         "metadata": "{}",
         "name": "signup_flow",
         "type": "\"float\""
        },
        {
         "metadata": "{}",
         "name": "language",
         "type": "\"string\""
        },
        {
         "metadata": "{}",
         "name": "affiliate_channel",
         "type": "\"string\""
        },
        {
         "metadata": "{}",
         "name": "affiliate_provider",
         "type": "\"string\""
        },
        {
         "metadata": "{}",
         "name": "first_affiliate_tracked",
         "type": "\"string\""
        },
        {
         "metadata": "{}",
         "name": "signup_app",
         "type": "\"string\""
        },
        {
         "metadata": "{}",
         "name": "first_device_type",
         "type": "\"string\""
        },
        {
         "metadata": "{}",
         "name": "first_browser",
         "type": "\"string\""
        }
       ],
       "type": "table"
      }
     },
     "output_type": "display_data"
    }
   ],
   "source": [
    "#############################################\n",
    "## Read test_users\n",
    "#############################################\n",
    "file_location = \"/FileStore/tables/test_users.csv\"\n",
    "\n",
    "test_users_schema = StructType([\n",
    "    StructField(\"id\", StringType(), True),\n",
    "    StructField(\"date_account_created\", DateType(), True),\n",
    "    StructField(\"timestamp_first_active\", StringType(), True),\n",
    "    StructField(\"date_first_booking\", DateType(), True),\n",
    "    StructField(\"gender\", StringType(), True),\n",
    "    StructField(\"age\", FloatType(), True),\n",
    "    StructField(\"signup_method\", StringType(), True),\n",
    "    StructField(\"signup_flow\", FloatType(), True),\n",
    "    StructField(\"language\", StringType(), True),\n",
    "    StructField(\"affiliate_channel\", StringType(), True),\n",
    "    StructField(\"affiliate_provider\", StringType(), True),\n",
    "    StructField(\"first_affiliate_tracked\", StringType(), True),\n",
    "    StructField(\"signup_app\", StringType(), True),\n",
    "    StructField(\"first_device_type\", StringType(), True),\n",
    "    StructField(\"first_browser\", StringType(), True),\n",
    "    ])\n",
    "\n",
    "# The applied options are for CSV files. For other file types, these will be ignored.\n",
    "test_users_raw = spark.read.format(file_type) \\\n",
    "  .option(\"inferSchema\", infer_schema) \\\n",
    "  .option(\"header\", \"true\") \\\n",
    "  .schema(test_users_schema) \\\n",
    "  .load(file_location)\n",
    "\n",
    "print((test_users_raw.count(), len(test_users_raw.columns)))\n",
    "\n",
    "display(test_users_raw.limit(10))\n",
    "# test_users.printSchema()\n",
    "# test_users.show(5)"
   ]
  },
  {
   "cell_type": "code",
   "execution_count": null,
   "metadata": {
    "application/vnd.databricks.v1+cell": {
     "cellMetadata": {
      "byteLimit": 2048000,
      "rowLimit": 10000
     },
     "inputWidgets": {},
     "nuid": "337dcc6d-9955-4312-af64-439addac08f8",
     "showTitle": false,
     "tableResultSettingsMap": {},
     "title": ""
    }
   },
   "outputs": [
    {
     "name": "stdout",
     "output_type": "stream",
     "text": [
      "\n",
      "Null Percentage Analysis:\n",
      "----------------------------------------\n",
      "date_first_booking: 62096 null values (100.00%)\n",
      "age: 28876 null values (46.50%)\n",
      "first_affiliate_tracked: 20 null values (0.03%)\n",
      "----------------------------------------\n"
     ]
    }
   ],
   "source": [
    "null_percentage_analysis(test_users_raw)"
   ]
  },
  {
   "cell_type": "markdown",
   "metadata": {
    "application/vnd.databricks.v1+cell": {
     "cellMetadata": {
      "byteLimit": 2048000,
      "rowLimit": 10000
     },
     "inputWidgets": {},
     "nuid": "e06afd82-bd41-4cf9-a7de-74afd0b6ea45",
     "showTitle": false,
     "tableResultSettingsMap": {},
     "title": ""
    }
   },
   "source": [
    "## EDA"
   ]
  },
  {
   "cell_type": "code",
   "execution_count": null,
   "metadata": {
    "application/vnd.databricks.v1+cell": {
     "cellMetadata": {
      "byteLimit": 2048000,
      "rowLimit": 10000
     },
     "inputWidgets": {},
     "nuid": "0acf8f17-cc47-49e8-b6d9-0d37f0841b7d",
     "showTitle": false,
     "tableResultSettingsMap": {},
     "title": ""
    }
   },
   "outputs": [
    {
     "data": {
      "application/vnd.databricks.v1+bamboolib_hint": "{\"pd.DataFrames\": [], \"version\": \"0.0.1\"}",
      "text/plain": []
     },
     "metadata": {},
     "output_type": "display_data"
    },
    {
     "data": {
      "image/png": "[encoded data removed]"
     },
     "metadata": {
      "application/vnd.databricks.v1+output": {
       "addedWidgets": {},
       "arguments": {},
       "data": "data:image/png;base64,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\n",
       "datasetInfos": [],
       "metadata": {},
       "removedWidgets": [],
       "type": "image"
      }
     },
     "output_type": "display_data"
    }
   ],
   "source": [
    "from pyspark.sql.functions import count, col\n",
    "import pandas as pd\n",
    "import seaborn as sns\n",
    "import matplotlib.pyplot as plt\n",
    "\n",
    "# Compute gender distribution\n",
    "gender_distribution = (\n",
    "    train_users_2.groupBy(\"gender\")\n",
    "    .agg(count(\"*\").alias(\"count\"))\n",
    "    .orderBy(col(\"count\").desc())\n",
    ")\n",
    "\n",
    "# Convert to Pandas for visualization\n",
    "gender_distribution_pd = gender_distribution.toPandas()\n",
    "\n",
    "# Plot\n",
    "plt.figure(figsize=(14, 8))\n",
    "sns.barplot(\n",
    "    data=gender_distribution_pd, \n",
    "    x=\"gender\", \n",
    "    y=\"count\", \n",
    "    order=gender_distribution_pd[\"gender\"],\n",
    "    color=sns.set()\n",
    ")\n",
    "plt.xlabel(\"Gender\")\n",
    "plt.ylabel(\"Count\")\n",
    "plt.title(\"Gender Distribution\")\n",
    "\n",
    "# Add percentages on bars\n",
    "total_count = gender_distribution_pd[\"count\"].sum()\n",
    "for i, row in gender_distribution_pd.iterrows():\n",
    "    percentage = f'{(row[\"count\"] / total_count) * 100:.1f}%'\n",
    "    plt.text(i, row[\"count\"] + 0.5, percentage, ha='center')\n",
    "\n",
    "plt.show()\n"
   ]
  },
  {
   "cell_type": "code",
   "execution_count": null,
   "metadata": {
    "application/vnd.databricks.v1+cell": {
     "cellMetadata": {
      "byteLimit": 2048000,
      "rowLimit": 10000
     },
     "inputWidgets": {},
     "nuid": "4322397a-8f4a-461e-baf8-81e0f58a7757",
     "showTitle": false,
     "tableResultSettingsMap": {},
     "title": ""
    }
   },
   "outputs": [
    {
     "data": {
      "image/png": "[encoded data removed]"
     },
     "metadata": {
      "application/vnd.databricks.v1+output": {
       "addedWidgets": {},
       "arguments": {},
       "data": "data:image/png;base64,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\n",
       "datasetInfos": [],
       "metadata": {},
       "removedWidgets": [],
       "type": "image"
      }
     },
     "output_type": "display_data"
    }
   ],
   "source": [
    "# Compute destination distribution\n",
    "destination_distribution = (\n",
    "    train_users_2.groupBy(\"country_destination\")\n",
    "    .agg(count(\"*\").alias(\"count\"))\n",
    "    .orderBy(col(\"count\").desc())\n",
    ")\n",
    "\n",
    "# Convert to Pandas for visualization\n",
    "destination_distribution_pd = destination_distribution.toPandas()\n",
    "\n",
    "# Plot\n",
    "plt.figure(figsize=(14, 8))\n",
    "sns.barplot(\n",
    "    data=destination_distribution_pd, \n",
    "    x=\"country_destination\", \n",
    "    y=\"count\", \n",
    "    order=destination_distribution_pd[\"country_destination\"], \n",
    "    color=sns.color_palette()[4]\n",
    ")\n",
    "plt.xlabel(\"Destination\")\n",
    "plt.ylabel(\"Count\")\n",
    "plt.title(\"Destination Distribution\")\n",
    "\n",
    "# Add percentages on bars\n",
    "total_count = destination_distribution_pd[\"count\"].sum()\n",
    "for i, row in destination_distribution_pd.iterrows():\n",
    "    percentage = f'{(row[\"count\"] / total_count) * 100:.1f}%'\n",
    "    plt.text(i, row[\"count\"] + 0.5, percentage, ha='center')\n",
    "\n",
    "plt.show()\n"
   ]
  },
  {
   "cell_type": "code",
   "execution_count": null,
   "metadata": {
    "application/vnd.databricks.v1+cell": {
     "cellMetadata": {
      "byteLimit": 2048000,
      "rowLimit": 10000
     },
     "inputWidgets": {},
     "nuid": "dd170ae2-dba2-4afc-95cf-1db8d4194b75",
     "showTitle": false,
     "tableResultSettingsMap": {},
     "title": ""
    }
   },
   "outputs": [
    {
     "data": {
      "image/png": "[encoded data removed]"
     },
     "metadata": {
      "application/vnd.databricks.v1+output": {
       "addedWidgets": {},
       "arguments": {},
       "data": "data:image/png;base64,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\n",
       "datasetInfos": [],
       "metadata": {},
       "removedWidgets": [],
       "type": "image"
      }
     },
     "output_type": "display_data"
    }
   ],
   "source": [
    "# Compute gender-destination distribution\n",
    "gender_destination_distribution = (\n",
    "    train_users_2.groupBy(\"country_destination\", \"gender\")\n",
    "    .agg(count(\"*\").alias(\"count\"))\n",
    ")\n",
    "\n",
    "# Convert to Pandas for visualization\n",
    "gender_destination_distribution_pd = gender_destination_distribution.toPandas()\n",
    "\n",
    "# Plot\n",
    "plt.figure(figsize=(14, 8))\n",
    "order1 = (\n",
    "    gender_destination_distribution_pd.groupby(\"country_destination\")[\"count\"]\n",
    "    .sum()\n",
    "    .sort_values(ascending=False)\n",
    "    .index\n",
    ")\n",
    "sns.barplot(\n",
    "    data=gender_destination_distribution_pd,\n",
    "    x=\"country_destination\",\n",
    "    y=\"count\",\n",
    "    hue=\"gender\",\n",
    "    order=order1,\n",
    ")\n",
    "plt.xlabel(\"Destination\")\n",
    "plt.ylabel(\"Count\")\n",
    "plt.title(\"Gender-Destination Distribution\")\n",
    "plt.legend(title=\"Gender\")\n",
    "plt.show()\n"
   ]
  },
  {
   "cell_type": "markdown",
   "metadata": {
    "application/vnd.databricks.v1+cell": {
     "cellMetadata": {
      "byteLimit": 2048000,
      "rowLimit": 10000
     },
     "inputWidgets": {},
     "nuid": "27049b24-2e3c-4654-b5dc-5f9ec267cd7f",
     "showTitle": false,
     "tableResultSettingsMap": {},
     "title": ""
    }
   },
   "source": [
    "## Preprocessing data"
   ]
  },
  {
   "cell_type": "markdown",
   "metadata": {
    "application/vnd.databricks.v1+cell": {
     "cellMetadata": {
      "byteLimit": 2048000,
      "rowLimit": 10000
     },
     "inputWidgets": {},
     "nuid": "15cf4bac-b3f2-4385-9b84-0a0b87684ee8",
     "showTitle": false,
     "tableResultSettingsMap": {},
     "title": ""
    }
   },
   "source": [
    "### Data Cleaning "
   ]
  },
  {
   "cell_type": "markdown",
   "metadata": {
    "application/vnd.databricks.v1+cell": {
     "cellMetadata": {
      "byteLimit": 2048000,
      "rowLimit": 10000
     },
     "inputWidgets": {},
     "nuid": "6e0ed3db-d65b-4ee4-adb4-0658dd4b2ff4",
     "showTitle": false,
     "tableResultSettingsMap": {},
     "title": ""
    }
   },
   "source": [
    "#### age_gender_bkts df "
   ]
  },
  {
   "cell_type": "markdown",
   "metadata": {
    "application/vnd.databricks.v1+cell": {
     "cellMetadata": {
      "byteLimit": 2048000,
      "rowLimit": 10000
     },
     "inputWidgets": {},
     "nuid": "459b53d6-d900-4bfb-8b5a-ddb1efca3495",
     "showTitle": false,
     "tableResultSettingsMap": {},
     "title": ""
    }
   },
   "source": [
    "JUST TO KNOW THE MEAN AS WE USE IT TO FILL IN THE NULLS REGARDING OUR CATEGORY FUNCTION WE WILL CREATE IN THE FEATURE ENGINEERING WORK"
   ]
  },
  {
   "cell_type": "code",
   "execution_count": null,
   "metadata": {
    "application/vnd.databricks.v1+cell": {
     "cellMetadata": {
      "byteLimit": 2048000,
      "rowLimit": 10000
     },
     "inputWidgets": {},
     "nuid": "977a6afd-9d13-4fa5-ba66-2f3051d92e3b",
     "showTitle": false,
     "tableResultSettingsMap": {},
     "title": ""
    }
   },
   "outputs": [
    {
     "name": "stdout",
     "output_type": "stream",
     "text": [
      "Out[26]: 40.14400996563386"
     ]
    }
   ],
   "source": [
    "from pyspark.sql.functions import col, when, split, expr\n",
    "\n",
    "# Add a column for the calculated age contribution\n",
    "df_with_age_contribution = age_gender_bkts.withColumn(\n",
    "    \"age_contribution\",\n",
    "    when(\n",
    "        col(\"age_bucket\").contains(\"+\"),\n",
    "        100 * col(\"population_in_thousands\")  # For age buckets with '+'\n",
    "    ).otherwise(\n",
    "        (\n",
    "            (split(col(\"age_bucket\"), \"-\")[0].cast(\"float\") + \n",
    "             split(col(\"age_bucket\"), \"-\")[1].cast(\"float\")) / 2\n",
    "        ) * col(\"population_in_thousands\")  # For range age buckets\n",
    "    )\n",
    ")\n",
    "\n",
    "# Calculate the sum of age contributions and total population\n",
    "aggregates = df_with_age_contribution.agg(\n",
    "    {\"age_contribution\": \"sum\", \"population_in_thousands\": \"sum\"}\n",
    ").collect()\n",
    "\n",
    "# Extract the aggregated values\n",
    "sum_age_times_population_in_thousands = aggregates[0][\"sum(age_contribution)\"]\n",
    "total_population = aggregates[0][\"sum(population_in_thousands)\"]\n",
    "\n",
    "# Calculate the mean age\n",
    "mean_age = sum_age_times_population_in_thousands / total_population\n",
    "\n",
    "mean_age\n"
   ]
  },
  {
   "cell_type": "code",
   "execution_count": null,
   "metadata": {
    "application/vnd.databricks.v1+cell": {
     "cellMetadata": {
      "byteLimit": 2048000,
      "rowLimit": 10000
     },
     "inputWidgets": {},
     "nuid": "895531e3-0293-4a0b-83fe-d92c30458eef",
     "showTitle": false,
     "tableResultSettingsMap": {},
     "title": ""
    }
   },
   "outputs": [
    {
     "name": "stdout",
     "output_type": "stream",
     "text": [
      "\n",
      "Null Percentage Analysis:\n",
      "----------------------------------------\n",
      "----------------------------------------\n"
     ]
    }
   ],
   "source": [
    "# check the nulls\n",
    "null_percentage_analysis(age_gender_bkts)"
   ]
  },
  {
   "cell_type": "code",
   "execution_count": null,
   "metadata": {
    "application/vnd.databricks.v1+cell": {
     "cellMetadata": {
      "byteLimit": 2048000,
      "rowLimit": 10000
     },
     "inputWidgets": {},
     "nuid": "6b332b8f-e277-4f78-8363-abeabb1b6543",
     "showTitle": false,
     "tableResultSettingsMap": {},
     "title": ""
    }
   },
   "outputs": [
    {
     "data": {
      "text/html": [
       "<style scoped>\n",
       "  .table-result-container {\n",
       "    max-height: 300px;\n",
       "    overflow: auto;\n",
       "  }\n",
       "  table, th, td {\n",
       "    border: 1px solid black;\n",
       "    border-collapse: collapse;\n",
       "  }\n",
       "  th, td {\n",
       "    padding: 5px;\n",
       "  }\n",
       "  th {\n",
       "    text-align: left;\n",
       "  }\n",
       "</style><div class='table-result-container'><table class='table-result'><thead style='background-color: white'><tr><th>summary</th><th>age_bucket</th><th>country_destination</th><th>gender</th><th>population_in_thousands</th><th>year</th></tr></thead><tbody><tr><td>count</td><td>420</td><td>420</td><td>420</td><td>420</td><td>420</td></tr><tr><td>mean</td><td>null</td><td>null</td><td>null</td><td>1743.1333333333334</td><td>2015.0</td></tr><tr><td>stddev</td><td>null</td><td>null</td><td>null</td><td>2509.843202004375</td><td>0.0</td></tr><tr><td>min</td><td>0-4</td><td>AU</td><td>female</td><td>0.0</td><td>2015.0</td></tr><tr><td>max</td><td>95-99</td><td>US</td><td>male</td><td>11601.0</td><td>2015.0</td></tr></tbody></table></div>"
      ]
     },
     "metadata": {
      "application/vnd.databricks.v1+output": {
       "addedWidgets": {},
       "aggData": [],
       "aggError": "",
       "aggOverflow": false,
       "aggSchema": [],
       "aggSeriesLimitReached": false,
       "aggType": "",
       "arguments": {},
       "columnCustomDisplayInfos": {},
       "data": [
        [
         "count",
         "420",
         "420",
         "420",
         "420",
         "420"
        ],
        [
         "mean",
         null,
         null,
         null,
         "1743.1333333333334",
         "2015.0"
        ],
        [
         "stddev",
         null,
         null,
         null,
         "2509.843202004375",
         "0.0"
        ],
        [
         "min",
         "0-4",
         "AU",
         "female",
         "0.0",
         "2015.0"
        ],
        [
         "max",
         "95-99",
         "US",
         "male",
         "11601.0",
         "2015.0"
        ]
       ],
       "datasetInfos": [],
       "dbfsResultPath": null,
       "isJsonSchema": true,
       "metadata": {},
       "overflow": false,
       "plotOptions": {
        "customPlotOptions": {},
        "displayType": "table",
        "pivotAggregation": null,
        "pivotColumns": null,
        "xColumns": null,
        "yColumns": null
       },
       "removedWidgets": [],
       "schema": [
        {
         "metadata": "{}",
         "name": "summary",
         "type": "\"string\""
        },
        {
         "metadata": "{}",
         "name": "age_bucket",
         "type": "\"string\""
        },
        {
         "metadata": "{}",
         "name": "country_destination",
         "type": "\"string\""
        },
        {
         "metadata": "{}",
         "name": "gender",
         "type": "\"string\""
        },
        {
         "metadata": "{}",
         "name": "population_in_thousands",
         "type": "\"string\""
        },
        {
         "metadata": "{}",
         "name": "year",
         "type": "\"string\""
        }
       ],
       "type": "table"
      }
     },
     "output_type": "display_data"
    }
   ],
   "source": [
    "# check the quality/validality of the data \n",
    "display(age_gender_bkts.describe())"
   ]
  },
  {
   "cell_type": "code",
   "execution_count": null,
   "metadata": {
    "application/vnd.databricks.v1+cell": {
     "cellMetadata": {
      "byteLimit": 2048000,
      "rowLimit": 10000
     },
     "inputWidgets": {},
     "nuid": "77be21af-d7d8-4c67-8ab0-dbc0cc2b292d",
     "showTitle": false,
     "tableResultSettingsMap": {},
     "title": ""
    }
   },
   "outputs": [
    {
     "name": "stdout",
     "output_type": "stream",
     "text": [
      "Out[29]: 0"
     ]
    }
   ],
   "source": [
    "# check for duplicates\n",
    "age_gender_bkts.count() - age_gender_bkts.dropDuplicates().count()"
   ]
  },
  {
   "cell_type": "markdown",
   "metadata": {
    "application/vnd.databricks.v1+cell": {
     "cellMetadata": {
      "byteLimit": 2048000,
      "rowLimit": 10000
     },
     "inputWidgets": {},
     "nuid": "1ea339a7-8fdf-4d99-a2af-251009b47d0e",
     "showTitle": false,
     "tableResultSettingsMap": {},
     "title": ""
    }
   },
   "source": [
    "###### Remove the age_gender_bkts data frame as we won't need it anymore."
   ]
  },
  {
   "cell_type": "code",
   "execution_count": null,
   "metadata": {
    "application/vnd.databricks.v1+cell": {
     "cellMetadata": {
      "byteLimit": 2048000,
      "rowLimit": 10000
     },
     "inputWidgets": {},
     "nuid": "607bb33c-3486-401a-8219-5327a8f39ab2",
     "showTitle": false,
     "tableResultSettingsMap": {},
     "title": ""
    }
   },
   "outputs": [
    {
     "name": "stdout",
     "output_type": "stream",
     "text": [
      "Out[30]: DataFrame[age_bucket: string, country_destination: string, gender: string, population_in_thousands: float, year: float]"
     ]
    }
   ],
   "source": [
    "age_gender_bkts.unpersist()"
   ]
  },
  {
   "cell_type": "markdown",
   "metadata": {
    "application/vnd.databricks.v1+cell": {
     "cellMetadata": {
      "byteLimit": 2048000,
      "rowLimit": 10000
     },
     "inputWidgets": {},
     "nuid": "506e832d-1349-47a7-9501-ecbe479f9a17",
     "showTitle": false,
     "tableResultSettingsMap": {},
     "title": ""
    }
   },
   "source": [
    "#### sessions df"
   ]
  },
  {
   "cell_type": "markdown",
   "metadata": {
    "application/vnd.databricks.v1+cell": {
     "cellMetadata": {
      "byteLimit": 2048000,
      "rowLimit": 10000
     },
     "inputWidgets": {},
     "nuid": "be7267f6-471f-4d4f-8f16-af6b209751d1",
     "showTitle": false,
     "tableResultSettingsMap": {},
     "title": ""
    }
   },
   "source": [
    "\n",
    "When joining two DataFrames on id where one (session_df) has far more rows (10,567,737) but fewer unique id values (135,483 distinct) compared to the other (train_df) with 213,451 unique id values, you need to carefully handle the join to ensure it is efficient and produces meaningful results.\n",
    "\n",
    "**Key Considerations:**\n",
    "\n",
    "1.Cardinality of id:\n",
    "\n",
    "session_df has fewer distinct id values, meaning some ids repeat many times.\n",
    "train_df has distinct id values (one-to-one mapping for id).\n",
    "\n",
    "2.Join Type:\n",
    "\n",
    "The type of join depends on your goal. Typically, a left join or inner join is appropriate.\n",
    "\n",
    "3.Handling Duplicates:\n",
    "\n",
    "Since session_df has repeated ids, the resulting join will produce multiple rows for each match.\n",
    "\n",
    "4.Optimizing Performance:\n",
    "\n",
    "Consider reducing the size of session_df before joining if feasible, using filters or aggregations.\n",
    "\n",
    "\n",
    "there will be NULLs in the result of your join if the id (or user_id) in train has no corresponding match in the aggregated sessions DataFrame. Here's why:\n",
    "\n",
    "\n",
    "**Why NULLs Occur in Joins**\n",
    "\n",
    "1.Left Join:\n",
    "\n",
    "A left join ensures that all rows from train are preserved, even if there is no matching id in the aggregated sessions DataFrame.\n",
    "For ids in train that are not present in the sessions DataFrame, the sum_secs_elapsed column will have NULL values.\n",
    "\n",
    "2.Inner Join:\n",
    "\n",
    "An inner join will only include rows where there is a match in both train and the aggregated sessions DataFrame. If an id in train is not present in sessions, it will be excluded.\n",
    "\n",
    "Inner Join: will reduce our resulting data to 135,483 intead of orignal 213,451"
   ]
  },
  {
   "cell_type": "code",
   "execution_count": null,
   "metadata": {
    "application/vnd.databricks.v1+cell": {
     "cellMetadata": {
      "byteLimit": 2048000,
      "rowLimit": 10000
     },
     "inputWidgets": {},
     "nuid": "6743134c-64c4-45ba-83ec-19ba6904c124",
     "showTitle": false,
     "tableResultSettingsMap": {},
     "title": ""
    }
   },
   "outputs": [
    {
     "name": "stdout",
     "output_type": "stream",
     "text": [
      "\n",
      "Null Percentage Analysis:\n",
      "----------------------------------------\n",
      "user_id: 34496 null values (0.33%)\n",
      "action: 79626 null values (0.75%)\n",
      "action_type: 1126204 null values (10.66%)\n",
      "action_detail: 1126204 null values (10.66%)\n",
      "secs_elapsed: 136031 null values (1.29%)\n",
      "----------------------------------------\n"
     ]
    }
   ],
   "source": [
    "# check the nulls\n",
    "null_percentage_analysis(sessions)"
   ]
  },
  {
   "cell_type": "code",
   "execution_count": null,
   "metadata": {
    "application/vnd.databricks.v1+cell": {
     "cellMetadata": {
      "byteLimit": 2048000,
      "rowLimit": 10000
     },
     "inputWidgets": {},
     "nuid": "2e6f833d-b949-4b98-abd1-28794f8b2236",
     "showTitle": false,
     "tableResultSettingsMap": {},
     "title": ""
    }
   },
   "outputs": [
    {
     "data": {
      "text/html": [
       "<style scoped>\n",
       "  .table-result-container {\n",
       "    max-height: 300px;\n",
       "    overflow: auto;\n",
       "  }\n",
       "  table, th, td {\n",
       "    border: 1px solid black;\n",
       "    border-collapse: collapse;\n",
       "  }\n",
       "  th, td {\n",
       "    padding: 5px;\n",
       "  }\n",
       "  th {\n",
       "    text-align: left;\n",
       "  }\n",
       "</style><div class='table-result-container'><table class='table-result'><thead style='background-color: white'><tr><th>summary</th><th>user_id</th><th>action</th><th>action_type</th><th>action_detail</th><th>device_type</th><th>secs_elapsed</th></tr></thead><tbody><tr><td>count</td><td>10533241</td><td>10488111</td><td>9441533</td><td>9441533</td><td>10567737</td><td>10431706</td></tr><tr><td>mean</td><td>null</td><td>11.445711108021687</td><td>null</td><td>null</td><td>null</td><td>19405.81075070559</td></tr><tr><td>stddev</td><td>null</td><td>1.7023772142506777</td><td>null</td><td>null</td><td>null</td><td>88884.24320857166</td></tr><tr><td>min</td><td>00023iyk9l</td><td>10</td><td>-unknown-</td><td>-unknown-</td><td>-unknown-</td><td>0.0</td></tr><tr><td>max</td><td>zzzlylp57e</td><td>zendesk_login_jwt</td><td>view</td><td>your_trips</td><td>iPodtouch</td><td>1799977.0</td></tr></tbody></table></div>"
      ]
     },
     "metadata": {
      "application/vnd.databricks.v1+output": {
       "addedWidgets": {},
       "aggData": [],
       "aggError": "",
       "aggOverflow": false,
       "aggSchema": [],
       "aggSeriesLimitReached": false,
       "aggType": "",
       "arguments": {},
       "columnCustomDisplayInfos": {},
       "data": [
        [
         "count",
         "10533241",
         "10488111",
         "9441533",
         "9441533",
         "10567737",
         "10431706"
        ],
        [
         "mean",
         null,
         "11.445711108021687",
         null,
         null,
         null,
         "19405.81075070559"
        ],
        [
         "stddev",
         null,
         "1.7023772142506777",
         null,
         null,
         null,
         "88884.24320857166"
        ],
        [
         "min",
         "00023iyk9l",
         "10",
         "-unknown-",
         "-unknown-",
         "-unknown-",
         "0.0"
        ],
        [
         "max",
         "zzzlylp57e",
         "zendesk_login_jwt",
         "view",
         "your_trips",
         "iPodtouch",
         "1799977.0"
        ]
       ],
       "datasetInfos": [],
       "dbfsResultPath": null,
       "isJsonSchema": true,
       "metadata": {},
       "overflow": false,
       "plotOptions": {
        "customPlotOptions": {},
        "displayType": "table",
        "pivotAggregation": null,
        "pivotColumns": null,
        "xColumns": null,
        "yColumns": null
       },
       "removedWidgets": [],
       "schema": [
        {
         "metadata": "{}",
         "name": "summary",
         "type": "\"string\""
        },
        {
         "metadata": "{}",
         "name": "user_id",
         "type": "\"string\""
        },
        {
         "metadata": "{}",
         "name": "action",
         "type": "\"string\""
        },
        {
         "metadata": "{}",
         "name": "action_type",
         "type": "\"string\""
        },
        {
         "metadata": "{}",
         "name": "action_detail",
         "type": "\"string\""
        },
        {
         "metadata": "{}",
         "name": "device_type",
         "type": "\"string\""
        },
        {
         "metadata": "{}",
         "name": "secs_elapsed",
         "type": "\"string\""
        }
       ],
       "type": "table"
      }
     },
     "output_type": "display_data"
    }
   ],
   "source": [
    "# check the quality/validality of the data \n",
    "display(sessions.describe())"
   ]
  },
  {
   "cell_type": "code",
   "execution_count": null,
   "metadata": {
    "application/vnd.databricks.v1+cell": {
     "cellMetadata": {
      "byteLimit": 2048000,
      "rowLimit": 10000
     },
     "inputWidgets": {},
     "nuid": "154ebf6c-ecaf-4100-8ffd-103f268a6964",
     "showTitle": false,
     "tableResultSettingsMap": {},
     "title": ""
    }
   },
   "outputs": [
    {
     "name": "stdout",
     "output_type": "stream",
     "text": [
      "Out[33]: 252536"
     ]
    }
   ],
   "source": [
    "# check for duplicates\n",
    "sessions.count() - sessions.dropDuplicates().count()"
   ]
  },
  {
   "cell_type": "markdown",
   "metadata": {
    "application/vnd.databricks.v1+cell": {
     "cellMetadata": {
      "byteLimit": 2048000,
      "rowLimit": 10000
     },
     "inputWidgets": {},
     "nuid": "0c76a8bb-0011-4d49-8472-e106b1203294",
     "showTitle": false,
     "tableResultSettingsMap": {},
     "title": ""
    }
   },
   "source": [
    "**Many-to-One Join (Aggregating session_df)**"
   ]
  },
  {
   "cell_type": "code",
   "execution_count": null,
   "metadata": {
    "application/vnd.databricks.v1+cell": {
     "cellMetadata": {
      "byteLimit": 2048000,
      "rowLimit": 10000
     },
     "inputWidgets": {},
     "nuid": "9ad4ebe0-3d67-439d-be0a-0a6d5038134e",
     "showTitle": false,
     "tableResultSettingsMap": {},
     "title": ""
    }
   },
   "outputs": [
    {
     "name": "stdout",
     "output_type": "stream",
     "text": [
      "Out[22]: 135484"
     ]
    }
   ],
   "source": [
    "from pyspark.sql.functions import sum as pyspark_sum\n",
    "from pyspark.sql import functions as F\n",
    "\n",
    "# total_session_time = sessions.groupby(\"user_id\").agg(pyspark_sum('secs_elapsed').alias('sum_secs_elapsed'))\n",
    "\n",
    "total_session_time_1 = sessions.groupby(\"user_id\").agg(\n",
    "    F.sum(\"secs_elapsed\").alias(\"sum_secs_elapsed\")\n",
    ")\n",
    "\n",
    "total_session_time_1.count()"
   ]
  },
  {
   "cell_type": "markdown",
   "metadata": {
    "application/vnd.databricks.v1+cell": {
     "cellMetadata": {
      "byteLimit": 2048000,
      "rowLimit": 10000
     },
     "inputWidgets": {},
     "nuid": "8f126778-781f-49d1-b974-03c999e1e9f2",
     "showTitle": false,
     "tableResultSettingsMap": {},
     "title": ""
    }
   },
   "source": [
    "###### Unpersist the sessions dataframe as we won't use it in out train."
   ]
  },
  {
   "cell_type": "code",
   "execution_count": null,
   "metadata": {
    "application/vnd.databricks.v1+cell": {
     "cellMetadata": {
      "byteLimit": 2048000,
      "rowLimit": 10000
     },
     "inputWidgets": {},
     "nuid": "02543426-3e66-4547-a5c6-b4a5aa333730",
     "showTitle": false,
     "tableResultSettingsMap": {},
     "title": ""
    }
   },
   "outputs": [
    {
     "name": "stdout",
     "output_type": "stream",
     "text": [
      "Out[35]: DataFrame[user_id: string, action: string, action_type: string, action_detail: string, device_type: string, secs_elapsed: float]"
     ]
    }
   ],
   "source": [
    "sessions.unpersist()"
   ]
  },
  {
   "cell_type": "markdown",
   "metadata": {
    "application/vnd.databricks.v1+cell": {
     "cellMetadata": {
      "byteLimit": 2048000,
      "rowLimit": 10000
     },
     "inputWidgets": {},
     "nuid": "086e8ab9-6d5f-4eb1-9437-a39e7787d77b",
     "showTitle": false,
     "tableResultSettingsMap": {},
     "title": ""
    }
   },
   "source": [
    "#### train df"
   ]
  },
  {
   "cell_type": "code",
   "execution_count": null,
   "metadata": {
    "application/vnd.databricks.v1+cell": {
     "cellMetadata": {
      "byteLimit": 2048000,
      "rowLimit": 10000
     },
     "inputWidgets": {},
     "nuid": "bea35043-8a11-4650-93bc-12c0472fd5fc",
     "showTitle": false,
     "tableResultSettingsMap": {},
     "title": ""
    }
   },
   "outputs": [
    {
     "name": "stdout",
     "output_type": "stream",
     "text": [
      "\n",
      "Null Percentage Analysis:\n",
      "----------------------------------------\n",
      "date_first_booking: 124543 null values (58.35%)\n",
      "age: 87990 null values (41.22%)\n",
      "first_affiliate_tracked: 6065 null values (2.84%)\n",
      "----------------------------------------\n"
     ]
    }
   ],
   "source": [
    "# check the nulls\n",
    "null_percentage_analysis(train_users_2)"
   ]
  },
  {
   "cell_type": "code",
   "execution_count": null,
   "metadata": {
    "application/vnd.databricks.v1+cell": {
     "cellMetadata": {
      "byteLimit": 2048000,
      "rowLimit": 10000
     },
     "inputWidgets": {},
     "nuid": "a2b8ab77-47e9-4fff-beef-ca677f1389bd",
     "showTitle": false,
     "tableResultSettingsMap": {},
     "title": ""
    }
   },
   "outputs": [
    {
     "data": {
      "text/html": [
       "<style scoped>\n",
       "  .table-result-container {\n",
       "    max-height: 300px;\n",
       "    overflow: auto;\n",
       "  }\n",
       "  table, th, td {\n",
       "    border: 1px solid black;\n",
       "    border-collapse: collapse;\n",
       "  }\n",
       "  th, td {\n",
       "    padding: 5px;\n",
       "  }\n",
       "  th {\n",
       "    text-align: left;\n",
       "  }\n",
       "</style><div class='table-result-container'><table class='table-result'><thead style='background-color: white'><tr><th>summary</th><th>id</th><th>timestamp_first_active</th><th>gender</th><th>age</th><th>signup_method</th><th>signup_flow</th><th>language</th><th>affiliate_channel</th><th>affiliate_provider</th><th>first_affiliate_tracked</th><th>signup_app</th><th>first_device_type</th><th>first_browser</th><th>country_destination</th></tr></thead><tbody><tr><td>count</td><td>213451</td><td>213451</td><td>213451</td><td>125461</td><td>213451</td><td>213451</td><td>213451</td><td>213451</td><td>213451</td><td>207386</td><td>213451</td><td>213451</td><td>213451</td><td>213451</td></tr><tr><td>mean</td><td>null</td><td>2.0130850417367293E13</td><td>null</td><td>49.66833517985669</td><td>null</td><td>3.2673868944160485</td><td>null</td><td>null</td><td>null</td><td>null</td><td>null</td><td>null</td><td>null</td><td>null</td></tr><tr><td>stddev</td><td>null</td><td>9.253717046551546E9</td><td>null</td><td>155.66661183021515</td><td>null</td><td>7.63770686943509</td><td>null</td><td>null</td><td>null</td><td>null</td><td>null</td><td>null</td><td>null</td><td>null</td></tr><tr><td>min</td><td>00023iyk9l</td><td>20090319043255</td><td>-unknown-</td><td>1.0</td><td>basic</td><td>0.0</td><td>ca</td><td>api</td><td>baidu</td><td>linked</td><td>Android</td><td>Android Phone</td><td>-unknown-</td><td>AU</td></tr><tr><td>max</td><td>zzzlylp57e</td><td>20140630235824</td><td>OTHER</td><td>2014.0</td><td>google</td><td>25.0</td><td>zh</td><td>seo</td><td>yandex</td><td>untracked</td><td>iOS</td><td>iPhone</td><td>wOSBrowser</td><td>other</td></tr></tbody></table></div>"
      ]
     },
     "metadata": {
      "application/vnd.databricks.v1+output": {
       "addedWidgets": {},
       "aggData": [],
       "aggError": "",
       "aggOverflow": false,
       "aggSchema": [],
       "aggSeriesLimitReached": false,
       "aggType": "",
       "arguments": {},
       "columnCustomDisplayInfos": {},
       "data": [
        [
         "count",
         "213451",
         "213451",
         "213451",
         "125461",
         "213451",
         "213451",
         "213451",
         "213451",
         "213451",
         "207386",
         "213451",
         "213451",
         "213451",
         "213451"
        ],
        [
         "mean",
         null,
         "2.0130850417367293E13",
         null,
         "49.66833517985669",
         null,
         "3.2673868944160485",
         null,
         null,
         null,
         null,
         null,
         null,
         null,
         null
        ],
        [
         "stddev",
         null,
         "9.253717046551546E9",
         null,
         "155.66661183021515",
         null,
         "7.63770686943509",
         null,
         null,
         null,
         null,
         null,
         null,
         null,
         null
        ],
        [
         "min",
         "00023iyk9l",
         "20090319043255",
         "-unknown-",
         "1.0",
         "basic",
         "0.0",
         "ca",
         "api",
         "baidu",
         "linked",
         "Android",
         "Android Phone",
         "-unknown-",
         "AU"
        ],
        [
         "max",
         "zzzlylp57e",
         "20140630235824",
         "OTHER",
         "2014.0",
         "google",
         "25.0",
         "zh",
         "seo",
         "yandex",
         "untracked",
         "iOS",
         "iPhone",
         "wOSBrowser",
         "other"
        ]
       ],
       "datasetInfos": [],
       "dbfsResultPath": null,
       "isJsonSchema": true,
       "metadata": {},
       "overflow": false,
       "plotOptions": {
        "customPlotOptions": {},
        "displayType": "table",
        "pivotAggregation": null,
        "pivotColumns": null,
        "xColumns": null,
        "yColumns": null
       },
       "removedWidgets": [],
       "schema": [
        {
         "metadata": "{}",
         "name": "summary",
         "type": "\"string\""
        },
        {
         "metadata": "{}",
         "name": "id",
         "type": "\"string\""
        },
        {
         "metadata": "{}",
         "name": "timestamp_first_active",
         "type": "\"string\""
        },
        {
         "metadata": "{}",
         "name": "gender",
         "type": "\"string\""
        },
        {
         "metadata": "{}",
         "name": "age",
         "type": "\"string\""
        },
        {
         "metadata": "{}",
         "name": "signup_method",
         "type": "\"string\""
        },
        {
         "metadata": "{}",
         "name": "signup_flow",
         "type": "\"string\""
        },
        {
         "metadata": "{}",
         "name": "language",
         "type": "\"string\""
        },
        {
         "metadata": "{}",
         "name": "affiliate_channel",
         "type": "\"string\""
        },
        {
         "metadata": "{}",
         "name": "affiliate_provider",
         "type": "\"string\""
        },
        {
         "metadata": "{}",
         "name": "first_affiliate_tracked",
         "type": "\"string\""
        },
        {
         "metadata": "{}",
         "name": "signup_app",
         "type": "\"string\""
        },
        {
         "metadata": "{}",
         "name": "first_device_type",
         "type": "\"string\""
        },
        {
         "metadata": "{}",
         "name": "first_browser",
         "type": "\"string\""
        },
        {
         "metadata": "{}",
         "name": "country_destination",
         "type": "\"string\""
        }
       ],
       "type": "table"
      }
     },
     "output_type": "display_data"
    }
   ],
   "source": [
    "# check the quality/validality of the data \n",
    "display(train_users_2.describe())"
   ]
  },
  {
   "cell_type": "code",
   "execution_count": null,
   "metadata": {
    "application/vnd.databricks.v1+cell": {
     "cellMetadata": {
      "byteLimit": 2048000,
      "rowLimit": 10000
     },
     "inputWidgets": {},
     "nuid": "35928185-9e8e-4dd5-948c-f93634973139",
     "showTitle": false,
     "tableResultSettingsMap": {},
     "title": ""
    }
   },
   "outputs": [
    {
     "name": "stdout",
     "output_type": "stream",
     "text": [
      "Out[38]: 0"
     ]
    }
   ],
   "source": [
    "# check for duplicates\n",
    "train_users_2.count() - train_users_2.dropDuplicates().count()"
   ]
  },
  {
   "cell_type": "markdown",
   "metadata": {
    "application/vnd.databricks.v1+cell": {
     "cellMetadata": {
      "byteLimit": 2048000,
      "rowLimit": 10000
     },
     "inputWidgets": {},
     "nuid": "54aeb12a-350a-470e-aa57-18ef69cb4019",
     "showTitle": false,
     "tableResultSettingsMap": {},
     "title": ""
    }
   },
   "source": [
    "let's see how mant labels each categorical feature have as we will do encoding later and we don't want our feature to be too much at the end of the day"
   ]
  },
  {
   "cell_type": "code",
   "execution_count": null,
   "metadata": {
    "application/vnd.databricks.v1+cell": {
     "cellMetadata": {
      "byteLimit": 2048000,
      "rowLimit": 10000
     },
     "inputWidgets": {},
     "nuid": "1a3bd1a4-ed55-4310-b06a-997e9e7bb8c7",
     "showTitle": false,
     "tableResultSettingsMap": {},
     "title": ""
    }
   },
   "outputs": [
    {
     "name": "stdout",
     "output_type": "stream",
     "text": [
      "+-------------+\n",
      "|signup_method|\n",
      "+-------------+\n",
      "|facebook     |\n",
      "|basic        |\n",
      "|google       |\n",
      "+-------------+\n",
      "\n",
      "+--------+\n",
      "|language|\n",
      "+--------+\n",
      "|pt      |\n",
      "|ko      |\n",
      "|ru      |\n",
      "|tr      |\n",
      "|fr      |\n",
      "|de      |\n",
      "|ja      |\n",
      "|el      |\n",
      "|da      |\n",
      "|id      |\n",
      "|th      |\n",
      "|es      |\n",
      "|pl      |\n",
      "|hu      |\n",
      "|fi      |\n",
      "|no      |\n",
      "|en      |\n",
      "|it      |\n",
      "|zh      |\n",
      "|sv      |\n",
      "|nl      |\n",
      "|cs      |\n",
      "|ca      |\n",
      "|hr      |\n",
      "|is      |\n",
      "+--------+\n",
      "\n",
      "+-----------------+\n",
      "|affiliate_channel|\n",
      "+-----------------+\n",
      "|direct           |\n",
      "|api              |\n",
      "|seo              |\n",
      "|remarketing      |\n",
      "|other            |\n",
      "|sem-brand        |\n",
      "|sem-non-brand    |\n",
      "|content          |\n",
      "+-----------------+\n",
      "\n",
      "+-------------------+\n",
      "|affiliate_provider |\n",
      "+-------------------+\n",
      "|direct             |\n",
      "|google             |\n",
      "|bing               |\n",
      "|craigslist         |\n",
      "|facebook           |\n",
      "|vast               |\n",
      "|meetup             |\n",
      "|facebook-open-graph|\n",
      "|email-marketing    |\n",
      "|other              |\n",
      "|gsp                |\n",
      "|yahoo              |\n",
      "|padmapper          |\n",
      "|naver              |\n",
      "|wayn               |\n",
      "|baidu              |\n",
      "|yandex             |\n",
      "|daum               |\n",
      "+-------------------+\n",
      "\n",
      "+-----------------------+\n",
      "|first_affiliate_tracked|\n",
      "+-----------------------+\n",
      "|untracked              |\n",
      "|omg                    |\n",
      "|product                |\n",
      "|marketing              |\n",
      "|linked                 |\n",
      "|null                   |\n",
      "|tracked-other          |\n",
      "|local ops              |\n",
      "+-----------------------+\n",
      "\n",
      "+----------+\n",
      "|signup_app|\n",
      "+----------+\n",
      "|Moweb     |\n",
      "|iOS       |\n",
      "|Web       |\n",
      "|Android   |\n",
      "+----------+\n",
      "\n",
      "+------------------+\n",
      "|first_device_type |\n",
      "+------------------+\n",
      "|Desktop (Other)   |\n",
      "|iPhone            |\n",
      "|Android Tablet    |\n",
      "|Other/Unknown     |\n",
      "|SmartPhone (Other)|\n",
      "|Mac Desktop       |\n",
      "|Windows Desktop   |\n",
      "|iPad              |\n",
      "|Android Phone     |\n",
      "+------------------+\n",
      "\n",
      "+---------+\n",
      "|gender   |\n",
      "+---------+\n",
      "|-unknown-|\n",
      "|MALE     |\n",
      "|FEMALE   |\n",
      "|OTHER    |\n",
      "+---------+\n",
      "\n",
      "+--------------------+\n",
      "|first_browser       |\n",
      "+--------------------+\n",
      "|Chrome              |\n",
      "|Firefox             |\n",
      "|-unknown-           |\n",
      "|Chrome Mobile       |\n",
      "|TenFourFox          |\n",
      "|Apple Mail          |\n",
      "|Silk                |\n",
      "|IceWeasel           |\n",
      "|Kindle Browser      |\n",
      "|Crazy Browser       |\n",
      "|Mozilla             |\n",
      "|Mobile Safari       |\n",
      "|Chromium            |\n",
      "|AOL Explorer        |\n",
      "|Arora               |\n",
      "|Iron                |\n",
      "|Sogou Explorer      |\n",
      "|Opera Mini          |\n",
      "|RockMelt            |\n",
      "|Android Browser     |\n",
      "|Mobile Firefox      |\n",
      "|IE Mobile           |\n",
      "|SeaMonkey           |\n",
      "|Maxthon             |\n",
      "|wOSBrowser          |\n",
      "|Google Earth        |\n",
      "|IE                  |\n",
      "|Safari              |\n",
      "|Palm Pre web browser|\n",
      "|Opera               |\n",
      "|Camino              |\n",
      "|BlackBerry Browser  |\n",
      "|SiteKiosk           |\n",
      "|CoolNovo            |\n",
      "|Conkeror            |\n",
      "|OmniWeb             |\n",
      "|PS Vita browser     |\n",
      "|Comodo Dragon       |\n",
      "|Opera Mobile        |\n",
      "|NetNewsWire         |\n",
      "|Flock               |\n",
      "|Yandex.Browser      |\n",
      "|CometBird           |\n",
      "|Pale Moon           |\n",
      "|Avant Browser       |\n",
      "|TheWorld Browser    |\n",
      "|Epic                |\n",
      "|SlimBrowser         |\n",
      "|Stainless           |\n",
      "|Googlebot           |\n",
      "|Outlook 2007        |\n",
      "|IceDragon           |\n",
      "+--------------------+\n",
      "\n"
     ]
    }
   ],
   "source": [
    "categorical_cols = ['gender', 'signup_method', 'language', \n",
    "                    'affiliate_channel', 'affiliate_provider', \n",
    "                    'first_affiliate_tracked', 'signup_app', \n",
    "                    'first_device_type', 'first_browser']\n",
    "\n",
    "numeric_cols = ['age', 'signup_flow']\n",
    "\n",
    "train_users_2.select('signup_method').distinct().show(50,truncate=False)\n",
    "train_users_2.select('language').distinct().show(50,truncate=False)\n",
    "train_users_2.select('affiliate_channel').distinct().show(50,truncate=False)\n",
    "train_users_2.select('affiliate_provider').distinct().show(50,truncate=False)\n",
    "train_users_2.select('first_affiliate_tracked').distinct().show(50,truncate=False)\n",
    "train_users_2.select('signup_app').distinct().show(50,truncate=False)\n",
    "train_users_2.select('first_device_type').distinct().show(50,truncate=False)\n",
    "train_users_2.select('gender').distinct().show(50,truncate=False)\n",
    "train_users_2.select('first_browser').distinct().show(55,truncate=False)\n"
   ]
  },
  {
   "cell_type": "code",
   "execution_count": null,
   "metadata": {
    "application/vnd.databricks.v1+cell": {
     "cellMetadata": {
      "byteLimit": 2048000,
      "rowLimit": 10000
     },
     "inputWidgets": {},
     "nuid": "add5f8e9-1323-4c88-9f92-60861c47255f",
     "showTitle": false,
     "tableResultSettingsMap": {},
     "title": ""
    }
   },
   "outputs": [
    {
     "name": "stdout",
     "output_type": "stream",
     "text": [
      "first_browser feature label count: 52\n",
      "signup_method feature label count: 3\n",
      "gender feature label count: 4\n",
      "language feature label count: 25\n",
      "affiliate_channel feature label count: 8\n",
      "affiliate_provider feature label count: 18\n",
      "first_affiliate_tracked feature label count: 8\n",
      "signup_app feature label count: 4\n",
      "first_device_type feature label count: 9\n"
     ]
    }
   ],
   "source": [
    "print(f\"first_browser feature label count: {train_users_2.select('first_browser').distinct().count()}\")\n",
    "print(f\"signup_method feature label count: {train_users_2.select('signup_method').distinct().count()}\")\n",
    "print(f\"gender feature label count: {train_users_2.select('gender').distinct().count()}\")\n",
    "print(f\"language feature label count: {train_users_2.select('language').distinct().count()}\")\n",
    "print(f\"affiliate_channel feature label count: {train_users_2.select('affiliate_channel').distinct().count()}\")\n",
    "print(f\"affiliate_provider feature label count: {train_users_2.select('affiliate_provider').distinct().count()}\")\n",
    "print(f\"first_affiliate_tracked feature label count: {train_users_2.select('first_affiliate_tracked').distinct().count()}\")\n",
    "print(f\"signup_app feature label count: {train_users_2.select('signup_app').distinct().count()}\")\n",
    "print(f\"first_device_type feature label count: {train_users_2.select('first_device_type').distinct().count()}\")\n"
   ]
  },
  {
   "cell_type": "markdown",
   "metadata": {
    "application/vnd.databricks.v1+cell": {
     "cellMetadata": {
      "byteLimit": 2048000,
      "rowLimit": 10000
     },
     "inputWidgets": {},
     "nuid": "b59270e8-0903-43eb-b51a-c35c2edb708a",
     "showTitle": false,
     "tableResultSettingsMap": {},
     "title": ""
    }
   },
   "source": [
    "**let's perform the join with session df elapesd feature as its thev only feature we are interested in**"
   ]
  },
  {
   "cell_type": "code",
   "execution_count": null,
   "metadata": {
    "application/vnd.databricks.v1+cell": {
     "cellMetadata": {
      "byteLimit": 2048000,
      "rowLimit": 10000
     },
     "inputWidgets": {},
     "nuid": "45f909da-2be9-42db-9fee-ca7dfb7a237b",
     "showTitle": false,
     "tableResultSettingsMap": {},
     "title": ""
    }
   },
   "outputs": [],
   "source": [
    "# Left join\n",
    "new_train_users = train_users_2.join(total_session_time_1, train_users_2.id == total_session_time_1.user_id, how=\"left\")"
   ]
  },
  {
   "cell_type": "code",
   "execution_count": null,
   "metadata": {
    "application/vnd.databricks.v1+cell": {
     "cellMetadata": {
      "byteLimit": 2048000,
      "rowLimit": 10000
     },
     "inputWidgets": {},
     "nuid": "b6572f67-812a-4ab5-836d-2b57fb91aeeb",
     "showTitle": false,
     "tableResultSettingsMap": {},
     "title": ""
    }
   },
   "outputs": [
    {
     "data": {
      "text/html": [
       "<style scoped>\n",
       "  .table-result-container {\n",
       "    max-height: 300px;\n",
       "    overflow: auto;\n",
       "  }\n",
       "  table, th, td {\n",
       "    border: 1px solid black;\n",
       "    border-collapse: collapse;\n",
       "  }\n",
       "  th, td {\n",
       "    padding: 5px;\n",
       "  }\n",
       "  th {\n",
       "    text-align: left;\n",
       "  }\n",
       "</style><div class='table-result-container'><table class='table-result'><thead style='background-color: white'><tr><th>id</th><th>date_account_created</th><th>timestamp_first_active</th><th>date_first_booking</th><th>gender</th><th>age</th><th>signup_method</th><th>signup_flow</th><th>language</th><th>affiliate_channel</th><th>affiliate_provider</th><th>first_affiliate_tracked</th><th>signup_app</th><th>first_device_type</th><th>first_browser</th><th>country_destination</th><th>user_id</th><th>sum_secs_elapsed</th></tr></thead><tbody><tr><td>bjjt8pjhuk</td><td>2011-12-05</td><td>20091031060129</td><td>2012-09-08</td><td>FEMALE</td><td>42.0</td><td>facebook</td><td>0.0</td><td>en</td><td>direct</td><td>direct</td><td>untracked</td><td>Web</td><td>Mac Desktop</td><td>Firefox</td><td>other</td><td>null</td><td>null</td></tr><tr><td>4ft3gnwmtx</td><td>2010-09-28</td><td>20090609231247</td><td>2010-08-02</td><td>FEMALE</td><td>56.0</td><td>basic</td><td>3.0</td><td>en</td><td>direct</td><td>direct</td><td>untracked</td><td>Web</td><td>Windows Desktop</td><td>IE</td><td>US</td><td>null</td><td>null</td></tr><tr><td>87mebub9p4</td><td>2010-09-14</td><td>20091208061105</td><td>2010-02-18</td><td>-unknown-</td><td>41.0</td><td>basic</td><td>0.0</td><td>en</td><td>direct</td><td>direct</td><td>untracked</td><td>Web</td><td>Mac Desktop</td><td>Chrome</td><td>US</td><td>null</td><td>null</td></tr><tr><td>gxn3p5htnn</td><td>2010-06-28</td><td>20090319043255</td><td>null</td><td>-unknown-</td><td>null</td><td>facebook</td><td>0.0</td><td>en</td><td>direct</td><td>direct</td><td>untracked</td><td>Web</td><td>Mac Desktop</td><td>Chrome</td><td>NDF</td><td>null</td><td>null</td></tr><tr><td>820tgsjxq7</td><td>2011-05-25</td><td>20090523174809</td><td>null</td><td>MALE</td><td>38.0</td><td>facebook</td><td>0.0</td><td>en</td><td>seo</td><td>google</td><td>untracked</td><td>Web</td><td>Mac Desktop</td><td>Chrome</td><td>NDF</td><td>null</td><td>null</td></tr></tbody></table></div>"
      ]
     },
     "metadata": {
      "application/vnd.databricks.v1+output": {
       "addedWidgets": {},
       "aggData": [],
       "aggError": "",
       "aggOverflow": false,
       "aggSchema": [],
       "aggSeriesLimitReached": false,
       "aggType": "",
       "arguments": {},
       "columnCustomDisplayInfos": {},
       "data": [
        [
         "bjjt8pjhuk",
         "2011-12-05",
         "20091031060129",
         "2012-09-08",
         "FEMALE",
         42,
         "facebook",
         0,
         "en",
         "direct",
         "direct",
         "untracked",
         "Web",
         "Mac Desktop",
         "Firefox",
         "other",
         null,
         null
        ],
        [
         "4ft3gnwmtx",
         "2010-09-28",
         "20090609231247",
         "2010-08-02",
         "FEMALE",
         56,
         "basic",
         3,
         "en",
         "direct",
         "direct",
         "untracked",
         "Web",
         "Windows Desktop",
         "IE",
         "US",
         null,
         null
        ],
        [
         "87mebub9p4",
         "2010-09-14",
         "20091208061105",
         "2010-02-18",
         "-unknown-",
         41,
         "basic",
         0,
         "en",
         "direct",
         "direct",
         "untracked",
         "Web",
         "Mac Desktop",
         "Chrome",
         "US",
         null,
         null
        ],
        [
         "gxn3p5htnn",
         "2010-06-28",
         "20090319043255",
         null,
         "-unknown-",
         null,
         "facebook",
         0,
         "en",
         "direct",
         "direct",
         "untracked",
         "Web",
         "Mac Desktop",
         "Chrome",
         "NDF",
         null,
         null
        ],
        [
         "820tgsjxq7",
         "2011-05-25",
         "20090523174809",
         null,
         "MALE",
         38,
         "facebook",
         0,
         "en",
         "seo",
         "google",
         "untracked",
         "Web",
         "Mac Desktop",
         "Chrome",
         "NDF",
         null,
         null
        ]
       ],
       "datasetInfos": [],
       "dbfsResultPath": null,
       "isJsonSchema": true,
       "metadata": {},
       "overflow": false,
       "plotOptions": {
        "customPlotOptions": {},
        "displayType": "table",
        "pivotAggregation": null,
        "pivotColumns": null,
        "xColumns": null,
        "yColumns": null
       },
       "removedWidgets": [],
       "schema": [
        {
         "metadata": "{}",
         "name": "id",
         "type": "\"string\""
        },
        {
         "metadata": "{}",
         "name": "date_account_created",
         "type": "\"date\""
        },
        {
         "metadata": "{}",
         "name": "timestamp_first_active",
         "type": "\"string\""
        },
        {
         "metadata": "{}",
         "name": "date_first_booking",
         "type": "\"date\""
        },
        {
         "metadata": "{}",
         "name": "gender",
         "type": "\"string\""
        },
        {
         "metadata": "{}",
         "name": "age",
         "type": "\"float\""
        },
        {
         "metadata": "{}",
         "name": "signup_method",
         "type": "\"string\""
        },
        {
         "metadata": "{}",
         "name": "signup_flow",
         "type": "\"float\""
        },
        {
         "metadata": "{}",
         "name": "language",
         "type": "\"string\""
        },
        {
         "metadata": "{}",
         "name": "affiliate_channel",
         "type": "\"string\""
        },
        {
         "metadata": "{}",
         "name": "affiliate_provider",
         "type": "\"string\""
        },
        {
         "metadata": "{}",
         "name": "first_affiliate_tracked",
         "type": "\"string\""
        },
        {
         "metadata": "{}",
         "name": "signup_app",
         "type": "\"string\""
        },
        {
         "metadata": "{}",
         "name": "first_device_type",
         "type": "\"string\""
        },
        {
         "metadata": "{}",
         "name": "first_browser",
         "type": "\"string\""
        },
        {
         "metadata": "{}",
         "name": "country_destination",
         "type": "\"string\""
        },
        {
         "metadata": "{}",
         "name": "user_id",
         "type": "\"string\""
        },
        {
         "metadata": "{}",
         "name": "sum_secs_elapsed",
         "type": "\"double\""
        }
       ],
       "type": "table"
      }
     },
     "output_type": "display_data"
    }
   ],
   "source": [
    "display(new_train_users.limit(5))"
   ]
  },
  {
   "cell_type": "code",
   "execution_count": null,
   "metadata": {
    "application/vnd.databricks.v1+cell": {
     "cellMetadata": {
      "byteLimit": 2048000,
      "rowLimit": 10000
     },
     "inputWidgets": {},
     "nuid": "04fa849c-1149-404d-a901-6915f07dbc00",
     "showTitle": false,
     "tableResultSettingsMap": {},
     "title": ""
    }
   },
   "outputs": [],
   "source": [
    "new_train_users = new_train_users.drop(\"user_id\")"
   ]
  },
  {
   "cell_type": "code",
   "execution_count": null,
   "metadata": {
    "application/vnd.databricks.v1+cell": {
     "cellMetadata": {
      "byteLimit": 2048000,
      "rowLimit": 10000
     },
     "inputWidgets": {},
     "nuid": "1a5bd335-a288-44c8-b413-bc21ffd97e89",
     "showTitle": false,
     "tableResultSettingsMap": {},
     "title": ""
    }
   },
   "outputs": [
    {
     "name": "stdout",
     "output_type": "stream",
     "text": [
      "\n",
      "Null Percentage Analysis:\n",
      "----------------------------------------\n",
      "date_first_booking: 124543 null values (58.35%)\n",
      "age: 87990 null values (41.22%)\n",
      "first_affiliate_tracked: 6065 null values (2.84%)\n",
      "sum_secs_elapsed: 140820 null values (65.97%)\n",
      "----------------------------------------\n"
     ]
    }
   ],
   "source": [
    "null_percentage_analysis(new_train_users)"
   ]
  },
  {
   "cell_type": "markdown",
   "metadata": {
    "application/vnd.databricks.v1+cell": {
     "cellMetadata": {
      "byteLimit": 2048000,
      "rowLimit": 10000
     },
     "inputWidgets": {},
     "nuid": "fe050b97-6a8b-4743-a3f4-9d49331baf7a",
     "showTitle": false,
     "tableResultSettingsMap": {},
     "title": ""
    }
   },
   "source": [
    "**assume a missing id in sessions implies no session activity so, replace NULL with 0**\n",
    "\n",
    "**we will drop date_first_booking feature**\n"
   ]
  },
  {
   "cell_type": "markdown",
   "metadata": {
    "application/vnd.databricks.v1+cell": {
     "cellMetadata": {
      "byteLimit": 2048000,
      "rowLimit": 10000
     },
     "inputWidgets": {},
     "nuid": "8bad75d8-ed87-4dc4-adcf-e652c9e1c0f5",
     "showTitle": false,
     "tableResultSettingsMap": {},
     "title": ""
    }
   },
   "source": [
    "#### test df"
   ]
  },
  {
   "cell_type": "code",
   "execution_count": null,
   "metadata": {
    "application/vnd.databricks.v1+cell": {
     "cellMetadata": {
      "byteLimit": 2048000,
      "rowLimit": 10000
     },
     "inputWidgets": {},
     "nuid": "46edf985-59c0-4bf3-b9ff-87c492483e63",
     "showTitle": false,
     "tableResultSettingsMap": {},
     "title": ""
    }
   },
   "outputs": [
    {
     "name": "stdout",
     "output_type": "stream",
     "text": [
      "\n",
      "Null Percentage Analysis:\n",
      "----------------------------------------\n",
      "date_first_booking: 62096 null values (100.00%)\n",
      "age: 28876 null values (46.50%)\n",
      "first_affiliate_tracked: 20 null values (0.03%)\n",
      "----------------------------------------\n"
     ]
    }
   ],
   "source": [
    "# check the nulls\n",
    "null_percentage_analysis(test_users_raw)"
   ]
  },
  {
   "cell_type": "code",
   "execution_count": null,
   "metadata": {
    "application/vnd.databricks.v1+cell": {
     "cellMetadata": {
      "byteLimit": 2048000,
      "rowLimit": 10000
     },
     "inputWidgets": {},
     "nuid": "64fceda0-0249-44ba-901a-5d3d367d7de1",
     "showTitle": false,
     "tableResultSettingsMap": {},
     "title": ""
    }
   },
   "outputs": [
    {
     "data": {
      "text/html": [
       "<style scoped>\n",
       "  .table-result-container {\n",
       "    max-height: 300px;\n",
       "    overflow: auto;\n",
       "  }\n",
       "  table, th, td {\n",
       "    border: 1px solid black;\n",
       "    border-collapse: collapse;\n",
       "  }\n",
       "  th, td {\n",
       "    padding: 5px;\n",
       "  }\n",
       "  th {\n",
       "    text-align: left;\n",
       "  }\n",
       "</style><div class='table-result-container'><table class='table-result'><thead style='background-color: white'><tr><th>summary</th><th>id</th><th>timestamp_first_active</th><th>gender</th><th>age</th><th>signup_method</th><th>signup_flow</th><th>language</th><th>affiliate_channel</th><th>affiliate_provider</th><th>first_affiliate_tracked</th><th>signup_app</th><th>first_device_type</th><th>first_browser</th></tr></thead><tbody><tr><td>count</td><td>62096</td><td>62096</td><td>62096</td><td>33220</td><td>62096</td><td>62096</td><td>62096</td><td>62096</td><td>62096</td><td>62076</td><td>62096</td><td>62096</td><td>62096</td></tr><tr><td>mean</td><td>null</td><td>2.014081168521807E13</td><td>null</td><td>37.61667670078266</td><td>null</td><td>7.813884952331874</td><td>null</td><td>null</td><td>null</td><td>null</td><td>null</td><td>null</td><td>null</td></tr><tr><td>stddev</td><td>null</td><td>8.024585266739331E7</td><td>null</td><td>74.44064668390018</td><td>null</td><td>11.2542905496407</td><td>null</td><td>null</td><td>null</td><td>null</td><td>null</td><td>null</td><td>null</td></tr><tr><td>min</td><td>0010k6l0om</td><td>20140701000006</td><td>-unknown-</td><td>1.0</td><td>basic</td><td>0.0</td><td>-unknown-</td><td>content</td><td>baidu</td><td>linked</td><td>Android</td><td>Android Phone</td><td>-unknown-</td></tr><tr><td>max</td><td>zzxox7jnrx</td><td>20140930235901</td><td>OTHER</td><td>2002.0</td><td>weibo</td><td>25.0</td><td>zh</td><td>seo</td><td>yandex</td><td>untracked</td><td>iOS</td><td>iPhone</td><td>wOSBrowser</td></tr></tbody></table></div>"
      ]
     },
     "metadata": {
      "application/vnd.databricks.v1+output": {
       "addedWidgets": {},
       "aggData": [],
       "aggError": "",
       "aggOverflow": false,
       "aggSchema": [],
       "aggSeriesLimitReached": false,
       "aggType": "",
       "arguments": {},
       "columnCustomDisplayInfos": {},
       "data": [
        [
         "count",
         "62096",
         "62096",
         "62096",
         "33220",
         "62096",
         "62096",
         "62096",
         "62096",
         "62096",
         "62076",
         "62096",
         "62096",
         "62096"
        ],
        [
         "mean",
         null,
         "2.014081168521807E13",
         null,
         "37.61667670078266",
         null,
         "7.813884952331874",
         null,
         null,
         null,
         null,
         null,
         null,
         null
        ],
        [
         "stddev",
         null,
         "8.024585266739331E7",
         null,
         "74.44064668390018",
         null,
         "11.2542905496407",
         null,
         null,
         null,
         null,
         null,
         null,
         null
        ],
        [
         "min",
         "0010k6l0om",
         "20140701000006",
         "-unknown-",
         "1.0",
         "basic",
         "0.0",
         "-unknown-",
         "content",
         "baidu",
         "linked",
         "Android",
         "Android Phone",
         "-unknown-"
        ],
        [
         "max",
         "zzxox7jnrx",
         "20140930235901",
         "OTHER",
         "2002.0",
         "weibo",
         "25.0",
         "zh",
         "seo",
         "yandex",
         "untracked",
         "iOS",
         "iPhone",
         "wOSBrowser"
        ]
       ],
       "datasetInfos": [],
       "dbfsResultPath": null,
       "isJsonSchema": true,
       "metadata": {},
       "overflow": false,
       "plotOptions": {
        "customPlotOptions": {},
        "displayType": "table",
        "pivotAggregation": null,
        "pivotColumns": null,
        "xColumns": null,
        "yColumns": null
       },
       "removedWidgets": [],
       "schema": [
        {
         "metadata": "{}",
         "name": "summary",
         "type": "\"string\""
        },
        {
         "metadata": "{}",
         "name": "id",
         "type": "\"string\""
        },
        {
         "metadata": "{}",
         "name": "timestamp_first_active",
         "type": "\"string\""
        },
        {
         "metadata": "{}",
         "name": "gender",
         "type": "\"string\""
        },
        {
         "metadata": "{}",
         "name": "age",
         "type": "\"string\""
        },
        {
         "metadata": "{}",
         "name": "signup_method",
         "type": "\"string\""
        },
        {
         "metadata": "{}",
         "name": "signup_flow",
         "type": "\"string\""
        },
        {
         "metadata": "{}",
         "name": "language",
         "type": "\"string\""
        },
        {
         "metadata": "{}",
         "name": "affiliate_channel",
         "type": "\"string\""
        },
        {
         "metadata": "{}",
         "name": "affiliate_provider",
         "type": "\"string\""
        },
        {
         "metadata": "{}",
         "name": "first_affiliate_tracked",
         "type": "\"string\""
        },
        {
         "metadata": "{}",
         "name": "signup_app",
         "type": "\"string\""
        },
        {
         "metadata": "{}",
         "name": "first_device_type",
         "type": "\"string\""
        },
        {
         "metadata": "{}",
         "name": "first_browser",
         "type": "\"string\""
        }
       ],
       "type": "table"
      }
     },
     "output_type": "display_data"
    }
   ],
   "source": [
    "# check the quality/validality of the data \n",
    "display(test_users_raw.describe())"
   ]
  },
  {
   "cell_type": "code",
   "execution_count": null,
   "metadata": {
    "application/vnd.databricks.v1+cell": {
     "cellMetadata": {
      "byteLimit": 2048000,
      "rowLimit": 10000
     },
     "inputWidgets": {},
     "nuid": "dec12598-afd7-42be-86a9-7f5ca0dcb25d",
     "showTitle": false,
     "tableResultSettingsMap": {},
     "title": ""
    }
   },
   "outputs": [
    {
     "name": "stdout",
     "output_type": "stream",
     "text": [
      "Out[47]: 0"
     ]
    }
   ],
   "source": [
    "# check for duplicates\n",
    "test_users_raw.count() - test_users_raw.dropDuplicates().count()"
   ]
  },
  {
   "cell_type": "code",
   "execution_count": null,
   "metadata": {
    "application/vnd.databricks.v1+cell": {
     "cellMetadata": {
      "byteLimit": 2048000,
      "rowLimit": 10000
     },
     "inputWidgets": {},
     "nuid": "ec400915-d9e8-41bb-bab5-1587db7ffe8d",
     "showTitle": false,
     "tableResultSettingsMap": {},
     "title": ""
    }
   },
   "outputs": [
    {
     "name": "stdout",
     "output_type": "stream",
     "text": [
      "(62096, 15)\n",
      "Distinct count for id: 62096\n"
     ]
    }
   ],
   "source": [
    "print((test_users_raw.count(), len(test_users_raw.columns)))\n",
    "\n",
    "# Get distinct count of records in a specific column (e.g., 'name')\n",
    "distinct_count = test_users_raw.select(countDistinct(\"id\")).collect()[0][0]\n",
    "print(f\"Distinct count for id: {distinct_count}\")\n"
   ]
  },
  {
   "cell_type": "markdown",
   "metadata": {
    "application/vnd.databricks.v1+cell": {
     "cellMetadata": {
      "byteLimit": 2048000,
      "rowLimit": 10000
     },
     "inputWidgets": {},
     "nuid": "1a3a7a3c-2a48-45ba-9c8a-1fae3cd716ee",
     "showTitle": false,
     "tableResultSettingsMap": {},
     "title": ""
    }
   },
   "source": [
    "**let's perform the join with session df elapesd feature as its thev only feature we are interested in**\n",
    "\n",
    "**we here has 62096 row user id for test data vs 135483 rows in session df with 34496 nulls.**\n",
    "\n",
    "**use inner join to Remove null user IDs from session DataFrame as it only get matched rows, Effectively give you test instances with corresponding session data**\n"
   ]
  },
  {
   "cell_type": "code",
   "execution_count": null,
   "metadata": {
    "application/vnd.databricks.v1+cell": {
     "cellMetadata": {
      "byteLimit": 2048000,
      "rowLimit": 10000
     },
     "inputWidgets": {},
     "nuid": "82ceea86-d303-47c2-8a4e-e41bea7563cc",
     "showTitle": false,
     "tableResultSettingsMap": {},
     "title": ""
    }
   },
   "outputs": [],
   "source": [
    "# Inner join on user ID, dropping nulls from session DataFrame first\n",
    "test_users_raw = test_users_raw.join(total_session_time_1.dropna(subset=['user_id']), test_users_raw.id == total_session_time_1.user_id, how='inner')"
   ]
  },
  {
   "cell_type": "code",
   "execution_count": null,
   "metadata": {
    "application/vnd.databricks.v1+cell": {
     "cellMetadata": {
      "byteLimit": 2048000,
      "rowLimit": 10000
     },
     "inputWidgets": {},
     "nuid": "5234843f-72f4-48e7-86fa-9f7a6894ef6a",
     "showTitle": false,
     "tableResultSettingsMap": {},
     "title": ""
    }
   },
   "outputs": [
    {
     "data": {
      "text/html": [
       "<style scoped>\n",
       "  .table-result-container {\n",
       "    max-height: 300px;\n",
       "    overflow: auto;\n",
       "  }\n",
       "  table, th, td {\n",
       "    border: 1px solid black;\n",
       "    border-collapse: collapse;\n",
       "  }\n",
       "  th, td {\n",
       "    padding: 5px;\n",
       "  }\n",
       "  th {\n",
       "    text-align: left;\n",
       "  }\n",
       "</style><div class='table-result-container'><table class='table-result'><thead style='background-color: white'><tr><th>id</th><th>date_account_created</th><th>timestamp_first_active</th><th>date_first_booking</th><th>gender</th><th>age</th><th>signup_method</th><th>signup_flow</th><th>language</th><th>affiliate_channel</th><th>affiliate_provider</th><th>first_affiliate_tracked</th><th>signup_app</th><th>first_device_type</th><th>first_browser</th><th>user_id</th><th>sum_secs_elapsed</th></tr></thead><tbody><tr><td>czqhjk3yfe</td><td>2014-07-01</td><td>20140701000305</td><td>null</td><td>-unknown-</td><td>null</td><td>basic</td><td>0.0</td><td>en</td><td>direct</td><td>direct</td><td>untracked</td><td>Web</td><td>Mac Desktop</td><td>Safari</td><td>czqhjk3yfe</td><td>454023.0</td></tr><tr><td>3xtgd5p9dn</td><td>2014-07-01</td><td>20140701000837</td><td>null</td><td>-unknown-</td><td>null</td><td>basic</td><td>0.0</td><td>en</td><td>direct</td><td>direct</td><td>untracked</td><td>Web</td><td>Mac Desktop</td><td>Chrome</td><td>3xtgd5p9dn</td><td>8481847.0</td></tr><tr><td>md9aj22l5a</td><td>2014-07-01</td><td>20140701002245</td><td>null</td><td>-unknown-</td><td>null</td><td>basic</td><td>0.0</td><td>en</td><td>sem-non-brand</td><td>google</td><td>omg</td><td>Web</td><td>Windows Desktop</td><td>Firefox</td><td>md9aj22l5a</td><td>5084265.0</td></tr><tr><td>fyomoivygn</td><td>2014-07-01</td><td>20140701002531</td><td>null</td><td>FEMALE</td><td>30.0</td><td>basic</td><td>25.0</td><td>en</td><td>direct</td><td>direct</td><td>untracked</td><td>iOS</td><td>iPhone</td><td>-unknown-</td><td>fyomoivygn</td><td>157911.0</td></tr><tr><td>glck7hlmzz</td><td>2014-07-01</td><td>20140701004259</td><td>null</td><td>-unknown-</td><td>null</td><td>basic</td><td>0.0</td><td>en</td><td>direct</td><td>direct</td><td>untracked</td><td>Web</td><td>Mac Desktop</td><td>Firefox</td><td>glck7hlmzz</td><td>662916.0</td></tr></tbody></table></div>"
      ]
     },
     "metadata": {
      "application/vnd.databricks.v1+output": {
       "addedWidgets": {},
       "aggData": [],
       "aggError": "",
       "aggOverflow": false,
       "aggSchema": [],
       "aggSeriesLimitReached": false,
       "aggType": "",
       "arguments": {},
       "columnCustomDisplayInfos": {},
       "data": [
        [
         "czqhjk3yfe",
         "2014-07-01",
         "20140701000305",
         null,
         "-unknown-",
         null,
         "basic",
         0,
         "en",
         "direct",
         "direct",
         "untracked",
         "Web",
         "Mac Desktop",
         "Safari",
         "czqhjk3yfe",
         454023
        ],
        [
         "3xtgd5p9dn",
         "2014-07-01",
         "20140701000837",
         null,
         "-unknown-",
         null,
         "basic",
         0,
         "en",
         "direct",
         "direct",
         "untracked",
         "Web",
         "Mac Desktop",
         "Chrome",
         "3xtgd5p9dn",
         8481847
        ],
        [
         "md9aj22l5a",
         "2014-07-01",
         "20140701002245",
         null,
         "-unknown-",
         null,
         "basic",
         0,
         "en",
         "sem-non-brand",
         "google",
         "omg",
         "Web",
         "Windows Desktop",
         "Firefox",
         "md9aj22l5a",
         5084265
        ],
        [
         "fyomoivygn",
         "2014-07-01",
         "20140701002531",
         null,
         "FEMALE",
         30,
         "basic",
         25,
         "en",
         "direct",
         "direct",
         "untracked",
         "iOS",
         "iPhone",
         "-unknown-",
         "fyomoivygn",
         157911
        ],
        [
         "glck7hlmzz",
         "2014-07-01",
         "20140701004259",
         null,
         "-unknown-",
         null,
         "basic",
         0,
         "en",
         "direct",
         "direct",
         "untracked",
         "Web",
         "Mac Desktop",
         "Firefox",
         "glck7hlmzz",
         662916
        ]
       ],
       "datasetInfos": [],
       "dbfsResultPath": null,
       "isJsonSchema": true,
       "metadata": {},
       "overflow": false,
       "plotOptions": {
        "customPlotOptions": {},
        "displayType": "table",
        "pivotAggregation": null,
        "pivotColumns": null,
        "xColumns": null,
        "yColumns": null
       },
       "removedWidgets": [],
       "schema": [
        {
         "metadata": "{}",
         "name": "id",
         "type": "\"string\""
        },
        {
         "metadata": "{}",
         "name": "date_account_created",
         "type": "\"date\""
        },
        {
         "metadata": "{}",
         "name": "timestamp_first_active",
         "type": "\"string\""
        },
        {
         "metadata": "{}",
         "name": "date_first_booking",
         "type": "\"date\""
        },
        {
         "metadata": "{}",
         "name": "gender",
         "type": "\"string\""
        },
        {
         "metadata": "{}",
         "name": "age",
         "type": "\"float\""
        },
        {
         "metadata": "{}",
         "name": "signup_method",
         "type": "\"string\""
        },
        {
         "metadata": "{}",
         "name": "signup_flow",
         "type": "\"float\""
        },
        {
         "metadata": "{}",
         "name": "language",
         "type": "\"string\""
        },
        {
         "metadata": "{}",
         "name": "affiliate_channel",
         "type": "\"string\""
        },
        {
         "metadata": "{}",
         "name": "affiliate_provider",
         "type": "\"string\""
        },
        {
         "metadata": "{}",
         "name": "first_affiliate_tracked",
         "type": "\"string\""
        },
        {
         "metadata": "{}",
         "name": "signup_app",
         "type": "\"string\""
        },
        {
         "metadata": "{}",
         "name": "first_device_type",
         "type": "\"string\""
        },
        {
         "metadata": "{}",
         "name": "first_browser",
         "type": "\"string\""
        },
        {
         "metadata": "{}",
         "name": "user_id",
         "type": "\"string\""
        },
        {
         "metadata": "{}",
         "name": "sum_secs_elapsed",
         "type": "\"double\""
        }
       ],
       "type": "table"
      }
     },
     "output_type": "display_data"
    }
   ],
   "source": [
    "display(test_users_raw.limit(5))"
   ]
  },
  {
   "cell_type": "code",
   "execution_count": null,
   "metadata": {
    "application/vnd.databricks.v1+cell": {
     "cellMetadata": {
      "byteLimit": 2048000,
      "rowLimit": 10000
     },
     "inputWidgets": {},
     "nuid": "36da7fc0-84d5-47d7-9379-7aacef5df66b",
     "showTitle": false,
     "tableResultSettingsMap": {},
     "title": ""
    }
   },
   "outputs": [],
   "source": [
    "test_users_raw = test_users_raw.drop(\"user_id\")"
   ]
  },
  {
   "cell_type": "code",
   "execution_count": null,
   "metadata": {
    "application/vnd.databricks.v1+cell": {
     "cellMetadata": {
      "byteLimit": 2048000,
      "rowLimit": 10000
     },
     "inputWidgets": {},
     "nuid": "432ecdf4-1aa2-439d-a929-fb71c49551d1",
     "showTitle": false,
     "tableResultSettingsMap": {},
     "title": ""
    }
   },
   "outputs": [
    {
     "name": "stdout",
     "output_type": "stream",
     "text": [
      "\n",
      "Null Percentage Analysis:\n",
      "----------------------------------------\n",
      "date_first_booking: 61668 null values (100.00%)\n",
      "age: 28601 null values (46.38%)\n",
      "first_affiliate_tracked: 6 null values (0.01%)\n",
      "sum_secs_elapsed: 242 null values (0.39%)\n",
      "----------------------------------------\n"
     ]
    }
   ],
   "source": [
    "null_percentage_analysis(test_users_raw)"
   ]
  },
  {
   "cell_type": "markdown",
   "metadata": {
    "application/vnd.databricks.v1+cell": {
     "cellMetadata": {
      "byteLimit": 2048000,
      "rowLimit": 10000
     },
     "inputWidgets": {},
     "nuid": "70e9bd1b-a1ac-429d-93c8-9d7a2a9946bf",
     "showTitle": false,
     "tableResultSettingsMap": {},
     "title": ""
    }
   },
   "source": [
    "**date_first_booking will be removed in feature engineering process and age will be fill as train in feature engineering process too**\n",
    "\n",
    "**for first_affiliate_tracked and sum_secs_elapsed we can dropna safely as our data here is mostly safe ratio to be removed**"
   ]
  },
  {
   "cell_type": "code",
   "execution_count": null,
   "metadata": {
    "application/vnd.databricks.v1+cell": {
     "cellMetadata": {
      "byteLimit": 2048000,
      "rowLimit": 10000
     },
     "inputWidgets": {},
     "nuid": "b8729330-a0f3-4ea9-9f1f-405d83b7cfcb",
     "showTitle": false,
     "tableResultSettingsMap": {},
     "title": ""
    }
   },
   "outputs": [
    {
     "name": "stdout",
     "output_type": "stream",
     "text": [
      "(61668, 16)\n",
      "Distinct count for id: 61668\n"
     ]
    }
   ],
   "source": [
    "print((test_users_raw.count(), len(test_users_raw.columns)))\n",
    "\n",
    "# Get distinct count of records in a specific column (e.g., 'name')\n",
    "distinct_count = test_users_raw.select(countDistinct(\"id\")).collect()[0][0]\n",
    "print(f\"Distinct count for id: {distinct_count}\")\n"
   ]
  },
  {
   "cell_type": "code",
   "execution_count": null,
   "metadata": {
    "application/vnd.databricks.v1+cell": {
     "cellMetadata": {
      "byteLimit": 2048000,
      "rowLimit": 10000
     },
     "inputWidgets": {},
     "nuid": "44e36145-f1e2-40ca-bb97-9cb042c0bcb3",
     "showTitle": false,
     "tableResultSettingsMap": {},
     "title": ""
    }
   },
   "outputs": [
    {
     "name": "stdout",
     "output_type": "stream",
     "text": [
      "Out[54]: 0"
     ]
    }
   ],
   "source": [
    "# check for duplicates\n",
    "test_users_raw.count() - test_users_raw.dropDuplicates().count()"
   ]
  },
  {
   "cell_type": "markdown",
   "metadata": {
    "application/vnd.databricks.v1+cell": {
     "cellMetadata": {
      "byteLimit": 2048000,
      "rowLimit": 10000
     },
     "inputWidgets": {},
     "nuid": "a5dc9b25-891e-4b06-b733-da307ffc3791",
     "showTitle": false,
     "tableResultSettingsMap": {},
     "title": ""
    }
   },
   "source": [
    "### Feature Engineering "
   ]
  },
  {
   "cell_type": "code",
   "execution_count": null,
   "metadata": {
    "application/vnd.databricks.v1+cell": {
     "cellMetadata": {
      "byteLimit": 2048000,
      "rowLimit": 10000
     },
     "inputWidgets": {},
     "nuid": "535fbd54-9cb3-4a10-81e0-7233aaa79d69",
     "showTitle": false,
     "tableResultSettingsMap": {},
     "title": ""
    }
   },
   "outputs": [],
   "source": [
    "# UDFs for feature engineering\n",
    "from pyspark.sql.functions import udf\n",
    "\n",
    "# we may not use this fun \n",
    "def extract_year(date_str):\n",
    "    return int(date_str.split('-')[0]) if date_str else -1\n",
    "\n",
    "def extract_month(date_str):\n",
    "    return int(date_str.split('-')[1]) if date_str else -1\n",
    "\n",
    "def extract_day(date_str):\n",
    "    return int(date_str.split('-')[2]) if date_str else -1\n",
    "\n",
    "\n",
    "# for timestamp feature handling\n",
    "import datetime\n",
    "\n",
    "def process_timestamp(timestamp_val):\n",
    "    # Handle different input types\n",
    "    if timestamp_val is None:\n",
    "        return [-1, -1, -1]\n",
    "    \n",
    "    # If it's already an integer, convert to string first\n",
    "    if isinstance(timestamp_val, int):\n",
    "        timestamp_str = str(timestamp_val).zfill(14)  # Ensure 14 digits\n",
    "    elif isinstance(timestamp_val, str):\n",
    "        timestamp_str = timestamp_val.zfill(14)  # Ensure 14 digits\n",
    "    elif isinstance(timestamp_val, datetime.datetime):\n",
    "        # If it's a datetime object, extract components\n",
    "        return [\n",
    "            timestamp_val.year,\n",
    "            timestamp_val.month,\n",
    "            timestamp_val.day\n",
    "        ]\n",
    "    else:\n",
    "        return [-1, -1, -1]\n",
    "    \n",
    "    try:\n",
    "        return [\n",
    "            int(timestamp_str[:4]),   # year\n",
    "            int(timestamp_str[4:6]),  # month\n",
    "            int(timestamp_str[6:8])   # day\n",
    "        ]\n",
    "    except (ValueError, IndexError):\n",
    "        return [-1, -1, -1]\n",
    "\n",
    "\n",
    "def age_corrector(age):\n",
    "    if age is None:\n",
    "        return \"Millennials\"\n",
    "    try:\n",
    "        age = float(age)\n",
    "        if age >= 14 and age < 28:\n",
    "            return \"Gen Z\"\n",
    "        elif age >= 28 and age < 44:\n",
    "            return \"Millennials\"\n",
    "        elif age >= 44 and age < 60:\n",
    "            return \"Gen X\"\n",
    "        elif age >= 60 and age <= 75:\n",
    "            return \"The Baby Boomer Generation\"\n",
    "        elif age > 1940 and age < 2001:  # Assuming year of birth\n",
    "            return age_corrector(2015.0 - age)\n",
    "        else:\n",
    "            return \"Millennials\" # This should be age_corrector(mean_age), but as we know it's \"Millennials\" we would return it directly.\n",
    "    except:\n",
    "        return \"Millennials\"\n",
    "    \n",
    "# Register UDFs\n",
    "\n",
    "extract_year_udf = udf(extract_year, IntegerType())\n",
    "extract_month_udf = udf(extract_month, IntegerType())\n",
    "extract_day_udf = udf(extract_day, IntegerType())\n",
    "process_timestamp_udf = udf(process_timestamp, ArrayType(IntegerType()))\n",
    "correct_age = udf(age_corrector, StringType())\n"
   ]
  },
  {
   "cell_type": "code",
   "execution_count": null,
   "metadata": {
    "application/vnd.databricks.v1+cell": {
     "cellMetadata": {
      "byteLimit": 2048000,
      "rowLimit": 10000
     },
     "inputWidgets": {},
     "nuid": "7d4eb8fb-0107-4ef9-b939-f14a1e168392",
     "showTitle": false,
     "tableResultSettingsMap": {},
     "title": ""
    }
   },
   "outputs": [],
   "source": [
    "from pyspark.ml.feature import PCA\n",
    "from pyspark.sql.functions import col\n",
    "\n",
    "def select_pca_components(df, feature_col=\"features\", variance_threshold=0.95):\n",
    "    \"\"\"\n",
    "    Dynamically compute the minimum number of PCA components to explain the specified variance.\n",
    "\n",
    "    Args:\n",
    "        df (DataFrame): Input DataFrame containing the feature column.\n",
    "        feature_col (str): Name of the column containing feature vectors.\n",
    "        variance_threshold (float): Cumulative variance threshold (default is 0.95).\n",
    "\n",
    "    Returns:\n",
    "        int: Minimum number of components required to explain the variance threshold.\n",
    "    \"\"\"\n",
    "\n",
    "    # Check the size of feature vectors\n",
    "    first_row = df.select(feature_col).first()\n",
    "    vector_size = first_row[feature_col].size if first_row else 0\n",
    "\n",
    "    if vector_size == 0:\n",
    "        raise ValueError(\"Feature vector size cannot be zero. Ensure the input column is correctly assembled.\")\n",
    "\n",
    "    # Fit PCA model to determine explained variance\n",
    "    pca = PCA(k=vector_size, inputCol=feature_col, outputCol=\"pca_temp\")\n",
    "    model = pca.fit(df)\n",
    "    \n",
    "    # Compute cumulative variance\n",
    "    explained_variance_ratios = model.explainedVariance.toArray()\n",
    "    cumulative_variance = 0\n",
    "    num_components = 0\n",
    "\n",
    "    for ratio in explained_variance_ratios:\n",
    "        cumulative_variance += ratio\n",
    "        num_components += 1\n",
    "        if cumulative_variance >= variance_threshold:\n",
    "            break\n",
    "\n",
    "    return num_components\n"
   ]
  },
  {
   "cell_type": "markdown",
   "metadata": {
    "application/vnd.databricks.v1+cell": {
     "cellMetadata": {
      "byteLimit": 2048000,
      "rowLimit": 10000
     },
     "inputWidgets": {},
     "nuid": "224aefbf-3afe-44b2-bd62-652eeec0974c",
     "showTitle": false,
     "tableResultSettingsMap": {},
     "title": ""
    }
   },
   "source": [
    "#### Process Test"
   ]
  },
  {
   "cell_type": "code",
   "execution_count": null,
   "metadata": {
    "application/vnd.databricks.v1+cell": {
     "cellMetadata": {
      "byteLimit": 2048000,
      "rowLimit": 10000
     },
     "inputWidgets": {},
     "nuid": "cf61d2f6-8d1d-4bc3-9596-cd1ca6ed1877",
     "showTitle": false,
     "tableResultSettingsMap": {},
     "title": ""
    }
   },
   "outputs": [],
   "source": [
    "from pyspark.sql.functions import lower, col\n",
    "from pyspark.sql.functions import year, month, dayofmonth, to_date\n",
    "from pyspark.sql.functions import lower, col, year, month, dayofmonth, when, lit\n",
    "\n",
    "from pyspark.ml.feature import StringIndexer, OneHotEncoder, VectorAssembler, StandardScaler\n",
    "from pyspark.ml import Pipeline\n",
    "\n",
    "# Feature Engineering\n",
    "def preprocess_test_data(df):    \n",
    "    \n",
    "\n",
    "    # Drop unnecessary columns\n",
    "    df = df.drop('id', 'date_first_booking')\n",
    "    \n",
    "    # we can drop NAs in the first_affiliate_tracked feature as it's represent only few % of the data.  \n",
    "    df = df.dropna(subset=[\"first_affiliate_tracked\", \"sum_secs_elapsed\"])\n",
    "\n",
    "    # fill any rest with 0\n",
    "    df = df.fillna(40, subset=['age'])\n",
    "    df = df.fillna(0, subset=['sum_secs_elapsed'])\n",
    "    df = df.fillna(0, subset=['signup_flow'])\n",
    "    df = df.fillna(0)\n",
    "\n",
    "    # Instead of custom UDFs, use Spark's date functions\n",
    "    df = df.withColumn('dac_year', year(col('date_account_created'))) \\\n",
    "        .withColumn('dac_month', month(col('date_account_created'))) \\\n",
    "        .withColumn('dac_day', dayofmonth(col('date_account_created'))) \\\n",
    "        .drop('date_account_created')\n",
    "\n",
    "    ''' df = df.withColumn('dac_year', extract_year_udf(col('date_account_created'))) \\\n",
    "           .withColumn('dac_month', extract_month_udf(col('date_account_created'))) \\\n",
    "           .withColumn('dac_day', extract_day_udf(col('date_account_created'))) \\\n",
    "           .drop('date_account_created')\n",
    "     '''\n",
    "\n",
    "    # Timestamp first active processing\n",
    "    df = df.withColumn('tfa_processing', process_timestamp_udf(col('timestamp_first_active'))) \\\n",
    "           .withColumn('tfa_year', col('tfa_processing')[0]) \\\n",
    "           .withColumn('tfa_month', col('tfa_processing')[1]) \\\n",
    "           .withColumn('tfa_day', col('tfa_processing')[2]) \\\n",
    "           .drop('timestamp_first_active', 'tfa_processing')\n",
    "\n",
    "    # Age processing\n",
    "    df = df.withColumn('age', \n",
    "        when((col('age') < 14) | (col('age') > 100), 0)\n",
    "        .otherwise(col('age'))\n",
    "        )\n",
    "    \n",
    "    \n",
    "    ## converting gender to lower case\n",
    "    df = df.withColumn(\"gender\", lower(col('gender')))\n",
    "\n",
    "    # Categorical feature encoding\n",
    "    categorical_cols = ['Generation','gender', 'signup_method', 'language', \n",
    "                        'affiliate_channel', 'affiliate_provider', \n",
    "                        'first_affiliate_tracked', 'signup_app', \n",
    "                        'first_device_type', 'first_browser']\n",
    "    \n",
    "    numeric_cols = ['age', 'signup_flow','dac_year', 'dac_month', 'dac_day', \n",
    "                    'tfa_year', 'tfa_month', 'tfa_day', 'sum_secs_elapsed']\n",
    "    \n",
    "    \n",
    "    ''' \n",
    "    # Replace null values in categorical columns with \"Unknown\"\n",
    "    for c in categorical_cols:\n",
    "        df = df.withColumn(c, when(col(c).isNull(), lit(\"Unknown\")).otherwise(col(c)))\n",
    "    \n",
    "    '''\n",
    "    \n",
    "    # String Indexing for categorical columns\n",
    "    indexers = [\n",
    "        StringIndexer(inputCol=c, outputCol=f\"{c}_indexed\", handleInvalid=\"keep\")\n",
    "        for c in categorical_cols\n",
    "    ]\n",
    "    \n",
    "    # One-Hot Encoding\n",
    "    encoders = [\n",
    "        OneHotEncoder(inputCols=[f\"{c}_indexed\" for c in categorical_cols],\n",
    "                      outputCols=[f\"{c}_encoded\" for c in categorical_cols])\n",
    "    ]\n",
    "    \n",
    "    # Assembling features\n",
    "    feature_cols = [f\"{c}_encoded\" for c in categorical_cols] + numeric_cols\n",
    "    \n",
    "    assembler = VectorAssembler(\n",
    "        inputCols=feature_cols, \n",
    "        outputCol=\"features\", \n",
    "        handleInvalid=\"keep\"  \n",
    "    )\n",
    "    \n",
    "    ''' # Dynamically determine the number of PCA components\n",
    "    assembled_df = assembler.transform(df)  # Assemble features for dynamic PCA computation\n",
    "    num_pca_components = select_pca_components(assembled_df, feature_col=\"features\", variance_threshold=0.95)\n",
    "    \n",
    "    # PCA stage\n",
    "    pca = PCA(k=num_pca_components, inputCol=\"features\", outputCol=\"pca_features\")\n",
    "     '''\n",
    "\n",
    "    # Scale the features\n",
    "    scaler = StandardScaler(inputCol=\"features\", outputCol=\"scaled_features\", withMean=True, withStd=True)\n",
    "\n",
    "    # Combine all stages into a pipeline\n",
    "    stages = indexers + encoders + [assembler, scaler]\n",
    "\n",
    "\n",
    "    # Create and apply pipeline\n",
    "    pipeline = Pipeline(stages=stages)\n",
    "    \n",
    "    return pipeline.fit(df).transform(df)\n"
   ]
  },
  {
   "cell_type": "code",
   "execution_count": null,
   "metadata": {
    "application/vnd.databricks.v1+cell": {
     "cellMetadata": {
      "byteLimit": 2048000,
      "rowLimit": 10000
     },
     "inputWidgets": {},
     "nuid": "dd6ca47e-85c0-481d-8191-70498eb9aefa",
     "showTitle": false,
     "tableResultSettingsMap": {},
     "title": ""
    }
   },
   "outputs": [
    {
     "data": {
      "text/html": [
       "<style scoped>\n",
       "  .table-result-container {\n",
       "    max-height: 300px;\n",
       "    overflow: auto;\n",
       "  }\n",
       "  table, th, td {\n",
       "    border: 1px solid black;\n",
       "    border-collapse: collapse;\n",
       "  }\n",
       "  th, td {\n",
       "    padding: 5px;\n",
       "  }\n",
       "  th {\n",
       "    text-align: left;\n",
       "  }\n",
       "</style><div class='table-result-container'><table class='table-result'><thead style='background-color: white'><tr><th>id</th><th>date_account_created</th><th>timestamp_first_active</th><th>date_first_booking</th><th>gender</th><th>age</th><th>signup_method</th><th>signup_flow</th><th>language</th><th>affiliate_channel</th><th>affiliate_provider</th><th>first_affiliate_tracked</th><th>signup_app</th><th>first_device_type</th><th>first_browser</th><th>sum_secs_elapsed</th><th>Generation</th></tr></thead><tbody><tr><td>czqhjk3yfe</td><td>2014-07-01</td><td>20140701000305</td><td>null</td><td>-unknown-</td><td>null</td><td>basic</td><td>0.0</td><td>en</td><td>direct</td><td>direct</td><td>untracked</td><td>Web</td><td>Mac Desktop</td><td>Safari</td><td>454023.0</td><td>Millennials</td></tr><tr><td>3xtgd5p9dn</td><td>2014-07-01</td><td>20140701000837</td><td>null</td><td>-unknown-</td><td>null</td><td>basic</td><td>0.0</td><td>en</td><td>direct</td><td>direct</td><td>untracked</td><td>Web</td><td>Mac Desktop</td><td>Chrome</td><td>8481847.0</td><td>Millennials</td></tr><tr><td>md9aj22l5a</td><td>2014-07-01</td><td>20140701002245</td><td>null</td><td>-unknown-</td><td>null</td><td>basic</td><td>0.0</td><td>en</td><td>sem-non-brand</td><td>google</td><td>omg</td><td>Web</td><td>Windows Desktop</td><td>Firefox</td><td>5084265.0</td><td>Millennials</td></tr><tr><td>fyomoivygn</td><td>2014-07-01</td><td>20140701002531</td><td>null</td><td>FEMALE</td><td>30.0</td><td>basic</td><td>25.0</td><td>en</td><td>direct</td><td>direct</td><td>untracked</td><td>iOS</td><td>iPhone</td><td>-unknown-</td><td>157911.0</td><td>Millennials</td></tr><tr><td>glck7hlmzz</td><td>2014-07-01</td><td>20140701004259</td><td>null</td><td>-unknown-</td><td>null</td><td>basic</td><td>0.0</td><td>en</td><td>direct</td><td>direct</td><td>untracked</td><td>Web</td><td>Mac Desktop</td><td>Firefox</td><td>662916.0</td><td>Millennials</td></tr><tr><td>f6wueq1ccn</td><td>2014-07-01</td><td>20140701004359</td><td>null</td><td>-unknown-</td><td>null</td><td>basic</td><td>0.0</td><td>en</td><td>sem-non-brand</td><td>google</td><td>omg</td><td>Web</td><td>Windows Desktop</td><td>Chrome</td><td>14101.0</td><td>Millennials</td></tr><tr><td>d45nngmojp</td><td>2014-07-01</td><td>20140701004817</td><td>null</td><td>-unknown-</td><td>27.0</td><td>basic</td><td>0.0</td><td>en</td><td>direct</td><td>direct</td><td>product</td><td>Web</td><td>Mac Desktop</td><td>Chrome</td><td>1422903.0</td><td>Gen Z</td></tr><tr><td>2016g8ddq0</td><td>2014-07-01</td><td>20140701005443</td><td>null</td><td>-unknown-</td><td>null</td><td>basic</td><td>0.0</td><td>en</td><td>seo</td><td>facebook</td><td>linked</td><td>Web</td><td>Windows Desktop</td><td>Chrome</td><td>337213.0</td><td>Millennials</td></tr><tr><td>0cvk7jktso</td><td>2014-07-01</td><td>20140701010635</td><td>null</td><td>FEMALE</td><td>36.0</td><td>basic</td><td>0.0</td><td>en</td><td>direct</td><td>direct</td><td>linked</td><td>Web</td><td>Mac Desktop</td><td>Chrome</td><td>797584.0</td><td>Millennials</td></tr><tr><td>vuwfq20pw3</td><td>2014-07-01</td><td>20140701010759</td><td>null</td><td>FEMALE</td><td>35.0</td><td>basic</td><td>0.0</td><td>en</td><td>direct</td><td>direct</td><td>untracked</td><td>Web</td><td>Android Phone</td><td>Android Browser</td><td>1411426.0</td><td>Millennials</td></tr></tbody></table></div>"
      ]
     },
     "metadata": {
      "application/vnd.databricks.v1+output": {
       "addedWidgets": {},
       "aggData": [],
       "aggError": "",
       "aggOverflow": false,
       "aggSchema": [],
       "aggSeriesLimitReached": false,
       "aggType": "",
       "arguments": {},
       "columnCustomDisplayInfos": {},
       "data": [
        [
         "czqhjk3yfe",
         "2014-07-01",
         "20140701000305",
         null,
         "-unknown-",
         null,
         "basic",
         0,
         "en",
         "direct",
         "direct",
         "untracked",
         "Web",
         "Mac Desktop",
         "Safari",
         454023,
         "Millennials"
        ],
        [
         "3xtgd5p9dn",
         "2014-07-01",
         "20140701000837",
         null,
         "-unknown-",
         null,
         "basic",
         0,
         "en",
         "direct",
         "direct",
         "untracked",
         "Web",
         "Mac Desktop",
         "Chrome",
         8481847,
         "Millennials"
        ],
        [
         "md9aj22l5a",
         "2014-07-01",
         "20140701002245",
         null,
         "-unknown-",
         null,
         "basic",
         0,
         "en",
         "sem-non-brand",
         "google",
         "omg",
         "Web",
         "Windows Desktop",
         "Firefox",
         5084265,
         "Millennials"
        ],
        [
         "fyomoivygn",
         "2014-07-01",
         "20140701002531",
         null,
         "FEMALE",
         30,
         "basic",
         25,
         "en",
         "direct",
         "direct",
         "untracked",
         "iOS",
         "iPhone",
         "-unknown-",
         157911,
         "Millennials"
        ],
        [
         "glck7hlmzz",
         "2014-07-01",
         "20140701004259",
         null,
         "-unknown-",
         null,
         "basic",
         0,
         "en",
         "direct",
         "direct",
         "untracked",
         "Web",
         "Mac Desktop",
         "Firefox",
         662916,
         "Millennials"
        ],
        [
         "f6wueq1ccn",
         "2014-07-01",
         "20140701004359",
         null,
         "-unknown-",
         null,
         "basic",
         0,
         "en",
         "sem-non-brand",
         "google",
         "omg",
         "Web",
         "Windows Desktop",
         "Chrome",
         14101,
         "Millennials"
        ],
        [
         "d45nngmojp",
         "2014-07-01",
         "20140701004817",
         null,
         "-unknown-",
         27,
         "basic",
         0,
         "en",
         "direct",
         "direct",
         "product",
         "Web",
         "Mac Desktop",
         "Chrome",
         1422903,
         "Gen Z"
        ],
        [
         "2016g8ddq0",
         "2014-07-01",
         "20140701005443",
         null,
         "-unknown-",
         null,
         "basic",
         0,
         "en",
         "seo",
         "facebook",
         "linked",
         "Web",
         "Windows Desktop",
         "Chrome",
         337213,
         "Millennials"
        ],
        [
         "0cvk7jktso",
         "2014-07-01",
         "20140701010635",
         null,
         "FEMALE",
         36,
         "basic",
         0,
         "en",
         "direct",
         "direct",
         "linked",
         "Web",
         "Mac Desktop",
         "Chrome",
         797584,
         "Millennials"
        ],
        [
         "vuwfq20pw3",
         "2014-07-01",
         "20140701010759",
         null,
         "FEMALE",
         35,
         "basic",
         0,
         "en",
         "direct",
         "direct",
         "untracked",
         "Web",
         "Android Phone",
         "Android Browser",
         1411426,
         "Millennials"
        ]
       ],
       "datasetInfos": [],
       "dbfsResultPath": null,
       "isJsonSchema": true,
       "metadata": {},
       "overflow": false,
       "plotOptions": {
        "customPlotOptions": {},
        "displayType": "table",
        "pivotAggregation": null,
        "pivotColumns": null,
        "xColumns": null,
        "yColumns": null
       },
       "removedWidgets": [],
       "schema": [
        {
         "metadata": "{}",
         "name": "id",
         "type": "\"string\""
        },
        {
         "metadata": "{}",
         "name": "date_account_created",
         "type": "\"date\""
        },
        {
         "metadata": "{}",
         "name": "timestamp_first_active",
         "type": "\"string\""
        },
        {
         "metadata": "{}",
         "name": "date_first_booking",
         "type": "\"date\""
        },
        {
         "metadata": "{}",
         "name": "gender",
         "type": "\"string\""
        },
        {
         "metadata": "{}",
         "name": "age",
         "type": "\"float\""
        },
        {
         "metadata": "{}",
         "name": "signup_method",
         "type": "\"string\""
        },
        {
         "metadata": "{}",
         "name": "signup_flow",
         "type": "\"float\""
        },
        {
         "metadata": "{}",
         "name": "language",
         "type": "\"string\""
        },
        {
         "metadata": "{}",
         "name": "affiliate_channel",
         "type": "\"string\""
        },
        {
         "metadata": "{}",
         "name": "affiliate_provider",
         "type": "\"string\""
        },
        {
         "metadata": "{}",
         "name": "first_affiliate_tracked",
         "type": "\"string\""
        },
        {
         "metadata": "{}",
         "name": "signup_app",
         "type": "\"string\""
        },
        {
         "metadata": "{}",
         "name": "first_device_type",
         "type": "\"string\""
        },
        {
         "metadata": "{}",
         "name": "first_browser",
         "type": "\"string\""
        },
        {
         "metadata": "{}",
         "name": "sum_secs_elapsed",
         "type": "\"double\""
        },
        {
         "metadata": "{}",
         "name": "Generation",
         "type": "\"string\""
        }
       ],
       "type": "table"
      }
     },
     "output_type": "display_data"
    }
   ],
   "source": [
    "test_users_raw = test_users_raw.withColumn(\"Generation\", correct_age(test_users_raw['age']))\n",
    "display(test_users_raw.limit(10))"
   ]
  },
  {
   "cell_type": "code",
   "execution_count": null,
   "metadata": {
    "application/vnd.databricks.v1+cell": {
     "cellMetadata": {
      "byteLimit": 2048000,
      "rowLimit": 10000
     },
     "inputWidgets": {},
     "nuid": "e732afb0-9970-435d-8f56-ddd7cd062a10",
     "showTitle": false,
     "tableResultSettingsMap": {},
     "title": ""
    }
   },
   "outputs": [
    {
     "data": {
      "text/html": [
       "<style scoped>\n",
       "  .table-result-container {\n",
       "    max-height: 300px;\n",
       "    overflow: auto;\n",
       "  }\n",
       "  table, th, td {\n",
       "    border: 1px solid black;\n",
       "    border-collapse: collapse;\n",
       "  }\n",
       "  th, td {\n",
       "    padding: 5px;\n",
       "  }\n",
       "  th {\n",
       "    text-align: left;\n",
       "  }\n",
       "</style><div class='table-result-container'><table class='table-result'><thead style='background-color: white'><tr><th>gender</th><th>age</th><th>signup_method</th><th>signup_flow</th><th>language</th><th>affiliate_channel</th><th>affiliate_provider</th><th>first_affiliate_tracked</th><th>signup_app</th><th>first_device_type</th><th>first_browser</th><th>sum_secs_elapsed</th><th>Generation</th><th>dac_year</th><th>dac_month</th><th>dac_day</th><th>tfa_year</th><th>tfa_month</th><th>tfa_day</th><th>Generation_indexed</th><th>gender_indexed</th><th>signup_method_indexed</th><th>language_indexed</th><th>affiliate_channel_indexed</th><th>affiliate_provider_indexed</th><th>first_affiliate_tracked_indexed</th><th>signup_app_indexed</th><th>first_device_type_indexed</th><th>first_browser_indexed</th><th>Generation_encoded</th><th>gender_encoded</th><th>signup_method_encoded</th><th>language_encoded</th><th>affiliate_channel_encoded</th><th>affiliate_provider_encoded</th><th>first_affiliate_tracked_encoded</th><th>signup_app_encoded</th><th>first_device_type_encoded</th><th>first_browser_encoded</th><th>features</th><th>scaled_features</th></tr></thead><tbody><tr><td>-unknown-</td><td>0.0</td><td>basic</td><td>0.0</td><td>en</td><td>direct</td><td>direct</td><td>untracked</td><td>Web</td><td>Mac Desktop</td><td>Safari</td><td>454023.0</td><td>Millennials</td><td>2014</td><td>7</td><td>1</td><td>2014</td><td>7</td><td>1</td><td>0.0</td><td>0.0</td><td>0.0</td><td>0.0</td><td>0.0</td><td>0.0</td><td>0.0</td><td>0.0</td><td>1.0</td><td>3.0</td><td>Map(vectorType -> sparse, length -> 4, indices -> List(0), values -> List(1.0))</td><td>Map(vectorType -> sparse, length -> 4, indices -> List(0), values -> List(1.0))</td><td>Map(vectorType -> sparse, length -> 4, indices -> List(0), values -> List(1.0))</td><td>Map(vectorType -> sparse, length -> 24, indices -> List(0), values -> List(1.0))</td><td>Map(vectorType -> sparse, length -> 7, indices -> List(0), values -> List(1.0))</td><td>Map(vectorType -> sparse, length -> 17, indices -> List(0), values -> List(1.0))</td><td>Map(vectorType -> sparse, length -> 7, indices -> List(0), values -> List(1.0))</td><td>Map(vectorType -> sparse, length -> 4, indices -> List(0), values -> List(1.0))</td><td>Map(vectorType -> sparse, length -> 9, indices -> List(1), values -> List(1.0))</td><td>Map(vectorType -> sparse, length -> 31, indices -> List(3), values -> List(1.0))</td><td>Map(vectorType -> sparse, length -> 120, indices -> List(0, 4, 8, 12, 36, 43, 60, 67, 72, 83, 113, 114, 115, 116, 117, 118, 119), values -> List(1.0, 1.0, 1.0, 1.0, 1.0, 1.0, 1.0, 1.0, 1.0, 1.0, 2014.0, 7.0, 1.0, 2014.0, 7.0, 1.0, 454023.0))</td><td>Map(vectorType -> dense, length -> 120, values -> List(0.5958045655314564, -0.44864642367405305, -0.2837172210243723, -0.1425911380086525, 0.9169607798304473, -0.5524250329490987, -0.5343530979102203, -0.028826798644369375, 0.6087311300160552, -0.560980837216796, -0.17778626738376846, -0.01892866926355151, 0.219850589274985, -0.12799027878420416, -0.07688906029883949, -0.07338294441437695, -0.06456607921010102, -0.06289206608203741, -0.04405807715337099, -0.04405807715337099, -0.04368555978681013, -0.036561833370320096, -0.0296632561020448, -0.024216396019218437, -0.02135546235441271, -0.01849331867327724, -0.018047484081214364, -0.01663855172845151, -0.01663855172845151, -0.01067590550046116, -0.009883887429212703, -0.009883887429212703, -0.006988793139035462, -0.004034915906823382, -0.004034915906823382, -0.004034915906823382, 0.6458061137182908, -0.4491176381068804, -0.31793818150385306, -0.14187630019002234, -0.09746483147295756, -0.05283654156463461, -0.05236972983375341, 0.6458061137182908, -0.5468505554166361, -0.16871360986534567, -0.1513207691979515, -0.08856076763636457, -0.05062167690679935, -0.04118277456029769, -0.03304496883797669, -0.01849331867327724, -0.013978610472985471, -0.013383391630294216, -0.008070028895981391, -0.006988793139035462, -0.005706279250081865, -0.005706279250081865, -0.004034915906823382, -0.004034915906823382, 0.9107810568209564, -0.58416984429136, -0.46108105708325564, -0.1139248744731164, -0.08976654169020765, -0.04779588130092973, -0.023877494002286583, 0.8182856624008072, -0.5789560204021322, -0.2977149568699414, -0.27136649193076384, -0.66517422405688, 1.6442951634222356, -0.5449411849790564, -0.3463768112798403, -0.2521552684429532, -0.11458293946056533, -0.0878107832192938, -0.07029180743645222, -0.04312079648566373, -0.616824182679738, -0.5602033111467297, -0.4475986947073832, 2.571035914217359, -0.2959941926573556, -0.2507279884399495, -0.17807841465440408, -0.1086776487237805, -0.036337915301834764, -0.027965419010415153, -0.025527154406826257, -0.024216396019218437, -0.022830693305287888, -0.013978610472985471, -0.012760459344900329, -0.012760459344900329, -0.012105536097943983, -0.012105536097943983, -0.009883887429212703, -0.008070028895981391, -0.006988793139035462, -0.006988793139035462, -0.005706279250081865, -0.004034915906823382, -0.004034915906823382, -0.004034915906823382, -0.004034915906823382, -0.004034915906823382, -0.004034915906823382, -0.004034915906823382, -0.004034915906823382, -0.956520933216754, -0.6937781692947165, 0.0, -1.1841416422039481, -1.7327802637931964, 0.0, -1.1841416422039481, -1.7327802637931964, -0.5414467828619101))</td></tr><tr><td>-unknown-</td><td>0.0</td><td>basic</td><td>0.0</td><td>en</td><td>direct</td><td>direct</td><td>untracked</td><td>Web</td><td>Mac Desktop</td><td>Chrome</td><td>8481847.0</td><td>Millennials</td><td>2014</td><td>7</td><td>1</td><td>2014</td><td>7</td><td>1</td><td>0.0</td><td>0.0</td><td>0.0</td><td>0.0</td><td>0.0</td><td>0.0</td><td>0.0</td><td>0.0</td><td>1.0</td><td>1.0</td><td>Map(vectorType -> sparse, length -> 4, indices -> List(0), values -> List(1.0))</td><td>Map(vectorType -> sparse, length -> 4, indices -> List(0), values -> List(1.0))</td><td>Map(vectorType -> sparse, length -> 4, indices -> List(0), values -> List(1.0))</td><td>Map(vectorType -> sparse, length -> 24, indices -> List(0), values -> List(1.0))</td><td>Map(vectorType -> sparse, length -> 7, indices -> List(0), values -> List(1.0))</td><td>Map(vectorType -> sparse, length -> 17, indices -> List(0), values -> List(1.0))</td><td>Map(vectorType -> sparse, length -> 7, indices -> List(0), values -> List(1.0))</td><td>Map(vectorType -> sparse, length -> 4, indices -> List(0), values -> List(1.0))</td><td>Map(vectorType -> sparse, length -> 9, indices -> List(1), values -> List(1.0))</td><td>Map(vectorType -> sparse, length -> 31, indices -> List(1), values -> List(1.0))</td><td>Map(vectorType -> sparse, length -> 120, indices -> List(0, 4, 8, 12, 36, 43, 60, 67, 72, 81, 113, 114, 115, 116, 117, 118, 119), values -> List(1.0, 1.0, 1.0, 1.0, 1.0, 1.0, 1.0, 1.0, 1.0, 1.0, 2014.0, 7.0, 1.0, 2014.0, 7.0, 1.0, 8481847.0))</td><td>Map(vectorType -> dense, length -> 120, values -> List(0.5958045655314564, -0.44864642367405305, -0.2837172210243723, -0.1425911380086525, 0.9169607798304473, -0.5524250329490987, -0.5343530979102203, -0.028826798644369375, 0.6087311300160552, -0.560980837216796, -0.17778626738376846, -0.01892866926355151, 0.219850589274985, -0.12799027878420416, -0.07688906029883949, -0.07338294441437695, -0.06456607921010102, -0.06289206608203741, -0.04405807715337099, -0.04405807715337099, -0.04368555978681013, -0.036561833370320096, -0.0296632561020448, -0.024216396019218437, -0.02135546235441271, -0.01849331867327724, -0.018047484081214364, -0.01663855172845151, -0.01663855172845151, -0.01067590550046116, -0.009883887429212703, -0.009883887429212703, -0.006988793139035462, -0.004034915906823382, -0.004034915906823382, -0.004034915906823382, 0.6458061137182908, -0.4491176381068804, -0.31793818150385306, -0.14187630019002234, -0.09746483147295756, -0.05283654156463461, -0.05236972983375341, 0.6458061137182908, -0.5468505554166361, -0.16871360986534567, -0.1513207691979515, -0.08856076763636457, -0.05062167690679935, -0.04118277456029769, -0.03304496883797669, -0.01849331867327724, -0.013978610472985471, -0.013383391630294216, -0.008070028895981391, -0.006988793139035462, -0.005706279250081865, -0.005706279250081865, -0.004034915906823382, -0.004034915906823382, 0.9107810568209564, -0.58416984429136, -0.46108105708325564, -0.1139248744731164, -0.08976654169020765, -0.04779588130092973, -0.023877494002286583, 0.8182856624008072, -0.5789560204021322, -0.2977149568699414, -0.27136649193076384, -0.66517422405688, 1.6442951634222356, -0.5449411849790564, -0.3463768112798403, -0.2521552684429532, -0.11458293946056533, -0.0878107832192938, -0.07029180743645222, -0.04312079648566373, -0.616824182679738, 1.7850371455439449, -0.4475986947073832, -0.3889419490112517, -0.2959941926573556, -0.2507279884399495, -0.17807841465440408, -0.1086776487237805, -0.036337915301834764, -0.027965419010415153, -0.025527154406826257, -0.024216396019218437, -0.022830693305287888, -0.013978610472985471, -0.012760459344900329, -0.012760459344900329, -0.012105536097943983, -0.012105536097943983, -0.009883887429212703, -0.008070028895981391, -0.006988793139035462, -0.006988793139035462, -0.005706279250081865, -0.004034915906823382, -0.004034915906823382, -0.004034915906823382, -0.004034915906823382, -0.004034915906823382, -0.004034915906823382, -0.004034915906823382, -0.004034915906823382, -0.956520933216754, -0.6937781692947165, 0.0, -1.1841416422039481, -1.7327802637931964, 0.0, -1.1841416422039481, -1.7327802637931964, 3.7528533158232498))</td></tr><tr><td>-unknown-</td><td>0.0</td><td>basic</td><td>0.0</td><td>en</td><td>sem-non-brand</td><td>google</td><td>omg</td><td>Web</td><td>Windows Desktop</td><td>Firefox</td><td>5084265.0</td><td>Millennials</td><td>2014</td><td>7</td><td>1</td><td>2014</td><td>7</td><td>1</td><td>0.0</td><td>0.0</td><td>0.0</td><td>0.0</td><td>3.0</td><td>1.0</td><td>2.0</td><td>0.0</td><td>2.0</td><td>4.0</td><td>Map(vectorType -> sparse, length -> 4, indices -> List(0), values -> List(1.0))</td><td>Map(vectorType -> sparse, length -> 4, indices -> List(0), values -> List(1.0))</td><td>Map(vectorType -> sparse, length -> 4, indices -> List(0), values -> List(1.0))</td><td>Map(vectorType -> sparse, length -> 24, indices -> List(0), values -> List(1.0))</td><td>Map(vectorType -> sparse, length -> 7, indices -> List(3), values -> List(1.0))</td><td>Map(vectorType -> sparse, length -> 17, indices -> List(1), values -> List(1.0))</td><td>Map(vectorType -> sparse, length -> 7, indices -> List(2), values -> List(1.0))</td><td>Map(vectorType -> sparse, length -> 4, indices -> List(0), values -> List(1.0))</td><td>Map(vectorType -> sparse, length -> 9, indices -> List(2), values -> List(1.0))</td><td>Map(vectorType -> sparse, length -> 31, indices -> List(4), values -> List(1.0))</td><td>Map(vectorType -> sparse, length -> 120, indices -> List(0, 4, 8, 12, 39, 44, 62, 67, 73, 84, 113, 114, 115, 116, 117, 118, 119), values -> List(1.0, 1.0, 1.0, 1.0, 1.0, 1.0, 1.0, 1.0, 1.0, 1.0, 2014.0, 7.0, 1.0, 2014.0, 7.0, 1.0, 5084265.0))</td><td>Map(vectorType -> dense, length -> 120, values -> List(0.5958045655314564, -0.44864642367405305, -0.2837172210243723, -0.1425911380086525, 0.9169607798304473, -0.5524250329490987, -0.5343530979102203, -0.028826798644369375, 0.6087311300160552, -0.560980837216796, -0.17778626738376846, -0.01892866926355151, 0.219850589274985, -0.12799027878420416, -0.07688906029883949, -0.07338294441437695, -0.06456607921010102, -0.06289206608203741, -0.04405807715337099, -0.04405807715337099, -0.04368555978681013, -0.036561833370320096, -0.0296632561020448, -0.024216396019218437, -0.02135546235441271, -0.01849331867327724, -0.018047484081214364, -0.01663855172845151, -0.01663855172845151, -0.01067590550046116, -0.009883887429212703, -0.009883887429212703, -0.006988793139035462, -0.004034915906823382, -0.004034915906823382, -0.004034915906823382, -1.5484271489721932, -0.4491176381068804, -0.31793818150385306, 7.048278804242108, -0.09746483147295756, -0.05283654156463461, -0.05236972983375341, -1.5484271489721932, 1.8286233954572, -0.16871360986534567, -0.1513207691979515, -0.08856076763636457, -0.05062167690679935, -0.04118277456029769, -0.03304496883797669, -0.01849331867327724, -0.013978610472985471, -0.013383391630294216, -0.008070028895981391, -0.006988793139035462, -0.005706279250081865, -0.005706279250081865, -0.004034915906823382, -0.004034915906823382, -1.0979408409569111, -0.58416984429136, 2.1687807470977094, -0.1139248744731164, -0.08976654169020765, -0.04779588130092973, -0.023877494002286583, 0.8182856624008072, -0.5789560204021322, -0.2977149568699414, -0.27136649193076384, -0.66517422405688, -0.6081534153347388, 1.8350305446119972, -0.3463768112798403, -0.2521552684429532, -0.11458293946056533, -0.0878107832192938, -0.07029180743645222, -0.04312079648566373, -0.616824182679738, -0.5602033111467297, -0.4475986947073832, -0.3889419490112517, 3.3783896585133713, -0.2507279884399495, -0.17807841465440408, -0.1086776487237805, -0.036337915301834764, -0.027965419010415153, -0.025527154406826257, -0.024216396019218437, -0.022830693305287888, -0.013978610472985471, -0.012760459344900329, -0.012760459344900329, -0.012105536097943983, -0.012105536097943983, -0.009883887429212703, -0.008070028895981391, -0.006988793139035462, -0.006988793139035462, -0.005706279250081865, -0.004034915906823382, -0.004034915906823382, -0.004034915906823382, -0.004034915906823382, -0.004034915906823382, -0.004034915906823382, -0.004034915906823382, -0.004034915906823382, -0.956520933216754, -0.6937781692947165, 0.0, -1.1841416422039481, -1.7327802637931964, 0.0, -1.1841416422039481, -1.7327802637931964, 1.9353948466426942))</td></tr><tr><td>female</td><td>30.0</td><td>basic</td><td>25.0</td><td>en</td><td>direct</td><td>direct</td><td>untracked</td><td>iOS</td><td>iPhone</td><td>-unknown-</td><td>157911.0</td><td>Millennials</td><td>2014</td><td>7</td><td>1</td><td>2014</td><td>7</td><td>1</td><td>0.0</td><td>1.0</td><td>0.0</td><td>0.0</td><td>0.0</td><td>0.0</td><td>0.0</td><td>1.0</td><td>0.0</td><td>0.0</td><td>Map(vectorType -> sparse, length -> 4, indices -> List(0), values -> List(1.0))</td><td>Map(vectorType -> sparse, length -> 4, indices -> List(1), values -> List(1.0))</td><td>Map(vectorType -> sparse, length -> 4, indices -> List(0), values -> List(1.0))</td><td>Map(vectorType -> sparse, length -> 24, indices -> List(0), values -> List(1.0))</td><td>Map(vectorType -> sparse, length -> 7, indices -> List(0), values -> List(1.0))</td><td>Map(vectorType -> sparse, length -> 17, indices -> List(0), values -> List(1.0))</td><td>Map(vectorType -> sparse, length -> 7, indices -> List(0), values -> List(1.0))</td><td>Map(vectorType -> sparse, length -> 4, indices -> List(1), values -> List(1.0))</td><td>Map(vectorType -> sparse, length -> 9, indices -> List(0), values -> List(1.0))</td><td>Map(vectorType -> sparse, length -> 31, indices -> List(0), values -> List(1.0))</td><td>Map(vectorType -> sparse, length -> 120, indices -> List(0, 5, 8, 12, 36, 43, 60, 68, 71, 80, 111, 112, 113, 114, 115, 116, 117, 118, 119), values -> List(1.0, 1.0, 1.0, 1.0, 1.0, 1.0, 1.0, 1.0, 1.0, 1.0, 30.0, 25.0, 2014.0, 7.0, 1.0, 2014.0, 7.0, 1.0, 157911.0))</td><td>Map(vectorType -> dense, length -> 120, values -> List(0.5958045655314564, -0.44864642367405305, -0.2837172210243723, -0.1425911380086525, -1.0905414293057647, 1.810170900683577, -0.5343530979102203, -0.028826798644369375, 0.6087311300160552, -0.560980837216796, -0.17778626738376846, -0.01892866926355151, 0.219850589274985, -0.12799027878420416, -0.07688906029883949, -0.07338294441437695, -0.06456607921010102, -0.06289206608203741, -0.04405807715337099, -0.04405807715337099, -0.04368555978681013, -0.036561833370320096, -0.0296632561020448, -0.024216396019218437, -0.02135546235441271, -0.01849331867327724, -0.018047484081214364, -0.01663855172845151, -0.01663855172845151, -0.01067590550046116, -0.009883887429212703, -0.009883887429212703, -0.006988793139035462, -0.004034915906823382, -0.004034915906823382, -0.004034915906823382, 0.6458061137182908, -0.4491176381068804, -0.31793818150385306, -0.14187630019002234, -0.09746483147295756, -0.05283654156463461, -0.05236972983375341, 0.6458061137182908, -0.5468505554166361, -0.16871360986534567, -0.1513207691979515, -0.08856076763636457, -0.05062167690679935, -0.04118277456029769, -0.03304496883797669, -0.01849331867327724, -0.013978610472985471, -0.013383391630294216, -0.008070028895981391, -0.006988793139035462, -0.005706279250081865, -0.005706279250081865, -0.004034915906823382, -0.004034915906823382, 0.9107810568209564, -0.58416984429136, -0.46108105708325564, -0.1139248744731164, -0.08976654169020765, -0.04779588130092973, -0.023877494002286583, -1.2220472206731874, 1.7272187941996946, -0.2977149568699414, -0.27136649193076384, 1.503341054550717, -0.6081534153347388, -0.5449411849790564, -0.3463768112798403, -0.2521552684429532, -0.11458293946056533, -0.0878107832192938, -0.07029180743645222, -0.04312079648566373, 1.6211811202169217, -0.5602033111467297, -0.4475986947073832, -0.3889419490112517, -0.2959941926573556, -0.2507279884399495, -0.17807841465440408, -0.1086776487237805, -0.036337915301834764, -0.027965419010415153, -0.025527154406826257, -0.024216396019218437, -0.022830693305287888, -0.013978610472985471, -0.012760459344900329, -0.012760459344900329, -0.012105536097943983, -0.012105536097943983, -0.009883887429212703, -0.008070028895981391, -0.006988793139035462, -0.006988793139035462, -0.005706279250081865, -0.004034915906823382, -0.004034915906823382, -0.004034915906823382, -0.004034915906823382, -0.004034915906823382, -0.004034915906823382, -0.004034915906823382, -0.004034915906823382, 0.6259183919500476, 1.5282530255684048, 0.0, -1.1841416422039481, -1.7327802637931964, 0.0, -1.1841416422039481, -1.7327802637931964, -0.6998450973767599))</td></tr><tr><td>-unknown-</td><td>0.0</td><td>basic</td><td>0.0</td><td>en</td><td>direct</td><td>direct</td><td>untracked</td><td>Web</td><td>Mac Desktop</td><td>Firefox</td><td>662916.0</td><td>Millennials</td><td>2014</td><td>7</td><td>1</td><td>2014</td><td>7</td><td>1</td><td>0.0</td><td>0.0</td><td>0.0</td><td>0.0</td><td>0.0</td><td>0.0</td><td>0.0</td><td>0.0</td><td>1.0</td><td>4.0</td><td>Map(vectorType -> sparse, length -> 4, indices -> List(0), values -> List(1.0))</td><td>Map(vectorType -> sparse, length -> 4, indices -> List(0), values -> List(1.0))</td><td>Map(vectorType -> sparse, length -> 4, indices -> List(0), values -> List(1.0))</td><td>Map(vectorType -> sparse, length -> 24, indices -> List(0), values -> List(1.0))</td><td>Map(vectorType -> sparse, length -> 7, indices -> List(0), values -> List(1.0))</td><td>Map(vectorType -> sparse, length -> 17, indices -> List(0), values -> List(1.0))</td><td>Map(vectorType -> sparse, length -> 7, indices -> List(0), values -> List(1.0))</td><td>Map(vectorType -> sparse, length -> 4, indices -> List(0), values -> List(1.0))</td><td>Map(vectorType -> sparse, length -> 9, indices -> List(1), values -> List(1.0))</td><td>Map(vectorType -> sparse, length -> 31, indices -> List(4), values -> List(1.0))</td><td>Map(vectorType -> sparse, length -> 120, indices -> List(0, 4, 8, 12, 36, 43, 60, 67, 72, 84, 113, 114, 115, 116, 117, 118, 119), values -> List(1.0, 1.0, 1.0, 1.0, 1.0, 1.0, 1.0, 1.0, 1.0, 1.0, 2014.0, 7.0, 1.0, 2014.0, 7.0, 1.0, 662916.0))</td><td>Map(vectorType -> dense, length -> 120, values -> List(0.5958045655314564, -0.44864642367405305, -0.2837172210243723, -0.1425911380086525, 0.9169607798304473, -0.5524250329490987, -0.5343530979102203, -0.028826798644369375, 0.6087311300160552, -0.560980837216796, -0.17778626738376846, -0.01892866926355151, 0.219850589274985, -0.12799027878420416, -0.07688906029883949, -0.07338294441437695, -0.06456607921010102, -0.06289206608203741, -0.04405807715337099, -0.04405807715337099, -0.04368555978681013, -0.036561833370320096, -0.0296632561020448, -0.024216396019218437, -0.02135546235441271, -0.01849331867327724, -0.018047484081214364, -0.01663855172845151, -0.01663855172845151, -0.01067590550046116, -0.009883887429212703, -0.009883887429212703, -0.006988793139035462, -0.004034915906823382, -0.004034915906823382, -0.004034915906823382, 0.6458061137182908, -0.4491176381068804, -0.31793818150385306, -0.14187630019002234, -0.09746483147295756, -0.05283654156463461, -0.05236972983375341, 0.6458061137182908, -0.5468505554166361, -0.16871360986534567, -0.1513207691979515, -0.08856076763636457, -0.05062167690679935, -0.04118277456029769, -0.03304496883797669, -0.01849331867327724, -0.013978610472985471, -0.013383391630294216, -0.008070028895981391, -0.006988793139035462, -0.005706279250081865, -0.005706279250081865, -0.004034915906823382, -0.004034915906823382, 0.9107810568209564, -0.58416984429136, -0.46108105708325564, -0.1139248744731164, -0.08976654169020765, -0.04779588130092973, -0.023877494002286583, 0.8182856624008072, -0.5789560204021322, -0.2977149568699414, -0.27136649193076384, -0.66517422405688, 1.6442951634222356, -0.5449411849790564, -0.3463768112798403, -0.2521552684429532, -0.11458293946056533, -0.0878107832192938, -0.07029180743645222, -0.04312079648566373, -0.616824182679738, -0.5602033111467297, -0.4475986947073832, -0.3889419490112517, 3.3783896585133713, -0.2507279884399495, -0.17807841465440408, -0.1086776487237805, -0.036337915301834764, -0.027965419010415153, -0.025527154406826257, -0.024216396019218437, -0.022830693305287888, -0.013978610472985471, -0.012760459344900329, -0.012760459344900329, -0.012105536097943983, -0.012105536097943983, -0.009883887429212703, -0.008070028895981391, -0.006988793139035462, -0.006988793139035462, -0.005706279250081865, -0.004034915906823382, -0.004034915906823382, -0.004034915906823382, -0.004034915906823382, -0.004034915906823382, -0.004034915906823382, -0.004034915906823382, -0.004034915906823382, -0.956520933216754, -0.6937781692947165, 0.0, -1.1841416422039481, -1.7327802637931964, 0.0, -1.1841416422039481, -1.7327802637931964, -0.4297042695090216))</td></tr><tr><td>-unknown-</td><td>0.0</td><td>basic</td><td>0.0</td><td>en</td><td>sem-non-brand</td><td>google</td><td>omg</td><td>Web</td><td>Windows Desktop</td><td>Chrome</td><td>14101.0</td><td>Millennials</td><td>2014</td><td>7</td><td>1</td><td>2014</td><td>7</td><td>1</td><td>0.0</td><td>0.0</td><td>0.0</td><td>0.0</td><td>3.0</td><td>1.0</td><td>2.0</td><td>0.0</td><td>2.0</td><td>1.0</td><td>Map(vectorType -> sparse, length -> 4, indices -> List(0), values -> List(1.0))</td><td>Map(vectorType -> sparse, length -> 4, indices -> List(0), values -> List(1.0))</td><td>Map(vectorType -> sparse, length -> 4, indices -> List(0), values -> List(1.0))</td><td>Map(vectorType -> sparse, length -> 24, indices -> List(0), values -> List(1.0))</td><td>Map(vectorType -> sparse, length -> 7, indices -> List(3), values -> List(1.0))</td><td>Map(vectorType -> sparse, length -> 17, indices -> List(1), values -> List(1.0))</td><td>Map(vectorType -> sparse, length -> 7, indices -> List(2), values -> List(1.0))</td><td>Map(vectorType -> sparse, length -> 4, indices -> List(0), values -> List(1.0))</td><td>Map(vectorType -> sparse, length -> 9, indices -> List(2), values -> List(1.0))</td><td>Map(vectorType -> sparse, length -> 31, indices -> List(1), values -> List(1.0))</td><td>Map(vectorType -> sparse, length -> 120, indices -> List(0, 4, 8, 12, 39, 44, 62, 67, 73, 81, 113, 114, 115, 116, 117, 118, 119), values -> List(1.0, 1.0, 1.0, 1.0, 1.0, 1.0, 1.0, 1.0, 1.0, 1.0, 2014.0, 7.0, 1.0, 2014.0, 7.0, 1.0, 14101.0))</td><td>Map(vectorType -> dense, length -> 120, values -> List(0.5958045655314564, -0.44864642367405305, -0.2837172210243723, -0.1425911380086525, 0.9169607798304473, -0.5524250329490987, -0.5343530979102203, -0.028826798644369375, 0.6087311300160552, -0.560980837216796, -0.17778626738376846, -0.01892866926355151, 0.219850589274985, -0.12799027878420416, -0.07688906029883949, -0.07338294441437695, -0.06456607921010102, -0.06289206608203741, -0.04405807715337099, -0.04405807715337099, -0.04368555978681013, -0.036561833370320096, -0.0296632561020448, -0.024216396019218437, -0.02135546235441271, -0.01849331867327724, -0.018047484081214364, -0.01663855172845151, -0.01663855172845151, -0.01067590550046116, -0.009883887429212703, -0.009883887429212703, -0.006988793139035462, -0.004034915906823382, -0.004034915906823382, -0.004034915906823382, -1.5484271489721932, -0.4491176381068804, -0.31793818150385306, 7.048278804242108, -0.09746483147295756, -0.05283654156463461, -0.05236972983375341, -1.5484271489721932, 1.8286233954572, -0.16871360986534567, -0.1513207691979515, -0.08856076763636457, -0.05062167690679935, -0.04118277456029769, -0.03304496883797669, -0.01849331867327724, -0.013978610472985471, -0.013383391630294216, -0.008070028895981391, -0.006988793139035462, -0.005706279250081865, -0.005706279250081865, -0.004034915906823382, -0.004034915906823382, -1.0979408409569111, -0.58416984429136, 2.1687807470977094, -0.1139248744731164, -0.08976654169020765, -0.04779588130092973, -0.023877494002286583, 0.8182856624008072, -0.5789560204021322, -0.2977149568699414, -0.27136649193076384, -0.66517422405688, -0.6081534153347388, 1.8350305446119972, -0.3463768112798403, -0.2521552684429532, -0.11458293946056533, -0.0878107832192938, -0.07029180743645222, -0.04312079648566373, -0.616824182679738, 1.7850371455439449, -0.4475986947073832, -0.3889419490112517, -0.2959941926573556, -0.2507279884399495, -0.17807841465440408, -0.1086776487237805, -0.036337915301834764, -0.027965419010415153, -0.025527154406826257, -0.024216396019218437, -0.022830693305287888, -0.013978610472985471, -0.012760459344900329, -0.012760459344900329, -0.012105536097943983, -0.012105536097943983, -0.009883887429212703, -0.008070028895981391, -0.006988793139035462, -0.006988793139035462, -0.005706279250081865, -0.004034915906823382, -0.004034915906823382, -0.004034915906823382, -0.004034915906823382, -0.004034915906823382, -0.004034915906823382, -0.004034915906823382, -0.004034915906823382, -0.956520933216754, -0.6937781692947165, 0.0, -1.1841416422039481, -1.7327802637931964, 0.0, -1.1841416422039481, -1.7327802637931964, -0.7767729544388869))</td></tr><tr><td>-unknown-</td><td>27.0</td><td>basic</td><td>0.0</td><td>en</td><td>direct</td><td>direct</td><td>product</td><td>Web</td><td>Mac Desktop</td><td>Chrome</td><td>1422903.0</td><td>Gen Z</td><td>2014</td><td>7</td><td>1</td><td>2014</td><td>7</td><td>1</td><td>1.0</td><td>0.0</td><td>0.0</td><td>0.0</td><td>0.0</td><td>0.0</td><td>3.0</td><td>0.0</td><td>1.0</td><td>1.0</td><td>Map(vectorType -> sparse, length -> 4, indices -> List(1), values -> List(1.0))</td><td>Map(vectorType -> sparse, length -> 4, indices -> List(0), values -> List(1.0))</td><td>Map(vectorType -> sparse, length -> 4, indices -> List(0), values -> List(1.0))</td><td>Map(vectorType -> sparse, length -> 24, indices -> List(0), values -> List(1.0))</td><td>Map(vectorType -> sparse, length -> 7, indices -> List(0), values -> List(1.0))</td><td>Map(vectorType -> sparse, length -> 17, indices -> List(0), values -> List(1.0))</td><td>Map(vectorType -> sparse, length -> 7, indices -> List(3), values -> List(1.0))</td><td>Map(vectorType -> sparse, length -> 4, indices -> List(0), values -> List(1.0))</td><td>Map(vectorType -> sparse, length -> 9, indices -> List(1), values -> List(1.0))</td><td>Map(vectorType -> sparse, length -> 31, indices -> List(1), values -> List(1.0))</td><td>Map(vectorType -> sparse, length -> 120, indices -> List(1, 4, 8, 12, 36, 43, 63, 67, 72, 81, 111, 113, 114, 115, 116, 117, 118, 119), values -> List(1.0, 1.0, 1.0, 1.0, 1.0, 1.0, 1.0, 1.0, 1.0, 1.0, 27.0, 2014.0, 7.0, 1.0, 2014.0, 7.0, 1.0, 1422903.0))</td><td>Map(vectorType -> dense, length -> 120, values -> List(-1.6783753890197892, 2.2288904283791298, -0.2837172210243723, -0.1425911380086525, 0.9169607798304473, -0.5524250329490987, -0.5343530979102203, -0.028826798644369375, 0.6087311300160552, -0.560980837216796, -0.17778626738376846, -0.01892866926355151, 0.219850589274985, -0.12799027878420416, -0.07688906029883949, -0.07338294441437695, -0.06456607921010102, -0.06289206608203741, -0.04405807715337099, -0.04405807715337099, -0.04368555978681013, -0.036561833370320096, -0.0296632561020448, -0.024216396019218437, -0.02135546235441271, -0.01849331867327724, -0.018047484081214364, -0.01663855172845151, -0.01663855172845151, -0.01067590550046116, -0.009883887429212703, -0.009883887429212703, -0.006988793139035462, -0.004034915906823382, -0.004034915906823382, -0.004034915906823382, 0.6458061137182908, -0.4491176381068804, -0.31793818150385306, -0.14187630019002234, -0.09746483147295756, -0.05283654156463461, -0.05236972983375341, 0.6458061137182908, -0.5468505554166361, -0.16871360986534567, -0.1513207691979515, -0.08856076763636457, -0.05062167690679935, -0.04118277456029769, -0.03304496883797669, -0.01849331867327724, -0.013978610472985471, -0.013383391630294216, -0.008070028895981391, -0.006988793139035462, -0.005706279250081865, -0.005706279250081865, -0.004034915906823382, -0.004034915906823382, -1.0979408409569111, -0.58416984429136, -0.46108105708325564, 8.77757139587279, -0.08976654169020765, -0.04779588130092973, -0.023877494002286583, 0.8182856624008072, -0.5789560204021322, -0.2977149568699414, -0.27136649193076384, -0.66517422405688, 1.6442951634222356, -0.5449411849790564, -0.3463768112798403, -0.2521552684429532, -0.11458293946056533, -0.0878107832192938, -0.07029180743645222, -0.04312079648566373, -0.616824182679738, 1.7850371455439449, -0.4475986947073832, -0.3889419490112517, -0.2959941926573556, -0.2507279884399495, -0.17807841465440408, -0.1086776487237805, -0.036337915301834764, -0.027965419010415153, -0.025527154406826257, -0.024216396019218437, -0.022830693305287888, -0.013978610472985471, -0.012760459344900329, -0.012760459344900329, -0.012105536097943983, -0.012105536097943983, -0.009883887429212703, -0.008070028895981391, -0.006988793139035462, -0.006988793139035462, -0.005706279250081865, -0.004034915906823382, -0.004034915906823382, -0.004034915906823382, -0.004034915906823382, -0.004034915906823382, -0.004034915906823382, -0.004034915906823382, -0.004034915906823382, 0.46767445943336744, -0.6937781692947165, 0.0, -1.1841416422039481, -1.7327802637931964, 0.0, -1.1841416422039481, -1.7327802637931964, -0.02316667612139389))</td></tr><tr><td>-unknown-</td><td>0.0</td><td>basic</td><td>0.0</td><td>en</td><td>seo</td><td>facebook</td><td>linked</td><td>Web</td><td>Windows Desktop</td><td>Chrome</td><td>337213.0</td><td>Millennials</td><td>2014</td><td>7</td><td>1</td><td>2014</td><td>7</td><td>1</td><td>0.0</td><td>0.0</td><td>0.0</td><td>0.0</td><td>2.0</td><td>2.0</td><td>1.0</td><td>0.0</td><td>2.0</td><td>1.0</td><td>Map(vectorType -> sparse, length -> 4, indices -> List(0), values -> List(1.0))</td><td>Map(vectorType -> sparse, length -> 4, indices -> List(0), values -> List(1.0))</td><td>Map(vectorType -> sparse, length -> 4, indices -> List(0), values -> List(1.0))</td><td>Map(vectorType -> sparse, length -> 24, indices -> List(0), values -> List(1.0))</td><td>Map(vectorType -> sparse, length -> 7, indices -> List(2), values -> List(1.0))</td><td>Map(vectorType -> sparse, length -> 17, indices -> List(2), values -> List(1.0))</td><td>Map(vectorType -> sparse, length -> 7, indices -> List(1), values -> List(1.0))</td><td>Map(vectorType -> sparse, length -> 4, indices -> List(0), values -> List(1.0))</td><td>Map(vectorType -> sparse, length -> 9, indices -> List(2), values -> List(1.0))</td><td>Map(vectorType -> sparse, length -> 31, indices -> List(1), values -> List(1.0))</td><td>Map(vectorType -> sparse, length -> 120, indices -> List(0, 4, 8, 12, 38, 45, 61, 67, 73, 81, 113, 114, 115, 116, 117, 118, 119), values -> List(1.0, 1.0, 1.0, 1.0, 1.0, 1.0, 1.0, 1.0, 1.0, 1.0, 2014.0, 7.0, 1.0, 2014.0, 7.0, 1.0, 337213.0))</td><td>Map(vectorType -> dense, length -> 120, values -> List(0.5958045655314564, -0.44864642367405305, -0.2837172210243723, -0.1425911380086525, 0.9169607798304473, -0.5524250329490987, -0.5343530979102203, -0.028826798644369375, 0.6087311300160552, -0.560980837216796, -0.17778626738376846, -0.01892866926355151, 0.219850589274985, -0.12799027878420416, -0.07688906029883949, -0.07338294441437695, -0.06456607921010102, -0.06289206608203741, -0.04405807715337099, -0.04405807715337099, -0.04368555978681013, -0.036561833370320096, -0.0296632561020448, -0.024216396019218437, -0.02135546235441271, -0.01849331867327724, -0.018047484081214364, -0.01663855172845151, -0.01663855172845151, -0.01067590550046116, -0.009883887429212703, -0.009883887429212703, -0.006988793139035462, -0.004034915906823382, -0.004034915906823382, -0.004034915906823382, -1.5484271489721932, -0.4491176381068804, 3.145214314064717, -0.14187630019002234, -0.09746483147295756, -0.05283654156463461, -0.05236972983375341, -1.5484271489721932, -0.5468505554166361, 5.9271076011694355, -0.1513207691979515, -0.08856076763636457, -0.05062167690679935, -0.04118277456029769, -0.03304496883797669, -0.01849331867327724, -0.013978610472985471, -0.013383391630294216, -0.008070028895981391, -0.006988793139035462, -0.005706279250081865, -0.005706279250081865, -0.004034915906823382, -0.004034915906823382, -1.0979408409569111, 1.7118030470516274, -0.46108105708325564, -0.1139248744731164, -0.08976654169020765, -0.04779588130092973, -0.023877494002286583, 0.8182856624008072, -0.5789560204021322, -0.2977149568699414, -0.27136649193076384, -0.66517422405688, -0.6081534153347388, 1.8350305446119972, -0.3463768112798403, -0.2521552684429532, -0.11458293946056533, -0.0878107832192938, -0.07029180743645222, -0.04312079648566373, -0.616824182679738, 1.7850371455439449, -0.4475986947073832, -0.3889419490112517, -0.2959941926573556, -0.2507279884399495, -0.17807841465440408, -0.1086776487237805, -0.036337915301834764, -0.027965419010415153, -0.025527154406826257, -0.024216396019218437, -0.022830693305287888, -0.013978610472985471, -0.012760459344900329, -0.012760459344900329, -0.012105536097943983, -0.012105536097943983, -0.009883887429212703, -0.008070028895981391, -0.006988793139035462, -0.006988793139035462, -0.005706279250081865, -0.004034915906823382, -0.004034915906823382, -0.004034915906823382, -0.004034915906823382, -0.004034915906823382, -0.004034915906823382, -0.004034915906823382, -0.004034915906823382, -0.956520933216754, -0.6937781692947165, 0.0, -1.1841416422039481, -1.7327802637931964, 0.0, -1.1841416422039481, -1.7327802637931964, -0.6039316099492271))</td></tr><tr><td>female</td><td>36.0</td><td>basic</td><td>0.0</td><td>en</td><td>direct</td><td>direct</td><td>linked</td><td>Web</td><td>Mac Desktop</td><td>Chrome</td><td>797584.0</td><td>Millennials</td><td>2014</td><td>7</td><td>1</td><td>2014</td><td>7</td><td>1</td><td>0.0</td><td>1.0</td><td>0.0</td><td>0.0</td><td>0.0</td><td>0.0</td><td>1.0</td><td>0.0</td><td>1.0</td><td>1.0</td><td>Map(vectorType -> sparse, length -> 4, indices -> List(0), values -> List(1.0))</td><td>Map(vectorType -> sparse, length -> 4, indices -> List(1), values -> List(1.0))</td><td>Map(vectorType -> sparse, length -> 4, indices -> List(0), values -> List(1.0))</td><td>Map(vectorType -> sparse, length -> 24, indices -> List(0), values -> List(1.0))</td><td>Map(vectorType -> sparse, length -> 7, indices -> List(0), values -> List(1.0))</td><td>Map(vectorType -> sparse, length -> 17, indices -> List(0), values -> List(1.0))</td><td>Map(vectorType -> sparse, length -> 7, indices -> List(1), values -> List(1.0))</td><td>Map(vectorType -> sparse, length -> 4, indices -> List(0), values -> List(1.0))</td><td>Map(vectorType -> sparse, length -> 9, indices -> List(1), values -> List(1.0))</td><td>Map(vectorType -> sparse, length -> 31, indices -> List(1), values -> List(1.0))</td><td>Map(vectorType -> sparse, length -> 120, indices -> List(0, 5, 8, 12, 36, 43, 61, 67, 72, 81, 111, 113, 114, 115, 116, 117, 118, 119), values -> List(1.0, 1.0, 1.0, 1.0, 1.0, 1.0, 1.0, 1.0, 1.0, 1.0, 36.0, 2014.0, 7.0, 1.0, 2014.0, 7.0, 1.0, 797584.0))</td><td>Map(vectorType -> dense, length -> 120, values -> List(0.5958045655314564, -0.44864642367405305, -0.2837172210243723, -0.1425911380086525, -1.0905414293057647, 1.810170900683577, -0.5343530979102203, -0.028826798644369375, 0.6087311300160552, -0.560980837216796, -0.17778626738376846, -0.01892866926355151, 0.219850589274985, -0.12799027878420416, -0.07688906029883949, -0.07338294441437695, -0.06456607921010102, -0.06289206608203741, -0.04405807715337099, -0.04405807715337099, -0.04368555978681013, -0.036561833370320096, -0.0296632561020448, -0.024216396019218437, -0.02135546235441271, -0.01849331867327724, -0.018047484081214364, -0.01663855172845151, -0.01663855172845151, -0.01067590550046116, -0.009883887429212703, -0.009883887429212703, -0.006988793139035462, -0.004034915906823382, -0.004034915906823382, -0.004034915906823382, 0.6458061137182908, -0.4491176381068804, -0.31793818150385306, -0.14187630019002234, -0.09746483147295756, -0.05283654156463461, -0.05236972983375341, 0.6458061137182908, -0.5468505554166361, -0.16871360986534567, -0.1513207691979515, -0.08856076763636457, -0.05062167690679935, -0.04118277456029769, -0.03304496883797669, -0.01849331867327724, -0.013978610472985471, -0.013383391630294216, -0.008070028895981391, -0.006988793139035462, -0.005706279250081865, -0.005706279250081865, -0.004034915906823382, -0.004034915906823382, -1.0979408409569111, 1.7118030470516274, -0.46108105708325564, -0.1139248744731164, -0.08976654169020765, -0.04779588130092973, -0.023877494002286583, 0.8182856624008072, -0.5789560204021322, -0.2977149568699414, -0.27136649193076384, -0.66517422405688, 1.6442951634222356, -0.5449411849790564, -0.3463768112798403, -0.2521552684429532, -0.11458293946056533, -0.0878107832192938, -0.07029180743645222, -0.04312079648566373, -0.616824182679738, 1.7850371455439449, -0.4475986947073832, -0.3889419490112517, -0.2959941926573556, -0.2507279884399495, -0.17807841465440408, -0.1086776487237805, -0.036337915301834764, -0.027965419010415153, -0.025527154406826257, -0.024216396019218437, -0.022830693305287888, -0.013978610472985471, -0.012760459344900329, -0.012760459344900329, -0.012105536097943983, -0.012105536097943983, -0.009883887429212703, -0.008070028895981391, -0.006988793139035462, -0.006988793139035462, -0.005706279250081865, -0.004034915906823382, -0.004034915906823382, -0.004034915906823382, -0.004034915906823382, -0.004034915906823382, -0.004034915906823382, -0.004034915906823382, -0.004034915906823382, 0.942406256983408, -0.6937781692947165, 0.0, -1.1841416422039481, -1.7327802637931964, 0.0, -1.1841416422039481, -1.7327802637931964, -0.35766671541095796))</td></tr><tr><td>female</td><td>35.0</td><td>basic</td><td>0.0</td><td>en</td><td>direct</td><td>direct</td><td>untracked</td><td>Web</td><td>Android Phone</td><td>Android Browser</td><td>1411426.0</td><td>Millennials</td><td>2014</td><td>7</td><td>1</td><td>2014</td><td>7</td><td>1</td><td>0.0</td><td>1.0</td><td>0.0</td><td>0.0</td><td>0.0</td><td>0.0</td><td>0.0</td><td>0.0</td><td>3.0</td><td>7.0</td><td>Map(vectorType -> sparse, length -> 4, indices -> List(0), values -> List(1.0))</td><td>Map(vectorType -> sparse, length -> 4, indices -> List(1), values -> List(1.0))</td><td>Map(vectorType -> sparse, length -> 4, indices -> List(0), values -> List(1.0))</td><td>Map(vectorType -> sparse, length -> 24, indices -> List(0), values -> List(1.0))</td><td>Map(vectorType -> sparse, length -> 7, indices -> List(0), values -> List(1.0))</td><td>Map(vectorType -> sparse, length -> 17, indices -> List(0), values -> List(1.0))</td><td>Map(vectorType -> sparse, length -> 7, indices -> List(0), values -> List(1.0))</td><td>Map(vectorType -> sparse, length -> 4, indices -> List(0), values -> List(1.0))</td><td>Map(vectorType -> sparse, length -> 9, indices -> List(3), values -> List(1.0))</td><td>Map(vectorType -> sparse, length -> 31, indices -> List(7), values -> List(1.0))</td><td>Map(vectorType -> sparse, length -> 120, indices -> List(0, 5, 8, 12, 36, 43, 60, 67, 74, 87, 111, 113, 114, 115, 116, 117, 118, 119), values -> List(1.0, 1.0, 1.0, 1.0, 1.0, 1.0, 1.0, 1.0, 1.0, 1.0, 35.0, 2014.0, 7.0, 1.0, 2014.0, 7.0, 1.0, 1411426.0))</td><td>Map(vectorType -> dense, length -> 120, values -> List(0.5958045655314564, -0.44864642367405305, -0.2837172210243723, -0.1425911380086525, -1.0905414293057647, 1.810170900683577, -0.5343530979102203, -0.028826798644369375, 0.6087311300160552, -0.560980837216796, -0.17778626738376846, -0.01892866926355151, 0.219850589274985, -0.12799027878420416, -0.07688906029883949, -0.07338294441437695, -0.06456607921010102, -0.06289206608203741, -0.04405807715337099, -0.04405807715337099, -0.04368555978681013, -0.036561833370320096, -0.0296632561020448, -0.024216396019218437, -0.02135546235441271, -0.01849331867327724, -0.018047484081214364, -0.01663855172845151, -0.01663855172845151, -0.01067590550046116, -0.009883887429212703, -0.009883887429212703, -0.006988793139035462, -0.004034915906823382, -0.004034915906823382, -0.004034915906823382, 0.6458061137182908, -0.4491176381068804, -0.31793818150385306, -0.14187630019002234, -0.09746483147295756, -0.05283654156463461, -0.05236972983375341, 0.6458061137182908, -0.5468505554166361, -0.16871360986534567, -0.1513207691979515, -0.08856076763636457, -0.05062167690679935, -0.04118277456029769, -0.03304496883797669, -0.01849331867327724, -0.013978610472985471, -0.013383391630294216, -0.008070028895981391, -0.006988793139035462, -0.005706279250081865, -0.005706279250081865, -0.004034915906823382, -0.004034915906823382, 0.9107810568209564, -0.58416984429136, -0.46108105708325564, -0.1139248744731164, -0.08976654169020765, -0.04779588130092973, -0.023877494002286583, 0.8182856624008072, -0.5789560204021322, -0.2977149568699414, -0.27136649193076384, -0.66517422405688, -0.6081534153347388, -0.5449411849790564, 2.8869822889088574, -0.2521552684429532, -0.11458293946056533, -0.0878107832192938, -0.07029180743645222, -0.04312079648566373, -0.616824182679738, -0.5602033111467297, -0.4475986947073832, -0.3889419490112517, -0.2959941926573556, -0.2507279884399495, -0.17807841465440408, 9.201374258613415, -0.036337915301834764, -0.027965419010415153, -0.025527154406826257, -0.024216396019218437, -0.022830693305287888, -0.013978610472985471, -0.012760459344900329, -0.012760459344900329, -0.012105536097943983, -0.012105536097943983, -0.009883887429212703, -0.008070028895981391, -0.006988793139035462, -0.006988793139035462, -0.005706279250081865, -0.004034915906823382, -0.004034915906823382, -0.004034915906823382, -0.004034915906823382, -0.004034915906823382, -0.004034915906823382, -0.004034915906823382, -0.004034915906823382, 0.8896582794778479, -0.6937781692947165, 0.0, -1.1841416422039481, -1.7327802637931964, 0.0, -1.1841416422039481, -1.7327802637931964, -0.029306033714760357))</td></tr></tbody></table></div>"
      ]
     },
     "metadata": {
      "application/vnd.databricks.v1+output": {
       "addedWidgets": {},
       "aggData": [],
       "aggError": "",
       "aggOverflow": false,
       "aggSchema": [],
       "aggSeriesLimitReached": false,
       "aggType": "",
       "arguments": {},
       "columnCustomDisplayInfos": {},
       "data": [
        [
         "-unknown-",
         0,
         "basic",
         0,
         "en",
         "direct",
         "direct",
         "untracked",
         "Web",
         "Mac Desktop",
         "Safari",
         454023,
         "Millennials",
         2014,
         7,
         1,
         2014,
         7,
         1,
         0,
         0,
         0,
         0,
         0,
         0,
         0,
         0,
         1,
         3,
         {
          "indices": [
           0
          ],
          "length": 4,
          "values": [
           1
          ],
          "vectorType": "sparse"
         },
         {
          "indices": [
           0
          ],
          "length": 4,
          "values": [
           1
          ],
          "vectorType": "sparse"
         },
         {
          "indices": [
           0
          ],
          "length": 4,
          "values": [
           1
          ],
          "vectorType": "sparse"
         },
         {
          "indices": [
           0
          ],
          "length": 24,
          "values": [
           1
          ],
          "vectorType": "sparse"
         },
         {
          "indices": [
           0
          ],
          "length": 7,
          "values": [
           1
          ],
          "vectorType": "sparse"
         },
         {
          "indices": [
           0
          ],
          "length": 17,
          "values": [
           1
          ],
          "vectorType": "sparse"
         },
         {
          "indices": [
           0
          ],
          "length": 7,
          "values": [
           1
          ],
          "vectorType": "sparse"
         },
         {
          "indices": [
           0
          ],
          "length": 4,
          "values": [
           1
          ],
          "vectorType": "sparse"
         },
         {
          "indices": [
           1
          ],
          "length": 9,
          "values": [
           1
          ],
          "vectorType": "sparse"
         },
         {
          "indices": [
           3
          ],
          "length": 31,
          "values": [
           1
          ],
          "vectorType": "sparse"
         },
         {
          "indices": [
           0,
           4,
           8,
           12,
           36,
           43,
           60,
           67,
           72,
           83,
           113,
           114,
           115,
           116,
           117,
           118,
           119
          ],
          "length": 120,
          "values": [
           1,
           1,
           1,
           1,
           1,
           1,
           1,
           1,
           1,
           1,
           2014,
           7,
           1,
           2014,
           7,
           1,
           454023
          ],
          "vectorType": "sparse"
         },
         {
          "length": 120,
          "values": [
           0.5958045655314564,
           -0.44864642367405305,
           -0.2837172210243723,
           -0.1425911380086525,
           0.9169607798304473,
           -0.5524250329490987,
           -0.5343530979102203,
           -0.028826798644369375,
           0.6087311300160552,
           -0.560980837216796,
           -0.17778626738376846,
           -0.01892866926355151,
           0.219850589274985,
           -0.12799027878420416,
           -0.07688906029883949,
           -0.07338294441437695,
           -0.06456607921010102,
           -0.06289206608203741,
           -0.04405807715337099,
           -0.04405807715337099,
           -0.04368555978681013,
           -0.036561833370320096,
           -0.0296632561020448,
           -0.024216396019218437,
           -0.02135546235441271,
           -0.01849331867327724,
           -0.018047484081214364,
           -0.01663855172845151,
           -0.01663855172845151,
           -0.01067590550046116,
           -0.009883887429212703,
           -0.009883887429212703,
           -0.006988793139035462,
           -0.004034915906823382,
           -0.004034915906823382,
           -0.004034915906823382,
           0.6458061137182908,
           -0.4491176381068804,
           -0.31793818150385306,
           -0.14187630019002234,
           -0.09746483147295756,
           -0.05283654156463461,
           -0.05236972983375341,
           0.6458061137182908,
           -0.5468505554166361,
           -0.16871360986534567,
           -0.1513207691979515,
           -0.08856076763636457,
           -0.05062167690679935,
           -0.04118277456029769,
           -0.03304496883797669,
           -0.01849331867327724,
           -0.013978610472985471,
           -0.013383391630294216,
           -0.008070028895981391,
           -0.006988793139035462,
           -0.005706279250081865,
           -0.005706279250081865,
           -0.004034915906823382,
           -0.004034915906823382,
           0.9107810568209564,
           -0.58416984429136,
           -0.46108105708325564,
           -0.1139248744731164,
           -0.08976654169020765,
           -0.04779588130092973,
           -0.023877494002286583,
           0.8182856624008072,
           -0.5789560204021322,
           -0.2977149568699414,
           -0.27136649193076384,
           -0.66517422405688,
           1.6442951634222356,
           -0.5449411849790564,
           -0.3463768112798403,
           -0.2521552684429532,
           -0.11458293946056533,
           -0.0878107832192938,
           -0.07029180743645222,
           -0.04312079648566373,
           -0.616824182679738,
           -0.5602033111467297,
           -0.4475986947073832,
           2.571035914217359,
           -0.2959941926573556,
           -0.2507279884399495,
           -0.17807841465440408,
           -0.1086776487237805,
           -0.036337915301834764,
           -0.027965419010415153,
           -0.025527154406826257,
           -0.024216396019218437,
           -0.022830693305287888,
           -0.013978610472985471,
           -0.012760459344900329,
           -0.012760459344900329,
           -0.012105536097943983,
           -0.012105536097943983,
           -0.009883887429212703,
           -0.008070028895981391,
           -0.006988793139035462,
           -0.006988793139035462,
           -0.005706279250081865,
           -0.004034915906823382,
           -0.004034915906823382,
           -0.004034915906823382,
           -0.004034915906823382,
           -0.004034915906823382,
           -0.004034915906823382,
           -0.004034915906823382,
           -0.004034915906823382,
           -0.956520933216754,
           -0.6937781692947165,
           0,
           -1.1841416422039481,
           -1.7327802637931964,
           0,
           -1.1841416422039481,
           -1.7327802637931964,
           -0.5414467828619101
          ],
          "vectorType": "dense"
         }
        ],
        [
         "-unknown-",
         0,
         "basic",
         0,
         "en",
         "direct",
         "direct",
         "untracked",
         "Web",
         "Mac Desktop",
         "Chrome",
         8481847,
         "Millennials",
         2014,
         7,
         1,
         2014,
         7,
         1,
         0,
         0,
         0,
         0,
         0,
         0,
         0,
         0,
         1,
         1,
         {
          "indices": [
           0
          ],
          "length": 4,
          "values": [
           1
          ],
          "vectorType": "sparse"
         },
         {
          "indices": [
           0
          ],
          "length": 4,
          "values": [
           1
          ],
          "vectorType": "sparse"
         },
         {
          "indices": [
           0
          ],
          "length": 4,
          "values": [
           1
          ],
          "vectorType": "sparse"
         },
         {
          "indices": [
           0
          ],
          "length": 24,
          "values": [
           1
          ],
          "vectorType": "sparse"
         },
         {
          "indices": [
           0
          ],
          "length": 7,
          "values": [
           1
          ],
          "vectorType": "sparse"
         },
         {
          "indices": [
           0
          ],
          "length": 17,
          "values": [
           1
          ],
          "vectorType": "sparse"
         },
         {
          "indices": [
           0
          ],
          "length": 7,
          "values": [
           1
          ],
          "vectorType": "sparse"
         },
         {
          "indices": [
           0
          ],
          "length": 4,
          "values": [
           1
          ],
          "vectorType": "sparse"
         },
         {
          "indices": [
           1
          ],
          "length": 9,
          "values": [
           1
          ],
          "vectorType": "sparse"
         },
         {
          "indices": [
           1
          ],
          "length": 31,
          "values": [
           1
          ],
          "vectorType": "sparse"
         },
         {
          "indices": [
           0,
           4,
           8,
           12,
           36,
           43,
           60,
           67,
           72,
           81,
           113,
           114,
           115,
           116,
           117,
           118,
           119
          ],
          "length": 120,
          "values": [
           1,
           1,
           1,
           1,
           1,
           1,
           1,
           1,
           1,
           1,
           2014,
           7,
           1,
           2014,
           7,
           1,
           8481847
          ],
          "vectorType": "sparse"
         },
         {
          "length": 120,
          "values": [
           0.5958045655314564,
           -0.44864642367405305,
           -0.2837172210243723,
           -0.1425911380086525,
           0.9169607798304473,
           -0.5524250329490987,
           -0.5343530979102203,
           -0.028826798644369375,
           0.6087311300160552,
           -0.560980837216796,
           -0.17778626738376846,
           -0.01892866926355151,
           0.219850589274985,
           -0.12799027878420416,
           -0.07688906029883949,
           -0.07338294441437695,
           -0.06456607921010102,
           -0.06289206608203741,
           -0.04405807715337099,
           -0.04405807715337099,
           -0.04368555978681013,
           -0.036561833370320096,
           -0.0296632561020448,
           -0.024216396019218437,
           -0.02135546235441271,
           -0.01849331867327724,
           -0.018047484081214364,
           -0.01663855172845151,
           -0.01663855172845151,
           -0.01067590550046116,
           -0.009883887429212703,
           -0.009883887429212703,
           -0.006988793139035462,
           -0.004034915906823382,
           -0.004034915906823382,
           -0.004034915906823382,
           0.6458061137182908,
           -0.4491176381068804,
           -0.31793818150385306,
           -0.14187630019002234,
           -0.09746483147295756,
           -0.05283654156463461,
           -0.05236972983375341,
           0.6458061137182908,
           -0.5468505554166361,
           -0.16871360986534567,
           -0.1513207691979515,
           -0.08856076763636457,
           -0.05062167690679935,
           -0.04118277456029769,
           -0.03304496883797669,
           -0.01849331867327724,
           -0.013978610472985471,
           -0.013383391630294216,
           -0.008070028895981391,
           -0.006988793139035462,
           -0.005706279250081865,
           -0.005706279250081865,
           -0.004034915906823382,
           -0.004034915906823382,
           0.9107810568209564,
           -0.58416984429136,
           -0.46108105708325564,
           -0.1139248744731164,
           -0.08976654169020765,
           -0.04779588130092973,
           -0.023877494002286583,
           0.8182856624008072,
           -0.5789560204021322,
           -0.2977149568699414,
           -0.27136649193076384,
           -0.66517422405688,
           1.6442951634222356,
           -0.5449411849790564,
           -0.3463768112798403,
           -0.2521552684429532,
           -0.11458293946056533,
           -0.0878107832192938,
           -0.07029180743645222,
           -0.04312079648566373,
           -0.616824182679738,
           1.7850371455439449,
           -0.4475986947073832,
           -0.3889419490112517,
           -0.2959941926573556,
           -0.2507279884399495,
           -0.17807841465440408,
           -0.1086776487237805,
           -0.036337915301834764,
           -0.027965419010415153,
           -0.025527154406826257,
           -0.024216396019218437,
           -0.022830693305287888,
           -0.013978610472985471,
           -0.012760459344900329,
           -0.012760459344900329,
           -0.012105536097943983,
           -0.012105536097943983,
           -0.009883887429212703,
           -0.008070028895981391,
           -0.006988793139035462,
           -0.006988793139035462,
           -0.005706279250081865,
           -0.004034915906823382,
           -0.004034915906823382,
           -0.004034915906823382,
           -0.004034915906823382,
           -0.004034915906823382,
           -0.004034915906823382,
           -0.004034915906823382,
           -0.004034915906823382,
           -0.956520933216754,
           -0.6937781692947165,
           0,
           -1.1841416422039481,
           -1.7327802637931964,
           0,
           -1.1841416422039481,
           -1.7327802637931964,
           3.7528533158232498
          ],
          "vectorType": "dense"
         }
        ],
        [
         "-unknown-",
         0,
         "basic",
         0,
         "en",
         "sem-non-brand",
         "google",
         "omg",
         "Web",
         "Windows Desktop",
         "Firefox",
         5084265,
         "Millennials",
         2014,
         7,
         1,
         2014,
         7,
         1,
         0,
         0,
         0,
         0,
         3,
         1,
         2,
         0,
         2,
         4,
         {
          "indices": [
           0
          ],
          "length": 4,
          "values": [
           1
          ],
          "vectorType": "sparse"
         },
         {
          "indices": [
           0
          ],
          "length": 4,
          "values": [
           1
          ],
          "vectorType": "sparse"
         },
         {
          "indices": [
           0
          ],
          "length": 4,
          "values": [
           1
          ],
          "vectorType": "sparse"
         },
         {
          "indices": [
           0
          ],
          "length": 24,
          "values": [
           1
          ],
          "vectorType": "sparse"
         },
         {
          "indices": [
           3
          ],
          "length": 7,
          "values": [
           1
          ],
          "vectorType": "sparse"
         },
         {
          "indices": [
           1
          ],
          "length": 17,
          "values": [
           1
          ],
          "vectorType": "sparse"
         },
         {
          "indices": [
           2
          ],
          "length": 7,
          "values": [
           1
          ],
          "vectorType": "sparse"
         },
         {
          "indices": [
           0
          ],
          "length": 4,
          "values": [
           1
          ],
          "vectorType": "sparse"
         },
         {
          "indices": [
           2
          ],
          "length": 9,
          "values": [
           1
          ],
          "vectorType": "sparse"
         },
         {
          "indices": [
           4
          ],
          "length": 31,
          "values": [
           1
          ],
          "vectorType": "sparse"
         },
         {
          "indices": [
           0,
           4,
           8,
           12,
           39,
           44,
           62,
           67,
           73,
           84,
           113,
           114,
           115,
           116,
           117,
           118,
           119
          ],
          "length": 120,
          "values": [
           1,
           1,
           1,
           1,
           1,
           1,
           1,
           1,
           1,
           1,
           2014,
           7,
           1,
           2014,
           7,
           1,
           5084265
          ],
          "vectorType": "sparse"
         },
         {
          "length": 120,
          "values": [
           0.5958045655314564,
           -0.44864642367405305,
           -0.2837172210243723,
           -0.1425911380086525,
           0.9169607798304473,
           -0.5524250329490987,
           -0.5343530979102203,
           -0.028826798644369375,
           0.6087311300160552,
           -0.560980837216796,
           -0.17778626738376846,
           -0.01892866926355151,
           0.219850589274985,
           -0.12799027878420416,
           -0.07688906029883949,
           -0.07338294441437695,
           -0.06456607921010102,
           -0.06289206608203741,
           -0.04405807715337099,
           -0.04405807715337099,
           -0.04368555978681013,
           -0.036561833370320096,
           -0.0296632561020448,
           -0.024216396019218437,
           -0.02135546235441271,
           -0.01849331867327724,
           -0.018047484081214364,
           -0.01663855172845151,
           -0.01663855172845151,
           -0.01067590550046116,
           -0.009883887429212703,
           -0.009883887429212703,
           -0.006988793139035462,
           -0.004034915906823382,
           -0.004034915906823382,
           -0.004034915906823382,
           -1.5484271489721932,
           -0.4491176381068804,
           -0.31793818150385306,
           7.048278804242108,
           -0.09746483147295756,
           -0.05283654156463461,
           -0.05236972983375341,
           -1.5484271489721932,
           1.8286233954572,
           -0.16871360986534567,
           -0.1513207691979515,
           -0.08856076763636457,
           -0.05062167690679935,
           -0.04118277456029769,
           -0.03304496883797669,
           -0.01849331867327724,
           -0.013978610472985471,
           -0.013383391630294216,
           -0.008070028895981391,
           -0.006988793139035462,
           -0.005706279250081865,
           -0.005706279250081865,
           -0.004034915906823382,
           -0.004034915906823382,
           -1.0979408409569111,
           -0.58416984429136,
           2.1687807470977094,
           -0.1139248744731164,
           -0.08976654169020765,
           -0.04779588130092973,
           -0.023877494002286583,
           0.8182856624008072,
           -0.5789560204021322,
           -0.2977149568699414,
           -0.27136649193076384,
           -0.66517422405688,
           -0.6081534153347388,
           1.8350305446119972,
           -0.3463768112798403,
           -0.2521552684429532,
           -0.11458293946056533,
           -0.0878107832192938,
           -0.07029180743645222,
           -0.04312079648566373,
           -0.616824182679738,
           -0.5602033111467297,
           -0.4475986947073832,
           -0.3889419490112517,
           3.3783896585133713,
           -0.2507279884399495,
           -0.17807841465440408,
           -0.1086776487237805,
           -0.036337915301834764,
           -0.027965419010415153,
           -0.025527154406826257,
           -0.024216396019218437,
           -0.022830693305287888,
           -0.013978610472985471,
           -0.012760459344900329,
           -0.012760459344900329,
           -0.012105536097943983,
           -0.012105536097943983,
           -0.009883887429212703,
           -0.008070028895981391,
           -0.006988793139035462,
           -0.006988793139035462,
           -0.005706279250081865,
           -0.004034915906823382,
           -0.004034915906823382,
           -0.004034915906823382,
           -0.004034915906823382,
           -0.004034915906823382,
           -0.004034915906823382,
           -0.004034915906823382,
           -0.004034915906823382,
           -0.956520933216754,
           -0.6937781692947165,
           0,
           -1.1841416422039481,
           -1.7327802637931964,
           0,
           -1.1841416422039481,
           -1.7327802637931964,
           1.9353948466426942
          ],
          "vectorType": "dense"
         }
        ],
        [
         "female",
         30,
         "basic",
         25,
         "en",
         "direct",
         "direct",
         "untracked",
         "iOS",
         "iPhone",
         "-unknown-",
         157911,
         "Millennials",
         2014,
         7,
         1,
         2014,
         7,
         1,
         0,
         1,
         0,
         0,
         0,
         0,
         0,
         1,
         0,
         0,
         {
          "indices": [
           0
          ],
          "length": 4,
          "values": [
           1
          ],
          "vectorType": "sparse"
         },
         {
          "indices": [
           1
          ],
          "length": 4,
          "values": [
           1
          ],
          "vectorType": "sparse"
         },
         {
          "indices": [
           0
          ],
          "length": 4,
          "values": [
           1
          ],
          "vectorType": "sparse"
         },
         {
          "indices": [
           0
          ],
          "length": 24,
          "values": [
           1
          ],
          "vectorType": "sparse"
         },
         {
          "indices": [
           0
          ],
          "length": 7,
          "values": [
           1
          ],
          "vectorType": "sparse"
         },
         {
          "indices": [
           0
          ],
          "length": 17,
          "values": [
           1
          ],
          "vectorType": "sparse"
         },
         {
          "indices": [
           0
          ],
          "length": 7,
          "values": [
           1
          ],
          "vectorType": "sparse"
         },
         {
          "indices": [
           1
          ],
          "length": 4,
          "values": [
           1
          ],
          "vectorType": "sparse"
         },
         {
          "indices": [
           0
          ],
          "length": 9,
          "values": [
           1
          ],
          "vectorType": "sparse"
         },
         {
          "indices": [
           0
          ],
          "length": 31,
          "values": [
           1
          ],
          "vectorType": "sparse"
         },
         {
          "indices": [
           0,
           5,
           8,
           12,
           36,
           43,
           60,
           68,
           71,
           80,
           111,
           112,
           113,
           114,
           115,
           116,
           117,
           118,
           119
          ],
          "length": 120,
          "values": [
           1,
           1,
           1,
           1,
           1,
           1,
           1,
           1,
           1,
           1,
           30,
           25,
           2014,
           7,
           1,
           2014,
           7,
           1,
           157911
          ],
          "vectorType": "sparse"
         },
         {
          "length": 120,
          "values": [
           0.5958045655314564,
           -0.44864642367405305,
           -0.2837172210243723,
           -0.1425911380086525,
           -1.0905414293057647,
           1.810170900683577,
           -0.5343530979102203,
           -0.028826798644369375,
           0.6087311300160552,
           -0.560980837216796,
           -0.17778626738376846,
           -0.01892866926355151,
           0.219850589274985,
           -0.12799027878420416,
           -0.07688906029883949,
           -0.07338294441437695,
           -0.06456607921010102,
           -0.06289206608203741,
           -0.04405807715337099,
           -0.04405807715337099,
           -0.04368555978681013,
           -0.036561833370320096,
           -0.0296632561020448,
           -0.024216396019218437,
           -0.02135546235441271,
           -0.01849331867327724,
           -0.018047484081214364,
           -0.01663855172845151,
           -0.01663855172845151,
           -0.01067590550046116,
           -0.009883887429212703,
           -0.009883887429212703,
           -0.006988793139035462,
           -0.004034915906823382,
           -0.004034915906823382,
           -0.004034915906823382,
           0.6458061137182908,
           -0.4491176381068804,
           -0.31793818150385306,
           -0.14187630019002234,
           -0.09746483147295756,
           -0.05283654156463461,
           -0.05236972983375341,
           0.6458061137182908,
           -0.5468505554166361,
           -0.16871360986534567,
           -0.1513207691979515,
           -0.08856076763636457,
           -0.05062167690679935,
           -0.04118277456029769,
           -0.03304496883797669,
           -0.01849331867327724,
           -0.013978610472985471,
           -0.013383391630294216,
           -0.008070028895981391,
           -0.006988793139035462,
           -0.005706279250081865,
           -0.005706279250081865,
           -0.004034915906823382,
           -0.004034915906823382,
           0.9107810568209564,
           -0.58416984429136,
           -0.46108105708325564,
           -0.1139248744731164,
           -0.08976654169020765,
           -0.04779588130092973,
           -0.023877494002286583,
           -1.2220472206731874,
           1.7272187941996946,
           -0.2977149568699414,
           -0.27136649193076384,
           1.503341054550717,
           -0.6081534153347388,
           -0.5449411849790564,
           -0.3463768112798403,
           -0.2521552684429532,
           -0.11458293946056533,
           -0.0878107832192938,
           -0.07029180743645222,
           -0.04312079648566373,
           1.6211811202169217,
           -0.5602033111467297,
           -0.4475986947073832,
           -0.3889419490112517,
           -0.2959941926573556,
           -0.2507279884399495,
           -0.17807841465440408,
           -0.1086776487237805,
           -0.036337915301834764,
           -0.027965419010415153,
           -0.025527154406826257,
           -0.024216396019218437,
           -0.022830693305287888,
           -0.013978610472985471,
           -0.012760459344900329,
           -0.012760459344900329,
           -0.012105536097943983,
           -0.012105536097943983,
           -0.009883887429212703,
           -0.008070028895981391,
           -0.006988793139035462,
           -0.006988793139035462,
           -0.005706279250081865,
           -0.004034915906823382,
           -0.004034915906823382,
           -0.004034915906823382,
           -0.004034915906823382,
           -0.004034915906823382,
           -0.004034915906823382,
           -0.004034915906823382,
           -0.004034915906823382,
           0.6259183919500476,
           1.5282530255684048,
           0,
           -1.1841416422039481,
           -1.7327802637931964,
           0,
           -1.1841416422039481,
           -1.7327802637931964,
           -0.6998450973767599
          ],
          "vectorType": "dense"
         }
        ],
        [
         "-unknown-",
         0,
         "basic",
         0,
         "en",
         "direct",
         "direct",
         "untracked",
         "Web",
         "Mac Desktop",
         "Firefox",
         662916,
         "Millennials",
         2014,
         7,
         1,
         2014,
         7,
         1,
         0,
         0,
         0,
         0,
         0,
         0,
         0,
         0,
         1,
         4,
         {
          "indices": [
           0
          ],
          "length": 4,
          "values": [
           1
          ],
          "vectorType": "sparse"
         },
         {
          "indices": [
           0
          ],
          "length": 4,
          "values": [
           1
          ],
          "vectorType": "sparse"
         },
         {
          "indices": [
           0
          ],
          "length": 4,
          "values": [
           1
          ],
          "vectorType": "sparse"
         },
         {
          "indices": [
           0
          ],
          "length": 24,
          "values": [
           1
          ],
          "vectorType": "sparse"
         },
         {
          "indices": [
           0
          ],
          "length": 7,
          "values": [
           1
          ],
          "vectorType": "sparse"
         },
         {
          "indices": [
           0
          ],
          "length": 17,
          "values": [
           1
          ],
          "vectorType": "sparse"
         },
         {
          "indices": [
           0
          ],
          "length": 7,
          "values": [
           1
          ],
          "vectorType": "sparse"
         },
         {
          "indices": [
           0
          ],
          "length": 4,
          "values": [
           1
          ],
          "vectorType": "sparse"
         },
         {
          "indices": [
           1
          ],
          "length": 9,
          "values": [
           1
          ],
          "vectorType": "sparse"
         },
         {
          "indices": [
           4
          ],
          "length": 31,
          "values": [
           1
          ],
          "vectorType": "sparse"
         },
         {
          "indices": [
           0,
           4,
           8,
           12,
           36,
           43,
           60,
           67,
           72,
           84,
           113,
           114,
           115,
           116,
           117,
           118,
           119
          ],
          "length": 120,
          "values": [
           1,
           1,
           1,
           1,
           1,
           1,
           1,
           1,
           1,
           1,
           2014,
           7,
           1,
           2014,
           7,
           1,
           662916
          ],
          "vectorType": "sparse"
         },
         {
          "length": 120,
          "values": [
           0.5958045655314564,
           -0.44864642367405305,
           -0.2837172210243723,
           -0.1425911380086525,
           0.9169607798304473,
           -0.5524250329490987,
           -0.5343530979102203,
           -0.028826798644369375,
           0.6087311300160552,
           -0.560980837216796,
           -0.17778626738376846,
           -0.01892866926355151,
           0.219850589274985,
           -0.12799027878420416,
           -0.07688906029883949,
           -0.07338294441437695,
           -0.06456607921010102,
           -0.06289206608203741,
           -0.04405807715337099,
           -0.04405807715337099,
           -0.04368555978681013,
           -0.036561833370320096,
           -0.0296632561020448,
           -0.024216396019218437,
           -0.02135546235441271,
           -0.01849331867327724,
           -0.018047484081214364,
           -0.01663855172845151,
           -0.01663855172845151,
           -0.01067590550046116,
           -0.009883887429212703,
           -0.009883887429212703,
           -0.006988793139035462,
           -0.004034915906823382,
           -0.004034915906823382,
           -0.004034915906823382,
           0.6458061137182908,
           -0.4491176381068804,
           -0.31793818150385306,
           -0.14187630019002234,
           -0.09746483147295756,
           -0.05283654156463461,
           -0.05236972983375341,
           0.6458061137182908,
           -0.5468505554166361,
           -0.16871360986534567,
           -0.1513207691979515,
           -0.08856076763636457,
           -0.05062167690679935,
           -0.04118277456029769,
           -0.03304496883797669,
           -0.01849331867327724,
           -0.013978610472985471,
           -0.013383391630294216,
           -0.008070028895981391,
           -0.006988793139035462,
           -0.005706279250081865,
           -0.005706279250081865,
           -0.004034915906823382,
           -0.004034915906823382,
           0.9107810568209564,
           -0.58416984429136,
           -0.46108105708325564,
           -0.1139248744731164,
           -0.08976654169020765,
           -0.04779588130092973,
           -0.023877494002286583,
           0.8182856624008072,
           -0.5789560204021322,
           -0.2977149568699414,
           -0.27136649193076384,
           -0.66517422405688,
           1.6442951634222356,
           -0.5449411849790564,
           -0.3463768112798403,
           -0.2521552684429532,
           -0.11458293946056533,
           -0.0878107832192938,
           -0.07029180743645222,
           -0.04312079648566373,
           -0.616824182679738,
           -0.5602033111467297,
           -0.4475986947073832,
           -0.3889419490112517,
           3.3783896585133713,
           -0.2507279884399495,
           -0.17807841465440408,
           -0.1086776487237805,
           -0.036337915301834764,
           -0.027965419010415153,
           -0.025527154406826257,
           -0.024216396019218437,
           -0.022830693305287888,
           -0.013978610472985471,
           -0.012760459344900329,
           -0.012760459344900329,
           -0.012105536097943983,
           -0.012105536097943983,
           -0.009883887429212703,
           -0.008070028895981391,
           -0.006988793139035462,
           -0.006988793139035462,
           -0.005706279250081865,
           -0.004034915906823382,
           -0.004034915906823382,
           -0.004034915906823382,
           -0.004034915906823382,
           -0.004034915906823382,
           -0.004034915906823382,
           -0.004034915906823382,
           -0.004034915906823382,
           -0.956520933216754,
           -0.6937781692947165,
           0,
           -1.1841416422039481,
           -1.7327802637931964,
           0,
           -1.1841416422039481,
           -1.7327802637931964,
           -0.4297042695090216
          ],
          "vectorType": "dense"
         }
        ],
        [
         "-unknown-",
         0,
         "basic",
         0,
         "en",
         "sem-non-brand",
         "google",
         "omg",
         "Web",
         "Windows Desktop",
         "Chrome",
         14101,
         "Millennials",
         2014,
         7,
         1,
         2014,
         7,
         1,
         0,
         0,
         0,
         0,
         3,
         1,
         2,
         0,
         2,
         1,
         {
          "indices": [
           0
          ],
          "length": 4,
          "values": [
           1
          ],
          "vectorType": "sparse"
         },
         {
          "indices": [
           0
          ],
          "length": 4,
          "values": [
           1
          ],
          "vectorType": "sparse"
         },
         {
          "indices": [
           0
          ],
          "length": 4,
          "values": [
           1
          ],
          "vectorType": "sparse"
         },
         {
          "indices": [
           0
          ],
          "length": 24,
          "values": [
           1
          ],
          "vectorType": "sparse"
         },
         {
          "indices": [
           3
          ],
          "length": 7,
          "values": [
           1
          ],
          "vectorType": "sparse"
         },
         {
          "indices": [
           1
          ],
          "length": 17,
          "values": [
           1
          ],
          "vectorType": "sparse"
         },
         {
          "indices": [
           2
          ],
          "length": 7,
          "values": [
           1
          ],
          "vectorType": "sparse"
         },
         {
          "indices": [
           0
          ],
          "length": 4,
          "values": [
           1
          ],
          "vectorType": "sparse"
         },
         {
          "indices": [
           2
          ],
          "length": 9,
          "values": [
           1
          ],
          "vectorType": "sparse"
         },
         {
          "indices": [
           1
          ],
          "length": 31,
          "values": [
           1
          ],
          "vectorType": "sparse"
         },
         {
          "indices": [
           0,
           4,
           8,
           12,
           39,
           44,
           62,
           67,
           73,
           81,
           113,
           114,
           115,
           116,
           117,
           118,
           119
          ],
          "length": 120,
          "values": [
           1,
           1,
           1,
           1,
           1,
           1,
           1,
           1,
           1,
           1,
           2014,
           7,
           1,
           2014,
           7,
           1,
           14101
          ],
          "vectorType": "sparse"
         },
         {
          "length": 120,
          "values": [
           0.5958045655314564,
           -0.44864642367405305,
           -0.2837172210243723,
           -0.1425911380086525,
           0.9169607798304473,
           -0.5524250329490987,
           -0.5343530979102203,
           -0.028826798644369375,
           0.6087311300160552,
           -0.560980837216796,
           -0.17778626738376846,
           -0.01892866926355151,
           0.219850589274985,
           -0.12799027878420416,
           -0.07688906029883949,
           -0.07338294441437695,
           -0.06456607921010102,
           -0.06289206608203741,
           -0.04405807715337099,
           -0.04405807715337099,
           -0.04368555978681013,
           -0.036561833370320096,
           -0.0296632561020448,
           -0.024216396019218437,
           -0.02135546235441271,
           -0.01849331867327724,
           -0.018047484081214364,
           -0.01663855172845151,
           -0.01663855172845151,
           -0.01067590550046116,
           -0.009883887429212703,
           -0.009883887429212703,
           -0.006988793139035462,
           -0.004034915906823382,
           -0.004034915906823382,
           -0.004034915906823382,
           -1.5484271489721932,
           -0.4491176381068804,
           -0.31793818150385306,
           7.048278804242108,
           -0.09746483147295756,
           -0.05283654156463461,
           -0.05236972983375341,
           -1.5484271489721932,
           1.8286233954572,
           -0.16871360986534567,
           -0.1513207691979515,
           -0.08856076763636457,
           -0.05062167690679935,
           -0.04118277456029769,
           -0.03304496883797669,
           -0.01849331867327724,
           -0.013978610472985471,
           -0.013383391630294216,
           -0.008070028895981391,
           -0.006988793139035462,
           -0.005706279250081865,
           -0.005706279250081865,
           -0.004034915906823382,
           -0.004034915906823382,
           -1.0979408409569111,
           -0.58416984429136,
           2.1687807470977094,
           -0.1139248744731164,
           -0.08976654169020765,
           -0.04779588130092973,
           -0.023877494002286583,
           0.8182856624008072,
           -0.5789560204021322,
           -0.2977149568699414,
           -0.27136649193076384,
           -0.66517422405688,
           -0.6081534153347388,
           1.8350305446119972,
           -0.3463768112798403,
           -0.2521552684429532,
           -0.11458293946056533,
           -0.0878107832192938,
           -0.07029180743645222,
           -0.04312079648566373,
           -0.616824182679738,
           1.7850371455439449,
           -0.4475986947073832,
           -0.3889419490112517,
           -0.2959941926573556,
           -0.2507279884399495,
           -0.17807841465440408,
           -0.1086776487237805,
           -0.036337915301834764,
           -0.027965419010415153,
           -0.025527154406826257,
           -0.024216396019218437,
           -0.022830693305287888,
           -0.013978610472985471,
           -0.012760459344900329,
           -0.012760459344900329,
           -0.012105536097943983,
           -0.012105536097943983,
           -0.009883887429212703,
           -0.008070028895981391,
           -0.006988793139035462,
           -0.006988793139035462,
           -0.005706279250081865,
           -0.004034915906823382,
           -0.004034915906823382,
           -0.004034915906823382,
           -0.004034915906823382,
           -0.004034915906823382,
           -0.004034915906823382,
           -0.004034915906823382,
           -0.004034915906823382,
           -0.956520933216754,
           -0.6937781692947165,
           0,
           -1.1841416422039481,
           -1.7327802637931964,
           0,
           -1.1841416422039481,
           -1.7327802637931964,
           -0.7767729544388869
          ],
          "vectorType": "dense"
         }
        ],
        [
         "-unknown-",
         27,
         "basic",
         0,
         "en",
         "direct",
         "direct",
         "product",
         "Web",
         "Mac Desktop",
         "Chrome",
         1422903,
         "Gen Z",
         2014,
         7,
         1,
         2014,
         7,
         1,
         1,
         0,
         0,
         0,
         0,
         0,
         3,
         0,
         1,
         1,
         {
          "indices": [
           1
          ],
          "length": 4,
          "values": [
           1
          ],
          "vectorType": "sparse"
         },
         {
          "indices": [
           0
          ],
          "length": 4,
          "values": [
           1
          ],
          "vectorType": "sparse"
         },
         {
          "indices": [
           0
          ],
          "length": 4,
          "values": [
           1
          ],
          "vectorType": "sparse"
         },
         {
          "indices": [
           0
          ],
          "length": 24,
          "values": [
           1
          ],
          "vectorType": "sparse"
         },
         {
          "indices": [
           0
          ],
          "length": 7,
          "values": [
           1
          ],
          "vectorType": "sparse"
         },
         {
          "indices": [
           0
          ],
          "length": 17,
          "values": [
           1
          ],
          "vectorType": "sparse"
         },
         {
          "indices": [
           3
          ],
          "length": 7,
          "values": [
           1
          ],
          "vectorType": "sparse"
         },
         {
          "indices": [
           0
          ],
          "length": 4,
          "values": [
           1
          ],
          "vectorType": "sparse"
         },
         {
          "indices": [
           1
          ],
          "length": 9,
          "values": [
           1
          ],
          "vectorType": "sparse"
         },
         {
          "indices": [
           1
          ],
          "length": 31,
          "values": [
           1
          ],
          "vectorType": "sparse"
         },
         {
          "indices": [
           1,
           4,
           8,
           12,
           36,
           43,
           63,
           67,
           72,
           81,
           111,
           113,
           114,
           115,
           116,
           117,
           118,
           119
          ],
          "length": 120,
          "values": [
           1,
           1,
           1,
           1,
           1,
           1,
           1,
           1,
           1,
           1,
           27,
           2014,
           7,
           1,
           2014,
           7,
           1,
           1422903
          ],
          "vectorType": "sparse"
         },
         {
          "length": 120,
          "values": [
           -1.6783753890197892,
           2.2288904283791298,
           -0.2837172210243723,
           -0.1425911380086525,
           0.9169607798304473,
           -0.5524250329490987,
           -0.5343530979102203,
           -0.028826798644369375,
           0.6087311300160552,
           -0.560980837216796,
           -0.17778626738376846,
           -0.01892866926355151,
           0.219850589274985,
           -0.12799027878420416,
           -0.07688906029883949,
           -0.07338294441437695,
           -0.06456607921010102,
           -0.06289206608203741,
           -0.04405807715337099,
           -0.04405807715337099,
           -0.04368555978681013,
           -0.036561833370320096,
           -0.0296632561020448,
           -0.024216396019218437,
           -0.02135546235441271,
           -0.01849331867327724,
           -0.018047484081214364,
           -0.01663855172845151,
           -0.01663855172845151,
           -0.01067590550046116,
           -0.009883887429212703,
           -0.009883887429212703,
           -0.006988793139035462,
           -0.004034915906823382,
           -0.004034915906823382,
           -0.004034915906823382,
           0.6458061137182908,
           -0.4491176381068804,
           -0.31793818150385306,
           -0.14187630019002234,
           -0.09746483147295756,
           -0.05283654156463461,
           -0.05236972983375341,
           0.6458061137182908,
           -0.5468505554166361,
           -0.16871360986534567,
           -0.1513207691979515,
           -0.08856076763636457,
           -0.05062167690679935,
           -0.04118277456029769,
           -0.03304496883797669,
           -0.01849331867327724,
           -0.013978610472985471,
           -0.013383391630294216,
           -0.008070028895981391,
           -0.006988793139035462,
           -0.005706279250081865,
           -0.005706279250081865,
           -0.004034915906823382,
           -0.004034915906823382,
           -1.0979408409569111,
           -0.58416984429136,
           -0.46108105708325564,
           8.77757139587279,
           -0.08976654169020765,
           -0.04779588130092973,
           -0.023877494002286583,
           0.8182856624008072,
           -0.5789560204021322,
           -0.2977149568699414,
           -0.27136649193076384,
           -0.66517422405688,
           1.6442951634222356,
           -0.5449411849790564,
           -0.3463768112798403,
           -0.2521552684429532,
           -0.11458293946056533,
           -0.0878107832192938,
           -0.07029180743645222,
           -0.04312079648566373,
           -0.616824182679738,
           1.7850371455439449,
           -0.4475986947073832,
           -0.3889419490112517,
           -0.2959941926573556,
           -0.2507279884399495,
           -0.17807841465440408,
           -0.1086776487237805,
           -0.036337915301834764,
           -0.027965419010415153,
           -0.025527154406826257,
           -0.024216396019218437,
           -0.022830693305287888,
           -0.013978610472985471,
           -0.012760459344900329,
           -0.012760459344900329,
           -0.012105536097943983,
           -0.012105536097943983,
           -0.009883887429212703,
           -0.008070028895981391,
           -0.006988793139035462,
           -0.006988793139035462,
           -0.005706279250081865,
           -0.004034915906823382,
           -0.004034915906823382,
           -0.004034915906823382,
           -0.004034915906823382,
           -0.004034915906823382,
           -0.004034915906823382,
           -0.004034915906823382,
           -0.004034915906823382,
           0.46767445943336744,
           -0.6937781692947165,
           0,
           -1.1841416422039481,
           -1.7327802637931964,
           0,
           -1.1841416422039481,
           -1.7327802637931964,
           -0.02316667612139389
          ],
          "vectorType": "dense"
         }
        ],
        [
         "-unknown-",
         0,
         "basic",
         0,
         "en",
         "seo",
         "facebook",
         "linked",
         "Web",
         "Windows Desktop",
         "Chrome",
         337213,
         "Millennials",
         2014,
         7,
         1,
         2014,
         7,
         1,
         0,
         0,
         0,
         0,
         2,
         2,
         1,
         0,
         2,
         1,
         {
          "indices": [
           0
          ],
          "length": 4,
          "values": [
           1
          ],
          "vectorType": "sparse"
         },
         {
          "indices": [
           0
          ],
          "length": 4,
          "values": [
           1
          ],
          "vectorType": "sparse"
         },
         {
          "indices": [
           0
          ],
          "length": 4,
          "values": [
           1
          ],
          "vectorType": "sparse"
         },
         {
          "indices": [
           0
          ],
          "length": 24,
          "values": [
           1
          ],
          "vectorType": "sparse"
         },
         {
          "indices": [
           2
          ],
          "length": 7,
          "values": [
           1
          ],
          "vectorType": "sparse"
         },
         {
          "indices": [
           2
          ],
          "length": 17,
          "values": [
           1
          ],
          "vectorType": "sparse"
         },
         {
          "indices": [
           1
          ],
          "length": 7,
          "values": [
           1
          ],
          "vectorType": "sparse"
         },
         {
          "indices": [
           0
          ],
          "length": 4,
          "values": [
           1
          ],
          "vectorType": "sparse"
         },
         {
          "indices": [
           2
          ],
          "length": 9,
          "values": [
           1
          ],
          "vectorType": "sparse"
         },
         {
          "indices": [
           1
          ],
          "length": 31,
          "values": [
           1
          ],
          "vectorType": "sparse"
         },
         {
          "indices": [
           0,
           4,
           8,
           12,
           38,
           45,
           61,
           67,
           73,
           81,
           113,
           114,
           115,
           116,
           117,
           118,
           119
          ],
          "length": 120,
          "values": [
           1,
           1,
           1,
           1,
           1,
           1,
           1,
           1,
           1,
           1,
           2014,
           7,
           1,
           2014,
           7,
           1,
           337213
          ],
          "vectorType": "sparse"
         },
         {
          "length": 120,
          "values": [
           0.5958045655314564,
           -0.44864642367405305,
           -0.2837172210243723,
           -0.1425911380086525,
           0.9169607798304473,
           -0.5524250329490987,
           -0.5343530979102203,
           -0.028826798644369375,
           0.6087311300160552,
           -0.560980837216796,
           -0.17778626738376846,
           -0.01892866926355151,
           0.219850589274985,
           -0.12799027878420416,
           -0.07688906029883949,
           -0.07338294441437695,
           -0.06456607921010102,
           -0.06289206608203741,
           -0.04405807715337099,
           -0.04405807715337099,
           -0.04368555978681013,
           -0.036561833370320096,
           -0.0296632561020448,
           -0.024216396019218437,
           -0.02135546235441271,
           -0.01849331867327724,
           -0.018047484081214364,
           -0.01663855172845151,
           -0.01663855172845151,
           -0.01067590550046116,
           -0.009883887429212703,
           -0.009883887429212703,
           -0.006988793139035462,
           -0.004034915906823382,
           -0.004034915906823382,
           -0.004034915906823382,
           -1.5484271489721932,
           -0.4491176381068804,
           3.145214314064717,
           -0.14187630019002234,
           -0.09746483147295756,
           -0.05283654156463461,
           -0.05236972983375341,
           -1.5484271489721932,
           -0.5468505554166361,
           5.9271076011694355,
           -0.1513207691979515,
           -0.08856076763636457,
           -0.05062167690679935,
           -0.04118277456029769,
           -0.03304496883797669,
           -0.01849331867327724,
           -0.013978610472985471,
           -0.013383391630294216,
           -0.008070028895981391,
           -0.006988793139035462,
           -0.005706279250081865,
           -0.005706279250081865,
           -0.004034915906823382,
           -0.004034915906823382,
           -1.0979408409569111,
           1.7118030470516274,
           -0.46108105708325564,
           -0.1139248744731164,
           -0.08976654169020765,
           -0.04779588130092973,
           -0.023877494002286583,
           0.8182856624008072,
           -0.5789560204021322,
           -0.2977149568699414,
           -0.27136649193076384,
           -0.66517422405688,
           -0.6081534153347388,
           1.8350305446119972,
           -0.3463768112798403,
           -0.2521552684429532,
           -0.11458293946056533,
           -0.0878107832192938,
           -0.07029180743645222,
           -0.04312079648566373,
           -0.616824182679738,
           1.7850371455439449,
           -0.4475986947073832,
           -0.3889419490112517,
           -0.2959941926573556,
           -0.2507279884399495,
           -0.17807841465440408,
           -0.1086776487237805,
           -0.036337915301834764,
           -0.027965419010415153,
           -0.025527154406826257,
           -0.024216396019218437,
           -0.022830693305287888,
           -0.013978610472985471,
           -0.012760459344900329,
           -0.012760459344900329,
           -0.012105536097943983,
           -0.012105536097943983,
           -0.009883887429212703,
           -0.008070028895981391,
           -0.006988793139035462,
           -0.006988793139035462,
           -0.005706279250081865,
           -0.004034915906823382,
           -0.004034915906823382,
           -0.004034915906823382,
           -0.004034915906823382,
           -0.004034915906823382,
           -0.004034915906823382,
           -0.004034915906823382,
           -0.004034915906823382,
           -0.956520933216754,
           -0.6937781692947165,
           0,
           -1.1841416422039481,
           -1.7327802637931964,
           0,
           -1.1841416422039481,
           -1.7327802637931964,
           -0.6039316099492271
          ],
          "vectorType": "dense"
         }
        ],
        [
         "female",
         36,
         "basic",
         0,
         "en",
         "direct",
         "direct",
         "linked",
         "Web",
         "Mac Desktop",
         "Chrome",
         797584,
         "Millennials",
         2014,
         7,
         1,
         2014,
         7,
         1,
         0,
         1,
         0,
         0,
         0,
         0,
         1,
         0,
         1,
         1,
         {
          "indices": [
           0
          ],
          "length": 4,
          "values": [
           1
          ],
          "vectorType": "sparse"
         },
         {
          "indices": [
           1
          ],
          "length": 4,
          "values": [
           1
          ],
          "vectorType": "sparse"
         },
         {
          "indices": [
           0
          ],
          "length": 4,
          "values": [
           1
          ],
          "vectorType": "sparse"
         },
         {
          "indices": [
           0
          ],
          "length": 24,
          "values": [
           1
          ],
          "vectorType": "sparse"
         },
         {
          "indices": [
           0
          ],
          "length": 7,
          "values": [
           1
          ],
          "vectorType": "sparse"
         },
         {
          "indices": [
           0
          ],
          "length": 17,
          "values": [
           1
          ],
          "vectorType": "sparse"
         },
         {
          "indices": [
           1
          ],
          "length": 7,
          "values": [
           1
          ],
          "vectorType": "sparse"
         },
         {
          "indices": [
           0
          ],
          "length": 4,
          "values": [
           1
          ],
          "vectorType": "sparse"
         },
         {
          "indices": [
           1
          ],
          "length": 9,
          "values": [
           1
          ],
          "vectorType": "sparse"
         },
         {
          "indices": [
           1
          ],
          "length": 31,
          "values": [
           1
          ],
          "vectorType": "sparse"
         },
         {
          "indices": [
           0,
           5,
           8,
           12,
           36,
           43,
           61,
           67,
           72,
           81,
           111,
           113,
           114,
           115,
           116,
           117,
           118,
           119
          ],
          "length": 120,
          "values": [
           1,
           1,
           1,
           1,
           1,
           1,
           1,
           1,
           1,
           1,
           36,
           2014,
           7,
           1,
           2014,
           7,
           1,
           797584
          ],
          "vectorType": "sparse"
         },
         {
          "length": 120,
          "values": [
           0.5958045655314564,
           -0.44864642367405305,
           -0.2837172210243723,
           -0.1425911380086525,
           -1.0905414293057647,
           1.810170900683577,
           -0.5343530979102203,
           -0.028826798644369375,
           0.6087311300160552,
           -0.560980837216796,
           -0.17778626738376846,
           -0.01892866926355151,
           0.219850589274985,
           -0.12799027878420416,
           -0.07688906029883949,
           -0.07338294441437695,
           -0.06456607921010102,
           -0.06289206608203741,
           -0.04405807715337099,
           -0.04405807715337099,
           -0.04368555978681013,
           -0.036561833370320096,
           -0.0296632561020448,
           -0.024216396019218437,
           -0.02135546235441271,
           -0.01849331867327724,
           -0.018047484081214364,
           -0.01663855172845151,
           -0.01663855172845151,
           -0.01067590550046116,
           -0.009883887429212703,
           -0.009883887429212703,
           -0.006988793139035462,
           -0.004034915906823382,
           -0.004034915906823382,
           -0.004034915906823382,
           0.6458061137182908,
           -0.4491176381068804,
           -0.31793818150385306,
           -0.14187630019002234,
           -0.09746483147295756,
           -0.05283654156463461,
           -0.05236972983375341,
           0.6458061137182908,
           -0.5468505554166361,
           -0.16871360986534567,
           -0.1513207691979515,
           -0.08856076763636457,
           -0.05062167690679935,
           -0.04118277456029769,
           -0.03304496883797669,
           -0.01849331867327724,
           -0.013978610472985471,
           -0.013383391630294216,
           -0.008070028895981391,
           -0.006988793139035462,
           -0.005706279250081865,
           -0.005706279250081865,
           -0.004034915906823382,
           -0.004034915906823382,
           -1.0979408409569111,
           1.7118030470516274,
           -0.46108105708325564,
           -0.1139248744731164,
           -0.08976654169020765,
           -0.04779588130092973,
           -0.023877494002286583,
           0.8182856624008072,
           -0.5789560204021322,
           -0.2977149568699414,
           -0.27136649193076384,
           -0.66517422405688,
           1.6442951634222356,
           -0.5449411849790564,
           -0.3463768112798403,
           -0.2521552684429532,
           -0.11458293946056533,
           -0.0878107832192938,
           -0.07029180743645222,
           -0.04312079648566373,
           -0.616824182679738,
           1.7850371455439449,
           -0.4475986947073832,
           -0.3889419490112517,
           -0.2959941926573556,
           -0.2507279884399495,
           -0.17807841465440408,
           -0.1086776487237805,
           -0.036337915301834764,
           -0.027965419010415153,
           -0.025527154406826257,
           -0.024216396019218437,
           -0.022830693305287888,
           -0.013978610472985471,
           -0.012760459344900329,
           -0.012760459344900329,
           -0.012105536097943983,
           -0.012105536097943983,
           -0.009883887429212703,
           -0.008070028895981391,
           -0.006988793139035462,
           -0.006988793139035462,
           -0.005706279250081865,
           -0.004034915906823382,
           -0.004034915906823382,
           -0.004034915906823382,
           -0.004034915906823382,
           -0.004034915906823382,
           -0.004034915906823382,
           -0.004034915906823382,
           -0.004034915906823382,
           0.942406256983408,
           -0.6937781692947165,
           0,
           -1.1841416422039481,
           -1.7327802637931964,
           0,
           -1.1841416422039481,
           -1.7327802637931964,
           -0.35766671541095796
          ],
          "vectorType": "dense"
         }
        ],
        [
         "female",
         35,
         "basic",
         0,
         "en",
         "direct",
         "direct",
         "untracked",
         "Web",
         "Android Phone",
         "Android Browser",
         1411426,
         "Millennials",
         2014,
         7,
         1,
         2014,
         7,
         1,
         0,
         1,
         0,
         0,
         0,
         0,
         0,
         0,
         3,
         7,
         {
          "indices": [
           0
          ],
          "length": 4,
          "values": [
           1
          ],
          "vectorType": "sparse"
         },
         {
          "indices": [
           1
          ],
          "length": 4,
          "values": [
           1
          ],
          "vectorType": "sparse"
         },
         {
          "indices": [
           0
          ],
          "length": 4,
          "values": [
           1
          ],
          "vectorType": "sparse"
         },
         {
          "indices": [
           0
          ],
          "length": 24,
          "values": [
           1
          ],
          "vectorType": "sparse"
         },
         {
          "indices": [
           0
          ],
          "length": 7,
          "values": [
           1
          ],
          "vectorType": "sparse"
         },
         {
          "indices": [
           0
          ],
          "length": 17,
          "values": [
           1
          ],
          "vectorType": "sparse"
         },
         {
          "indices": [
           0
          ],
          "length": 7,
          "values": [
           1
          ],
          "vectorType": "sparse"
         },
         {
          "indices": [
           0
          ],
          "length": 4,
          "values": [
           1
          ],
          "vectorType": "sparse"
         },
         {
          "indices": [
           3
          ],
          "length": 9,
          "values": [
           1
          ],
          "vectorType": "sparse"
         },
         {
          "indices": [
           7
          ],
          "length": 31,
          "values": [
           1
          ],
          "vectorType": "sparse"
         },
         {
          "indices": [
           0,
           5,
           8,
           12,
           36,
           43,
           60,
           67,
           74,
           87,
           111,
           113,
           114,
           115,
           116,
           117,
           118,
           119
          ],
          "length": 120,
          "values": [
           1,
           1,
           1,
           1,
           1,
           1,
           1,
           1,
           1,
           1,
           35,
           2014,
           7,
           1,
           2014,
           7,
           1,
           1411426
          ],
          "vectorType": "sparse"
         },
         {
          "length": 120,
          "values": [
           0.5958045655314564,
           -0.44864642367405305,
           -0.2837172210243723,
           -0.1425911380086525,
           -1.0905414293057647,
           1.810170900683577,
           -0.5343530979102203,
           -0.028826798644369375,
           0.6087311300160552,
           -0.560980837216796,
           -0.17778626738376846,
           -0.01892866926355151,
           0.219850589274985,
           -0.12799027878420416,
           -0.07688906029883949,
           -0.07338294441437695,
           -0.06456607921010102,
           -0.06289206608203741,
           -0.04405807715337099,
           -0.04405807715337099,
           -0.04368555978681013,
           -0.036561833370320096,
           -0.0296632561020448,
           -0.024216396019218437,
           -0.02135546235441271,
           -0.01849331867327724,
           -0.018047484081214364,
           -0.01663855172845151,
           -0.01663855172845151,
           -0.01067590550046116,
           -0.009883887429212703,
           -0.009883887429212703,
           -0.006988793139035462,
           -0.004034915906823382,
           -0.004034915906823382,
           -0.004034915906823382,
           0.6458061137182908,
           -0.4491176381068804,
           -0.31793818150385306,
           -0.14187630019002234,
           -0.09746483147295756,
           -0.05283654156463461,
           -0.05236972983375341,
           0.6458061137182908,
           -0.5468505554166361,
           -0.16871360986534567,
           -0.1513207691979515,
           -0.08856076763636457,
           -0.05062167690679935,
           -0.04118277456029769,
           -0.03304496883797669,
           -0.01849331867327724,
           -0.013978610472985471,
           -0.013383391630294216,
           -0.008070028895981391,
           -0.006988793139035462,
           -0.005706279250081865,
           -0.005706279250081865,
           -0.004034915906823382,
           -0.004034915906823382,
           0.9107810568209564,
           -0.58416984429136,
           -0.46108105708325564,
           -0.1139248744731164,
           -0.08976654169020765,
           -0.04779588130092973,
           -0.023877494002286583,
           0.8182856624008072,
           -0.5789560204021322,
           -0.2977149568699414,
           -0.27136649193076384,
           -0.66517422405688,
           -0.6081534153347388,
           -0.5449411849790564,
           2.8869822889088574,
           -0.2521552684429532,
           -0.11458293946056533,
           -0.0878107832192938,
           -0.07029180743645222,
           -0.04312079648566373,
           -0.616824182679738,
           -0.5602033111467297,
           -0.4475986947073832,
           -0.3889419490112517,
           -0.2959941926573556,
           -0.2507279884399495,
           -0.17807841465440408,
           9.201374258613415,
           -0.036337915301834764,
           -0.027965419010415153,
           -0.025527154406826257,
           -0.024216396019218437,
           -0.022830693305287888,
           -0.013978610472985471,
           -0.012760459344900329,
           -0.012760459344900329,
           -0.012105536097943983,
           -0.012105536097943983,
           -0.009883887429212703,
           -0.008070028895981391,
           -0.006988793139035462,
           -0.006988793139035462,
           -0.005706279250081865,
           -0.004034915906823382,
           -0.004034915906823382,
           -0.004034915906823382,
           -0.004034915906823382,
           -0.004034915906823382,
           -0.004034915906823382,
           -0.004034915906823382,
           -0.004034915906823382,
           0.8896582794778479,
           -0.6937781692947165,
           0,
           -1.1841416422039481,
           -1.7327802637931964,
           0,
           -1.1841416422039481,
           -1.7327802637931964,
           -0.029306033714760357
          ],
          "vectorType": "dense"
         }
        ]
       ],
       "datasetInfos": [],
       "dbfsResultPath": null,
       "isJsonSchema": true,
       "metadata": {},
       "overflow": false,
       "plotOptions": {
        "customPlotOptions": {},
        "displayType": "table",
        "pivotAggregation": null,
        "pivotColumns": null,
        "xColumns": null,
        "yColumns": null
       },
       "removedWidgets": [],
       "schema": [
        {
         "metadata": "{}",
         "name": "gender",
         "type": "\"string\""
        },
        {
         "metadata": "{}",
         "name": "age",
         "type": "\"float\""
        },
        {
         "metadata": "{}",
         "name": "signup_method",
         "type": "\"string\""
        },
        {
         "metadata": "{}",
         "name": "signup_flow",
         "type": "\"float\""
        },
        {
         "metadata": "{}",
         "name": "language",
         "type": "\"string\""
        },
        {
         "metadata": "{}",
         "name": "affiliate_channel",
         "type": "\"string\""
        },
        {
         "metadata": "{}",
         "name": "affiliate_provider",
         "type": "\"string\""
        },
        {
         "metadata": "{}",
         "name": "first_affiliate_tracked",
         "type": "\"string\""
        },
        {
         "metadata": "{}",
         "name": "signup_app",
         "type": "\"string\""
        },
        {
         "metadata": "{}",
         "name": "first_device_type",
         "type": "\"string\""
        },
        {
         "metadata": "{}",
         "name": "first_browser",
         "type": "\"string\""
        },
        {
         "metadata": "{}",
         "name": "sum_secs_elapsed",
         "type": "\"double\""
        },
        {
         "metadata": "{}",
         "name": "Generation",
         "type": "\"string\""
        },
        {
         "metadata": "{}",
         "name": "dac_year",
         "type": "\"integer\""
        },
        {
         "metadata": "{}",
         "name": "dac_month",
         "type": "\"integer\""
        },
        {
         "metadata": "{}",
         "name": "dac_day",
         "type": "\"integer\""
        },
        {
         "metadata": "{}",
         "name": "tfa_year",
         "type": "\"integer\""
        },
        {
         "metadata": "{}",
         "name": "tfa_month",
         "type": "\"integer\""
        },
        {
         "metadata": "{}",
         "name": "tfa_day",
         "type": "\"integer\""
        },
        {
         "metadata": "{\"ml_attr\":{\"vals\":[\"Millennials\",\"Gen Z\",\"Gen X\",\"The Baby Boomer Generation\",\"__unknown\"],\"type\":\"nominal\",\"name\":\"Generation_indexed\"}}",
         "name": "Generation_indexed",
         "type": "\"double\""
        },
        {
         "metadata": "{\"ml_attr\":{\"vals\":[\"-unknown-\",\"female\",\"male\",\"other\",\"__unknown\"],\"type\":\"nominal\",\"name\":\"gender_indexed\"}}",
         "name": "gender_indexed",
         "type": "\"double\""
        },
        {
         "metadata": "{\"ml_attr\":{\"vals\":[\"basic\",\"facebook\",\"google\",\"weibo\",\"__unknown\"],\"type\":\"nominal\",\"name\":\"signup_method_indexed\"}}",
         "name": "signup_method_indexed",
         "type": "\"double\""
        },
        {
         "metadata": "{\"ml_attr\":{\"vals\":[\"en\",\"zh\",\"ko\",\"fr\",\"es\",\"de\",\"it\",\"ja\",\"ru\",\"pt\",\"sv\",\"nl\",\"tr\",\"no\",\"pl\",\"cs\",\"da\",\"hu\",\"el\",\"fi\",\"th\",\"-unknown-\",\"ca\",\"id\",\"__unknown\"],\"type\":\"nominal\",\"name\":\"language_indexed\"}}",
         "name": "language_indexed",
         "type": "\"double\""
        },
        {
         "metadata": "{\"ml_attr\":{\"vals\":[\"direct\",\"sem-brand\",\"seo\",\"sem-non-brand\",\"other\",\"remarketing\",\"content\",\"__unknown\"],\"type\":\"nominal\",\"name\":\"affiliate_channel_indexed\"}}",
         "name": "affiliate_channel_indexed",
         "type": "\"double\""
        },
        {
         "metadata": "{\"ml_attr\":{\"vals\":[\"direct\",\"google\",\"facebook\",\"bing\",\"other\",\"yahoo\",\"email-marketing\",\"padmapper\",\"facebook-open-graph\",\"naver\",\"meetup\",\"craigslist\",\"baidu\",\"daum\",\"gsp\",\"vast\",\"yandex\",\"__unknown\"],\"type\":\"nominal\",\"name\":\"affiliate_provider_indexed\"}}",
         "name": "affiliate_provider_indexed",
         "type": "\"double\""
        },
        {
         "metadata": "{\"ml_attr\":{\"vals\":[\"untracked\",\"linked\",\"omg\",\"product\",\"tracked-other\",\"marketing\",\"local ops\",\"__unknown\"],\"type\":\"nominal\",\"name\":\"first_affiliate_tracked_indexed\"}}",
         "name": "first_affiliate_tracked_indexed",
         "type": "\"double\""
        },
        {
         "metadata": "{\"ml_attr\":{\"vals\":[\"Web\",\"iOS\",\"Android\",\"Moweb\",\"__unknown\"],\"type\":\"nominal\",\"name\":\"signup_app_indexed\"}}",
         "name": "signup_app_indexed",
         "type": "\"double\""
        },
        {
         "metadata": "{\"ml_attr\":{\"vals\":[\"iPhone\",\"Mac Desktop\",\"Windows Desktop\",\"Android Phone\",\"iPad\",\"Android Tablet\",\"Other/Unknown\",\"Desktop (Other)\",\"SmartPhone (Other)\",\"__unknown\"],\"type\":\"nominal\",\"name\":\"first_device_type_indexed\"}}",
         "name": "first_device_type_indexed",
         "type": "\"double\""
        },
        {
         "metadata": "{\"ml_attr\":{\"vals\":[\"-unknown-\",\"Chrome\",\"Mobile Safari\",\"Safari\",\"Firefox\",\"IE\",\"Chrome Mobile\",\"Android Browser\",\"IE Mobile\",\"Silk\",\"Opera\",\"BlackBerry Browser\",\"Mobile Firefox\",\"Maxthon\",\"Chromium\",\"Sogou Explorer\",\"AOL Explorer\",\"Apple Mail\",\"Iron\",\"Opera Mini\",\"SiteKiosk\",\"Yandex.Browser\",\"Opera Mobile\",\"CometBird\",\"IBrowse\",\"IceWeasel\",\"Nintendo Browser\",\"Pale Moon\",\"SeaMonkey\",\"UC Browser\",\"wOSBrowser\",\"__unknown\"],\"type\":\"nominal\",\"name\":\"first_browser_indexed\"}}",
         "name": "first_browser_indexed",
         "type": "\"double\""
        },
        {
         "metadata": "{\"ml_attr\":{\"attrs\":{\"binary\":[{\"idx\":0,\"name\":\"Millennials\"},{\"idx\":1,\"name\":\"Gen Z\"},{\"idx\":2,\"name\":\"Gen X\"},{\"idx\":3,\"name\":\"The Baby Boomer Generation\"}]},\"num_attrs\":4}}",
         "name": "Generation_encoded",
         "type": "{\"type\":\"udt\",\"class\":\"org.apache.spark.ml.linalg.VectorUDT\",\"pyClass\":\"pyspark.ml.linalg.VectorUDT\",\"sqlType\":{\"type\":\"struct\",\"fields\":[{\"name\":\"type\",\"type\":\"byte\",\"nullable\":false,\"metadata\":{}},{\"name\":\"size\",\"type\":\"integer\",\"nullable\":true,\"metadata\":{}},{\"name\":\"indices\",\"type\":{\"type\":\"array\",\"elementType\":\"integer\",\"containsNull\":false},\"nullable\":true,\"metadata\":{}},{\"name\":\"values\",\"type\":{\"type\":\"array\",\"elementType\":\"double\",\"containsNull\":false},\"nullable\":true,\"metadata\":{}}]}}"
        },
        {
         "metadata": "{\"ml_attr\":{\"attrs\":{\"binary\":[{\"idx\":0,\"name\":\"-unknown-\"},{\"idx\":1,\"name\":\"female\"},{\"idx\":2,\"name\":\"male\"},{\"idx\":3,\"name\":\"other\"}]},\"num_attrs\":4}}",
         "name": "gender_encoded",
         "type": "{\"type\":\"udt\",\"class\":\"org.apache.spark.ml.linalg.VectorUDT\",\"pyClass\":\"pyspark.ml.linalg.VectorUDT\",\"sqlType\":{\"type\":\"struct\",\"fields\":[{\"name\":\"type\",\"type\":\"byte\",\"nullable\":false,\"metadata\":{}},{\"name\":\"size\",\"type\":\"integer\",\"nullable\":true,\"metadata\":{}},{\"name\":\"indices\",\"type\":{\"type\":\"array\",\"elementType\":\"integer\",\"containsNull\":false},\"nullable\":true,\"metadata\":{}},{\"name\":\"values\",\"type\":{\"type\":\"array\",\"elementType\":\"double\",\"containsNull\":false},\"nullable\":true,\"metadata\":{}}]}}"
        },
        {
         "metadata": "{\"ml_attr\":{\"attrs\":{\"binary\":[{\"idx\":0,\"name\":\"basic\"},{\"idx\":1,\"name\":\"facebook\"},{\"idx\":2,\"name\":\"google\"},{\"idx\":3,\"name\":\"weibo\"}]},\"num_attrs\":4}}",
         "name": "signup_method_encoded",
         "type": "{\"type\":\"udt\",\"class\":\"org.apache.spark.ml.linalg.VectorUDT\",\"pyClass\":\"pyspark.ml.linalg.VectorUDT\",\"sqlType\":{\"type\":\"struct\",\"fields\":[{\"name\":\"type\",\"type\":\"byte\",\"nullable\":false,\"metadata\":{}},{\"name\":\"size\",\"type\":\"integer\",\"nullable\":true,\"metadata\":{}},{\"name\":\"indices\",\"type\":{\"type\":\"array\",\"elementType\":\"integer\",\"containsNull\":false},\"nullable\":true,\"metadata\":{}},{\"name\":\"values\",\"type\":{\"type\":\"array\",\"elementType\":\"double\",\"containsNull\":false},\"nullable\":true,\"metadata\":{}}]}}"
        },
        {
         "metadata": "{\"ml_attr\":{\"attrs\":{\"binary\":[{\"idx\":0,\"name\":\"en\"},{\"idx\":1,\"name\":\"zh\"},{\"idx\":2,\"name\":\"ko\"},{\"idx\":3,\"name\":\"fr\"},{\"idx\":4,\"name\":\"es\"},{\"idx\":5,\"name\":\"de\"},{\"idx\":6,\"name\":\"it\"},{\"idx\":7,\"name\":\"ja\"},{\"idx\":8,\"name\":\"ru\"},{\"idx\":9,\"name\":\"pt\"},{\"idx\":10,\"name\":\"sv\"},{\"idx\":11,\"name\":\"nl\"},{\"idx\":12,\"name\":\"tr\"},{\"idx\":13,\"name\":\"no\"},{\"idx\":14,\"name\":\"pl\"},{\"idx\":15,\"name\":\"cs\"},{\"idx\":16,\"name\":\"da\"},{\"idx\":17,\"name\":\"hu\"},{\"idx\":18,\"name\":\"el\"},{\"idx\":19,\"name\":\"fi\"},{\"idx\":20,\"name\":\"th\"},{\"idx\":21,\"name\":\"-unknown-\"},{\"idx\":22,\"name\":\"ca\"},{\"idx\":23,\"name\":\"id\"}]},\"num_attrs\":24}}",
         "name": "language_encoded",
         "type": "{\"type\":\"udt\",\"class\":\"org.apache.spark.ml.linalg.VectorUDT\",\"pyClass\":\"pyspark.ml.linalg.VectorUDT\",\"sqlType\":{\"type\":\"struct\",\"fields\":[{\"name\":\"type\",\"type\":\"byte\",\"nullable\":false,\"metadata\":{}},{\"name\":\"size\",\"type\":\"integer\",\"nullable\":true,\"metadata\":{}},{\"name\":\"indices\",\"type\":{\"type\":\"array\",\"elementType\":\"integer\",\"containsNull\":false},\"nullable\":true,\"metadata\":{}},{\"name\":\"values\",\"type\":{\"type\":\"array\",\"elementType\":\"double\",\"containsNull\":false},\"nullable\":true,\"metadata\":{}}]}}"
        },
        {
         "metadata": "{\"ml_attr\":{\"attrs\":{\"binary\":[{\"idx\":0,\"name\":\"direct\"},{\"idx\":1,\"name\":\"sem-brand\"},{\"idx\":2,\"name\":\"seo\"},{\"idx\":3,\"name\":\"sem-non-brand\"},{\"idx\":4,\"name\":\"other\"},{\"idx\":5,\"name\":\"remarketing\"},{\"idx\":6,\"name\":\"content\"}]},\"num_attrs\":7}}",
         "name": "affiliate_channel_encoded",
         "type": "{\"type\":\"udt\",\"class\":\"org.apache.spark.ml.linalg.VectorUDT\",\"pyClass\":\"pyspark.ml.linalg.VectorUDT\",\"sqlType\":{\"type\":\"struct\",\"fields\":[{\"name\":\"type\",\"type\":\"byte\",\"nullable\":false,\"metadata\":{}},{\"name\":\"size\",\"type\":\"integer\",\"nullable\":true,\"metadata\":{}},{\"name\":\"indices\",\"type\":{\"type\":\"array\",\"elementType\":\"integer\",\"containsNull\":false},\"nullable\":true,\"metadata\":{}},{\"name\":\"values\",\"type\":{\"type\":\"array\",\"elementType\":\"double\",\"containsNull\":false},\"nullable\":true,\"metadata\":{}}]}}"
        },
        {
         "metadata": "{\"ml_attr\":{\"attrs\":{\"binary\":[{\"idx\":0,\"name\":\"direct\"},{\"idx\":1,\"name\":\"google\"},{\"idx\":2,\"name\":\"facebook\"},{\"idx\":3,\"name\":\"bing\"},{\"idx\":4,\"name\":\"other\"},{\"idx\":5,\"name\":\"yahoo\"},{\"idx\":6,\"name\":\"email-marketing\"},{\"idx\":7,\"name\":\"padmapper\"},{\"idx\":8,\"name\":\"facebook-open-graph\"},{\"idx\":9,\"name\":\"naver\"},{\"idx\":10,\"name\":\"meetup\"},{\"idx\":11,\"name\":\"craigslist\"},{\"idx\":12,\"name\":\"baidu\"},{\"idx\":13,\"name\":\"daum\"},{\"idx\":14,\"name\":\"gsp\"},{\"idx\":15,\"name\":\"vast\"},{\"idx\":16,\"name\":\"yandex\"}]},\"num_attrs\":17}}",
         "name": "affiliate_provider_encoded",
         "type": "{\"type\":\"udt\",\"class\":\"org.apache.spark.ml.linalg.VectorUDT\",\"pyClass\":\"pyspark.ml.linalg.VectorUDT\",\"sqlType\":{\"type\":\"struct\",\"fields\":[{\"name\":\"type\",\"type\":\"byte\",\"nullable\":false,\"metadata\":{}},{\"name\":\"size\",\"type\":\"integer\",\"nullable\":true,\"metadata\":{}},{\"name\":\"indices\",\"type\":{\"type\":\"array\",\"elementType\":\"integer\",\"containsNull\":false},\"nullable\":true,\"metadata\":{}},{\"name\":\"values\",\"type\":{\"type\":\"array\",\"elementType\":\"double\",\"containsNull\":false},\"nullable\":true,\"metadata\":{}}]}}"
        },
        {
         "metadata": "{\"ml_attr\":{\"attrs\":{\"binary\":[{\"idx\":0,\"name\":\"untracked\"},{\"idx\":1,\"name\":\"linked\"},{\"idx\":2,\"name\":\"omg\"},{\"idx\":3,\"name\":\"product\"},{\"idx\":4,\"name\":\"tracked-other\"},{\"idx\":5,\"name\":\"marketing\"},{\"idx\":6,\"name\":\"local ops\"}]},\"num_attrs\":7}}",
         "name": "first_affiliate_tracked_encoded",
         "type": "{\"type\":\"udt\",\"class\":\"org.apache.spark.ml.linalg.VectorUDT\",\"pyClass\":\"pyspark.ml.linalg.VectorUDT\",\"sqlType\":{\"type\":\"struct\",\"fields\":[{\"name\":\"type\",\"type\":\"byte\",\"nullable\":false,\"metadata\":{}},{\"name\":\"size\",\"type\":\"integer\",\"nullable\":true,\"metadata\":{}},{\"name\":\"indices\",\"type\":{\"type\":\"array\",\"elementType\":\"integer\",\"containsNull\":false},\"nullable\":true,\"metadata\":{}},{\"name\":\"values\",\"type\":{\"type\":\"array\",\"elementType\":\"double\",\"containsNull\":false},\"nullable\":true,\"metadata\":{}}]}}"
        },
        {
         "metadata": "{\"ml_attr\":{\"attrs\":{\"binary\":[{\"idx\":0,\"name\":\"Web\"},{\"idx\":1,\"name\":\"iOS\"},{\"idx\":2,\"name\":\"Android\"},{\"idx\":3,\"name\":\"Moweb\"}]},\"num_attrs\":4}}",
         "name": "signup_app_encoded",
         "type": "{\"type\":\"udt\",\"class\":\"org.apache.spark.ml.linalg.VectorUDT\",\"pyClass\":\"pyspark.ml.linalg.VectorUDT\",\"sqlType\":{\"type\":\"struct\",\"fields\":[{\"name\":\"type\",\"type\":\"byte\",\"nullable\":false,\"metadata\":{}},{\"name\":\"size\",\"type\":\"integer\",\"nullable\":true,\"metadata\":{}},{\"name\":\"indices\",\"type\":{\"type\":\"array\",\"elementType\":\"integer\",\"containsNull\":false},\"nullable\":true,\"metadata\":{}},{\"name\":\"values\",\"type\":{\"type\":\"array\",\"elementType\":\"double\",\"containsNull\":false},\"nullable\":true,\"metadata\":{}}]}}"
        },
        {
         "metadata": "{\"ml_attr\":{\"attrs\":{\"binary\":[{\"idx\":0,\"name\":\"iPhone\"},{\"idx\":1,\"name\":\"Mac Desktop\"},{\"idx\":2,\"name\":\"Windows Desktop\"},{\"idx\":3,\"name\":\"Android Phone\"},{\"idx\":4,\"name\":\"iPad\"},{\"idx\":5,\"name\":\"Android Tablet\"},{\"idx\":6,\"name\":\"Other/Unknown\"},{\"idx\":7,\"name\":\"Desktop (Other)\"},{\"idx\":8,\"name\":\"SmartPhone (Other)\"}]},\"num_attrs\":9}}",
         "name": "first_device_type_encoded",
         "type": "{\"type\":\"udt\",\"class\":\"org.apache.spark.ml.linalg.VectorUDT\",\"pyClass\":\"pyspark.ml.linalg.VectorUDT\",\"sqlType\":{\"type\":\"struct\",\"fields\":[{\"name\":\"type\",\"type\":\"byte\",\"nullable\":false,\"metadata\":{}},{\"name\":\"size\",\"type\":\"integer\",\"nullable\":true,\"metadata\":{}},{\"name\":\"indices\",\"type\":{\"type\":\"array\",\"elementType\":\"integer\",\"containsNull\":false},\"nullable\":true,\"metadata\":{}},{\"name\":\"values\",\"type\":{\"type\":\"array\",\"elementType\":\"double\",\"containsNull\":false},\"nullable\":true,\"metadata\":{}}]}}"
        },
        {
         "metadata": "{\"ml_attr\":{\"attrs\":{\"binary\":[{\"idx\":0,\"name\":\"-unknown-\"},{\"idx\":1,\"name\":\"Chrome\"},{\"idx\":2,\"name\":\"Mobile Safari\"},{\"idx\":3,\"name\":\"Safari\"},{\"idx\":4,\"name\":\"Firefox\"},{\"idx\":5,\"name\":\"IE\"},{\"idx\":6,\"name\":\"Chrome Mobile\"},{\"idx\":7,\"name\":\"Android Browser\"},{\"idx\":8,\"name\":\"IE Mobile\"},{\"idx\":9,\"name\":\"Silk\"},{\"idx\":10,\"name\":\"Opera\"},{\"idx\":11,\"name\":\"BlackBerry Browser\"},{\"idx\":12,\"name\":\"Mobile Firefox\"},{\"idx\":13,\"name\":\"Maxthon\"},{\"idx\":14,\"name\":\"Chromium\"},{\"idx\":15,\"name\":\"Sogou Explorer\"},{\"idx\":16,\"name\":\"AOL Explorer\"},{\"idx\":17,\"name\":\"Apple Mail\"},{\"idx\":18,\"name\":\"Iron\"},{\"idx\":19,\"name\":\"Opera Mini\"},{\"idx\":20,\"name\":\"SiteKiosk\"},{\"idx\":21,\"name\":\"Yandex.Browser\"},{\"idx\":22,\"name\":\"Opera Mobile\"},{\"idx\":23,\"name\":\"CometBird\"},{\"idx\":24,\"name\":\"IBrowse\"},{\"idx\":25,\"name\":\"IceWeasel\"},{\"idx\":26,\"name\":\"Nintendo Browser\"},{\"idx\":27,\"name\":\"Pale Moon\"},{\"idx\":28,\"name\":\"SeaMonkey\"},{\"idx\":29,\"name\":\"UC Browser\"},{\"idx\":30,\"name\":\"wOSBrowser\"}]},\"num_attrs\":31}}",
         "name": "first_browser_encoded",
         "type": "{\"type\":\"udt\",\"class\":\"org.apache.spark.ml.linalg.VectorUDT\",\"pyClass\":\"pyspark.ml.linalg.VectorUDT\",\"sqlType\":{\"type\":\"struct\",\"fields\":[{\"name\":\"type\",\"type\":\"byte\",\"nullable\":false,\"metadata\":{}},{\"name\":\"size\",\"type\":\"integer\",\"nullable\":true,\"metadata\":{}},{\"name\":\"indices\",\"type\":{\"type\":\"array\",\"elementType\":\"integer\",\"containsNull\":false},\"nullable\":true,\"metadata\":{}},{\"name\":\"values\",\"type\":{\"type\":\"array\",\"elementType\":\"double\",\"containsNull\":false},\"nullable\":true,\"metadata\":{}}]}}"
        },
        {
         "metadata": "{\"ml_attr\":{\"attrs\":{\"numeric\":[{\"idx\":111,\"name\":\"age\"},{\"idx\":112,\"name\":\"signup_flow\"},{\"idx\":113,\"name\":\"dac_year\"},{\"idx\":114,\"name\":\"dac_month\"},{\"idx\":115,\"name\":\"dac_day\"},{\"idx\":116,\"name\":\"tfa_year\"},{\"idx\":117,\"name\":\"tfa_month\"},{\"idx\":118,\"name\":\"tfa_day\"},{\"idx\":119,\"name\":\"sum_secs_elapsed\"}],\"binary\":[{\"idx\":0,\"name\":\"Generation_encoded_Millennials\"},{\"idx\":1,\"name\":\"Generation_encoded_Gen Z\"},{\"idx\":2,\"name\":\"Generation_encoded_Gen X\"},{\"idx\":3,\"name\":\"Generation_encoded_The Baby Boomer Generation\"},{\"idx\":4,\"name\":\"gender_encoded_-unknown-\"},{\"idx\":5,\"name\":\"gender_encoded_female\"},{\"idx\":6,\"name\":\"gender_encoded_male\"},{\"idx\":7,\"name\":\"gender_encoded_other\"},{\"idx\":8,\"name\":\"signup_method_encoded_basic\"},{\"idx\":9,\"name\":\"signup_method_encoded_facebook\"},{\"idx\":10,\"name\":\"signup_method_encoded_google\"},{\"idx\":11,\"name\":\"signup_method_encoded_weibo\"},{\"idx\":12,\"name\":\"language_encoded_en\"},{\"idx\":13,\"name\":\"language_encoded_zh\"},{\"idx\":14,\"name\":\"language_encoded_ko\"},{\"idx\":15,\"name\":\"language_encoded_fr\"},{\"idx\":16,\"name\":\"language_encoded_es\"},{\"idx\":17,\"name\":\"language_encoded_de\"},{\"idx\":18,\"name\":\"language_encoded_it\"},{\"idx\":19,\"name\":\"language_encoded_ja\"},{\"idx\":20,\"name\":\"language_encoded_ru\"},{\"idx\":21,\"name\":\"language_encoded_pt\"},{\"idx\":22,\"name\":\"language_encoded_sv\"},{\"idx\":23,\"name\":\"language_encoded_nl\"},{\"idx\":24,\"name\":\"language_encoded_tr\"},{\"idx\":25,\"name\":\"language_encoded_no\"},{\"idx\":26,\"name\":\"language_encoded_pl\"},{\"idx\":27,\"name\":\"language_encoded_cs\"},{\"idx\":28,\"name\":\"language_encoded_da\"},{\"idx\":29,\"name\":\"language_encoded_hu\"},{\"idx\":30,\"name\":\"language_encoded_el\"},{\"idx\":31,\"name\":\"language_encoded_fi\"},{\"idx\":32,\"name\":\"language_encoded_th\"},{\"idx\":33,\"name\":\"language_encoded_-unknown-\"},{\"idx\":34,\"name\":\"language_encoded_ca\"},{\"idx\":35,\"name\":\"language_encoded_id\"},{\"idx\":36,\"name\":\"affiliate_channel_encoded_direct\"},{\"idx\":37,\"name\":\"affiliate_channel_encoded_sem-brand\"},{\"idx\":38,\"name\":\"affiliate_channel_encoded_seo\"},{\"idx\":39,\"name\":\"affiliate_channel_encoded_sem-non-brand\"},{\"idx\":40,\"name\":\"affiliate_channel_encoded_other\"},{\"idx\":41,\"name\":\"affiliate_channel_encoded_remarketing\"},{\"idx\":42,\"name\":\"affiliate_channel_encoded_content\"},{\"idx\":43,\"name\":\"affiliate_provider_encoded_direct\"},{\"idx\":44,\"name\":\"affiliate_provider_encoded_google\"},{\"idx\":45,\"name\":\"affiliate_provider_encoded_facebook\"},{\"idx\":46,\"name\":\"affiliate_provider_encoded_bing\"},{\"idx\":47,\"name\":\"affiliate_provider_encoded_other\"},{\"idx\":48,\"name\":\"affiliate_provider_encoded_yahoo\"},{\"idx\":49,\"name\":\"affiliate_provider_encoded_email-marketing\"},{\"idx\":50,\"name\":\"affiliate_provider_encoded_padmapper\"},{\"idx\":51,\"name\":\"affiliate_provider_encoded_facebook-open-graph\"},{\"idx\":52,\"name\":\"affiliate_provider_encoded_naver\"},{\"idx\":53,\"name\":\"affiliate_provider_encoded_meetup\"},{\"idx\":54,\"name\":\"affiliate_provider_encoded_craigslist\"},{\"idx\":55,\"name\":\"affiliate_provider_encoded_baidu\"},{\"idx\":56,\"name\":\"affiliate_provider_encoded_daum\"},{\"idx\":57,\"name\":\"affiliate_provider_encoded_gsp\"},{\"idx\":58,\"name\":\"affiliate_provider_encoded_vast\"},{\"idx\":59,\"name\":\"affiliate_provider_encoded_yandex\"},{\"idx\":60,\"name\":\"first_affiliate_tracked_encoded_untracked\"},{\"idx\":61,\"name\":\"first_affiliate_tracked_encoded_linked\"},{\"idx\":62,\"name\":\"first_affiliate_tracked_encoded_omg\"},{\"idx\":63,\"name\":\"first_affiliate_tracked_encoded_product\"},{\"idx\":64,\"name\":\"first_affiliate_tracked_encoded_tracked-other\"},{\"idx\":65,\"name\":\"first_affiliate_tracked_encoded_marketing\"},{\"idx\":66,\"name\":\"first_affiliate_tracked_encoded_local ops\"},{\"idx\":67,\"name\":\"signup_app_encoded_Web\"},{\"idx\":68,\"name\":\"signup_app_encoded_iOS\"},{\"idx\":69,\"name\":\"signup_app_encoded_Android\"},{\"idx\":70,\"name\":\"signup_app_encoded_Moweb\"},{\"idx\":71,\"name\":\"first_device_type_encoded_iPhone\"},{\"idx\":72,\"name\":\"first_device_type_encoded_Mac Desktop\"},{\"idx\":73,\"name\":\"first_device_type_encoded_Windows Desktop\"},{\"idx\":74,\"name\":\"first_device_type_encoded_Android Phone\"},{\"idx\":75,\"name\":\"first_device_type_encoded_iPad\"},{\"idx\":76,\"name\":\"first_device_type_encoded_Android Tablet\"},{\"idx\":77,\"name\":\"first_device_type_encoded_Other/Unknown\"},{\"idx\":78,\"name\":\"first_device_type_encoded_Desktop (Other)\"},{\"idx\":79,\"name\":\"first_device_type_encoded_SmartPhone (Other)\"},{\"idx\":80,\"name\":\"first_browser_encoded_-unknown-\"},{\"idx\":81,\"name\":\"first_browser_encoded_Chrome\"},{\"idx\":82,\"name\":\"first_browser_encoded_Mobile Safari\"},{\"idx\":83,\"name\":\"first_browser_encoded_Safari\"},{\"idx\":84,\"name\":\"first_browser_encoded_Firefox\"},{\"idx\":85,\"name\":\"first_browser_encoded_IE\"},{\"idx\":86,\"name\":\"first_browser_encoded_Chrome Mobile\"},{\"idx\":87,\"name\":\"first_browser_encoded_Android Browser\"},{\"idx\":88,\"name\":\"first_browser_encoded_IE Mobile\"},{\"idx\":89,\"name\":\"first_browser_encoded_Silk\"},{\"idx\":90,\"name\":\"first_browser_encoded_Opera\"},{\"idx\":91,\"name\":\"first_browser_encoded_BlackBerry Browser\"},{\"idx\":92,\"name\":\"first_browser_encoded_Mobile Firefox\"},{\"idx\":93,\"name\":\"first_browser_encoded_Maxthon\"},{\"idx\":94,\"name\":\"first_browser_encoded_Chromium\"},{\"idx\":95,\"name\":\"first_browser_encoded_Sogou Explorer\"},{\"idx\":96,\"name\":\"first_browser_encoded_AOL Explorer\"},{\"idx\":97,\"name\":\"first_browser_encoded_Apple Mail\"},{\"idx\":98,\"name\":\"first_browser_encoded_Iron\"},{\"idx\":99,\"name\":\"first_browser_encoded_Opera Mini\"},{\"idx\":100,\"name\":\"first_browser_encoded_SiteKiosk\"},{\"idx\":101,\"name\":\"first_browser_encoded_Yandex.Browser\"},{\"idx\":102,\"name\":\"first_browser_encoded_Opera Mobile\"},{\"idx\":103,\"name\":\"first_browser_encoded_CometBird\"},{\"idx\":104,\"name\":\"first_browser_encoded_IBrowse\"},{\"idx\":105,\"name\":\"first_browser_encoded_IceWeasel\"},{\"idx\":106,\"name\":\"first_browser_encoded_Nintendo Browser\"},{\"idx\":107,\"name\":\"first_browser_encoded_Pale Moon\"},{\"idx\":108,\"name\":\"first_browser_encoded_SeaMonkey\"},{\"idx\":109,\"name\":\"first_browser_encoded_UC Browser\"},{\"idx\":110,\"name\":\"first_browser_encoded_wOSBrowser\"}]},\"num_attrs\":120}}",
         "name": "features",
         "type": "{\"type\":\"udt\",\"class\":\"org.apache.spark.ml.linalg.VectorUDT\",\"pyClass\":\"pyspark.ml.linalg.VectorUDT\",\"sqlType\":{\"type\":\"struct\",\"fields\":[{\"name\":\"type\",\"type\":\"byte\",\"nullable\":false,\"metadata\":{}},{\"name\":\"size\",\"type\":\"integer\",\"nullable\":true,\"metadata\":{}},{\"name\":\"indices\",\"type\":{\"type\":\"array\",\"elementType\":\"integer\",\"containsNull\":false},\"nullable\":true,\"metadata\":{}},{\"name\":\"values\",\"type\":{\"type\":\"array\",\"elementType\":\"double\",\"containsNull\":false},\"nullable\":true,\"metadata\":{}}]}}"
        },
        {
         "metadata": "{\"ml_attr\":{\"num_attrs\":120}}",
         "name": "scaled_features",
         "type": "{\"type\":\"udt\",\"class\":\"org.apache.spark.ml.linalg.VectorUDT\",\"pyClass\":\"pyspark.ml.linalg.VectorUDT\",\"sqlType\":{\"type\":\"struct\",\"fields\":[{\"name\":\"type\",\"type\":\"byte\",\"nullable\":false,\"metadata\":{}},{\"name\":\"size\",\"type\":\"integer\",\"nullable\":true,\"metadata\":{}},{\"name\":\"indices\",\"type\":{\"type\":\"array\",\"elementType\":\"integer\",\"containsNull\":false},\"nullable\":true,\"metadata\":{}},{\"name\":\"values\",\"type\":{\"type\":\"array\",\"elementType\":\"double\",\"containsNull\":false},\"nullable\":true,\"metadata\":{}}]}}"
        }
       ],
       "type": "table"
      }
     },
     "output_type": "display_data"
    }
   ],
   "source": [
    "processed_test_users_raw = preprocess_test_data(test_users_raw)\n",
    "display(processed_test_users_raw.limit(10))"
   ]
  },
  {
   "cell_type": "markdown",
   "metadata": {
    "application/vnd.databricks.v1+cell": {
     "cellMetadata": {
      "byteLimit": 2048000,
      "rowLimit": 10000
     },
     "inputWidgets": {},
     "nuid": "7c112507-0b85-4d04-8766-c21b1e6768b6",
     "showTitle": false,
     "tableResultSettingsMap": {},
     "title": ""
    }
   },
   "source": [
    "#### Process Train"
   ]
  },
  {
   "cell_type": "code",
   "execution_count": null,
   "metadata": {
    "application/vnd.databricks.v1+cell": {
     "cellMetadata": {
      "byteLimit": 2048000,
      "rowLimit": 10000
     },
     "inputWidgets": {},
     "nuid": "49651cb5-acca-48be-81f7-288b89668e3f",
     "showTitle": false,
     "tableResultSettingsMap": {},
     "title": ""
    }
   },
   "outputs": [],
   "source": [
    "from pyspark.sql.functions import lower, col\n",
    "from pyspark.sql.functions import year, month, dayofmonth, to_date\n",
    "from pyspark.sql.functions import lower, col, year, month, dayofmonth, when, lit\n",
    "\n",
    "from pyspark.ml.feature import StringIndexer, OneHotEncoder, VectorAssembler\n",
    "from pyspark.ml import Pipeline\n",
    "from pyspark.ml.feature import PCA\n",
    "\n",
    "# Feature Engineering\n",
    "def preprocess_train_data(df):    \n",
    "    \n",
    "\n",
    "    # Drop unnecessary columns\n",
    "    df = df.drop('id', 'date_first_booking')\n",
    "    \n",
    "    # we can drop NAs in the first_affiliate_tracked feature as it's represent only few % of the data.  \n",
    "    df = df.dropna(subset=[\"first_affiliate_tracked\"])\n",
    "\n",
    "    # fill any rest with 0\n",
    "    df = df.fillna(0, subset=['age'])\n",
    "    df = df.fillna(0, subset=['sum_secs_elapsed'])\n",
    "    df = df.fillna(0, subset=['signup_flow'])\n",
    "    df = df.fillna(0)\n",
    "\n",
    "    # Instead of custom UDFs, use Spark's date functions\n",
    "    df = df.withColumn('dac_year', year(col('date_account_created'))) \\\n",
    "        .withColumn('dac_month', month(col('date_account_created'))) \\\n",
    "        .withColumn('dac_day', dayofmonth(col('date_account_created'))) \\\n",
    "        .drop('date_account_created')\n",
    "\n",
    "    ''' df = df.withColumn('dac_year', extract_year_udf(col('date_account_created'))) \\\n",
    "           .withColumn('dac_month', extract_month_udf(col('date_account_created'))) \\\n",
    "           .withColumn('dac_day', extract_day_udf(col('date_account_created'))) \\\n",
    "           .drop('date_account_created')\n",
    "     '''\n",
    "\n",
    "    # Timestamp first active processing\n",
    "    df = df.withColumn('tfa_processing', process_timestamp_udf(col('timestamp_first_active'))) \\\n",
    "           .withColumn('tfa_year', col('tfa_processing')[0]) \\\n",
    "           .withColumn('tfa_month', col('tfa_processing')[1]) \\\n",
    "           .withColumn('tfa_day', col('tfa_processing')[2]) \\\n",
    "           .drop('timestamp_first_active', 'tfa_processing')\n",
    "\n",
    "    # Age processing\n",
    "    df = df.withColumn('age', \n",
    "        when((col('age') < 14) | (col('age') > 100), 0)\n",
    "        .otherwise(col('age'))\n",
    "        )\n",
    "    \n",
    "    \n",
    "    ## converting gender to lower case\n",
    "    df = df.withColumn(\"gender\", lower(col('gender')))\n",
    "\n",
    "    # Categorical feature encoding\n",
    "    categorical_cols = ['Generation','gender', 'signup_method', 'language', \n",
    "                        'affiliate_channel', 'affiliate_provider', \n",
    "                        'first_affiliate_tracked', 'signup_app', \n",
    "                        'first_device_type', 'first_browser']\n",
    "    \n",
    "    numeric_cols = ['age', 'signup_flow','dac_year', 'dac_month', 'dac_day', \n",
    "                    'tfa_year', 'tfa_month', 'tfa_day', 'sum_secs_elapsed']\n",
    "    \n",
    "    \n",
    "    ''' \n",
    "    # Replace null values in categorical columns with \"Unknown\"\n",
    "    for c in categorical_cols:\n",
    "        df = df.withColumn(c, when(col(c).isNull(), lit(\"Unknown\")).otherwise(col(c)))\n",
    "    \n",
    "    '''\n",
    "    \n",
    "    # String Indexing for categorical columns\n",
    "    indexers = [\n",
    "        StringIndexer(inputCol=c, outputCol=f\"{c}_indexed\", handleInvalid=\"keep\")\n",
    "        for c in categorical_cols\n",
    "    ]\n",
    "    \n",
    "    # One-Hot Encoding\n",
    "    encoders = [\n",
    "        OneHotEncoder(inputCols=[f\"{c}_indexed\" for c in categorical_cols],\n",
    "                      outputCols=[f\"{c}_encoded\" for c in categorical_cols])\n",
    "    ]\n",
    "    \n",
    "    # Assembling features\n",
    "    feature_cols = [f\"{c}_encoded\" for c in categorical_cols] + numeric_cols\n",
    "    \n",
    "    assembler = VectorAssembler(\n",
    "        inputCols=feature_cols, \n",
    "        outputCol=\"features\", \n",
    "        handleInvalid=\"keep\"  \n",
    "    )\n",
    "\n",
    "    \n",
    "    ''' # Dynamically determine the number of PCA components\n",
    "    assembled_df = assembler.transform(df)  # Assemble features for dynamic PCA computation\n",
    "    num_pca_components = select_pca_components(assembled_df, feature_col=\"features\", variance_threshold=0.95)\n",
    "    \n",
    "    # PCA stage\n",
    "    pca = PCA(k=num_pca_components, inputCol=\"features\", outputCol=\"pca_features\")\n",
    "     '''\n",
    "\n",
    "    # Scale the features\n",
    "    scaler = StandardScaler(inputCol=\"features\", outputCol=\"scaled_features\", withMean=True, withStd=True)\n",
    "\n",
    "    # Combine all stages into a pipeline\n",
    "    stages = indexers + encoders + [assembler, scaler]\n",
    "\n",
    "    \n",
    "    # Label Indexing for training data\n",
    "\n",
    "    label_indexer = StringIndexer(\n",
    "        inputCol='country_destination', \n",
    "        outputCol='label', \n",
    "        handleInvalid=\"keep\"\n",
    "        )\n",
    "    \n",
    "    stages.append(label_indexer)\n",
    "\n",
    "    # Create and apply pipeline\n",
    "    pipeline = Pipeline(stages=stages)\n",
    "    \n",
    "    return pipeline.fit(df).transform(df)\n"
   ]
  },
  {
   "cell_type": "code",
   "execution_count": null,
   "metadata": {
    "application/vnd.databricks.v1+cell": {
     "cellMetadata": {
      "byteLimit": 2048000,
      "rowLimit": 10000
     },
     "inputWidgets": {},
     "nuid": "cf1e29e6-d4e7-4914-a75a-802253a11910",
     "showTitle": false,
     "tableResultSettingsMap": {},
     "title": ""
    }
   },
   "outputs": [
    {
     "data": {
      "text/html": [
       "<style scoped>\n",
       "  .table-result-container {\n",
       "    max-height: 300px;\n",
       "    overflow: auto;\n",
       "  }\n",
       "  table, th, td {\n",
       "    border: 1px solid black;\n",
       "    border-collapse: collapse;\n",
       "  }\n",
       "  th, td {\n",
       "    padding: 5px;\n",
       "  }\n",
       "  th {\n",
       "    text-align: left;\n",
       "  }\n",
       "</style><div class='table-result-container'><table class='table-result'><thead style='background-color: white'><tr><th>id</th><th>date_account_created</th><th>timestamp_first_active</th><th>date_first_booking</th><th>gender</th><th>age</th><th>signup_method</th><th>signup_flow</th><th>language</th><th>affiliate_channel</th><th>affiliate_provider</th><th>first_affiliate_tracked</th><th>signup_app</th><th>first_device_type</th><th>first_browser</th><th>country_destination</th><th>sum_secs_elapsed</th><th>Generation</th></tr></thead><tbody><tr><td>bjjt8pjhuk</td><td>2011-12-05</td><td>20091031060129</td><td>2012-09-08</td><td>FEMALE</td><td>42.0</td><td>facebook</td><td>0.0</td><td>en</td><td>direct</td><td>direct</td><td>untracked</td><td>Web</td><td>Mac Desktop</td><td>Firefox</td><td>other</td><td>null</td><td>Millennials</td></tr><tr><td>4ft3gnwmtx</td><td>2010-09-28</td><td>20090609231247</td><td>2010-08-02</td><td>FEMALE</td><td>56.0</td><td>basic</td><td>3.0</td><td>en</td><td>direct</td><td>direct</td><td>untracked</td><td>Web</td><td>Windows Desktop</td><td>IE</td><td>US</td><td>null</td><td>Gen X</td></tr><tr><td>87mebub9p4</td><td>2010-09-14</td><td>20091208061105</td><td>2010-02-18</td><td>-unknown-</td><td>41.0</td><td>basic</td><td>0.0</td><td>en</td><td>direct</td><td>direct</td><td>untracked</td><td>Web</td><td>Mac Desktop</td><td>Chrome</td><td>US</td><td>null</td><td>Millennials</td></tr><tr><td>0d01nltbrs</td><td>2010-01-03</td><td>20100103191905</td><td>2010-01-13</td><td>FEMALE</td><td>47.0</td><td>basic</td><td>0.0</td><td>en</td><td>direct</td><td>direct</td><td>omg</td><td>Web</td><td>Mac Desktop</td><td>Safari</td><td>US</td><td>null</td><td>Gen X</td></tr><tr><td>6uh8zyj2gn</td><td>2010-01-04</td><td>20100104023758</td><td>2010-01-04</td><td>-unknown-</td><td>46.0</td><td>basic</td><td>0.0</td><td>en</td><td>other</td><td>craigslist</td><td>omg</td><td>Web</td><td>Mac Desktop</td><td>Firefox</td><td>US</td><td>null</td><td>Gen X</td></tr><tr><td>gxn3p5htnn</td><td>2010-06-28</td><td>20090319043255</td><td>null</td><td>-unknown-</td><td>null</td><td>facebook</td><td>0.0</td><td>en</td><td>direct</td><td>direct</td><td>untracked</td><td>Web</td><td>Mac Desktop</td><td>Chrome</td><td>NDF</td><td>null</td><td>Millennials</td></tr><tr><td>820tgsjxq7</td><td>2011-05-25</td><td>20090523174809</td><td>null</td><td>MALE</td><td>38.0</td><td>facebook</td><td>0.0</td><td>en</td><td>seo</td><td>google</td><td>untracked</td><td>Web</td><td>Mac Desktop</td><td>Chrome</td><td>NDF</td><td>null</td><td>Millennials</td></tr><tr><td>osr2jwljor</td><td>2010-01-01</td><td>20100101215619</td><td>2010-01-02</td><td>-unknown-</td><td>null</td><td>basic</td><td>0.0</td><td>en</td><td>other</td><td>other</td><td>omg</td><td>Web</td><td>Mac Desktop</td><td>Chrome</td><td>US</td><td>null</td><td>Millennials</td></tr><tr><td>lsw9q7uk0j</td><td>2010-01-02</td><td>20100102012558</td><td>2010-01-05</td><td>FEMALE</td><td>46.0</td><td>basic</td><td>0.0</td><td>en</td><td>other</td><td>craigslist</td><td>untracked</td><td>Web</td><td>Mac Desktop</td><td>Safari</td><td>US</td><td>null</td><td>Gen X</td></tr><tr><td>a1vcnhxeij</td><td>2010-01-04</td><td>20100104004211</td><td>2010-07-29</td><td>FEMALE</td><td>50.0</td><td>basic</td><td>0.0</td><td>en</td><td>other</td><td>craigslist</td><td>untracked</td><td>Web</td><td>Mac Desktop</td><td>Safari</td><td>US</td><td>null</td><td>Gen X</td></tr></tbody></table></div>"
      ]
     },
     "metadata": {
      "application/vnd.databricks.v1+output": {
       "addedWidgets": {},
       "aggData": [],
       "aggError": "",
       "aggOverflow": false,
       "aggSchema": [],
       "aggSeriesLimitReached": false,
       "aggType": "",
       "arguments": {},
       "columnCustomDisplayInfos": {},
       "data": [
        [
         "bjjt8pjhuk",
         "2011-12-05",
         "20091031060129",
         "2012-09-08",
         "FEMALE",
         42,
         "facebook",
         0,
         "en",
         "direct",
         "direct",
         "untracked",
         "Web",
         "Mac Desktop",
         "Firefox",
         "other",
         null,
         "Millennials"
        ],
        [
         "4ft3gnwmtx",
         "2010-09-28",
         "20090609231247",
         "2010-08-02",
         "FEMALE",
         56,
         "basic",
         3,
         "en",
         "direct",
         "direct",
         "untracked",
         "Web",
         "Windows Desktop",
         "IE",
         "US",
         null,
         "Gen X"
        ],
        [
         "87mebub9p4",
         "2010-09-14",
         "20091208061105",
         "2010-02-18",
         "-unknown-",
         41,
         "basic",
         0,
         "en",
         "direct",
         "direct",
         "untracked",
         "Web",
         "Mac Desktop",
         "Chrome",
         "US",
         null,
         "Millennials"
        ],
        [
         "0d01nltbrs",
         "2010-01-03",
         "20100103191905",
         "2010-01-13",
         "FEMALE",
         47,
         "basic",
         0,
         "en",
         "direct",
         "direct",
         "omg",
         "Web",
         "Mac Desktop",
         "Safari",
         "US",
         null,
         "Gen X"
        ],
        [
         "6uh8zyj2gn",
         "2010-01-04",
         "20100104023758",
         "2010-01-04",
         "-unknown-",
         46,
         "basic",
         0,
         "en",
         "other",
         "craigslist",
         "omg",
         "Web",
         "Mac Desktop",
         "Firefox",
         "US",
         null,
         "Gen X"
        ],
        [
         "gxn3p5htnn",
         "2010-06-28",
         "20090319043255",
         null,
         "-unknown-",
         null,
         "facebook",
         0,
         "en",
         "direct",
         "direct",
         "untracked",
         "Web",
         "Mac Desktop",
         "Chrome",
         "NDF",
         null,
         "Millennials"
        ],
        [
         "820tgsjxq7",
         "2011-05-25",
         "20090523174809",
         null,
         "MALE",
         38,
         "facebook",
         0,
         "en",
         "seo",
         "google",
         "untracked",
         "Web",
         "Mac Desktop",
         "Chrome",
         "NDF",
         null,
         "Millennials"
        ],
        [
         "osr2jwljor",
         "2010-01-01",
         "20100101215619",
         "2010-01-02",
         "-unknown-",
         null,
         "basic",
         0,
         "en",
         "other",
         "other",
         "omg",
         "Web",
         "Mac Desktop",
         "Chrome",
         "US",
         null,
         "Millennials"
        ],
        [
         "lsw9q7uk0j",
         "2010-01-02",
         "20100102012558",
         "2010-01-05",
         "FEMALE",
         46,
         "basic",
         0,
         "en",
         "other",
         "craigslist",
         "untracked",
         "Web",
         "Mac Desktop",
         "Safari",
         "US",
         null,
         "Gen X"
        ],
        [
         "a1vcnhxeij",
         "2010-01-04",
         "20100104004211",
         "2010-07-29",
         "FEMALE",
         50,
         "basic",
         0,
         "en",
         "other",
         "craigslist",
         "untracked",
         "Web",
         "Mac Desktop",
         "Safari",
         "US",
         null,
         "Gen X"
        ]
       ],
       "datasetInfos": [],
       "dbfsResultPath": null,
       "isJsonSchema": true,
       "metadata": {},
       "overflow": false,
       "plotOptions": {
        "customPlotOptions": {},
        "displayType": "table",
        "pivotAggregation": null,
        "pivotColumns": null,
        "xColumns": null,
        "yColumns": null
       },
       "removedWidgets": [],
       "schema": [
        {
         "metadata": "{}",
         "name": "id",
         "type": "\"string\""
        },
        {
         "metadata": "{}",
         "name": "date_account_created",
         "type": "\"date\""
        },
        {
         "metadata": "{}",
         "name": "timestamp_first_active",
         "type": "\"string\""
        },
        {
         "metadata": "{}",
         "name": "date_first_booking",
         "type": "\"date\""
        },
        {
         "metadata": "{}",
         "name": "gender",
         "type": "\"string\""
        },
        {
         "metadata": "{}",
         "name": "age",
         "type": "\"float\""
        },
        {
         "metadata": "{}",
         "name": "signup_method",
         "type": "\"string\""
        },
        {
         "metadata": "{}",
         "name": "signup_flow",
         "type": "\"float\""
        },
        {
         "metadata": "{}",
         "name": "language",
         "type": "\"string\""
        },
        {
         "metadata": "{}",
         "name": "affiliate_channel",
         "type": "\"string\""
        },
        {
         "metadata": "{}",
         "name": "affiliate_provider",
         "type": "\"string\""
        },
        {
         "metadata": "{}",
         "name": "first_affiliate_tracked",
         "type": "\"string\""
        },
        {
         "metadata": "{}",
         "name": "signup_app",
         "type": "\"string\""
        },
        {
         "metadata": "{}",
         "name": "first_device_type",
         "type": "\"string\""
        },
        {
         "metadata": "{}",
         "name": "first_browser",
         "type": "\"string\""
        },
        {
         "metadata": "{}",
         "name": "country_destination",
         "type": "\"string\""
        },
        {
         "metadata": "{}",
         "name": "sum_secs_elapsed",
         "type": "\"double\""
        },
        {
         "metadata": "{}",
         "name": "Generation",
         "type": "\"string\""
        }
       ],
       "type": "table"
      }
     },
     "output_type": "display_data"
    }
   ],
   "source": [
    "new_train_users = new_train_users.withColumn(\"Generation\", correct_age(new_train_users['age']))\n",
    "display(new_train_users.limit(10))"
   ]
  },
  {
   "cell_type": "code",
   "execution_count": null,
   "metadata": {
    "application/vnd.databricks.v1+cell": {
     "cellMetadata": {
      "byteLimit": 2048000,
      "rowLimit": 10000
     },
     "inputWidgets": {},
     "nuid": "ef119583-412a-4deb-8ab5-e03d8a296866",
     "showTitle": false,
     "tableResultSettingsMap": {},
     "title": ""
    }
   },
   "outputs": [
    {
     "data": {
      "text/html": [
       "<style scoped>\n",
       "  .table-result-container {\n",
       "    max-height: 300px;\n",
       "    overflow: auto;\n",
       "  }\n",
       "  table, th, td {\n",
       "    border: 1px solid black;\n",
       "    border-collapse: collapse;\n",
       "  }\n",
       "  th, td {\n",
       "    padding: 5px;\n",
       "  }\n",
       "  th {\n",
       "    text-align: left;\n",
       "  }\n",
       "</style><div class='table-result-container'><table class='table-result'><thead style='background-color: white'><tr><th>gender</th><th>age</th><th>signup_method</th><th>signup_flow</th><th>language</th><th>affiliate_channel</th><th>affiliate_provider</th><th>first_affiliate_tracked</th><th>signup_app</th><th>first_device_type</th><th>first_browser</th><th>country_destination</th><th>sum_secs_elapsed</th><th>Generation</th><th>dac_year</th><th>dac_month</th><th>dac_day</th><th>tfa_year</th><th>tfa_month</th><th>tfa_day</th><th>Generation_indexed</th><th>gender_indexed</th><th>signup_method_indexed</th><th>language_indexed</th><th>affiliate_channel_indexed</th><th>affiliate_provider_indexed</th><th>first_affiliate_tracked_indexed</th><th>signup_app_indexed</th><th>first_device_type_indexed</th><th>first_browser_indexed</th><th>Generation_encoded</th><th>gender_encoded</th><th>signup_method_encoded</th><th>language_encoded</th><th>affiliate_channel_encoded</th><th>affiliate_provider_encoded</th><th>first_affiliate_tracked_encoded</th><th>signup_app_encoded</th><th>first_device_type_encoded</th><th>first_browser_encoded</th><th>features</th><th>scaled_features</th><th>label</th></tr></thead><tbody><tr><td>female</td><td>33.0</td><td>basic</td><td>0.0</td><td>en</td><td>direct</td><td>direct</td><td>untracked</td><td>Web</td><td>Windows Desktop</td><td>Chrome</td><td>CA</td><td>0.0</td><td>Millennials</td><td>2010</td><td>1</td><td>7</td><td>2010</td><td>1</td><td>7</td><td>0.0</td><td>1.0</td><td>0.0</td><td>0.0</td><td>0.0</td><td>0.0</td><td>0.0</td><td>0.0</td><td>1.0</td><td>0.0</td><td>Map(vectorType -> sparse, length -> 4, indices -> List(0), values -> List(1.0))</td><td>Map(vectorType -> sparse, length -> 4, indices -> List(1), values -> List(1.0))</td><td>Map(vectorType -> sparse, length -> 3, indices -> List(0), values -> List(1.0))</td><td>Map(vectorType -> sparse, length -> 25, indices -> List(0), values -> List(1.0))</td><td>Map(vectorType -> sparse, length -> 8, indices -> List(0), values -> List(1.0))</td><td>Map(vectorType -> sparse, length -> 18, indices -> List(0), values -> List(1.0))</td><td>Map(vectorType -> sparse, length -> 7, indices -> List(0), values -> List(1.0))</td><td>Map(vectorType -> sparse, length -> 4, indices -> List(0), values -> List(1.0))</td><td>Map(vectorType -> sparse, length -> 9, indices -> List(1), values -> List(1.0))</td><td>Map(vectorType -> sparse, length -> 52, indices -> List(0), values -> List(1.0))</td><td>Map(vectorType -> sparse, length -> 143, indices -> List(0, 5, 8, 11, 36, 44, 62, 69, 74, 82, 134, 136, 137, 138, 139, 140, 141), values -> List(1.0, 1.0, 1.0, 1.0, 1.0, 1.0, 1.0, 1.0, 1.0, 1.0, 33.0, 2010.0, 1.0, 7.0, 2010.0, 1.0, 7.0))</td><td>Map(vectorType -> dense, length -> 143, values -> List(0.5817624043652915, -0.3758924215152353, -0.33355929199303225, -0.17263723318900076, -0.8910365624533463, 1.5317021593452225, -0.588489350971012, -0.036637253839392356, 0.6312277605231977, -0.6271511636462, -0.05137809645501331, 0.18650109360693654, -0.08814835596979276, -0.07464069523339624, -0.0656875455939668, -0.05910648542987524, -0.05881826414722645, -0.04866547265717839, -0.04278839951599224, -0.03368134043187896, -0.032882733635845575, -0.024261459910594415, -0.02140772573952276, -0.017431930486119757, -0.01672568720501829, -0.016138481335726006, -0.01242274965311342, -0.012028217622163738, -0.010758209253262555, -0.010531669874649327, -0.010300151497789, -0.0093167477239189, -0.008216519923069777, -0.004910203289700679, -0.004910203289700679, -0.0031054627720520827, 0.7386402719956033, -0.3768275413275841, -0.3085537995178709, -0.206160057184522, -0.2047324201719437, -0.1970158949846127, -0.13638254335306535, -0.07160819100689562, 0.7405438308273482, -0.5670474952829226, -0.24682478530820082, -0.12094790520347767, -0.1049880663570411, -0.10357052314165702, -0.06096709279360929, -0.060326340605622995, -0.05133090127011119, -0.04896322794876096, -0.04678785948591628, -0.04093903577627279, -0.028046183858346507, -0.015836724494869347, -0.01182601978944856, -0.009054229467814808, -0.006211015392795253, -0.0021958884905895347, 0.9479338056896838, -0.5360212997700335, -0.5188061292743009, -0.17490486713906414, -0.08694596104072302, -0.025897761483657432, -0.0128051390002118, 0.4036174137526942, -0.30708003782596177, -0.16951689669769493, -0.16331994000519806, -0.8721799948117714, 1.3608786241713375, -0.33351466105160454, -0.2725378696370019, -0.15064524129368506, -0.11705116226684367, -0.07917672528742477, -0.07625668196924616, -0.019146774535861742, 1.4994206616409407, -0.5276804546098756, -0.44013417419120116, -0.3374463860927781, -0.3362661882241961, -0.3200933338874348, -0.07849553621733724, -0.06418993020643722, -0.034391329163054235, -0.030122089740587003, -0.024459633943018252, -0.018764937179542633, -0.015988314107694083, -0.014894856437527335, -0.013176442872944205, -0.013176442872944205, -0.012615392329110256, -0.012028217622163738, -0.010758209253262555, -0.010758209253262555, -0.009054229467814808, -0.00791761762145024, -0.007606982612262478, -0.007283113800897435, -0.007283113800897435, -0.007283113800897435, -0.006587792537006113, -0.006211015392795253, -0.005378871175998668, -0.005378871175998668, -0.00439180874691403, -0.00439180874691403, -0.0038034087733461105, -0.0031054627720520827, -0.0031054627720520827, -0.0031054627720520827, -0.0031054627720520827, -0.0031054627720520827, -0.0031054627720520827, -0.0031054627720520827, -0.0021958884905895347, -0.0021958884905895347, -0.0021958884905895347, -0.0021958884905895347, -0.0021958884905895347, -0.0021958884905895347, -0.0021958884905895347, -0.0021958884905895347, -0.0021958884905895347, -0.0021958884905895347, -0.0021958884905895347, -0.0021958884905895347, 0.5806226996110148, -0.4177516247471818, -3.3953851293906014, -1.5574452478449723, -1.0149682481369438, -3.3923882681031614, -1.5575294240783248, -1.0149863676046342, -0.3983009220960271))</td><td>7.0</td></tr><tr><td>male</td><td>30.0</td><td>basic</td><td>0.0</td><td>en</td><td>other</td><td>craigslist</td><td>untracked</td><td>Web</td><td>Windows Desktop</td><td>Chrome</td><td>NDF</td><td>0.0</td><td>Millennials</td><td>2010</td><td>1</td><td>15</td><td>2010</td><td>1</td><td>15</td><td>0.0</td><td>2.0</td><td>0.0</td><td>0.0</td><td>4.0</td><td>3.0</td><td>0.0</td><td>0.0</td><td>1.0</td><td>0.0</td><td>Map(vectorType -> sparse, length -> 4, indices -> List(0), values -> List(1.0))</td><td>Map(vectorType -> sparse, length -> 4, indices -> List(2), values -> List(1.0))</td><td>Map(vectorType -> sparse, length -> 3, indices -> List(0), values -> List(1.0))</td><td>Map(vectorType -> sparse, length -> 25, indices -> List(0), values -> List(1.0))</td><td>Map(vectorType -> sparse, length -> 8, indices -> List(4), values -> List(1.0))</td><td>Map(vectorType -> sparse, length -> 18, indices -> List(3), values -> List(1.0))</td><td>Map(vectorType -> sparse, length -> 7, indices -> List(0), values -> List(1.0))</td><td>Map(vectorType -> sparse, length -> 4, indices -> List(0), values -> List(1.0))</td><td>Map(vectorType -> sparse, length -> 9, indices -> List(1), values -> List(1.0))</td><td>Map(vectorType -> sparse, length -> 52, indices -> List(0), values -> List(1.0))</td><td>Map(vectorType -> sparse, length -> 143, indices -> List(0, 6, 8, 11, 40, 47, 62, 69, 74, 82, 134, 136, 137, 138, 139, 140, 141), values -> List(1.0, 1.0, 1.0, 1.0, 1.0, 1.0, 1.0, 1.0, 1.0, 1.0, 30.0, 2010.0, 1.0, 15.0, 2010.0, 1.0, 15.0))</td><td>Map(vectorType -> dense, length -> 143, values -> List(0.5817624043652915, -0.3758924215152353, -0.33355929199303225, -0.17263723318900076, -0.8910365624533463, -0.6528652923628563, 1.699257898930094, -0.036637253839392356, 0.6312277605231977, -0.6271511636462, -0.05137809645501331, 0.18650109360693654, -0.08814835596979276, -0.07464069523339624, -0.0656875455939668, -0.05910648542987524, -0.05881826414722645, -0.04866547265717839, -0.04278839951599224, -0.03368134043187896, -0.032882733635845575, -0.024261459910594415, -0.02140772573952276, -0.017431930486119757, -0.01672568720501829, -0.016138481335726006, -0.01242274965311342, -0.012028217622163738, -0.010758209253262555, -0.010531669874649327, -0.010300151497789, -0.0093167477239189, -0.008216519923069777, -0.004910203289700679, -0.004910203289700679, -0.0031054627720520827, -1.353832462142938, -0.3768275413275841, -0.3085537995178709, -0.206160057184522, 4.884400708172623, -0.1970158949846127, -0.13638254335306535, -0.07160819100689562, -1.3503524524085566, -0.5670474952829226, -0.24682478530820082, 8.267982619387967, -0.1049880663570411, -0.10357052314165702, -0.06096709279360929, -0.060326340605622995, -0.05133090127011119, -0.04896322794876096, -0.04678785948591628, -0.04093903577627279, -0.028046183858346507, -0.015836724494869347, -0.01182601978944856, -0.009054229467814808, -0.006211015392795253, -0.0021958884905895347, 0.9479338056896838, -0.5360212997700335, -0.5188061292743009, -0.17490486713906414, -0.08694596104072302, -0.025897761483657432, -0.0128051390002118, 0.4036174137526942, -0.30708003782596177, -0.16951689669769493, -0.16331994000519806, -0.8721799948117714, 1.3608786241713375, -0.33351466105160454, -0.2725378696370019, -0.15064524129368506, -0.11705116226684367, -0.07917672528742477, -0.07625668196924616, -0.019146774535861742, 1.4994206616409407, -0.5276804546098756, -0.44013417419120116, -0.3374463860927781, -0.3362661882241961, -0.3200933338874348, -0.07849553621733724, -0.06418993020643722, -0.034391329163054235, -0.030122089740587003, -0.024459633943018252, -0.018764937179542633, -0.015988314107694083, -0.014894856437527335, -0.013176442872944205, -0.013176442872944205, -0.012615392329110256, -0.012028217622163738, -0.010758209253262555, -0.010758209253262555, -0.009054229467814808, -0.00791761762145024, -0.007606982612262478, -0.007283113800897435, -0.007283113800897435, -0.007283113800897435, -0.006587792537006113, -0.006211015392795253, -0.005378871175998668, -0.005378871175998668, -0.00439180874691403, -0.00439180874691403, -0.0038034087733461105, -0.0031054627720520827, -0.0031054627720520827, -0.0031054627720520827, -0.0031054627720520827, -0.0031054627720520827, -0.0031054627720520827, -0.0031054627720520827, -0.0021958884905895347, -0.0021958884905895347, -0.0021958884905895347, -0.0021958884905895347, -0.0021958884905895347, -0.0021958884905895347, -0.0021958884905895347, -0.0021958884905895347, -0.0021958884905895347, -0.0021958884905895347, -0.0021958884905895347, -0.0021958884905895347, 0.43134678409544025, -0.4177516247471818, -3.3953851293906014, -1.5574452478449723, -0.09986008706550879, -3.3923882681031614, -1.5575294240783248, -0.09982954323748977, -0.3983009220960271))</td><td>0.0</td></tr><tr><td>-unknown-</td><td>0.0</td><td>basic</td><td>0.0</td><td>en</td><td>direct</td><td>direct</td><td>untracked</td><td>Web</td><td>Mac Desktop</td><td>Safari</td><td>ES</td><td>0.0</td><td>Millennials</td><td>2010</td><td>1</td><td>24</td><td>2010</td><td>1</td><td>24</td><td>0.0</td><td>0.0</td><td>0.0</td><td>0.0</td><td>0.0</td><td>0.0</td><td>0.0</td><td>0.0</td><td>0.0</td><td>1.0</td><td>Map(vectorType -> sparse, length -> 4, indices -> List(0), values -> List(1.0))</td><td>Map(vectorType -> sparse, length -> 4, indices -> List(0), values -> List(1.0))</td><td>Map(vectorType -> sparse, length -> 3, indices -> List(0), values -> List(1.0))</td><td>Map(vectorType -> sparse, length -> 25, indices -> List(0), values -> List(1.0))</td><td>Map(vectorType -> sparse, length -> 8, indices -> List(0), values -> List(1.0))</td><td>Map(vectorType -> sparse, length -> 18, indices -> List(0), values -> List(1.0))</td><td>Map(vectorType -> sparse, length -> 7, indices -> List(0), values -> List(1.0))</td><td>Map(vectorType -> sparse, length -> 4, indices -> List(0), values -> List(1.0))</td><td>Map(vectorType -> sparse, length -> 9, indices -> List(0), values -> List(1.0))</td><td>Map(vectorType -> sparse, length -> 52, indices -> List(1), values -> List(1.0))</td><td>Map(vectorType -> sparse, length -> 143, indices -> List(0, 4, 8, 11, 36, 44, 62, 69, 73, 83, 136, 137, 138, 139, 140, 141), values -> List(1.0, 1.0, 1.0, 1.0, 1.0, 1.0, 1.0, 1.0, 1.0, 1.0, 2010.0, 1.0, 24.0, 2010.0, 1.0, 24.0))</td><td>Map(vectorType -> dense, length -> 143, values -> List(0.5817624043652915, -0.3758924215152353, -0.33355929199303225, -0.17263723318900076, 1.1222829906332785, -0.6528652923628563, -0.588489350971012, -0.036637253839392356, 0.6312277605231977, -0.6271511636462, -0.05137809645501331, 0.18650109360693654, -0.08814835596979276, -0.07464069523339624, -0.0656875455939668, -0.05910648542987524, -0.05881826414722645, -0.04866547265717839, -0.04278839951599224, -0.03368134043187896, -0.032882733635845575, -0.024261459910594415, -0.02140772573952276, -0.017431930486119757, -0.01672568720501829, -0.016138481335726006, -0.01242274965311342, -0.012028217622163738, -0.010758209253262555, -0.010531669874649327, -0.010300151497789, -0.0093167477239189, -0.008216519923069777, -0.004910203289700679, -0.004910203289700679, -0.0031054627720520827, 0.7386402719956033, -0.3768275413275841, -0.3085537995178709, -0.206160057184522, -0.2047324201719437, -0.1970158949846127, -0.13638254335306535, -0.07160819100689562, 0.7405438308273482, -0.5670474952829226, -0.24682478530820082, -0.12094790520347767, -0.1049880663570411, -0.10357052314165702, -0.06096709279360929, -0.060326340605622995, -0.05133090127011119, -0.04896322794876096, -0.04678785948591628, -0.04093903577627279, -0.028046183858346507, -0.015836724494869347, -0.01182601978944856, -0.009054229467814808, -0.006211015392795253, -0.0021958884905895347, 0.9479338056896838, -0.5360212997700335, -0.5188061292743009, -0.17490486713906414, -0.08694596104072302, -0.025897761483657432, -0.0128051390002118, 0.4036174137526942, -0.30708003782596177, -0.16951689669769493, -0.16331994000519806, 1.1465467954118227, -0.7348158464041211, -0.33351466105160454, -0.2725378696370019, -0.15064524129368506, -0.11705116226684367, -0.07917672528742477, -0.07625668196924616, -0.019146774535861742, -0.6669210340074673, 1.895077161448121, -0.44013417419120116, -0.3374463860927781, -0.3362661882241961, -0.3200933338874348, -0.07849553621733724, -0.06418993020643722, -0.034391329163054235, -0.030122089740587003, -0.024459633943018252, -0.018764937179542633, -0.015988314107694083, -0.014894856437527335, -0.013176442872944205, -0.013176442872944205, -0.012615392329110256, -0.012028217622163738, -0.010758209253262555, -0.010758209253262555, -0.009054229467814808, -0.00791761762145024, -0.007606982612262478, -0.007283113800897435, -0.007283113800897435, -0.007283113800897435, -0.006587792537006113, -0.006211015392795253, -0.005378871175998668, -0.005378871175998668, -0.00439180874691403, -0.00439180874691403, -0.0038034087733461105, -0.0031054627720520827, -0.0031054627720520827, -0.0031054627720520827, -0.0031054627720520827, -0.0031054627720520827, -0.0031054627720520827, -0.0031054627720520827, -0.0021958884905895347, -0.0021958884905895347, -0.0021958884905895347, -0.0021958884905895347, -0.0021958884905895347, -0.0021958884905895347, -0.0021958884905895347, -0.0021958884905895347, -0.0021958884905895347, -0.0021958884905895347, -0.0021958884905895347, -0.0021958884905895347, -1.0614123710603054, -0.4177516247471818, -3.3953851293906014, -1.5574452478449723, 0.9296365941398556, -3.3923882681031614, -1.5575294240783248, 0.9297218841755478, -0.3983009220960271))</td><td>6.0</td></tr><tr><td>-unknown-</td><td>19.0</td><td>basic</td><td>0.0</td><td>en</td><td>direct</td><td>direct</td><td>omg</td><td>Web</td><td>iPad</td><td>Mobile Safari</td><td>US</td><td>0.0</td><td>Gen Z</td><td>2010</td><td>1</td><td>26</td><td>2010</td><td>1</td><td>26</td><td>1.0</td><td>0.0</td><td>0.0</td><td>0.0</td><td>0.0</td><td>0.0</td><td>2.0</td><td>0.0</td><td>3.0</td><td>5.0</td><td>Map(vectorType -> sparse, length -> 4, indices -> List(1), values -> List(1.0))</td><td>Map(vectorType -> sparse, length -> 4, indices -> List(0), values -> List(1.0))</td><td>Map(vectorType -> sparse, length -> 3, indices -> List(0), values -> List(1.0))</td><td>Map(vectorType -> sparse, length -> 25, indices -> List(0), values -> List(1.0))</td><td>Map(vectorType -> sparse, length -> 8, indices -> List(0), values -> List(1.0))</td><td>Map(vectorType -> sparse, length -> 18, indices -> List(0), values -> List(1.0))</td><td>Map(vectorType -> sparse, length -> 7, indices -> List(2), values -> List(1.0))</td><td>Map(vectorType -> sparse, length -> 4, indices -> List(0), values -> List(1.0))</td><td>Map(vectorType -> sparse, length -> 9, indices -> List(3), values -> List(1.0))</td><td>Map(vectorType -> sparse, length -> 52, indices -> List(5), values -> List(1.0))</td><td>Map(vectorType -> sparse, length -> 143, indices -> List(1, 4, 8, 11, 36, 44, 64, 69, 76, 87, 134, 136, 137, 138, 139, 140, 141), values -> List(1.0, 1.0, 1.0, 1.0, 1.0, 1.0, 1.0, 1.0, 1.0, 1.0, 19.0, 2010.0, 1.0, 26.0, 2010.0, 1.0, 26.0))</td><td>Map(vectorType -> dense, length -> 143, values -> List(-1.718906499578194, 2.6603227967265792, -0.33355929199303225, -0.17263723318900076, 1.1222829906332785, -0.6528652923628563, -0.588489350971012, -0.036637253839392356, 0.6312277605231977, -0.6271511636462, -0.05137809645501331, 0.18650109360693654, -0.08814835596979276, -0.07464069523339624, -0.0656875455939668, -0.05910648542987524, -0.05881826414722645, -0.04866547265717839, -0.04278839951599224, -0.03368134043187896, -0.032882733635845575, -0.024261459910594415, -0.02140772573952276, -0.017431930486119757, -0.01672568720501829, -0.016138481335726006, -0.01242274965311342, -0.012028217622163738, -0.010758209253262555, -0.010531669874649327, -0.010300151497789, -0.0093167477239189, -0.008216519923069777, -0.004910203289700679, -0.004910203289700679, -0.0031054627720520827, 0.7386402719956033, -0.3768275413275841, -0.3085537995178709, -0.206160057184522, -0.2047324201719437, -0.1970158949846127, -0.13638254335306535, -0.07160819100689562, 0.7405438308273482, -0.5670474952829226, -0.24682478530820082, -0.12094790520347767, -0.1049880663570411, -0.10357052314165702, -0.06096709279360929, -0.060326340605622995, -0.05133090127011119, -0.04896322794876096, -0.04678785948591628, -0.04093903577627279, -0.028046183858346507, -0.015836724494869347, -0.01182601978944856, -0.009054229467814808, -0.006211015392795253, -0.0021958884905895347, -1.0549208943404809, -0.5360212997700335, 1.9274929914041623, -0.17490486713906414, -0.08694596104072302, -0.025897761483657432, -0.0128051390002118, 0.4036174137526942, -0.30708003782596177, -0.16951689669769493, -0.16331994000519806, -0.8721799948117714, -0.7348158464041211, -0.33351466105160454, 3.6691971629691267, -0.15064524129368506, -0.11705116226684367, -0.07917672528742477, -0.07625668196924616, -0.019146774535861742, -0.6669210340074673, -0.5276804546098756, -0.44013417419120116, -0.3374463860927781, -0.3362661882241961, 3.12407373789733, -0.07849553621733724, -0.06418993020643722, -0.034391329163054235, -0.030122089740587003, -0.024459633943018252, -0.018764937179542633, -0.015988314107694083, -0.014894856437527335, -0.013176442872944205, -0.013176442872944205, -0.012615392329110256, -0.012028217622163738, -0.010758209253262555, -0.010758209253262555, -0.009054229467814808, -0.00791761762145024, -0.007606982612262478, -0.007283113800897435, -0.007283113800897435, -0.007283113800897435, -0.006587792537006113, -0.006211015392795253, -0.005378871175998668, -0.005378871175998668, -0.00439180874691403, -0.00439180874691403, -0.0038034087733461105, -0.0031054627720520827, -0.0031054627720520827, -0.0031054627720520827, -0.0031054627720520827, -0.0031054627720520827, -0.0031054627720520827, -0.0031054627720520827, -0.0021958884905895347, -0.0021958884905895347, -0.0021958884905895347, -0.0021958884905895347, -0.0021958884905895347, -0.0021958884905895347, -0.0021958884905895347, -0.0021958884905895347, -0.0021958884905895347, -0.0021958884905895347, -0.0021958884905895347, -0.0021958884905895347, -0.11599823946166649, -0.4177516247471818, -3.3953851293906014, -1.5574452478449723, 1.1584136344077143, -3.3923882681031614, -1.5575294240783248, 1.158511090267334, -0.3983009220960271))</td><td>1.0</td></tr><tr><td>-unknown-</td><td>0.0</td><td>basic</td><td>0.0</td><td>en</td><td>direct</td><td>direct</td><td>untracked</td><td>Web</td><td>Android Tablet</td><td>Chrome</td><td>CA</td><td>0.0</td><td>Millennials</td><td>2010</td><td>1</td><td>27</td><td>2010</td><td>1</td><td>27</td><td>0.0</td><td>0.0</td><td>0.0</td><td>0.0</td><td>0.0</td><td>0.0</td><td>0.0</td><td>0.0</td><td>6.0</td><td>0.0</td><td>Map(vectorType -> sparse, length -> 4, indices -> List(0), values -> List(1.0))</td><td>Map(vectorType -> sparse, length -> 4, indices -> List(0), values -> List(1.0))</td><td>Map(vectorType -> sparse, length -> 3, indices -> List(0), values -> List(1.0))</td><td>Map(vectorType -> sparse, length -> 25, indices -> List(0), values -> List(1.0))</td><td>Map(vectorType -> sparse, length -> 8, indices -> List(0), values -> List(1.0))</td><td>Map(vectorType -> sparse, length -> 18, indices -> List(0), values -> List(1.0))</td><td>Map(vectorType -> sparse, length -> 7, indices -> List(0), values -> List(1.0))</td><td>Map(vectorType -> sparse, length -> 4, indices -> List(0), values -> List(1.0))</td><td>Map(vectorType -> sparse, length -> 9, indices -> List(6), values -> List(1.0))</td><td>Map(vectorType -> sparse, length -> 52, indices -> List(0), values -> List(1.0))</td><td>Map(vectorType -> sparse, length -> 143, indices -> List(0, 4, 8, 11, 36, 44, 62, 69, 79, 82, 136, 137, 138, 139, 140, 141), values -> List(1.0, 1.0, 1.0, 1.0, 1.0, 1.0, 1.0, 1.0, 1.0, 1.0, 2010.0, 1.0, 27.0, 2010.0, 1.0, 27.0))</td><td>Map(vectorType -> dense, length -> 143, values -> List(0.5817624043652915, -0.3758924215152353, -0.33355929199303225, -0.17263723318900076, 1.1222829906332785, -0.6528652923628563, -0.588489350971012, -0.036637253839392356, 0.6312277605231977, -0.6271511636462, -0.05137809645501331, 0.18650109360693654, -0.08814835596979276, -0.07464069523339624, -0.0656875455939668, -0.05910648542987524, -0.05881826414722645, -0.04866547265717839, -0.04278839951599224, -0.03368134043187896, -0.032882733635845575, -0.024261459910594415, -0.02140772573952276, -0.017431930486119757, -0.01672568720501829, -0.016138481335726006, -0.01242274965311342, -0.012028217622163738, -0.010758209253262555, -0.010531669874649327, -0.010300151497789, -0.0093167477239189, -0.008216519923069777, -0.004910203289700679, -0.004910203289700679, -0.0031054627720520827, 0.7386402719956033, -0.3768275413275841, -0.3085537995178709, -0.206160057184522, -0.2047324201719437, -0.1970158949846127, -0.13638254335306535, -0.07160819100689562, 0.7405438308273482, -0.5670474952829226, -0.24682478530820082, -0.12094790520347767, -0.1049880663570411, -0.10357052314165702, -0.06096709279360929, -0.060326340605622995, -0.05133090127011119, -0.04896322794876096, -0.04678785948591628, -0.04093903577627279, -0.028046183858346507, -0.015836724494869347, -0.01182601978944856, -0.009054229467814808, -0.006211015392795253, -0.0021958884905895347, 0.9479338056896838, -0.5360212997700335, -0.5188061292743009, -0.17490486713906414, -0.08694596104072302, -0.025897761483657432, -0.0128051390002118, 0.4036174137526942, -0.30708003782596177, -0.16951689669769493, -0.16331994000519806, -0.8721799948117714, -0.7348158464041211, -0.33351466105160454, -0.2725378696370019, -0.15064524129368506, -0.11705116226684367, 12.629913329246532, -0.07625668196924616, -0.019146774535861742, 1.4994206616409407, -0.5276804546098756, -0.44013417419120116, -0.3374463860927781, -0.3362661882241961, -0.3200933338874348, -0.07849553621733724, -0.06418993020643722, -0.034391329163054235, -0.030122089740587003, -0.024459633943018252, -0.018764937179542633, -0.015988314107694083, -0.014894856437527335, -0.013176442872944205, -0.013176442872944205, -0.012615392329110256, -0.012028217622163738, -0.010758209253262555, -0.010758209253262555, -0.009054229467814808, -0.00791761762145024, -0.007606982612262478, -0.007283113800897435, -0.007283113800897435, -0.007283113800897435, -0.006587792537006113, -0.006211015392795253, -0.005378871175998668, -0.005378871175998668, -0.00439180874691403, -0.00439180874691403, -0.0038034087733461105, -0.0031054627720520827, -0.0031054627720520827, -0.0031054627720520827, -0.0031054627720520827, -0.0031054627720520827, -0.0031054627720520827, -0.0031054627720520827, -0.0021958884905895347, -0.0021958884905895347, -0.0021958884905895347, -0.0021958884905895347, -0.0021958884905895347, -0.0021958884905895347, -0.0021958884905895347, -0.0021958884905895347, -0.0021958884905895347, -0.0021958884905895347, -0.0021958884905895347, -0.0021958884905895347, -1.0614123710603054, -0.4177516247471818, -3.3953851293906014, -1.5574452478449723, 1.2728021545416437, -3.3923882681031614, -1.5575294240783248, 1.272905693313227, -0.3983009220960271))</td><td>7.0</td></tr><tr><td>female</td><td>40.0</td><td>basic</td><td>0.0</td><td>en</td><td>direct</td><td>direct</td><td>untracked</td><td>Web</td><td>Mac Desktop</td><td>Safari</td><td>NDF</td><td>0.0</td><td>Millennials</td><td>2010</td><td>1</td><td>30</td><td>2010</td><td>1</td><td>30</td><td>0.0</td><td>1.0</td><td>0.0</td><td>0.0</td><td>0.0</td><td>0.0</td><td>0.0</td><td>0.0</td><td>0.0</td><td>1.0</td><td>Map(vectorType -> sparse, length -> 4, indices -> List(0), values -> List(1.0))</td><td>Map(vectorType -> sparse, length -> 4, indices -> List(1), values -> List(1.0))</td><td>Map(vectorType -> sparse, length -> 3, indices -> List(0), values -> List(1.0))</td><td>Map(vectorType -> sparse, length -> 25, indices -> List(0), values -> List(1.0))</td><td>Map(vectorType -> sparse, length -> 8, indices -> List(0), values -> List(1.0))</td><td>Map(vectorType -> sparse, length -> 18, indices -> List(0), values -> List(1.0))</td><td>Map(vectorType -> sparse, length -> 7, indices -> List(0), values -> List(1.0))</td><td>Map(vectorType -> sparse, length -> 4, indices -> List(0), values -> List(1.0))</td><td>Map(vectorType -> sparse, length -> 9, indices -> List(0), values -> List(1.0))</td><td>Map(vectorType -> sparse, length -> 52, indices -> List(1), values -> List(1.0))</td><td>Map(vectorType -> sparse, length -> 143, indices -> List(0, 5, 8, 11, 36, 44, 62, 69, 73, 83, 134, 136, 137, 138, 139, 140, 141), values -> List(1.0, 1.0, 1.0, 1.0, 1.0, 1.0, 1.0, 1.0, 1.0, 1.0, 40.0, 2010.0, 1.0, 30.0, 2010.0, 1.0, 30.0))</td><td>Map(vectorType -> dense, length -> 143, values -> List(0.5817624043652915, -0.3758924215152353, -0.33355929199303225, -0.17263723318900076, -0.8910365624533463, 1.5317021593452225, -0.588489350971012, -0.036637253839392356, 0.6312277605231977, -0.6271511636462, -0.05137809645501331, 0.18650109360693654, -0.08814835596979276, -0.07464069523339624, -0.0656875455939668, -0.05910648542987524, -0.05881826414722645, -0.04866547265717839, -0.04278839951599224, -0.03368134043187896, -0.032882733635845575, -0.024261459910594415, -0.02140772573952276, -0.017431930486119757, -0.01672568720501829, -0.016138481335726006, -0.01242274965311342, -0.012028217622163738, -0.010758209253262555, -0.010531669874649327, -0.010300151497789, -0.0093167477239189, -0.008216519923069777, -0.004910203289700679, -0.004910203289700679, -0.0031054627720520827, 0.7386402719956033, -0.3768275413275841, -0.3085537995178709, -0.206160057184522, -0.2047324201719437, -0.1970158949846127, -0.13638254335306535, -0.07160819100689562, 0.7405438308273482, -0.5670474952829226, -0.24682478530820082, -0.12094790520347767, -0.1049880663570411, -0.10357052314165702, -0.06096709279360929, -0.060326340605622995, -0.05133090127011119, -0.04896322794876096, -0.04678785948591628, -0.04093903577627279, -0.028046183858346507, -0.015836724494869347, -0.01182601978944856, -0.009054229467814808, -0.006211015392795253, -0.0021958884905895347, 0.9479338056896838, -0.5360212997700335, -0.5188061292743009, -0.17490486713906414, -0.08694596104072302, -0.025897761483657432, -0.0128051390002118, 0.4036174137526942, -0.30708003782596177, -0.16951689669769493, -0.16331994000519806, 1.1465467954118227, -0.7348158464041211, -0.33351466105160454, -0.2725378696370019, -0.15064524129368506, -0.11705116226684367, -0.07917672528742477, -0.07625668196924616, -0.019146774535861742, -0.6669210340074673, 1.895077161448121, -0.44013417419120116, -0.3374463860927781, -0.3362661882241961, -0.3200933338874348, -0.07849553621733724, -0.06418993020643722, -0.034391329163054235, -0.030122089740587003, -0.024459633943018252, -0.018764937179542633, -0.015988314107694083, -0.014894856437527335, -0.013176442872944205, -0.013176442872944205, -0.012615392329110256, -0.012028217622163738, -0.010758209253262555, -0.010758209253262555, -0.009054229467814808, -0.00791761762145024, -0.007606982612262478, -0.007283113800897435, -0.007283113800897435, -0.007283113800897435, -0.006587792537006113, -0.006211015392795253, -0.005378871175998668, -0.005378871175998668, -0.00439180874691403, -0.00439180874691403, -0.0038034087733461105, -0.0031054627720520827, -0.0031054627720520827, -0.0031054627720520827, -0.0031054627720520827, -0.0031054627720520827, -0.0031054627720520827, -0.0031054627720520827, -0.0021958884905895347, -0.0021958884905895347, -0.0021958884905895347, -0.0021958884905895347, -0.0021958884905895347, -0.0021958884905895347, -0.0021958884905895347, -0.0021958884905895347, -0.0021958884905895347, -0.0021958884905895347, -0.0021958884905895347, -0.0021958884905895347, 0.9289331691473555, -0.4177516247471818, -3.3953851293906014, -1.5574452478449723, 1.615967714943432, -3.3923882681031614, -1.5575294240783248, 1.616089502450906, -0.3983009220960271))</td><td>0.0</td></tr><tr><td>-unknown-</td><td>0.0</td><td>basic</td><td>0.0</td><td>en</td><td>direct</td><td>direct</td><td>untracked</td><td>Web</td><td>Mac Desktop</td><td>Chrome</td><td>NDF</td><td>0.0</td><td>Millennials</td><td>2010</td><td>2</td><td>1</td><td>2010</td><td>2</td><td>1</td><td>0.0</td><td>0.0</td><td>0.0</td><td>0.0</td><td>0.0</td><td>0.0</td><td>0.0</td><td>0.0</td><td>0.0</td><td>0.0</td><td>Map(vectorType -> sparse, length -> 4, indices -> List(0), values -> List(1.0))</td><td>Map(vectorType -> sparse, length -> 4, indices -> List(0), values -> List(1.0))</td><td>Map(vectorType -> sparse, length -> 3, indices -> List(0), values -> List(1.0))</td><td>Map(vectorType -> sparse, length -> 25, indices -> List(0), values -> List(1.0))</td><td>Map(vectorType -> sparse, length -> 8, indices -> List(0), values -> List(1.0))</td><td>Map(vectorType -> sparse, length -> 18, indices -> List(0), values -> List(1.0))</td><td>Map(vectorType -> sparse, length -> 7, indices -> List(0), values -> List(1.0))</td><td>Map(vectorType -> sparse, length -> 4, indices -> List(0), values -> List(1.0))</td><td>Map(vectorType -> sparse, length -> 9, indices -> List(0), values -> List(1.0))</td><td>Map(vectorType -> sparse, length -> 52, indices -> List(0), values -> List(1.0))</td><td>Map(vectorType -> sparse, length -> 143, indices -> List(0, 4, 8, 11, 36, 44, 62, 69, 73, 82, 136, 137, 138, 139, 140, 141), values -> List(1.0, 1.0, 1.0, 1.0, 1.0, 1.0, 1.0, 1.0, 1.0, 1.0, 2010.0, 2.0, 1.0, 2010.0, 2.0, 1.0))</td><td>Map(vectorType -> dense, length -> 143, values -> List(0.5817624043652915, -0.3758924215152353, -0.33355929199303225, -0.17263723318900076, 1.1222829906332785, -0.6528652923628563, -0.588489350971012, -0.036637253839392356, 0.6312277605231977, -0.6271511636462, -0.05137809645501331, 0.18650109360693654, -0.08814835596979276, -0.07464069523339624, -0.0656875455939668, -0.05910648542987524, -0.05881826414722645, -0.04866547265717839, -0.04278839951599224, -0.03368134043187896, -0.032882733635845575, -0.024261459910594415, -0.02140772573952276, -0.017431930486119757, -0.01672568720501829, -0.016138481335726006, -0.01242274965311342, -0.012028217622163738, -0.010758209253262555, -0.010531669874649327, -0.010300151497789, -0.0093167477239189, -0.008216519923069777, -0.004910203289700679, -0.004910203289700679, -0.0031054627720520827, 0.7386402719956033, -0.3768275413275841, -0.3085537995178709, -0.206160057184522, -0.2047324201719437, -0.1970158949846127, -0.13638254335306535, -0.07160819100689562, 0.7405438308273482, -0.5670474952829226, -0.24682478530820082, -0.12094790520347767, -0.1049880663570411, -0.10357052314165702, -0.06096709279360929, -0.060326340605622995, -0.05133090127011119, -0.04896322794876096, -0.04678785948591628, -0.04093903577627279, -0.028046183858346507, -0.015836724494869347, -0.01182601978944856, -0.009054229467814808, -0.006211015392795253, -0.0021958884905895347, 0.9479338056896838, -0.5360212997700335, -0.5188061292743009, -0.17490486713906414, -0.08694596104072302, -0.025897761483657432, -0.0128051390002118, 0.4036174137526942, -0.30708003782596177, -0.16951689669769493, -0.16331994000519806, 1.1465467954118227, -0.7348158464041211, -0.33351466105160454, -0.2725378696370019, -0.15064524129368506, -0.11705116226684367, -0.07917672528742477, -0.07625668196924616, -0.019146774535861742, 1.4994206616409407, -0.5276804546098756, -0.44013417419120116, -0.3374463860927781, -0.3362661882241961, -0.3200933338874348, -0.07849553621733724, -0.06418993020643722, -0.034391329163054235, -0.030122089740587003, -0.024459633943018252, -0.018764937179542633, -0.015988314107694083, -0.014894856437527335, -0.013176442872944205, -0.013176442872944205, -0.012615392329110256, -0.012028217622163738, -0.010758209253262555, -0.010758209253262555, -0.009054229467814808, -0.00791761762145024, -0.007606982612262478, -0.007283113800897435, -0.007283113800897435, -0.007283113800897435, -0.006587792537006113, -0.006211015392795253, -0.005378871175998668, -0.005378871175998668, -0.00439180874691403, -0.00439180874691403, -0.0038034087733461105, -0.0031054627720520827, -0.0031054627720520827, -0.0031054627720520827, -0.0031054627720520827, -0.0031054627720520827, -0.0031054627720520827, -0.0031054627720520827, -0.0021958884905895347, -0.0021958884905895347, -0.0021958884905895347, -0.0021958884905895347, -0.0021958884905895347, -0.0021958884905895347, -0.0021958884905895347, -0.0021958884905895347, -0.0021958884905895347, -0.0021958884905895347, -0.0021958884905895347, -0.0021958884905895347, -1.0614123710603054, -0.4177516247471818, -3.3953851293906014, -1.2470320904650587, -1.70129936894052, -3.3923882681031614, -1.2470971028627862, -1.7013539858799926, -0.3983009220960271))</td><td>0.0</td></tr><tr><td>-unknown-</td><td>0.0</td><td>basic</td><td>0.0</td><td>en</td><td>seo</td><td>google</td><td>omg</td><td>Web</td><td>Mac Desktop</td><td>Safari</td><td>NDF</td><td>0.0</td><td>Millennials</td><td>2010</td><td>2</td><td>1</td><td>2010</td><td>2</td><td>1</td><td>0.0</td><td>0.0</td><td>0.0</td><td>0.0</td><td>3.0</td><td>1.0</td><td>2.0</td><td>0.0</td><td>0.0</td><td>1.0</td><td>Map(vectorType -> sparse, length -> 4, indices -> List(0), values -> List(1.0))</td><td>Map(vectorType -> sparse, length -> 4, indices -> List(0), values -> List(1.0))</td><td>Map(vectorType -> sparse, length -> 3, indices -> List(0), values -> List(1.0))</td><td>Map(vectorType -> sparse, length -> 25, indices -> List(0), values -> List(1.0))</td><td>Map(vectorType -> sparse, length -> 8, indices -> List(3), values -> List(1.0))</td><td>Map(vectorType -> sparse, length -> 18, indices -> List(1), values -> List(1.0))</td><td>Map(vectorType -> sparse, length -> 7, indices -> List(2), values -> List(1.0))</td><td>Map(vectorType -> sparse, length -> 4, indices -> List(0), values -> List(1.0))</td><td>Map(vectorType -> sparse, length -> 9, indices -> List(0), values -> List(1.0))</td><td>Map(vectorType -> sparse, length -> 52, indices -> List(1), values -> List(1.0))</td><td>Map(vectorType -> sparse, length -> 143, indices -> List(0, 4, 8, 11, 39, 45, 64, 69, 73, 83, 136, 137, 138, 139, 140, 141), values -> List(1.0, 1.0, 1.0, 1.0, 1.0, 1.0, 1.0, 1.0, 1.0, 1.0, 2010.0, 2.0, 1.0, 2010.0, 2.0, 1.0))</td><td>Map(vectorType -> dense, length -> 143, values -> List(0.5817624043652915, -0.3758924215152353, -0.33355929199303225, -0.17263723318900076, 1.1222829906332785, -0.6528652923628563, -0.588489350971012, -0.036637253839392356, 0.6312277605231977, -0.6271511636462, -0.05137809645501331, 0.18650109360693654, -0.08814835596979276, -0.07464069523339624, -0.0656875455939668, -0.05910648542987524, -0.05881826414722645, -0.04866547265717839, -0.04278839951599224, -0.03368134043187896, -0.032882733635845575, -0.024261459910594415, -0.02140772573952276, -0.017431930486119757, -0.01672568720501829, -0.016138481335726006, -0.01242274965311342, -0.012028217622163738, -0.010758209253262555, -0.010531669874649327, -0.010300151497789, -0.0093167477239189, -0.008216519923069777, -0.004910203289700679, -0.004910203289700679, -0.0031054627720520827, -1.353832462142938, -0.3768275413275841, -0.3085537995178709, 4.850576739890497, -0.2047324201719437, -0.1970158949846127, -0.13638254335306535, -0.07160819100689562, -1.3503524524085566, 1.7635122038142492, -0.24682478530820082, -0.12094790520347767, -0.1049880663570411, -0.10357052314165702, -0.06096709279360929, -0.060326340605622995, -0.05133090127011119, -0.04896322794876096, -0.04678785948591628, -0.04093903577627279, -0.028046183858346507, -0.015836724494869347, -0.01182601978944856, -0.009054229467814808, -0.006211015392795253, -0.0021958884905895347, -1.0549208943404809, -0.5360212997700335, 1.9274929914041623, -0.17490486713906414, -0.08694596104072302, -0.025897761483657432, -0.0128051390002118, 0.4036174137526942, -0.30708003782596177, -0.16951689669769493, -0.16331994000519806, 1.1465467954118227, -0.7348158464041211, -0.33351466105160454, -0.2725378696370019, -0.15064524129368506, -0.11705116226684367, -0.07917672528742477, -0.07625668196924616, -0.019146774535861742, -0.6669210340074673, 1.895077161448121, -0.44013417419120116, -0.3374463860927781, -0.3362661882241961, -0.3200933338874348, -0.07849553621733724, -0.06418993020643722, -0.034391329163054235, -0.030122089740587003, -0.024459633943018252, -0.018764937179542633, -0.015988314107694083, -0.014894856437527335, -0.013176442872944205, -0.013176442872944205, -0.012615392329110256, -0.012028217622163738, -0.010758209253262555, -0.010758209253262555, -0.009054229467814808, -0.00791761762145024, -0.007606982612262478, -0.007283113800897435, -0.007283113800897435, -0.007283113800897435, -0.006587792537006113, -0.006211015392795253, -0.005378871175998668, -0.005378871175998668, -0.00439180874691403, -0.00439180874691403, -0.0038034087733461105, -0.0031054627720520827, -0.0031054627720520827, -0.0031054627720520827, -0.0031054627720520827, -0.0031054627720520827, -0.0031054627720520827, -0.0031054627720520827, -0.0021958884905895347, -0.0021958884905895347, -0.0021958884905895347, -0.0021958884905895347, -0.0021958884905895347, -0.0021958884905895347, -0.0021958884905895347, -0.0021958884905895347, -0.0021958884905895347, -0.0021958884905895347, -0.0021958884905895347, -0.0021958884905895347, -1.0614123710603054, -0.4177516247471818, -3.3953851293906014, -1.2470320904650587, -1.70129936894052, -3.3923882681031614, -1.2470971028627862, -1.7013539858799926, -0.3983009220960271))</td><td>0.0</td></tr><tr><td>-unknown-</td><td>49.0</td><td>basic</td><td>0.0</td><td>en</td><td>other</td><td>craigslist</td><td>untracked</td><td>Web</td><td>Mac Desktop</td><td>Chrome</td><td>US</td><td>0.0</td><td>Gen X</td><td>2010</td><td>2</td><td>3</td><td>2010</td><td>2</td><td>3</td><td>2.0</td><td>0.0</td><td>0.0</td><td>0.0</td><td>4.0</td><td>3.0</td><td>0.0</td><td>0.0</td><td>0.0</td><td>0.0</td><td>Map(vectorType -> sparse, length -> 4, indices -> List(2), values -> List(1.0))</td><td>Map(vectorType -> sparse, length -> 4, indices -> List(0), values -> List(1.0))</td><td>Map(vectorType -> sparse, length -> 3, indices -> List(0), values -> List(1.0))</td><td>Map(vectorType -> sparse, length -> 25, indices -> List(0), values -> List(1.0))</td><td>Map(vectorType -> sparse, length -> 8, indices -> List(4), values -> List(1.0))</td><td>Map(vectorType -> sparse, length -> 18, indices -> List(3), values -> List(1.0))</td><td>Map(vectorType -> sparse, length -> 7, indices -> List(0), values -> List(1.0))</td><td>Map(vectorType -> sparse, length -> 4, indices -> List(0), values -> List(1.0))</td><td>Map(vectorType -> sparse, length -> 9, indices -> List(0), values -> List(1.0))</td><td>Map(vectorType -> sparse, length -> 52, indices -> List(0), values -> List(1.0))</td><td>Map(vectorType -> sparse, length -> 143, indices -> List(2, 4, 8, 11, 40, 47, 62, 69, 73, 82, 134, 136, 137, 138, 139, 140, 141), values -> List(1.0, 1.0, 1.0, 1.0, 1.0, 1.0, 1.0, 1.0, 1.0, 1.0, 49.0, 2010.0, 2.0, 3.0, 2010.0, 2.0, 3.0))</td><td>Map(vectorType -> dense, length -> 143, values -> List(-1.718906499578194, -0.3758924215152353, 2.997953293696959, -0.17263723318900076, 1.1222829906332785, -0.6528652923628563, -0.588489350971012, -0.036637253839392356, 0.6312277605231977, -0.6271511636462, -0.05137809645501331, 0.18650109360693654, -0.08814835596979276, -0.07464069523339624, -0.0656875455939668, -0.05910648542987524, -0.05881826414722645, -0.04866547265717839, -0.04278839951599224, -0.03368134043187896, -0.032882733635845575, -0.024261459910594415, -0.02140772573952276, -0.017431930486119757, -0.01672568720501829, -0.016138481335726006, -0.01242274965311342, -0.012028217622163738, -0.010758209253262555, -0.010531669874649327, -0.010300151497789, -0.0093167477239189, -0.008216519923069777, -0.004910203289700679, -0.004910203289700679, -0.0031054627720520827, -1.353832462142938, -0.3768275413275841, -0.3085537995178709, -0.206160057184522, 4.884400708172623, -0.1970158949846127, -0.13638254335306535, -0.07160819100689562, -1.3503524524085566, -0.5670474952829226, -0.24682478530820082, 8.267982619387967, -0.1049880663570411, -0.10357052314165702, -0.06096709279360929, -0.060326340605622995, -0.05133090127011119, -0.04896322794876096, -0.04678785948591628, -0.04093903577627279, -0.028046183858346507, -0.015836724494869347, -0.01182601978944856, -0.009054229467814808, -0.006211015392795253, -0.0021958884905895347, 0.9479338056896838, -0.5360212997700335, -0.5188061292743009, -0.17490486713906414, -0.08694596104072302, -0.025897761483657432, -0.0128051390002118, 0.4036174137526942, -0.30708003782596177, -0.16951689669769493, -0.16331994000519806, 1.1465467954118227, -0.7348158464041211, -0.33351466105160454, -0.2725378696370019, -0.15064524129368506, -0.11705116226684367, -0.07917672528742477, -0.07625668196924616, -0.019146774535861742, 1.4994206616409407, -0.5276804546098756, -0.44013417419120116, -0.3374463860927781, -0.3362661882241961, -0.3200933338874348, -0.07849553621733724, -0.06418993020643722, -0.034391329163054235, -0.030122089740587003, -0.024459633943018252, -0.018764937179542633, -0.015988314107694083, -0.014894856437527335, -0.013176442872944205, -0.013176442872944205, -0.012615392329110256, -0.012028217622163738, -0.010758209253262555, -0.010758209253262555, -0.009054229467814808, -0.00791761762145024, -0.007606982612262478, -0.007283113800897435, -0.007283113800897435, -0.007283113800897435, -0.006587792537006113, -0.006211015392795253, -0.005378871175998668, -0.005378871175998668, -0.00439180874691403, -0.00439180874691403, -0.0038034087733461105, -0.0031054627720520827, -0.0031054627720520827, -0.0031054627720520827, -0.0031054627720520827, -0.0031054627720520827, -0.0031054627720520827, -0.0031054627720520827, -0.0021958884905895347, -0.0021958884905895347, -0.0021958884905895347, -0.0021958884905895347, -0.0021958884905895347, -0.0021958884905895347, -0.0021958884905895347, -0.0021958884905895347, -0.0021958884905895347, -0.0021958884905895347, -0.0021958884905895347, -0.0021958884905895347, 1.3767609156940792, -0.4177516247471818, -3.3953851293906014, -1.2470320904650587, -1.4725223286726612, -3.3923882681031614, -1.2470971028627862, -1.4725647797882067, -0.3983009220960271))</td><td>1.0</td></tr><tr><td>-unknown-</td><td>0.0</td><td>basic</td><td>0.0</td><td>en</td><td>direct</td><td>direct</td><td>untracked</td><td>Web</td><td>iPhone</td><td>-unknown-</td><td>GB</td><td>0.0</td><td>Millennials</td><td>2010</td><td>2</td><td>4</td><td>2010</td><td>2</td><td>4</td><td>0.0</td><td>0.0</td><td>0.0</td><td>0.0</td><td>0.0</td><td>0.0</td><td>0.0</td><td>0.0</td><td>2.0</td><td>3.0</td><td>Map(vectorType -> sparse, length -> 4, indices -> List(0), values -> List(1.0))</td><td>Map(vectorType -> sparse, length -> 4, indices -> List(0), values -> List(1.0))</td><td>Map(vectorType -> sparse, length -> 3, indices -> List(0), values -> List(1.0))</td><td>Map(vectorType -> sparse, length -> 25, indices -> List(0), values -> List(1.0))</td><td>Map(vectorType -> sparse, length -> 8, indices -> List(0), values -> List(1.0))</td><td>Map(vectorType -> sparse, length -> 18, indices -> List(0), values -> List(1.0))</td><td>Map(vectorType -> sparse, length -> 7, indices -> List(0), values -> List(1.0))</td><td>Map(vectorType -> sparse, length -> 4, indices -> List(0), values -> List(1.0))</td><td>Map(vectorType -> sparse, length -> 9, indices -> List(2), values -> List(1.0))</td><td>Map(vectorType -> sparse, length -> 52, indices -> List(3), values -> List(1.0))</td><td>Map(vectorType -> sparse, length -> 143, indices -> List(0, 4, 8, 11, 36, 44, 62, 69, 75, 85, 136, 137, 138, 139, 140, 141), values -> List(1.0, 1.0, 1.0, 1.0, 1.0, 1.0, 1.0, 1.0, 1.0, 1.0, 2010.0, 2.0, 4.0, 2010.0, 2.0, 4.0))</td><td>Map(vectorType -> dense, length -> 143, values -> List(0.5817624043652915, -0.3758924215152353, -0.33355929199303225, -0.17263723318900076, 1.1222829906332785, -0.6528652923628563, -0.588489350971012, -0.036637253839392356, 0.6312277605231977, -0.6271511636462, -0.05137809645501331, 0.18650109360693654, -0.08814835596979276, -0.07464069523339624, -0.0656875455939668, -0.05910648542987524, -0.05881826414722645, -0.04866547265717839, -0.04278839951599224, -0.03368134043187896, -0.032882733635845575, -0.024261459910594415, -0.02140772573952276, -0.017431930486119757, -0.01672568720501829, -0.016138481335726006, -0.01242274965311342, -0.012028217622163738, -0.010758209253262555, -0.010531669874649327, -0.010300151497789, -0.0093167477239189, -0.008216519923069777, -0.004910203289700679, -0.004910203289700679, -0.0031054627720520827, 0.7386402719956033, -0.3768275413275841, -0.3085537995178709, -0.206160057184522, -0.2047324201719437, -0.1970158949846127, -0.13638254335306535, -0.07160819100689562, 0.7405438308273482, -0.5670474952829226, -0.24682478530820082, -0.12094790520347767, -0.1049880663570411, -0.10357052314165702, -0.06096709279360929, -0.060326340605622995, -0.05133090127011119, -0.04896322794876096, -0.04678785948591628, -0.04093903577627279, -0.028046183858346507, -0.015836724494869347, -0.01182601978944856, -0.009054229467814808, -0.006211015392795253, -0.0021958884905895347, 0.9479338056896838, -0.5360212997700335, -0.5188061292743009, -0.17490486713906414, -0.08694596104072302, -0.025897761483657432, -0.0128051390002118, 0.4036174137526942, -0.30708003782596177, -0.16951689669769493, -0.16331994000519806, -0.8721799948117714, -0.7348158464041211, 2.9983544798919897, -0.2725378696370019, -0.15064524129368506, -0.11705116226684367, -0.07917672528742477, -0.07625668196924616, -0.019146774535861742, -0.6669210340074673, -0.5276804546098756, -0.44013417419120116, 2.963419432794863, -0.3362661882241961, -0.3200933338874348, -0.07849553621733724, -0.06418993020643722, -0.034391329163054235, -0.030122089740587003, -0.024459633943018252, -0.018764937179542633, -0.015988314107694083, -0.014894856437527335, -0.013176442872944205, -0.013176442872944205, -0.012615392329110256, -0.012028217622163738, -0.010758209253262555, -0.010758209253262555, -0.009054229467814808, -0.00791761762145024, -0.007606982612262478, -0.007283113800897435, -0.007283113800897435, -0.007283113800897435, -0.006587792537006113, -0.006211015392795253, -0.005378871175998668, -0.005378871175998668, -0.00439180874691403, -0.00439180874691403, -0.0038034087733461105, -0.0031054627720520827, -0.0031054627720520827, -0.0031054627720520827, -0.0031054627720520827, -0.0031054627720520827, -0.0031054627720520827, -0.0031054627720520827, -0.0021958884905895347, -0.0021958884905895347, -0.0021958884905895347, -0.0021958884905895347, -0.0021958884905895347, -0.0021958884905895347, -0.0021958884905895347, -0.0021958884905895347, -0.0021958884905895347, -0.0021958884905895347, -0.0021958884905895347, -0.0021958884905895347, -1.0614123710603054, -0.4177516247471818, -3.3953851293906014, -1.2470320904650587, -1.358133808538732, -3.3923882681031614, -1.2470971028627862, -1.3581701767423136, -0.3983009220960271))</td><td>5.0</td></tr></tbody></table></div>"
      ]
     },
     "metadata": {
      "application/vnd.databricks.v1+output": {
       "addedWidgets": {},
       "aggData": [],
       "aggError": "",
       "aggOverflow": false,
       "aggSchema": [],
       "aggSeriesLimitReached": false,
       "aggType": "",
       "arguments": {},
       "columnCustomDisplayInfos": {},
       "data": [
        [
         "female",
         33,
         "basic",
         0,
         "en",
         "direct",
         "direct",
         "untracked",
         "Web",
         "Windows Desktop",
         "Chrome",
         "CA",
         0,
         "Millennials",
         2010,
         1,
         7,
         2010,
         1,
         7,
         0,
         1,
         0,
         0,
         0,
         0,
         0,
         0,
         1,
         0,
         {
          "indices": [
           0
          ],
          "length": 4,
          "values": [
           1
          ],
          "vectorType": "sparse"
         },
         {
          "indices": [
           1
          ],
          "length": 4,
          "values": [
           1
          ],
          "vectorType": "sparse"
         },
         {
          "indices": [
           0
          ],
          "length": 3,
          "values": [
           1
          ],
          "vectorType": "sparse"
         },
         {
          "indices": [
           0
          ],
          "length": 25,
          "values": [
           1
          ],
          "vectorType": "sparse"
         },
         {
          "indices": [
           0
          ],
          "length": 8,
          "values": [
           1
          ],
          "vectorType": "sparse"
         },
         {
          "indices": [
           0
          ],
          "length": 18,
          "values": [
           1
          ],
          "vectorType": "sparse"
         },
         {
          "indices": [
           0
          ],
          "length": 7,
          "values": [
           1
          ],
          "vectorType": "sparse"
         },
         {
          "indices": [
           0
          ],
          "length": 4,
          "values": [
           1
          ],
          "vectorType": "sparse"
         },
         {
          "indices": [
           1
          ],
          "length": 9,
          "values": [
           1
          ],
          "vectorType": "sparse"
         },
         {
          "indices": [
           0
          ],
          "length": 52,
          "values": [
           1
          ],
          "vectorType": "sparse"
         },
         {
          "indices": [
           0,
           5,
           8,
           11,
           36,
           44,
           62,
           69,
           74,
           82,
           134,
           136,
           137,
           138,
           139,
           140,
           141
          ],
          "length": 143,
          "values": [
           1,
           1,
           1,
           1,
           1,
           1,
           1,
           1,
           1,
           1,
           33,
           2010,
           1,
           7,
           2010,
           1,
           7
          ],
          "vectorType": "sparse"
         },
         {
          "length": 143,
          "values": [
           0.5817624043652915,
           -0.3758924215152353,
           -0.33355929199303225,
           -0.17263723318900076,
           -0.8910365624533463,
           1.5317021593452225,
           -0.588489350971012,
           -0.036637253839392356,
           0.6312277605231977,
           -0.6271511636462,
           -0.05137809645501331,
           0.18650109360693654,
           -0.08814835596979276,
           -0.07464069523339624,
           -0.0656875455939668,
           -0.05910648542987524,
           -0.05881826414722645,
           -0.04866547265717839,
           -0.04278839951599224,
           -0.03368134043187896,
           -0.032882733635845575,
           -0.024261459910594415,
           -0.02140772573952276,
           -0.017431930486119757,
           -0.01672568720501829,
           -0.016138481335726006,
           -0.01242274965311342,
           -0.012028217622163738,
           -0.010758209253262555,
           -0.010531669874649327,
           -0.010300151497789,
           -0.0093167477239189,
           -0.008216519923069777,
           -0.004910203289700679,
           -0.004910203289700679,
           -0.0031054627720520827,
           0.7386402719956033,
           -0.3768275413275841,
           -0.3085537995178709,
           -0.206160057184522,
           -0.2047324201719437,
           -0.1970158949846127,
           -0.13638254335306535,
           -0.07160819100689562,
           0.7405438308273482,
           -0.5670474952829226,
           -0.24682478530820082,
           -0.12094790520347767,
           -0.1049880663570411,
           -0.10357052314165702,
           -0.06096709279360929,
           -0.060326340605622995,
           -0.05133090127011119,
           -0.04896322794876096,
           -0.04678785948591628,
           -0.04093903577627279,
           -0.028046183858346507,
           -0.015836724494869347,
           -0.01182601978944856,
           -0.009054229467814808,
           -0.006211015392795253,
           -0.0021958884905895347,
           0.9479338056896838,
           -0.5360212997700335,
           -0.5188061292743009,
           -0.17490486713906414,
           -0.08694596104072302,
           -0.025897761483657432,
           -0.0128051390002118,
           0.4036174137526942,
           -0.30708003782596177,
           -0.16951689669769493,
           -0.16331994000519806,
           -0.8721799948117714,
           1.3608786241713375,
           -0.33351466105160454,
           -0.2725378696370019,
           -0.15064524129368506,
           -0.11705116226684367,
           -0.07917672528742477,
           -0.07625668196924616,
           -0.019146774535861742,
           1.4994206616409407,
           -0.5276804546098756,
           -0.44013417419120116,
           -0.3374463860927781,
           -0.3362661882241961,
           -0.3200933338874348,
           -0.07849553621733724,
           -0.06418993020643722,
           -0.034391329163054235,
           -0.030122089740587003,
           -0.024459633943018252,
           -0.018764937179542633,
           -0.015988314107694083,
           -0.014894856437527335,
           -0.013176442872944205,
           -0.013176442872944205,
           -0.012615392329110256,
           -0.012028217622163738,
           -0.010758209253262555,
           -0.010758209253262555,
           -0.009054229467814808,
           -0.00791761762145024,
           -0.007606982612262478,
           -0.007283113800897435,
           -0.007283113800897435,
           -0.007283113800897435,
           -0.006587792537006113,
           -0.006211015392795253,
           -0.005378871175998668,
           -0.005378871175998668,
           -0.00439180874691403,
           -0.00439180874691403,
           -0.0038034087733461105,
           -0.0031054627720520827,
           -0.0031054627720520827,
           -0.0031054627720520827,
           -0.0031054627720520827,
           -0.0031054627720520827,
           -0.0031054627720520827,
           -0.0031054627720520827,
           -0.0021958884905895347,
           -0.0021958884905895347,
           -0.0021958884905895347,
           -0.0021958884905895347,
           -0.0021958884905895347,
           -0.0021958884905895347,
           -0.0021958884905895347,
           -0.0021958884905895347,
           -0.0021958884905895347,
           -0.0021958884905895347,
           -0.0021958884905895347,
           -0.0021958884905895347,
           0.5806226996110148,
           -0.4177516247471818,
           -3.3953851293906014,
           -1.5574452478449723,
           -1.0149682481369438,
           -3.3923882681031614,
           -1.5575294240783248,
           -1.0149863676046342,
           -0.3983009220960271
          ],
          "vectorType": "dense"
         },
         7
        ],
        [
         "male",
         30,
         "basic",
         0,
         "en",
         "other",
         "craigslist",
         "untracked",
         "Web",
         "Windows Desktop",
         "Chrome",
         "NDF",
         0,
         "Millennials",
         2010,
         1,
         15,
         2010,
         1,
         15,
         0,
         2,
         0,
         0,
         4,
         3,
         0,
         0,
         1,
         0,
         {
          "indices": [
           0
          ],
          "length": 4,
          "values": [
           1
          ],
          "vectorType": "sparse"
         },
         {
          "indices": [
           2
          ],
          "length": 4,
          "values": [
           1
          ],
          "vectorType": "sparse"
         },
         {
          "indices": [
           0
          ],
          "length": 3,
          "values": [
           1
          ],
          "vectorType": "sparse"
         },
         {
          "indices": [
           0
          ],
          "length": 25,
          "values": [
           1
          ],
          "vectorType": "sparse"
         },
         {
          "indices": [
           4
          ],
          "length": 8,
          "values": [
           1
          ],
          "vectorType": "sparse"
         },
         {
          "indices": [
           3
          ],
          "length": 18,
          "values": [
           1
          ],
          "vectorType": "sparse"
         },
         {
          "indices": [
           0
          ],
          "length": 7,
          "values": [
           1
          ],
          "vectorType": "sparse"
         },
         {
          "indices": [
           0
          ],
          "length": 4,
          "values": [
           1
          ],
          "vectorType": "sparse"
         },
         {
          "indices": [
           1
          ],
          "length": 9,
          "values": [
           1
          ],
          "vectorType": "sparse"
         },
         {
          "indices": [
           0
          ],
          "length": 52,
          "values": [
           1
          ],
          "vectorType": "sparse"
         },
         {
          "indices": [
           0,
           6,
           8,
           11,
           40,
           47,
           62,
           69,
           74,
           82,
           134,
           136,
           137,
           138,
           139,
           140,
           141
          ],
          "length": 143,
          "values": [
           1,
           1,
           1,
           1,
           1,
           1,
           1,
           1,
           1,
           1,
           30,
           2010,
           1,
           15,
           2010,
           1,
           15
          ],
          "vectorType": "sparse"
         },
         {
          "length": 143,
          "values": [
           0.5817624043652915,
           -0.3758924215152353,
           -0.33355929199303225,
           -0.17263723318900076,
           -0.8910365624533463,
           -0.6528652923628563,
           1.699257898930094,
           -0.036637253839392356,
           0.6312277605231977,
           -0.6271511636462,
           -0.05137809645501331,
           0.18650109360693654,
           -0.08814835596979276,
           -0.07464069523339624,
           -0.0656875455939668,
           -0.05910648542987524,
           -0.05881826414722645,
           -0.04866547265717839,
           -0.04278839951599224,
           -0.03368134043187896,
           -0.032882733635845575,
           -0.024261459910594415,
           -0.02140772573952276,
           -0.017431930486119757,
           -0.01672568720501829,
           -0.016138481335726006,
           -0.01242274965311342,
           -0.012028217622163738,
           -0.010758209253262555,
           -0.010531669874649327,
           -0.010300151497789,
           -0.0093167477239189,
           -0.008216519923069777,
           -0.004910203289700679,
           -0.004910203289700679,
           -0.0031054627720520827,
           -1.353832462142938,
           -0.3768275413275841,
           -0.3085537995178709,
           -0.206160057184522,
           4.884400708172623,
           -0.1970158949846127,
           -0.13638254335306535,
           -0.07160819100689562,
           -1.3503524524085566,
           -0.5670474952829226,
           -0.24682478530820082,
           8.267982619387967,
           -0.1049880663570411,
           -0.10357052314165702,
           -0.06096709279360929,
           -0.060326340605622995,
           -0.05133090127011119,
           -0.04896322794876096,
           -0.04678785948591628,
           -0.04093903577627279,
           -0.028046183858346507,
           -0.015836724494869347,
           -0.01182601978944856,
           -0.009054229467814808,
           -0.006211015392795253,
           -0.0021958884905895347,
           0.9479338056896838,
           -0.5360212997700335,
           -0.5188061292743009,
           -0.17490486713906414,
           -0.08694596104072302,
           -0.025897761483657432,
           -0.0128051390002118,
           0.4036174137526942,
           -0.30708003782596177,
           -0.16951689669769493,
           -0.16331994000519806,
           -0.8721799948117714,
           1.3608786241713375,
           -0.33351466105160454,
           -0.2725378696370019,
           -0.15064524129368506,
           -0.11705116226684367,
           -0.07917672528742477,
           -0.07625668196924616,
           -0.019146774535861742,
           1.4994206616409407,
           -0.5276804546098756,
           -0.44013417419120116,
           -0.3374463860927781,
           -0.3362661882241961,
           -0.3200933338874348,
           -0.07849553621733724,
           -0.06418993020643722,
           -0.034391329163054235,
           -0.030122089740587003,
           -0.024459633943018252,
           -0.018764937179542633,
           -0.015988314107694083,
           -0.014894856437527335,
           -0.013176442872944205,
           -0.013176442872944205,
           -0.012615392329110256,
           -0.012028217622163738,
           -0.010758209253262555,
           -0.010758209253262555,
           -0.009054229467814808,
           -0.00791761762145024,
           -0.007606982612262478,
           -0.007283113800897435,
           -0.007283113800897435,
           -0.007283113800897435,
           -0.006587792537006113,
           -0.006211015392795253,
           -0.005378871175998668,
           -0.005378871175998668,
           -0.00439180874691403,
           -0.00439180874691403,
           -0.0038034087733461105,
           -0.0031054627720520827,
           -0.0031054627720520827,
           -0.0031054627720520827,
           -0.0031054627720520827,
           -0.0031054627720520827,
           -0.0031054627720520827,
           -0.0031054627720520827,
           -0.0021958884905895347,
           -0.0021958884905895347,
           -0.0021958884905895347,
           -0.0021958884905895347,
           -0.0021958884905895347,
           -0.0021958884905895347,
           -0.0021958884905895347,
           -0.0021958884905895347,
           -0.0021958884905895347,
           -0.0021958884905895347,
           -0.0021958884905895347,
           -0.0021958884905895347,
           0.43134678409544025,
           -0.4177516247471818,
           -3.3953851293906014,
           -1.5574452478449723,
           -0.09986008706550879,
           -3.3923882681031614,
           -1.5575294240783248,
           -0.09982954323748977,
           -0.3983009220960271
          ],
          "vectorType": "dense"
         },
         0
        ],
        [
         "-unknown-",
         0,
         "basic",
         0,
         "en",
         "direct",
         "direct",
         "untracked",
         "Web",
         "Mac Desktop",
         "Safari",
         "ES",
         0,
         "Millennials",
         2010,
         1,
         24,
         2010,
         1,
         24,
         0,
         0,
         0,
         0,
         0,
         0,
         0,
         0,
         0,
         1,
         {
          "indices": [
           0
          ],
          "length": 4,
          "values": [
           1
          ],
          "vectorType": "sparse"
         },
         {
          "indices": [
           0
          ],
          "length": 4,
          "values": [
           1
          ],
          "vectorType": "sparse"
         },
         {
          "indices": [
           0
          ],
          "length": 3,
          "values": [
           1
          ],
          "vectorType": "sparse"
         },
         {
          "indices": [
           0
          ],
          "length": 25,
          "values": [
           1
          ],
          "vectorType": "sparse"
         },
         {
          "indices": [
           0
          ],
          "length": 8,
          "values": [
           1
          ],
          "vectorType": "sparse"
         },
         {
          "indices": [
           0
          ],
          "length": 18,
          "values": [
           1
          ],
          "vectorType": "sparse"
         },
         {
          "indices": [
           0
          ],
          "length": 7,
          "values": [
           1
          ],
          "vectorType": "sparse"
         },
         {
          "indices": [
           0
          ],
          "length": 4,
          "values": [
           1
          ],
          "vectorType": "sparse"
         },
         {
          "indices": [
           0
          ],
          "length": 9,
          "values": [
           1
          ],
          "vectorType": "sparse"
         },
         {
          "indices": [
           1
          ],
          "length": 52,
          "values": [
           1
          ],
          "vectorType": "sparse"
         },
         {
          "indices": [
           0,
           4,
           8,
           11,
           36,
           44,
           62,
           69,
           73,
           83,
           136,
           137,
           138,
           139,
           140,
           141
          ],
          "length": 143,
          "values": [
           1,
           1,
           1,
           1,
           1,
           1,
           1,
           1,
           1,
           1,
           2010,
           1,
           24,
           2010,
           1,
           24
          ],
          "vectorType": "sparse"
         },
         {
          "length": 143,
          "values": [
           0.5817624043652915,
           -0.3758924215152353,
           -0.33355929199303225,
           -0.17263723318900076,
           1.1222829906332785,
           -0.6528652923628563,
           -0.588489350971012,
           -0.036637253839392356,
           0.6312277605231977,
           -0.6271511636462,
           -0.05137809645501331,
           0.18650109360693654,
           -0.08814835596979276,
           -0.07464069523339624,
           -0.0656875455939668,
           -0.05910648542987524,
           -0.05881826414722645,
           -0.04866547265717839,
           -0.04278839951599224,
           -0.03368134043187896,
           -0.032882733635845575,
           -0.024261459910594415,
           -0.02140772573952276,
           -0.017431930486119757,
           -0.01672568720501829,
           -0.016138481335726006,
           -0.01242274965311342,
           -0.012028217622163738,
           -0.010758209253262555,
           -0.010531669874649327,
           -0.010300151497789,
           -0.0093167477239189,
           -0.008216519923069777,
           -0.004910203289700679,
           -0.004910203289700679,
           -0.0031054627720520827,
           0.7386402719956033,
           -0.3768275413275841,
           -0.3085537995178709,
           -0.206160057184522,
           -0.2047324201719437,
           -0.1970158949846127,
           -0.13638254335306535,
           -0.07160819100689562,
           0.7405438308273482,
           -0.5670474952829226,
           -0.24682478530820082,
           -0.12094790520347767,
           -0.1049880663570411,
           -0.10357052314165702,
           -0.06096709279360929,
           -0.060326340605622995,
           -0.05133090127011119,
           -0.04896322794876096,
           -0.04678785948591628,
           -0.04093903577627279,
           -0.028046183858346507,
           -0.015836724494869347,
           -0.01182601978944856,
           -0.009054229467814808,
           -0.006211015392795253,
           -0.0021958884905895347,
           0.9479338056896838,
           -0.5360212997700335,
           -0.5188061292743009,
           -0.17490486713906414,
           -0.08694596104072302,
           -0.025897761483657432,
           -0.0128051390002118,
           0.4036174137526942,
           -0.30708003782596177,
           -0.16951689669769493,
           -0.16331994000519806,
           1.1465467954118227,
           -0.7348158464041211,
           -0.33351466105160454,
           -0.2725378696370019,
           -0.15064524129368506,
           -0.11705116226684367,
           -0.07917672528742477,
           -0.07625668196924616,
           -0.019146774535861742,
           -0.6669210340074673,
           1.895077161448121,
           -0.44013417419120116,
           -0.3374463860927781,
           -0.3362661882241961,
           -0.3200933338874348,
           -0.07849553621733724,
           -0.06418993020643722,
           -0.034391329163054235,
           -0.030122089740587003,
           -0.024459633943018252,
           -0.018764937179542633,
           -0.015988314107694083,
           -0.014894856437527335,
           -0.013176442872944205,
           -0.013176442872944205,
           -0.012615392329110256,
           -0.012028217622163738,
           -0.010758209253262555,
           -0.010758209253262555,
           -0.009054229467814808,
           -0.00791761762145024,
           -0.007606982612262478,
           -0.007283113800897435,
           -0.007283113800897435,
           -0.007283113800897435,
           -0.006587792537006113,
           -0.006211015392795253,
           -0.005378871175998668,
           -0.005378871175998668,
           -0.00439180874691403,
           -0.00439180874691403,
           -0.0038034087733461105,
           -0.0031054627720520827,
           -0.0031054627720520827,
           -0.0031054627720520827,
           -0.0031054627720520827,
           -0.0031054627720520827,
           -0.0031054627720520827,
           -0.0031054627720520827,
           -0.0021958884905895347,
           -0.0021958884905895347,
           -0.0021958884905895347,
           -0.0021958884905895347,
           -0.0021958884905895347,
           -0.0021958884905895347,
           -0.0021958884905895347,
           -0.0021958884905895347,
           -0.0021958884905895347,
           -0.0021958884905895347,
           -0.0021958884905895347,
           -0.0021958884905895347,
           -1.0614123710603054,
           -0.4177516247471818,
           -3.3953851293906014,
           -1.5574452478449723,
           0.9296365941398556,
           -3.3923882681031614,
           -1.5575294240783248,
           0.9297218841755478,
           -0.3983009220960271
          ],
          "vectorType": "dense"
         },
         6
        ],
        [
         "-unknown-",
         19,
         "basic",
         0,
         "en",
         "direct",
         "direct",
         "omg",
         "Web",
         "iPad",
         "Mobile Safari",
         "US",
         0,
         "Gen Z",
         2010,
         1,
         26,
         2010,
         1,
         26,
         1,
         0,
         0,
         0,
         0,
         0,
         2,
         0,
         3,
         5,
         {
          "indices": [
           1
          ],
          "length": 4,
          "values": [
           1
          ],
          "vectorType": "sparse"
         },
         {
          "indices": [
           0
          ],
          "length": 4,
          "values": [
           1
          ],
          "vectorType": "sparse"
         },
         {
          "indices": [
           0
          ],
          "length": 3,
          "values": [
           1
          ],
          "vectorType": "sparse"
         },
         {
          "indices": [
           0
          ],
          "length": 25,
          "values": [
           1
          ],
          "vectorType": "sparse"
         },
         {
          "indices": [
           0
          ],
          "length": 8,
          "values": [
           1
          ],
          "vectorType": "sparse"
         },
         {
          "indices": [
           0
          ],
          "length": 18,
          "values": [
           1
          ],
          "vectorType": "sparse"
         },
         {
          "indices": [
           2
          ],
          "length": 7,
          "values": [
           1
          ],
          "vectorType": "sparse"
         },
         {
          "indices": [
           0
          ],
          "length": 4,
          "values": [
           1
          ],
          "vectorType": "sparse"
         },
         {
          "indices": [
           3
          ],
          "length": 9,
          "values": [
           1
          ],
          "vectorType": "sparse"
         },
         {
          "indices": [
           5
          ],
          "length": 52,
          "values": [
           1
          ],
          "vectorType": "sparse"
         },
         {
          "indices": [
           1,
           4,
           8,
           11,
           36,
           44,
           64,
           69,
           76,
           87,
           134,
           136,
           137,
           138,
           139,
           140,
           141
          ],
          "length": 143,
          "values": [
           1,
           1,
           1,
           1,
           1,
           1,
           1,
           1,
           1,
           1,
           19,
           2010,
           1,
           26,
           2010,
           1,
           26
          ],
          "vectorType": "sparse"
         },
         {
          "length": 143,
          "values": [
           -1.718906499578194,
           2.6603227967265792,
           -0.33355929199303225,
           -0.17263723318900076,
           1.1222829906332785,
           -0.6528652923628563,
           -0.588489350971012,
           -0.036637253839392356,
           0.6312277605231977,
           -0.6271511636462,
           -0.05137809645501331,
           0.18650109360693654,
           -0.08814835596979276,
           -0.07464069523339624,
           -0.0656875455939668,
           -0.05910648542987524,
           -0.05881826414722645,
           -0.04866547265717839,
           -0.04278839951599224,
           -0.03368134043187896,
           -0.032882733635845575,
           -0.024261459910594415,
           -0.02140772573952276,
           -0.017431930486119757,
           -0.01672568720501829,
           -0.016138481335726006,
           -0.01242274965311342,
           -0.012028217622163738,
           -0.010758209253262555,
           -0.010531669874649327,
           -0.010300151497789,
           -0.0093167477239189,
           -0.008216519923069777,
           -0.004910203289700679,
           -0.004910203289700679,
           -0.0031054627720520827,
           0.7386402719956033,
           -0.3768275413275841,
           -0.3085537995178709,
           -0.206160057184522,
           -0.2047324201719437,
           -0.1970158949846127,
           -0.13638254335306535,
           -0.07160819100689562,
           0.7405438308273482,
           -0.5670474952829226,
           -0.24682478530820082,
           -0.12094790520347767,
           -0.1049880663570411,
           -0.10357052314165702,
           -0.06096709279360929,
           -0.060326340605622995,
           -0.05133090127011119,
           -0.04896322794876096,
           -0.04678785948591628,
           -0.04093903577627279,
           -0.028046183858346507,
           -0.015836724494869347,
           -0.01182601978944856,
           -0.009054229467814808,
           -0.006211015392795253,
           -0.0021958884905895347,
           -1.0549208943404809,
           -0.5360212997700335,
           1.9274929914041623,
           -0.17490486713906414,
           -0.08694596104072302,
           -0.025897761483657432,
           -0.0128051390002118,
           0.4036174137526942,
           -0.30708003782596177,
           -0.16951689669769493,
           -0.16331994000519806,
           -0.8721799948117714,
           -0.7348158464041211,
           -0.33351466105160454,
           3.6691971629691267,
           -0.15064524129368506,
           -0.11705116226684367,
           -0.07917672528742477,
           -0.07625668196924616,
           -0.019146774535861742,
           -0.6669210340074673,
           -0.5276804546098756,
           -0.44013417419120116,
           -0.3374463860927781,
           -0.3362661882241961,
           3.12407373789733,
           -0.07849553621733724,
           -0.06418993020643722,
           -0.034391329163054235,
           -0.030122089740587003,
           -0.024459633943018252,
           -0.018764937179542633,
           -0.015988314107694083,
           -0.014894856437527335,
           -0.013176442872944205,
           -0.013176442872944205,
           -0.012615392329110256,
           -0.012028217622163738,
           -0.010758209253262555,
           -0.010758209253262555,
           -0.009054229467814808,
           -0.00791761762145024,
           -0.007606982612262478,
           -0.007283113800897435,
           -0.007283113800897435,
           -0.007283113800897435,
           -0.006587792537006113,
           -0.006211015392795253,
           -0.005378871175998668,
           -0.005378871175998668,
           -0.00439180874691403,
           -0.00439180874691403,
           -0.0038034087733461105,
           -0.0031054627720520827,
           -0.0031054627720520827,
           -0.0031054627720520827,
           -0.0031054627720520827,
           -0.0031054627720520827,
           -0.0031054627720520827,
           -0.0031054627720520827,
           -0.0021958884905895347,
           -0.0021958884905895347,
           -0.0021958884905895347,
           -0.0021958884905895347,
           -0.0021958884905895347,
           -0.0021958884905895347,
           -0.0021958884905895347,
           -0.0021958884905895347,
           -0.0021958884905895347,
           -0.0021958884905895347,
           -0.0021958884905895347,
           -0.0021958884905895347,
           -0.11599823946166649,
           -0.4177516247471818,
           -3.3953851293906014,
           -1.5574452478449723,
           1.1584136344077143,
           -3.3923882681031614,
           -1.5575294240783248,
           1.158511090267334,
           -0.3983009220960271
          ],
          "vectorType": "dense"
         },
         1
        ],
        [
         "-unknown-",
         0,
         "basic",
         0,
         "en",
         "direct",
         "direct",
         "untracked",
         "Web",
         "Android Tablet",
         "Chrome",
         "CA",
         0,
         "Millennials",
         2010,
         1,
         27,
         2010,
         1,
         27,
         0,
         0,
         0,
         0,
         0,
         0,
         0,
         0,
         6,
         0,
         {
          "indices": [
           0
          ],
          "length": 4,
          "values": [
           1
          ],
          "vectorType": "sparse"
         },
         {
          "indices": [
           0
          ],
          "length": 4,
          "values": [
           1
          ],
          "vectorType": "sparse"
         },
         {
          "indices": [
           0
          ],
          "length": 3,
          "values": [
           1
          ],
          "vectorType": "sparse"
         },
         {
          "indices": [
           0
          ],
          "length": 25,
          "values": [
           1
          ],
          "vectorType": "sparse"
         },
         {
          "indices": [
           0
          ],
          "length": 8,
          "values": [
           1
          ],
          "vectorType": "sparse"
         },
         {
          "indices": [
           0
          ],
          "length": 18,
          "values": [
           1
          ],
          "vectorType": "sparse"
         },
         {
          "indices": [
           0
          ],
          "length": 7,
          "values": [
           1
          ],
          "vectorType": "sparse"
         },
         {
          "indices": [
           0
          ],
          "length": 4,
          "values": [
           1
          ],
          "vectorType": "sparse"
         },
         {
          "indices": [
           6
          ],
          "length": 9,
          "values": [
           1
          ],
          "vectorType": "sparse"
         },
         {
          "indices": [
           0
          ],
          "length": 52,
          "values": [
           1
          ],
          "vectorType": "sparse"
         },
         {
          "indices": [
           0,
           4,
           8,
           11,
           36,
           44,
           62,
           69,
           79,
           82,
           136,
           137,
           138,
           139,
           140,
           141
          ],
          "length": 143,
          "values": [
           1,
           1,
           1,
           1,
           1,
           1,
           1,
           1,
           1,
           1,
           2010,
           1,
           27,
           2010,
           1,
           27
          ],
          "vectorType": "sparse"
         },
         {
          "length": 143,
          "values": [
           0.5817624043652915,
           -0.3758924215152353,
           -0.33355929199303225,
           -0.17263723318900076,
           1.1222829906332785,
           -0.6528652923628563,
           -0.588489350971012,
           -0.036637253839392356,
           0.6312277605231977,
           -0.6271511636462,
           -0.05137809645501331,
           0.18650109360693654,
           -0.08814835596979276,
           -0.07464069523339624,
           -0.0656875455939668,
           -0.05910648542987524,
           -0.05881826414722645,
           -0.04866547265717839,
           -0.04278839951599224,
           -0.03368134043187896,
           -0.032882733635845575,
           -0.024261459910594415,
           -0.02140772573952276,
           -0.017431930486119757,
           -0.01672568720501829,
           -0.016138481335726006,
           -0.01242274965311342,
           -0.012028217622163738,
           -0.010758209253262555,
           -0.010531669874649327,
           -0.010300151497789,
           -0.0093167477239189,
           -0.008216519923069777,
           -0.004910203289700679,
           -0.004910203289700679,
           -0.0031054627720520827,
           0.7386402719956033,
           -0.3768275413275841,
           -0.3085537995178709,
           -0.206160057184522,
           -0.2047324201719437,
           -0.1970158949846127,
           -0.13638254335306535,
           -0.07160819100689562,
           0.7405438308273482,
           -0.5670474952829226,
           -0.24682478530820082,
           -0.12094790520347767,
           -0.1049880663570411,
           -0.10357052314165702,
           -0.06096709279360929,
           -0.060326340605622995,
           -0.05133090127011119,
           -0.04896322794876096,
           -0.04678785948591628,
           -0.04093903577627279,
           -0.028046183858346507,
           -0.015836724494869347,
           -0.01182601978944856,
           -0.009054229467814808,
           -0.006211015392795253,
           -0.0021958884905895347,
           0.9479338056896838,
           -0.5360212997700335,
           -0.5188061292743009,
           -0.17490486713906414,
           -0.08694596104072302,
           -0.025897761483657432,
           -0.0128051390002118,
           0.4036174137526942,
           -0.30708003782596177,
           -0.16951689669769493,
           -0.16331994000519806,
           -0.8721799948117714,
           -0.7348158464041211,
           -0.33351466105160454,
           -0.2725378696370019,
           -0.15064524129368506,
           -0.11705116226684367,
           12.629913329246532,
           -0.07625668196924616,
           -0.019146774535861742,
           1.4994206616409407,
           -0.5276804546098756,
           -0.44013417419120116,
           -0.3374463860927781,
           -0.3362661882241961,
           -0.3200933338874348,
           -0.07849553621733724,
           -0.06418993020643722,
           -0.034391329163054235,
           -0.030122089740587003,
           -0.024459633943018252,
           -0.018764937179542633,
           -0.015988314107694083,
           -0.014894856437527335,
           -0.013176442872944205,
           -0.013176442872944205,
           -0.012615392329110256,
           -0.012028217622163738,
           -0.010758209253262555,
           -0.010758209253262555,
           -0.009054229467814808,
           -0.00791761762145024,
           -0.007606982612262478,
           -0.007283113800897435,
           -0.007283113800897435,
           -0.007283113800897435,
           -0.006587792537006113,
           -0.006211015392795253,
           -0.005378871175998668,
           -0.005378871175998668,
           -0.00439180874691403,
           -0.00439180874691403,
           -0.0038034087733461105,
           -0.0031054627720520827,
           -0.0031054627720520827,
           -0.0031054627720520827,
           -0.0031054627720520827,
           -0.0031054627720520827,
           -0.0031054627720520827,
           -0.0031054627720520827,
           -0.0021958884905895347,
           -0.0021958884905895347,
           -0.0021958884905895347,
           -0.0021958884905895347,
           -0.0021958884905895347,
           -0.0021958884905895347,
           -0.0021958884905895347,
           -0.0021958884905895347,
           -0.0021958884905895347,
           -0.0021958884905895347,
           -0.0021958884905895347,
           -0.0021958884905895347,
           -1.0614123710603054,
           -0.4177516247471818,
           -3.3953851293906014,
           -1.5574452478449723,
           1.2728021545416437,
           -3.3923882681031614,
           -1.5575294240783248,
           1.272905693313227,
           -0.3983009220960271
          ],
          "vectorType": "dense"
         },
         7
        ],
        [
         "female",
         40,
         "basic",
         0,
         "en",
         "direct",
         "direct",
         "untracked",
         "Web",
         "Mac Desktop",
         "Safari",
         "NDF",
         0,
         "Millennials",
         2010,
         1,
         30,
         2010,
         1,
         30,
         0,
         1,
         0,
         0,
         0,
         0,
         0,
         0,
         0,
         1,
         {
          "indices": [
           0
          ],
          "length": 4,
          "values": [
           1
          ],
          "vectorType": "sparse"
         },
         {
          "indices": [
           1
          ],
          "length": 4,
          "values": [
           1
          ],
          "vectorType": "sparse"
         },
         {
          "indices": [
           0
          ],
          "length": 3,
          "values": [
           1
          ],
          "vectorType": "sparse"
         },
         {
          "indices": [
           0
          ],
          "length": 25,
          "values": [
           1
          ],
          "vectorType": "sparse"
         },
         {
          "indices": [
           0
          ],
          "length": 8,
          "values": [
           1
          ],
          "vectorType": "sparse"
         },
         {
          "indices": [
           0
          ],
          "length": 18,
          "values": [
           1
          ],
          "vectorType": "sparse"
         },
         {
          "indices": [
           0
          ],
          "length": 7,
          "values": [
           1
          ],
          "vectorType": "sparse"
         },
         {
          "indices": [
           0
          ],
          "length": 4,
          "values": [
           1
          ],
          "vectorType": "sparse"
         },
         {
          "indices": [
           0
          ],
          "length": 9,
          "values": [
           1
          ],
          "vectorType": "sparse"
         },
         {
          "indices": [
           1
          ],
          "length": 52,
          "values": [
           1
          ],
          "vectorType": "sparse"
         },
         {
          "indices": [
           0,
           5,
           8,
           11,
           36,
           44,
           62,
           69,
           73,
           83,
           134,
           136,
           137,
           138,
           139,
           140,
           141
          ],
          "length": 143,
          "values": [
           1,
           1,
           1,
           1,
           1,
           1,
           1,
           1,
           1,
           1,
           40,
           2010,
           1,
           30,
           2010,
           1,
           30
          ],
          "vectorType": "sparse"
         },
         {
          "length": 143,
          "values": [
           0.5817624043652915,
           -0.3758924215152353,
           -0.33355929199303225,
           -0.17263723318900076,
           -0.8910365624533463,
           1.5317021593452225,
           -0.588489350971012,
           -0.036637253839392356,
           0.6312277605231977,
           -0.6271511636462,
           -0.05137809645501331,
           0.18650109360693654,
           -0.08814835596979276,
           -0.07464069523339624,
           -0.0656875455939668,
           -0.05910648542987524,
           -0.05881826414722645,
           -0.04866547265717839,
           -0.04278839951599224,
           -0.03368134043187896,
           -0.032882733635845575,
           -0.024261459910594415,
           -0.02140772573952276,
           -0.017431930486119757,
           -0.01672568720501829,
           -0.016138481335726006,
           -0.01242274965311342,
           -0.012028217622163738,
           -0.010758209253262555,
           -0.010531669874649327,
           -0.010300151497789,
           -0.0093167477239189,
           -0.008216519923069777,
           -0.004910203289700679,
           -0.004910203289700679,
           -0.0031054627720520827,
           0.7386402719956033,
           -0.3768275413275841,
           -0.3085537995178709,
           -0.206160057184522,
           -0.2047324201719437,
           -0.1970158949846127,
           -0.13638254335306535,
           -0.07160819100689562,
           0.7405438308273482,
           -0.5670474952829226,
           -0.24682478530820082,
           -0.12094790520347767,
           -0.1049880663570411,
           -0.10357052314165702,
           -0.06096709279360929,
           -0.060326340605622995,
           -0.05133090127011119,
           -0.04896322794876096,
           -0.04678785948591628,
           -0.04093903577627279,
           -0.028046183858346507,
           -0.015836724494869347,
           -0.01182601978944856,
           -0.009054229467814808,
           -0.006211015392795253,
           -0.0021958884905895347,
           0.9479338056896838,
           -0.5360212997700335,
           -0.5188061292743009,
           -0.17490486713906414,
           -0.08694596104072302,
           -0.025897761483657432,
           -0.0128051390002118,
           0.4036174137526942,
           -0.30708003782596177,
           -0.16951689669769493,
           -0.16331994000519806,
           1.1465467954118227,
           -0.7348158464041211,
           -0.33351466105160454,
           -0.2725378696370019,
           -0.15064524129368506,
           -0.11705116226684367,
           -0.07917672528742477,
           -0.07625668196924616,
           -0.019146774535861742,
           -0.6669210340074673,
           1.895077161448121,
           -0.44013417419120116,
           -0.3374463860927781,
           -0.3362661882241961,
           -0.3200933338874348,
           -0.07849553621733724,
           -0.06418993020643722,
           -0.034391329163054235,
           -0.030122089740587003,
           -0.024459633943018252,
           -0.018764937179542633,
           -0.015988314107694083,
           -0.014894856437527335,
           -0.013176442872944205,
           -0.013176442872944205,
           -0.012615392329110256,
           -0.012028217622163738,
           -0.010758209253262555,
           -0.010758209253262555,
           -0.009054229467814808,
           -0.00791761762145024,
           -0.007606982612262478,
           -0.007283113800897435,
           -0.007283113800897435,
           -0.007283113800897435,
           -0.006587792537006113,
           -0.006211015392795253,
           -0.005378871175998668,
           -0.005378871175998668,
           -0.00439180874691403,
           -0.00439180874691403,
           -0.0038034087733461105,
           -0.0031054627720520827,
           -0.0031054627720520827,
           -0.0031054627720520827,
           -0.0031054627720520827,
           -0.0031054627720520827,
           -0.0031054627720520827,
           -0.0031054627720520827,
           -0.0021958884905895347,
           -0.0021958884905895347,
           -0.0021958884905895347,
           -0.0021958884905895347,
           -0.0021958884905895347,
           -0.0021958884905895347,
           -0.0021958884905895347,
           -0.0021958884905895347,
           -0.0021958884905895347,
           -0.0021958884905895347,
           -0.0021958884905895347,
           -0.0021958884905895347,
           0.9289331691473555,
           -0.4177516247471818,
           -3.3953851293906014,
           -1.5574452478449723,
           1.615967714943432,
           -3.3923882681031614,
           -1.5575294240783248,
           1.616089502450906,
           -0.3983009220960271
          ],
          "vectorType": "dense"
         },
         0
        ],
        [
         "-unknown-",
         0,
         "basic",
         0,
         "en",
         "direct",
         "direct",
         "untracked",
         "Web",
         "Mac Desktop",
         "Chrome",
         "NDF",
         0,
         "Millennials",
         2010,
         2,
         1,
         2010,
         2,
         1,
         0,
         0,
         0,
         0,
         0,
         0,
         0,
         0,
         0,
         0,
         {
          "indices": [
           0
          ],
          "length": 4,
          "values": [
           1
          ],
          "vectorType": "sparse"
         },
         {
          "indices": [
           0
          ],
          "length": 4,
          "values": [
           1
          ],
          "vectorType": "sparse"
         },
         {
          "indices": [
           0
          ],
          "length": 3,
          "values": [
           1
          ],
          "vectorType": "sparse"
         },
         {
          "indices": [
           0
          ],
          "length": 25,
          "values": [
           1
          ],
          "vectorType": "sparse"
         },
         {
          "indices": [
           0
          ],
          "length": 8,
          "values": [
           1
          ],
          "vectorType": "sparse"
         },
         {
          "indices": [
           0
          ],
          "length": 18,
          "values": [
           1
          ],
          "vectorType": "sparse"
         },
         {
          "indices": [
           0
          ],
          "length": 7,
          "values": [
           1
          ],
          "vectorType": "sparse"
         },
         {
          "indices": [
           0
          ],
          "length": 4,
          "values": [
           1
          ],
          "vectorType": "sparse"
         },
         {
          "indices": [
           0
          ],
          "length": 9,
          "values": [
           1
          ],
          "vectorType": "sparse"
         },
         {
          "indices": [
           0
          ],
          "length": 52,
          "values": [
           1
          ],
          "vectorType": "sparse"
         },
         {
          "indices": [
           0,
           4,
           8,
           11,
           36,
           44,
           62,
           69,
           73,
           82,
           136,
           137,
           138,
           139,
           140,
           141
          ],
          "length": 143,
          "values": [
           1,
           1,
           1,
           1,
           1,
           1,
           1,
           1,
           1,
           1,
           2010,
           2,
           1,
           2010,
           2,
           1
          ],
          "vectorType": "sparse"
         },
         {
          "length": 143,
          "values": [
           0.5817624043652915,
           -0.3758924215152353,
           -0.33355929199303225,
           -0.17263723318900076,
           1.1222829906332785,
           -0.6528652923628563,
           -0.588489350971012,
           -0.036637253839392356,
           0.6312277605231977,
           -0.6271511636462,
           -0.05137809645501331,
           0.18650109360693654,
           -0.08814835596979276,
           -0.07464069523339624,
           -0.0656875455939668,
           -0.05910648542987524,
           -0.05881826414722645,
           -0.04866547265717839,
           -0.04278839951599224,
           -0.03368134043187896,
           -0.032882733635845575,
           -0.024261459910594415,
           -0.02140772573952276,
           -0.017431930486119757,
           -0.01672568720501829,
           -0.016138481335726006,
           -0.01242274965311342,
           -0.012028217622163738,
           -0.010758209253262555,
           -0.010531669874649327,
           -0.010300151497789,
           -0.0093167477239189,
           -0.008216519923069777,
           -0.004910203289700679,
           -0.004910203289700679,
           -0.0031054627720520827,
           0.7386402719956033,
           -0.3768275413275841,
           -0.3085537995178709,
           -0.206160057184522,
           -0.2047324201719437,
           -0.1970158949846127,
           -0.13638254335306535,
           -0.07160819100689562,
           0.7405438308273482,
           -0.5670474952829226,
           -0.24682478530820082,
           -0.12094790520347767,
           -0.1049880663570411,
           -0.10357052314165702,
           -0.06096709279360929,
           -0.060326340605622995,
           -0.05133090127011119,
           -0.04896322794876096,
           -0.04678785948591628,
           -0.04093903577627279,
           -0.028046183858346507,
           -0.015836724494869347,
           -0.01182601978944856,
           -0.009054229467814808,
           -0.006211015392795253,
           -0.0021958884905895347,
           0.9479338056896838,
           -0.5360212997700335,
           -0.5188061292743009,
           -0.17490486713906414,
           -0.08694596104072302,
           -0.025897761483657432,
           -0.0128051390002118,
           0.4036174137526942,
           -0.30708003782596177,
           -0.16951689669769493,
           -0.16331994000519806,
           1.1465467954118227,
           -0.7348158464041211,
           -0.33351466105160454,
           -0.2725378696370019,
           -0.15064524129368506,
           -0.11705116226684367,
           -0.07917672528742477,
           -0.07625668196924616,
           -0.019146774535861742,
           1.4994206616409407,
           -0.5276804546098756,
           -0.44013417419120116,
           -0.3374463860927781,
           -0.3362661882241961,
           -0.3200933338874348,
           -0.07849553621733724,
           -0.06418993020643722,
           -0.034391329163054235,
           -0.030122089740587003,
           -0.024459633943018252,
           -0.018764937179542633,
           -0.015988314107694083,
           -0.014894856437527335,
           -0.013176442872944205,
           -0.013176442872944205,
           -0.012615392329110256,
           -0.012028217622163738,
           -0.010758209253262555,
           -0.010758209253262555,
           -0.009054229467814808,
           -0.00791761762145024,
           -0.007606982612262478,
           -0.007283113800897435,
           -0.007283113800897435,
           -0.007283113800897435,
           -0.006587792537006113,
           -0.006211015392795253,
           -0.005378871175998668,
           -0.005378871175998668,
           -0.00439180874691403,
           -0.00439180874691403,
           -0.0038034087733461105,
           -0.0031054627720520827,
           -0.0031054627720520827,
           -0.0031054627720520827,
           -0.0031054627720520827,
           -0.0031054627720520827,
           -0.0031054627720520827,
           -0.0031054627720520827,
           -0.0021958884905895347,
           -0.0021958884905895347,
           -0.0021958884905895347,
           -0.0021958884905895347,
           -0.0021958884905895347,
           -0.0021958884905895347,
           -0.0021958884905895347,
           -0.0021958884905895347,
           -0.0021958884905895347,
           -0.0021958884905895347,
           -0.0021958884905895347,
           -0.0021958884905895347,
           -1.0614123710603054,
           -0.4177516247471818,
           -3.3953851293906014,
           -1.2470320904650587,
           -1.70129936894052,
           -3.3923882681031614,
           -1.2470971028627862,
           -1.7013539858799926,
           -0.3983009220960271
          ],
          "vectorType": "dense"
         },
         0
        ],
        [
         "-unknown-",
         0,
         "basic",
         0,
         "en",
         "seo",
         "google",
         "omg",
         "Web",
         "Mac Desktop",
         "Safari",
         "NDF",
         0,
         "Millennials",
         2010,
         2,
         1,
         2010,
         2,
         1,
         0,
         0,
         0,
         0,
         3,
         1,
         2,
         0,
         0,
         1,
         {
          "indices": [
           0
          ],
          "length": 4,
          "values": [
           1
          ],
          "vectorType": "sparse"
         },
         {
          "indices": [
           0
          ],
          "length": 4,
          "values": [
           1
          ],
          "vectorType": "sparse"
         },
         {
          "indices": [
           0
          ],
          "length": 3,
          "values": [
           1
          ],
          "vectorType": "sparse"
         },
         {
          "indices": [
           0
          ],
          "length": 25,
          "values": [
           1
          ],
          "vectorType": "sparse"
         },
         {
          "indices": [
           3
          ],
          "length": 8,
          "values": [
           1
          ],
          "vectorType": "sparse"
         },
         {
          "indices": [
           1
          ],
          "length": 18,
          "values": [
           1
          ],
          "vectorType": "sparse"
         },
         {
          "indices": [
           2
          ],
          "length": 7,
          "values": [
           1
          ],
          "vectorType": "sparse"
         },
         {
          "indices": [
           0
          ],
          "length": 4,
          "values": [
           1
          ],
          "vectorType": "sparse"
         },
         {
          "indices": [
           0
          ],
          "length": 9,
          "values": [
           1
          ],
          "vectorType": "sparse"
         },
         {
          "indices": [
           1
          ],
          "length": 52,
          "values": [
           1
          ],
          "vectorType": "sparse"
         },
         {
          "indices": [
           0,
           4,
           8,
           11,
           39,
           45,
           64,
           69,
           73,
           83,
           136,
           137,
           138,
           139,
           140,
           141
          ],
          "length": 143,
          "values": [
           1,
           1,
           1,
           1,
           1,
           1,
           1,
           1,
           1,
           1,
           2010,
           2,
           1,
           2010,
           2,
           1
          ],
          "vectorType": "sparse"
         },
         {
          "length": 143,
          "values": [
           0.5817624043652915,
           -0.3758924215152353,
           -0.33355929199303225,
           -0.17263723318900076,
           1.1222829906332785,
           -0.6528652923628563,
           -0.588489350971012,
           -0.036637253839392356,
           0.6312277605231977,
           -0.6271511636462,
           -0.05137809645501331,
           0.18650109360693654,
           -0.08814835596979276,
           -0.07464069523339624,
           -0.0656875455939668,
           -0.05910648542987524,
           -0.05881826414722645,
           -0.04866547265717839,
           -0.04278839951599224,
           -0.03368134043187896,
           -0.032882733635845575,
           -0.024261459910594415,
           -0.02140772573952276,
           -0.017431930486119757,
           -0.01672568720501829,
           -0.016138481335726006,
           -0.01242274965311342,
           -0.012028217622163738,
           -0.010758209253262555,
           -0.010531669874649327,
           -0.010300151497789,
           -0.0093167477239189,
           -0.008216519923069777,
           -0.004910203289700679,
           -0.004910203289700679,
           -0.0031054627720520827,
           -1.353832462142938,
           -0.3768275413275841,
           -0.3085537995178709,
           4.850576739890497,
           -0.2047324201719437,
           -0.1970158949846127,
           -0.13638254335306535,
           -0.07160819100689562,
           -1.3503524524085566,
           1.7635122038142492,
           -0.24682478530820082,
           -0.12094790520347767,
           -0.1049880663570411,
           -0.10357052314165702,
           -0.06096709279360929,
           -0.060326340605622995,
           -0.05133090127011119,
           -0.04896322794876096,
           -0.04678785948591628,
           -0.04093903577627279,
           -0.028046183858346507,
           -0.015836724494869347,
           -0.01182601978944856,
           -0.009054229467814808,
           -0.006211015392795253,
           -0.0021958884905895347,
           -1.0549208943404809,
           -0.5360212997700335,
           1.9274929914041623,
           -0.17490486713906414,
           -0.08694596104072302,
           -0.025897761483657432,
           -0.0128051390002118,
           0.4036174137526942,
           -0.30708003782596177,
           -0.16951689669769493,
           -0.16331994000519806,
           1.1465467954118227,
           -0.7348158464041211,
           -0.33351466105160454,
           -0.2725378696370019,
           -0.15064524129368506,
           -0.11705116226684367,
           -0.07917672528742477,
           -0.07625668196924616,
           -0.019146774535861742,
           -0.6669210340074673,
           1.895077161448121,
           -0.44013417419120116,
           -0.3374463860927781,
           -0.3362661882241961,
           -0.3200933338874348,
           -0.07849553621733724,
           -0.06418993020643722,
           -0.034391329163054235,
           -0.030122089740587003,
           -0.024459633943018252,
           -0.018764937179542633,
           -0.015988314107694083,
           -0.014894856437527335,
           -0.013176442872944205,
           -0.013176442872944205,
           -0.012615392329110256,
           -0.012028217622163738,
           -0.010758209253262555,
           -0.010758209253262555,
           -0.009054229467814808,
           -0.00791761762145024,
           -0.007606982612262478,
           -0.007283113800897435,
           -0.007283113800897435,
           -0.007283113800897435,
           -0.006587792537006113,
           -0.006211015392795253,
           -0.005378871175998668,
           -0.005378871175998668,
           -0.00439180874691403,
           -0.00439180874691403,
           -0.0038034087733461105,
           -0.0031054627720520827,
           -0.0031054627720520827,
           -0.0031054627720520827,
           -0.0031054627720520827,
           -0.0031054627720520827,
           -0.0031054627720520827,
           -0.0031054627720520827,
           -0.0021958884905895347,
           -0.0021958884905895347,
           -0.0021958884905895347,
           -0.0021958884905895347,
           -0.0021958884905895347,
           -0.0021958884905895347,
           -0.0021958884905895347,
           -0.0021958884905895347,
           -0.0021958884905895347,
           -0.0021958884905895347,
           -0.0021958884905895347,
           -0.0021958884905895347,
           -1.0614123710603054,
           -0.4177516247471818,
           -3.3953851293906014,
           -1.2470320904650587,
           -1.70129936894052,
           -3.3923882681031614,
           -1.2470971028627862,
           -1.7013539858799926,
           -0.3983009220960271
          ],
          "vectorType": "dense"
         },
         0
        ],
        [
         "-unknown-",
         49,
         "basic",
         0,
         "en",
         "other",
         "craigslist",
         "untracked",
         "Web",
         "Mac Desktop",
         "Chrome",
         "US",
         0,
         "Gen X",
         2010,
         2,
         3,
         2010,
         2,
         3,
         2,
         0,
         0,
         0,
         4,
         3,
         0,
         0,
         0,
         0,
         {
          "indices": [
           2
          ],
          "length": 4,
          "values": [
           1
          ],
          "vectorType": "sparse"
         },
         {
          "indices": [
           0
          ],
          "length": 4,
          "values": [
           1
          ],
          "vectorType": "sparse"
         },
         {
          "indices": [
           0
          ],
          "length": 3,
          "values": [
           1
          ],
          "vectorType": "sparse"
         },
         {
          "indices": [
           0
          ],
          "length": 25,
          "values": [
           1
          ],
          "vectorType": "sparse"
         },
         {
          "indices": [
           4
          ],
          "length": 8,
          "values": [
           1
          ],
          "vectorType": "sparse"
         },
         {
          "indices": [
           3
          ],
          "length": 18,
          "values": [
           1
          ],
          "vectorType": "sparse"
         },
         {
          "indices": [
           0
          ],
          "length": 7,
          "values": [
           1
          ],
          "vectorType": "sparse"
         },
         {
          "indices": [
           0
          ],
          "length": 4,
          "values": [
           1
          ],
          "vectorType": "sparse"
         },
         {
          "indices": [
           0
          ],
          "length": 9,
          "values": [
           1
          ],
          "vectorType": "sparse"
         },
         {
          "indices": [
           0
          ],
          "length": 52,
          "values": [
           1
          ],
          "vectorType": "sparse"
         },
         {
          "indices": [
           2,
           4,
           8,
           11,
           40,
           47,
           62,
           69,
           73,
           82,
           134,
           136,
           137,
           138,
           139,
           140,
           141
          ],
          "length": 143,
          "values": [
           1,
           1,
           1,
           1,
           1,
           1,
           1,
           1,
           1,
           1,
           49,
           2010,
           2,
           3,
           2010,
           2,
           3
          ],
          "vectorType": "sparse"
         },
         {
          "length": 143,
          "values": [
           -1.718906499578194,
           -0.3758924215152353,
           2.997953293696959,
           -0.17263723318900076,
           1.1222829906332785,
           -0.6528652923628563,
           -0.588489350971012,
           -0.036637253839392356,
           0.6312277605231977,
           -0.6271511636462,
           -0.05137809645501331,
           0.18650109360693654,
           -0.08814835596979276,
           -0.07464069523339624,
           -0.0656875455939668,
           -0.05910648542987524,
           -0.05881826414722645,
           -0.04866547265717839,
           -0.04278839951599224,
           -0.03368134043187896,
           -0.032882733635845575,
           -0.024261459910594415,
           -0.02140772573952276,
           -0.017431930486119757,
           -0.01672568720501829,
           -0.016138481335726006,
           -0.01242274965311342,
           -0.012028217622163738,
           -0.010758209253262555,
           -0.010531669874649327,
           -0.010300151497789,
           -0.0093167477239189,
           -0.008216519923069777,
           -0.004910203289700679,
           -0.004910203289700679,
           -0.0031054627720520827,
           -1.353832462142938,
           -0.3768275413275841,
           -0.3085537995178709,
           -0.206160057184522,
           4.884400708172623,
           -0.1970158949846127,
           -0.13638254335306535,
           -0.07160819100689562,
           -1.3503524524085566,
           -0.5670474952829226,
           -0.24682478530820082,
           8.267982619387967,
           -0.1049880663570411,
           -0.10357052314165702,
           -0.06096709279360929,
           -0.060326340605622995,
           -0.05133090127011119,
           -0.04896322794876096,
           -0.04678785948591628,
           -0.04093903577627279,
           -0.028046183858346507,
           -0.015836724494869347,
           -0.01182601978944856,
           -0.009054229467814808,
           -0.006211015392795253,
           -0.0021958884905895347,
           0.9479338056896838,
           -0.5360212997700335,
           -0.5188061292743009,
           -0.17490486713906414,
           -0.08694596104072302,
           -0.025897761483657432,
           -0.0128051390002118,
           0.4036174137526942,
           -0.30708003782596177,
           -0.16951689669769493,
           -0.16331994000519806,
           1.1465467954118227,
           -0.7348158464041211,
           -0.33351466105160454,
           -0.2725378696370019,
           -0.15064524129368506,
           -0.11705116226684367,
           -0.07917672528742477,
           -0.07625668196924616,
           -0.019146774535861742,
           1.4994206616409407,
           -0.5276804546098756,
           -0.44013417419120116,
           -0.3374463860927781,
           -0.3362661882241961,
           -0.3200933338874348,
           -0.07849553621733724,
           -0.06418993020643722,
           -0.034391329163054235,
           -0.030122089740587003,
           -0.024459633943018252,
           -0.018764937179542633,
           -0.015988314107694083,
           -0.014894856437527335,
           -0.013176442872944205,
           -0.013176442872944205,
           -0.012615392329110256,
           -0.012028217622163738,
           -0.010758209253262555,
           -0.010758209253262555,
           -0.009054229467814808,
           -0.00791761762145024,
           -0.007606982612262478,
           -0.007283113800897435,
           -0.007283113800897435,
           -0.007283113800897435,
           -0.006587792537006113,
           -0.006211015392795253,
           -0.005378871175998668,
           -0.005378871175998668,
           -0.00439180874691403,
           -0.00439180874691403,
           -0.0038034087733461105,
           -0.0031054627720520827,
           -0.0031054627720520827,
           -0.0031054627720520827,
           -0.0031054627720520827,
           -0.0031054627720520827,
           -0.0031054627720520827,
           -0.0031054627720520827,
           -0.0021958884905895347,
           -0.0021958884905895347,
           -0.0021958884905895347,
           -0.0021958884905895347,
           -0.0021958884905895347,
           -0.0021958884905895347,
           -0.0021958884905895347,
           -0.0021958884905895347,
           -0.0021958884905895347,
           -0.0021958884905895347,
           -0.0021958884905895347,
           -0.0021958884905895347,
           1.3767609156940792,
           -0.4177516247471818,
           -3.3953851293906014,
           -1.2470320904650587,
           -1.4725223286726612,
           -3.3923882681031614,
           -1.2470971028627862,
           -1.4725647797882067,
           -0.3983009220960271
          ],
          "vectorType": "dense"
         },
         1
        ],
        [
         "-unknown-",
         0,
         "basic",
         0,
         "en",
         "direct",
         "direct",
         "untracked",
         "Web",
         "iPhone",
         "-unknown-",
         "GB",
         0,
         "Millennials",
         2010,
         2,
         4,
         2010,
         2,
         4,
         0,
         0,
         0,
         0,
         0,
         0,
         0,
         0,
         2,
         3,
         {
          "indices": [
           0
          ],
          "length": 4,
          "values": [
           1
          ],
          "vectorType": "sparse"
         },
         {
          "indices": [
           0
          ],
          "length": 4,
          "values": [
           1
          ],
          "vectorType": "sparse"
         },
         {
          "indices": [
           0
          ],
          "length": 3,
          "values": [
           1
          ],
          "vectorType": "sparse"
         },
         {
          "indices": [
           0
          ],
          "length": 25,
          "values": [
           1
          ],
          "vectorType": "sparse"
         },
         {
          "indices": [
           0
          ],
          "length": 8,
          "values": [
           1
          ],
          "vectorType": "sparse"
         },
         {
          "indices": [
           0
          ],
          "length": 18,
          "values": [
           1
          ],
          "vectorType": "sparse"
         },
         {
          "indices": [
           0
          ],
          "length": 7,
          "values": [
           1
          ],
          "vectorType": "sparse"
         },
         {
          "indices": [
           0
          ],
          "length": 4,
          "values": [
           1
          ],
          "vectorType": "sparse"
         },
         {
          "indices": [
           2
          ],
          "length": 9,
          "values": [
           1
          ],
          "vectorType": "sparse"
         },
         {
          "indices": [
           3
          ],
          "length": 52,
          "values": [
           1
          ],
          "vectorType": "sparse"
         },
         {
          "indices": [
           0,
           4,
           8,
           11,
           36,
           44,
           62,
           69,
           75,
           85,
           136,
           137,
           138,
           139,
           140,
           141
          ],
          "length": 143,
          "values": [
           1,
           1,
           1,
           1,
           1,
           1,
           1,
           1,
           1,
           1,
           2010,
           2,
           4,
           2010,
           2,
           4
          ],
          "vectorType": "sparse"
         },
         {
          "length": 143,
          "values": [
           0.5817624043652915,
           -0.3758924215152353,
           -0.33355929199303225,
           -0.17263723318900076,
           1.1222829906332785,
           -0.6528652923628563,
           -0.588489350971012,
           -0.036637253839392356,
           0.6312277605231977,
           -0.6271511636462,
           -0.05137809645501331,
           0.18650109360693654,
           -0.08814835596979276,
           -0.07464069523339624,
           -0.0656875455939668,
           -0.05910648542987524,
           -0.05881826414722645,
           -0.04866547265717839,
           -0.04278839951599224,
           -0.03368134043187896,
           -0.032882733635845575,
           -0.024261459910594415,
           -0.02140772573952276,
           -0.017431930486119757,
           -0.01672568720501829,
           -0.016138481335726006,
           -0.01242274965311342,
           -0.012028217622163738,
           -0.010758209253262555,
           -0.010531669874649327,
           -0.010300151497789,
           -0.0093167477239189,
           -0.008216519923069777,
           -0.004910203289700679,
           -0.004910203289700679,
           -0.0031054627720520827,
           0.7386402719956033,
           -0.3768275413275841,
           -0.3085537995178709,
           -0.206160057184522,
           -0.2047324201719437,
           -0.1970158949846127,
           -0.13638254335306535,
           -0.07160819100689562,
           0.7405438308273482,
           -0.5670474952829226,
           -0.24682478530820082,
           -0.12094790520347767,
           -0.1049880663570411,
           -0.10357052314165702,
           -0.06096709279360929,
           -0.060326340605622995,
           -0.05133090127011119,
           -0.04896322794876096,
           -0.04678785948591628,
           -0.04093903577627279,
           -0.028046183858346507,
           -0.015836724494869347,
           -0.01182601978944856,
           -0.009054229467814808,
           -0.006211015392795253,
           -0.0021958884905895347,
           0.9479338056896838,
           -0.5360212997700335,
           -0.5188061292743009,
           -0.17490486713906414,
           -0.08694596104072302,
           -0.025897761483657432,
           -0.0128051390002118,
           0.4036174137526942,
           -0.30708003782596177,
           -0.16951689669769493,
           -0.16331994000519806,
           -0.8721799948117714,
           -0.7348158464041211,
           2.9983544798919897,
           -0.2725378696370019,
           -0.15064524129368506,
           -0.11705116226684367,
           -0.07917672528742477,
           -0.07625668196924616,
           -0.019146774535861742,
           -0.6669210340074673,
           -0.5276804546098756,
           -0.44013417419120116,
           2.963419432794863,
           -0.3362661882241961,
           -0.3200933338874348,
           -0.07849553621733724,
           -0.06418993020643722,
           -0.034391329163054235,
           -0.030122089740587003,
           -0.024459633943018252,
           -0.018764937179542633,
           -0.015988314107694083,
           -0.014894856437527335,
           -0.013176442872944205,
           -0.013176442872944205,
           -0.012615392329110256,
           -0.012028217622163738,
           -0.010758209253262555,
           -0.010758209253262555,
           -0.009054229467814808,
           -0.00791761762145024,
           -0.007606982612262478,
           -0.007283113800897435,
           -0.007283113800897435,
           -0.007283113800897435,
           -0.006587792537006113,
           -0.006211015392795253,
           -0.005378871175998668,
           -0.005378871175998668,
           -0.00439180874691403,
           -0.00439180874691403,
           -0.0038034087733461105,
           -0.0031054627720520827,
           -0.0031054627720520827,
           -0.0031054627720520827,
           -0.0031054627720520827,
           -0.0031054627720520827,
           -0.0031054627720520827,
           -0.0031054627720520827,
           -0.0021958884905895347,
           -0.0021958884905895347,
           -0.0021958884905895347,
           -0.0021958884905895347,
           -0.0021958884905895347,
           -0.0021958884905895347,
           -0.0021958884905895347,
           -0.0021958884905895347,
           -0.0021958884905895347,
           -0.0021958884905895347,
           -0.0021958884905895347,
           -0.0021958884905895347,
           -1.0614123710603054,
           -0.4177516247471818,
           -3.3953851293906014,
           -1.2470320904650587,
           -1.358133808538732,
           -3.3923882681031614,
           -1.2470971028627862,
           -1.3581701767423136,
           -0.3983009220960271
          ],
          "vectorType": "dense"
         },
         5
        ]
       ],
       "datasetInfos": [],
       "dbfsResultPath": null,
       "isJsonSchema": true,
       "metadata": {},
       "overflow": false,
       "plotOptions": {
        "customPlotOptions": {},
        "displayType": "table",
        "pivotAggregation": null,
        "pivotColumns": null,
        "xColumns": null,
        "yColumns": null
       },
       "removedWidgets": [],
       "schema": [
        {
         "metadata": "{}",
         "name": "gender",
         "type": "\"string\""
        },
        {
         "metadata": "{}",
         "name": "age",
         "type": "\"float\""
        },
        {
         "metadata": "{}",
         "name": "signup_method",
         "type": "\"string\""
        },
        {
         "metadata": "{}",
         "name": "signup_flow",
         "type": "\"float\""
        },
        {
         "metadata": "{}",
         "name": "language",
         "type": "\"string\""
        },
        {
         "metadata": "{}",
         "name": "affiliate_channel",
         "type": "\"string\""
        },
        {
         "metadata": "{}",
         "name": "affiliate_provider",
         "type": "\"string\""
        },
        {
         "metadata": "{}",
         "name": "first_affiliate_tracked",
         "type": "\"string\""
        },
        {
         "metadata": "{}",
         "name": "signup_app",
         "type": "\"string\""
        },
        {
         "metadata": "{}",
         "name": "first_device_type",
         "type": "\"string\""
        },
        {
         "metadata": "{}",
         "name": "first_browser",
         "type": "\"string\""
        },
        {
         "metadata": "{}",
         "name": "country_destination",
         "type": "\"string\""
        },
        {
         "metadata": "{}",
         "name": "sum_secs_elapsed",
         "type": "\"double\""
        },
        {
         "metadata": "{}",
         "name": "Generation",
         "type": "\"string\""
        },
        {
         "metadata": "{}",
         "name": "dac_year",
         "type": "\"integer\""
        },
        {
         "metadata": "{}",
         "name": "dac_month",
         "type": "\"integer\""
        },
        {
         "metadata": "{}",
         "name": "dac_day",
         "type": "\"integer\""
        },
        {
         "metadata": "{}",
         "name": "tfa_year",
         "type": "\"integer\""
        },
        {
         "metadata": "{}",
         "name": "tfa_month",
         "type": "\"integer\""
        },
        {
         "metadata": "{}",
         "name": "tfa_day",
         "type": "\"integer\""
        },
        {
         "metadata": "{\"ml_attr\":{\"vals\":[\"Millennials\",\"Gen Z\",\"Gen X\",\"The Baby Boomer Generation\",\"__unknown\"],\"type\":\"nominal\",\"name\":\"Generation_indexed\"}}",
         "name": "Generation_indexed",
         "type": "\"double\""
        },
        {
         "metadata": "{\"ml_attr\":{\"vals\":[\"-unknown-\",\"female\",\"male\",\"other\",\"__unknown\"],\"type\":\"nominal\",\"name\":\"gender_indexed\"}}",
         "name": "gender_indexed",
         "type": "\"double\""
        },
        {
         "metadata": "{\"ml_attr\":{\"vals\":[\"basic\",\"facebook\",\"google\",\"__unknown\"],\"type\":\"nominal\",\"name\":\"signup_method_indexed\"}}",
         "name": "signup_method_indexed",
         "type": "\"double\""
        },
        {
         "metadata": "{\"ml_attr\":{\"vals\":[\"en\",\"zh\",\"fr\",\"es\",\"ko\",\"de\",\"it\",\"ru\",\"pt\",\"ja\",\"sv\",\"nl\",\"tr\",\"da\",\"pl\",\"cs\",\"no\",\"el\",\"th\",\"id\",\"hu\",\"fi\",\"ca\",\"is\",\"hr\",\"__unknown\"],\"type\":\"nominal\",\"name\":\"language_indexed\"}}",
         "name": "language_indexed",
         "type": "\"double\""
        },
        {
         "metadata": "{\"ml_attr\":{\"vals\":[\"direct\",\"sem-brand\",\"sem-non-brand\",\"seo\",\"other\",\"api\",\"content\",\"remarketing\",\"__unknown\"],\"type\":\"nominal\",\"name\":\"affiliate_channel_indexed\"}}",
         "name": "affiliate_channel_indexed",
         "type": "\"double\""
        },
        {
         "metadata": "{\"ml_attr\":{\"vals\":[\"direct\",\"google\",\"other\",\"craigslist\",\"bing\",\"facebook\",\"padmapper\",\"vast\",\"facebook-open-graph\",\"yahoo\",\"gsp\",\"meetup\",\"email-marketing\",\"naver\",\"baidu\",\"yandex\",\"wayn\",\"daum\",\"__unknown\"],\"type\":\"nominal\",\"name\":\"affiliate_provider_indexed\"}}",
         "name": "affiliate_provider_indexed",
         "type": "\"double\""
        },
        {
         "metadata": "{\"ml_attr\":{\"vals\":[\"untracked\",\"linked\",\"omg\",\"tracked-other\",\"product\",\"marketing\",\"local ops\",\"__unknown\"],\"type\":\"nominal\",\"name\":\"first_affiliate_tracked_indexed\"}}",
         "name": "first_affiliate_tracked_indexed",
         "type": "\"double\""
        },
        {
         "metadata": "{\"ml_attr\":{\"vals\":[\"Web\",\"iOS\",\"Moweb\",\"Android\",\"__unknown\"],\"type\":\"nominal\",\"name\":\"signup_app_indexed\"}}",
         "name": "signup_app_indexed",
         "type": "\"double\""
        },
        {
         "metadata": "{\"ml_attr\":{\"vals\":[\"Mac Desktop\",\"Windows Desktop\",\"iPhone\",\"iPad\",\"Other/Unknown\",\"Android Phone\",\"Android Tablet\",\"Desktop (Other)\",\"SmartPhone (Other)\",\"__unknown\"],\"type\":\"nominal\",\"name\":\"first_device_type_indexed\"}}",
         "name": "first_device_type_indexed",
         "type": "\"double\""
        },
        {
         "metadata": "{\"ml_attr\":{\"vals\":[\"Chrome\",\"Safari\",\"Firefox\",\"-unknown-\",\"IE\",\"Mobile Safari\",\"Chrome Mobile\",\"Android Browser\",\"AOL Explorer\",\"Opera\",\"Silk\",\"Chromium\",\"BlackBerry Browser\",\"Maxthon\",\"Apple Mail\",\"IE Mobile\",\"Sogou Explorer\",\"Mobile Firefox\",\"RockMelt\",\"SiteKiosk\",\"Iron\",\"IceWeasel\",\"Pale Moon\",\"CometBird\",\"SeaMonkey\",\"Yandex.Browser\",\"Camino\",\"TenFourFox\",\"CoolNovo\",\"wOSBrowser\",\"Avant Browser\",\"Opera Mini\",\"Mozilla\",\"Comodo Dragon\",\"Crazy Browser\",\"Flock\",\"OmniWeb\",\"Opera Mobile\",\"SlimBrowser\",\"TheWorld Browser\",\"Arora\",\"Conkeror\",\"Epic\",\"Google Earth\",\"Googlebot\",\"IceDragon\",\"Kindle Browser\",\"NetNewsWire\",\"Outlook 2007\",\"PS Vita browser\",\"Palm Pre web browser\",\"Stainless\",\"__unknown\"],\"type\":\"nominal\",\"name\":\"first_browser_indexed\"}}",
         "name": "first_browser_indexed",
         "type": "\"double\""
        },
        {
         "metadata": "{\"ml_attr\":{\"attrs\":{\"binary\":[{\"idx\":0,\"name\":\"Millennials\"},{\"idx\":1,\"name\":\"Gen Z\"},{\"idx\":2,\"name\":\"Gen X\"},{\"idx\":3,\"name\":\"The Baby Boomer Generation\"}]},\"num_attrs\":4}}",
         "name": "Generation_encoded",
         "type": "{\"type\":\"udt\",\"class\":\"org.apache.spark.ml.linalg.VectorUDT\",\"pyClass\":\"pyspark.ml.linalg.VectorUDT\",\"sqlType\":{\"type\":\"struct\",\"fields\":[{\"name\":\"type\",\"type\":\"byte\",\"nullable\":false,\"metadata\":{}},{\"name\":\"size\",\"type\":\"integer\",\"nullable\":true,\"metadata\":{}},{\"name\":\"indices\",\"type\":{\"type\":\"array\",\"elementType\":\"integer\",\"containsNull\":false},\"nullable\":true,\"metadata\":{}},{\"name\":\"values\",\"type\":{\"type\":\"array\",\"elementType\":\"double\",\"containsNull\":false},\"nullable\":true,\"metadata\":{}}]}}"
        },
        {
         "metadata": "{\"ml_attr\":{\"attrs\":{\"binary\":[{\"idx\":0,\"name\":\"-unknown-\"},{\"idx\":1,\"name\":\"female\"},{\"idx\":2,\"name\":\"male\"},{\"idx\":3,\"name\":\"other\"}]},\"num_attrs\":4}}",
         "name": "gender_encoded",
         "type": "{\"type\":\"udt\",\"class\":\"org.apache.spark.ml.linalg.VectorUDT\",\"pyClass\":\"pyspark.ml.linalg.VectorUDT\",\"sqlType\":{\"type\":\"struct\",\"fields\":[{\"name\":\"type\",\"type\":\"byte\",\"nullable\":false,\"metadata\":{}},{\"name\":\"size\",\"type\":\"integer\",\"nullable\":true,\"metadata\":{}},{\"name\":\"indices\",\"type\":{\"type\":\"array\",\"elementType\":\"integer\",\"containsNull\":false},\"nullable\":true,\"metadata\":{}},{\"name\":\"values\",\"type\":{\"type\":\"array\",\"elementType\":\"double\",\"containsNull\":false},\"nullable\":true,\"metadata\":{}}]}}"
        },
        {
         "metadata": "{\"ml_attr\":{\"attrs\":{\"binary\":[{\"idx\":0,\"name\":\"basic\"},{\"idx\":1,\"name\":\"facebook\"},{\"idx\":2,\"name\":\"google\"}]},\"num_attrs\":3}}",
         "name": "signup_method_encoded",
         "type": "{\"type\":\"udt\",\"class\":\"org.apache.spark.ml.linalg.VectorUDT\",\"pyClass\":\"pyspark.ml.linalg.VectorUDT\",\"sqlType\":{\"type\":\"struct\",\"fields\":[{\"name\":\"type\",\"type\":\"byte\",\"nullable\":false,\"metadata\":{}},{\"name\":\"size\",\"type\":\"integer\",\"nullable\":true,\"metadata\":{}},{\"name\":\"indices\",\"type\":{\"type\":\"array\",\"elementType\":\"integer\",\"containsNull\":false},\"nullable\":true,\"metadata\":{}},{\"name\":\"values\",\"type\":{\"type\":\"array\",\"elementType\":\"double\",\"containsNull\":false},\"nullable\":true,\"metadata\":{}}]}}"
        },
        {
         "metadata": "{\"ml_attr\":{\"attrs\":{\"binary\":[{\"idx\":0,\"name\":\"en\"},{\"idx\":1,\"name\":\"zh\"},{\"idx\":2,\"name\":\"fr\"},{\"idx\":3,\"name\":\"es\"},{\"idx\":4,\"name\":\"ko\"},{\"idx\":5,\"name\":\"de\"},{\"idx\":6,\"name\":\"it\"},{\"idx\":7,\"name\":\"ru\"},{\"idx\":8,\"name\":\"pt\"},{\"idx\":9,\"name\":\"ja\"},{\"idx\":10,\"name\":\"sv\"},{\"idx\":11,\"name\":\"nl\"},{\"idx\":12,\"name\":\"tr\"},{\"idx\":13,\"name\":\"da\"},{\"idx\":14,\"name\":\"pl\"},{\"idx\":15,\"name\":\"cs\"},{\"idx\":16,\"name\":\"no\"},{\"idx\":17,\"name\":\"el\"},{\"idx\":18,\"name\":\"th\"},{\"idx\":19,\"name\":\"id\"},{\"idx\":20,\"name\":\"hu\"},{\"idx\":21,\"name\":\"fi\"},{\"idx\":22,\"name\":\"ca\"},{\"idx\":23,\"name\":\"is\"},{\"idx\":24,\"name\":\"hr\"}]},\"num_attrs\":25}}",
         "name": "language_encoded",
         "type": "{\"type\":\"udt\",\"class\":\"org.apache.spark.ml.linalg.VectorUDT\",\"pyClass\":\"pyspark.ml.linalg.VectorUDT\",\"sqlType\":{\"type\":\"struct\",\"fields\":[{\"name\":\"type\",\"type\":\"byte\",\"nullable\":false,\"metadata\":{}},{\"name\":\"size\",\"type\":\"integer\",\"nullable\":true,\"metadata\":{}},{\"name\":\"indices\",\"type\":{\"type\":\"array\",\"elementType\":\"integer\",\"containsNull\":false},\"nullable\":true,\"metadata\":{}},{\"name\":\"values\",\"type\":{\"type\":\"array\",\"elementType\":\"double\",\"containsNull\":false},\"nullable\":true,\"metadata\":{}}]}}"
        },
        {
         "metadata": "{\"ml_attr\":{\"attrs\":{\"binary\":[{\"idx\":0,\"name\":\"direct\"},{\"idx\":1,\"name\":\"sem-brand\"},{\"idx\":2,\"name\":\"sem-non-brand\"},{\"idx\":3,\"name\":\"seo\"},{\"idx\":4,\"name\":\"other\"},{\"idx\":5,\"name\":\"api\"},{\"idx\":6,\"name\":\"content\"},{\"idx\":7,\"name\":\"remarketing\"}]},\"num_attrs\":8}}",
         "name": "affiliate_channel_encoded",
         "type": "{\"type\":\"udt\",\"class\":\"org.apache.spark.ml.linalg.VectorUDT\",\"pyClass\":\"pyspark.ml.linalg.VectorUDT\",\"sqlType\":{\"type\":\"struct\",\"fields\":[{\"name\":\"type\",\"type\":\"byte\",\"nullable\":false,\"metadata\":{}},{\"name\":\"size\",\"type\":\"integer\",\"nullable\":true,\"metadata\":{}},{\"name\":\"indices\",\"type\":{\"type\":\"array\",\"elementType\":\"integer\",\"containsNull\":false},\"nullable\":true,\"metadata\":{}},{\"name\":\"values\",\"type\":{\"type\":\"array\",\"elementType\":\"double\",\"containsNull\":false},\"nullable\":true,\"metadata\":{}}]}}"
        },
        {
         "metadata": "{\"ml_attr\":{\"attrs\":{\"binary\":[{\"idx\":0,\"name\":\"direct\"},{\"idx\":1,\"name\":\"google\"},{\"idx\":2,\"name\":\"other\"},{\"idx\":3,\"name\":\"craigslist\"},{\"idx\":4,\"name\":\"bing\"},{\"idx\":5,\"name\":\"facebook\"},{\"idx\":6,\"name\":\"padmapper\"},{\"idx\":7,\"name\":\"vast\"},{\"idx\":8,\"name\":\"facebook-open-graph\"},{\"idx\":9,\"name\":\"yahoo\"},{\"idx\":10,\"name\":\"gsp\"},{\"idx\":11,\"name\":\"meetup\"},{\"idx\":12,\"name\":\"email-marketing\"},{\"idx\":13,\"name\":\"naver\"},{\"idx\":14,\"name\":\"baidu\"},{\"idx\":15,\"name\":\"yandex\"},{\"idx\":16,\"name\":\"wayn\"},{\"idx\":17,\"name\":\"daum\"}]},\"num_attrs\":18}}",
         "name": "affiliate_provider_encoded",
         "type": "{\"type\":\"udt\",\"class\":\"org.apache.spark.ml.linalg.VectorUDT\",\"pyClass\":\"pyspark.ml.linalg.VectorUDT\",\"sqlType\":{\"type\":\"struct\",\"fields\":[{\"name\":\"type\",\"type\":\"byte\",\"nullable\":false,\"metadata\":{}},{\"name\":\"size\",\"type\":\"integer\",\"nullable\":true,\"metadata\":{}},{\"name\":\"indices\",\"type\":{\"type\":\"array\",\"elementType\":\"integer\",\"containsNull\":false},\"nullable\":true,\"metadata\":{}},{\"name\":\"values\",\"type\":{\"type\":\"array\",\"elementType\":\"double\",\"containsNull\":false},\"nullable\":true,\"metadata\":{}}]}}"
        },
        {
         "metadata": "{\"ml_attr\":{\"attrs\":{\"binary\":[{\"idx\":0,\"name\":\"untracked\"},{\"idx\":1,\"name\":\"linked\"},{\"idx\":2,\"name\":\"omg\"},{\"idx\":3,\"name\":\"tracked-other\"},{\"idx\":4,\"name\":\"product\"},{\"idx\":5,\"name\":\"marketing\"},{\"idx\":6,\"name\":\"local ops\"}]},\"num_attrs\":7}}",
         "name": "first_affiliate_tracked_encoded",
         "type": "{\"type\":\"udt\",\"class\":\"org.apache.spark.ml.linalg.VectorUDT\",\"pyClass\":\"pyspark.ml.linalg.VectorUDT\",\"sqlType\":{\"type\":\"struct\",\"fields\":[{\"name\":\"type\",\"type\":\"byte\",\"nullable\":false,\"metadata\":{}},{\"name\":\"size\",\"type\":\"integer\",\"nullable\":true,\"metadata\":{}},{\"name\":\"indices\",\"type\":{\"type\":\"array\",\"elementType\":\"integer\",\"containsNull\":false},\"nullable\":true,\"metadata\":{}},{\"name\":\"values\",\"type\":{\"type\":\"array\",\"elementType\":\"double\",\"containsNull\":false},\"nullable\":true,\"metadata\":{}}]}}"
        },
        {
         "metadata": "{\"ml_attr\":{\"attrs\":{\"binary\":[{\"idx\":0,\"name\":\"Web\"},{\"idx\":1,\"name\":\"iOS\"},{\"idx\":2,\"name\":\"Moweb\"},{\"idx\":3,\"name\":\"Android\"}]},\"num_attrs\":4}}",
         "name": "signup_app_encoded",
         "type": "{\"type\":\"udt\",\"class\":\"org.apache.spark.ml.linalg.VectorUDT\",\"pyClass\":\"pyspark.ml.linalg.VectorUDT\",\"sqlType\":{\"type\":\"struct\",\"fields\":[{\"name\":\"type\",\"type\":\"byte\",\"nullable\":false,\"metadata\":{}},{\"name\":\"size\",\"type\":\"integer\",\"nullable\":true,\"metadata\":{}},{\"name\":\"indices\",\"type\":{\"type\":\"array\",\"elementType\":\"integer\",\"containsNull\":false},\"nullable\":true,\"metadata\":{}},{\"name\":\"values\",\"type\":{\"type\":\"array\",\"elementType\":\"double\",\"containsNull\":false},\"nullable\":true,\"metadata\":{}}]}}"
        },
        {
         "metadata": "{\"ml_attr\":{\"attrs\":{\"binary\":[{\"idx\":0,\"name\":\"Mac Desktop\"},{\"idx\":1,\"name\":\"Windows Desktop\"},{\"idx\":2,\"name\":\"iPhone\"},{\"idx\":3,\"name\":\"iPad\"},{\"idx\":4,\"name\":\"Other/Unknown\"},{\"idx\":5,\"name\":\"Android Phone\"},{\"idx\":6,\"name\":\"Android Tablet\"},{\"idx\":7,\"name\":\"Desktop (Other)\"},{\"idx\":8,\"name\":\"SmartPhone (Other)\"}]},\"num_attrs\":9}}",
         "name": "first_device_type_encoded",
         "type": "{\"type\":\"udt\",\"class\":\"org.apache.spark.ml.linalg.VectorUDT\",\"pyClass\":\"pyspark.ml.linalg.VectorUDT\",\"sqlType\":{\"type\":\"struct\",\"fields\":[{\"name\":\"type\",\"type\":\"byte\",\"nullable\":false,\"metadata\":{}},{\"name\":\"size\",\"type\":\"integer\",\"nullable\":true,\"metadata\":{}},{\"name\":\"indices\",\"type\":{\"type\":\"array\",\"elementType\":\"integer\",\"containsNull\":false},\"nullable\":true,\"metadata\":{}},{\"name\":\"values\",\"type\":{\"type\":\"array\",\"elementType\":\"double\",\"containsNull\":false},\"nullable\":true,\"metadata\":{}}]}}"
        },
        {
         "metadata": "{\"ml_attr\":{\"attrs\":{\"binary\":[{\"idx\":0,\"name\":\"Chrome\"},{\"idx\":1,\"name\":\"Safari\"},{\"idx\":2,\"name\":\"Firefox\"},{\"idx\":3,\"name\":\"-unknown-\"},{\"idx\":4,\"name\":\"IE\"},{\"idx\":5,\"name\":\"Mobile Safari\"},{\"idx\":6,\"name\":\"Chrome Mobile\"},{\"idx\":7,\"name\":\"Android Browser\"},{\"idx\":8,\"name\":\"AOL Explorer\"},{\"idx\":9,\"name\":\"Opera\"},{\"idx\":10,\"name\":\"Silk\"},{\"idx\":11,\"name\":\"Chromium\"},{\"idx\":12,\"name\":\"BlackBerry Browser\"},{\"idx\":13,\"name\":\"Maxthon\"},{\"idx\":14,\"name\":\"Apple Mail\"},{\"idx\":15,\"name\":\"IE Mobile\"},{\"idx\":16,\"name\":\"Sogou Explorer\"},{\"idx\":17,\"name\":\"Mobile Firefox\"},{\"idx\":18,\"name\":\"RockMelt\"},{\"idx\":19,\"name\":\"SiteKiosk\"},{\"idx\":20,\"name\":\"Iron\"},{\"idx\":21,\"name\":\"IceWeasel\"},{\"idx\":22,\"name\":\"Pale Moon\"},{\"idx\":23,\"name\":\"CometBird\"},{\"idx\":24,\"name\":\"SeaMonkey\"},{\"idx\":25,\"name\":\"Yandex.Browser\"},{\"idx\":26,\"name\":\"Camino\"},{\"idx\":27,\"name\":\"TenFourFox\"},{\"idx\":28,\"name\":\"CoolNovo\"},{\"idx\":29,\"name\":\"wOSBrowser\"},{\"idx\":30,\"name\":\"Avant Browser\"},{\"idx\":31,\"name\":\"Opera Mini\"},{\"idx\":32,\"name\":\"Mozilla\"},{\"idx\":33,\"name\":\"Comodo Dragon\"},{\"idx\":34,\"name\":\"Crazy Browser\"},{\"idx\":35,\"name\":\"Flock\"},{\"idx\":36,\"name\":\"OmniWeb\"},{\"idx\":37,\"name\":\"Opera Mobile\"},{\"idx\":38,\"name\":\"SlimBrowser\"},{\"idx\":39,\"name\":\"TheWorld Browser\"},{\"idx\":40,\"name\":\"Arora\"},{\"idx\":41,\"name\":\"Conkeror\"},{\"idx\":42,\"name\":\"Epic\"},{\"idx\":43,\"name\":\"Google Earth\"},{\"idx\":44,\"name\":\"Googlebot\"},{\"idx\":45,\"name\":\"IceDragon\"},{\"idx\":46,\"name\":\"Kindle Browser\"},{\"idx\":47,\"name\":\"NetNewsWire\"},{\"idx\":48,\"name\":\"Outlook 2007\"},{\"idx\":49,\"name\":\"PS Vita browser\"},{\"idx\":50,\"name\":\"Palm Pre web browser\"},{\"idx\":51,\"name\":\"Stainless\"}]},\"num_attrs\":52}}",
         "name": "first_browser_encoded",
         "type": "{\"type\":\"udt\",\"class\":\"org.apache.spark.ml.linalg.VectorUDT\",\"pyClass\":\"pyspark.ml.linalg.VectorUDT\",\"sqlType\":{\"type\":\"struct\",\"fields\":[{\"name\":\"type\",\"type\":\"byte\",\"nullable\":false,\"metadata\":{}},{\"name\":\"size\",\"type\":\"integer\",\"nullable\":true,\"metadata\":{}},{\"name\":\"indices\",\"type\":{\"type\":\"array\",\"elementType\":\"integer\",\"containsNull\":false},\"nullable\":true,\"metadata\":{}},{\"name\":\"values\",\"type\":{\"type\":\"array\",\"elementType\":\"double\",\"containsNull\":false},\"nullable\":true,\"metadata\":{}}]}}"
        },
        {
         "metadata": "{\"ml_attr\":{\"attrs\":{\"numeric\":[{\"idx\":134,\"name\":\"age\"},{\"idx\":135,\"name\":\"signup_flow\"},{\"idx\":136,\"name\":\"dac_year\"},{\"idx\":137,\"name\":\"dac_month\"},{\"idx\":138,\"name\":\"dac_day\"},{\"idx\":139,\"name\":\"tfa_year\"},{\"idx\":140,\"name\":\"tfa_month\"},{\"idx\":141,\"name\":\"tfa_day\"},{\"idx\":142,\"name\":\"sum_secs_elapsed\"}],\"binary\":[{\"idx\":0,\"name\":\"Generation_encoded_Millennials\"},{\"idx\":1,\"name\":\"Generation_encoded_Gen Z\"},{\"idx\":2,\"name\":\"Generation_encoded_Gen X\"},{\"idx\":3,\"name\":\"Generation_encoded_The Baby Boomer Generation\"},{\"idx\":4,\"name\":\"gender_encoded_-unknown-\"},{\"idx\":5,\"name\":\"gender_encoded_female\"},{\"idx\":6,\"name\":\"gender_encoded_male\"},{\"idx\":7,\"name\":\"gender_encoded_other\"},{\"idx\":8,\"name\":\"signup_method_encoded_basic\"},{\"idx\":9,\"name\":\"signup_method_encoded_facebook\"},{\"idx\":10,\"name\":\"signup_method_encoded_google\"},{\"idx\":11,\"name\":\"language_encoded_en\"},{\"idx\":12,\"name\":\"language_encoded_zh\"},{\"idx\":13,\"name\":\"language_encoded_fr\"},{\"idx\":14,\"name\":\"language_encoded_es\"},{\"idx\":15,\"name\":\"language_encoded_ko\"},{\"idx\":16,\"name\":\"language_encoded_de\"},{\"idx\":17,\"name\":\"language_encoded_it\"},{\"idx\":18,\"name\":\"language_encoded_ru\"},{\"idx\":19,\"name\":\"language_encoded_pt\"},{\"idx\":20,\"name\":\"language_encoded_ja\"},{\"idx\":21,\"name\":\"language_encoded_sv\"},{\"idx\":22,\"name\":\"language_encoded_nl\"},{\"idx\":23,\"name\":\"language_encoded_tr\"},{\"idx\":24,\"name\":\"language_encoded_da\"},{\"idx\":25,\"name\":\"language_encoded_pl\"},{\"idx\":26,\"name\":\"language_encoded_cs\"},{\"idx\":27,\"name\":\"language_encoded_no\"},{\"idx\":28,\"name\":\"language_encoded_el\"},{\"idx\":29,\"name\":\"language_encoded_th\"},{\"idx\":30,\"name\":\"language_encoded_id\"},{\"idx\":31,\"name\":\"language_encoded_hu\"},{\"idx\":32,\"name\":\"language_encoded_fi\"},{\"idx\":33,\"name\":\"language_encoded_ca\"},{\"idx\":34,\"name\":\"language_encoded_is\"},{\"idx\":35,\"name\":\"language_encoded_hr\"},{\"idx\":36,\"name\":\"affiliate_channel_encoded_direct\"},{\"idx\":37,\"name\":\"affiliate_channel_encoded_sem-brand\"},{\"idx\":38,\"name\":\"affiliate_channel_encoded_sem-non-brand\"},{\"idx\":39,\"name\":\"affiliate_channel_encoded_seo\"},{\"idx\":40,\"name\":\"affiliate_channel_encoded_other\"},{\"idx\":41,\"name\":\"affiliate_channel_encoded_api\"},{\"idx\":42,\"name\":\"affiliate_channel_encoded_content\"},{\"idx\":43,\"name\":\"affiliate_channel_encoded_remarketing\"},{\"idx\":44,\"name\":\"affiliate_provider_encoded_direct\"},{\"idx\":45,\"name\":\"affiliate_provider_encoded_google\"},{\"idx\":46,\"name\":\"affiliate_provider_encoded_other\"},{\"idx\":47,\"name\":\"affiliate_provider_encoded_craigslist\"},{\"idx\":48,\"name\":\"affiliate_provider_encoded_bing\"},{\"idx\":49,\"name\":\"affiliate_provider_encoded_facebook\"},{\"idx\":50,\"name\":\"affiliate_provider_encoded_padmapper\"},{\"idx\":51,\"name\":\"affiliate_provider_encoded_vast\"},{\"idx\":52,\"name\":\"affiliate_provider_encoded_facebook-open-graph\"},{\"idx\":53,\"name\":\"affiliate_provider_encoded_yahoo\"},{\"idx\":54,\"name\":\"affiliate_provider_encoded_gsp\"},{\"idx\":55,\"name\":\"affiliate_provider_encoded_meetup\"},{\"idx\":56,\"name\":\"affiliate_provider_encoded_email-marketing\"},{\"idx\":57,\"name\":\"affiliate_provider_encoded_naver\"},{\"idx\":58,\"name\":\"affiliate_provider_encoded_baidu\"},{\"idx\":59,\"name\":\"affiliate_provider_encoded_yandex\"},{\"idx\":60,\"name\":\"affiliate_provider_encoded_wayn\"},{\"idx\":61,\"name\":\"affiliate_provider_encoded_daum\"},{\"idx\":62,\"name\":\"first_affiliate_tracked_encoded_untracked\"},{\"idx\":63,\"name\":\"first_affiliate_tracked_encoded_linked\"},{\"idx\":64,\"name\":\"first_affiliate_tracked_encoded_omg\"},{\"idx\":65,\"name\":\"first_affiliate_tracked_encoded_tracked-other\"},{\"idx\":66,\"name\":\"first_affiliate_tracked_encoded_product\"},{\"idx\":67,\"name\":\"first_affiliate_tracked_encoded_marketing\"},{\"idx\":68,\"name\":\"first_affiliate_tracked_encoded_local ops\"},{\"idx\":69,\"name\":\"signup_app_encoded_Web\"},{\"idx\":70,\"name\":\"signup_app_encoded_iOS\"},{\"idx\":71,\"name\":\"signup_app_encoded_Moweb\"},{\"idx\":72,\"name\":\"signup_app_encoded_Android\"},{\"idx\":73,\"name\":\"first_device_type_encoded_Mac Desktop\"},{\"idx\":74,\"name\":\"first_device_type_encoded_Windows Desktop\"},{\"idx\":75,\"name\":\"first_device_type_encoded_iPhone\"},{\"idx\":76,\"name\":\"first_device_type_encoded_iPad\"},{\"idx\":77,\"name\":\"first_device_type_encoded_Other/Unknown\"},{\"idx\":78,\"name\":\"first_device_type_encoded_Android Phone\"},{\"idx\":79,\"name\":\"first_device_type_encoded_Android Tablet\"},{\"idx\":80,\"name\":\"first_device_type_encoded_Desktop (Other)\"},{\"idx\":81,\"name\":\"first_device_type_encoded_SmartPhone (Other)\"},{\"idx\":82,\"name\":\"first_browser_encoded_Chrome\"},{\"idx\":83,\"name\":\"first_browser_encoded_Safari\"},{\"idx\":84,\"name\":\"first_browser_encoded_Firefox\"},{\"idx\":85,\"name\":\"first_browser_encoded_-unknown-\"},{\"idx\":86,\"name\":\"first_browser_encoded_IE\"},{\"idx\":87,\"name\":\"first_browser_encoded_Mobile Safari\"},{\"idx\":88,\"name\":\"first_browser_encoded_Chrome Mobile\"},{\"idx\":89,\"name\":\"first_browser_encoded_Android Browser\"},{\"idx\":90,\"name\":\"first_browser_encoded_AOL Explorer\"},{\"idx\":91,\"name\":\"first_browser_encoded_Opera\"},{\"idx\":92,\"name\":\"first_browser_encoded_Silk\"},{\"idx\":93,\"name\":\"first_browser_encoded_Chromium\"},{\"idx\":94,\"name\":\"first_browser_encoded_BlackBerry Browser\"},{\"idx\":95,\"name\":\"first_browser_encoded_Maxthon\"},{\"idx\":96,\"name\":\"first_browser_encoded_Apple Mail\"},{\"idx\":97,\"name\":\"first_browser_encoded_IE Mobile\"},{\"idx\":98,\"name\":\"first_browser_encoded_Sogou Explorer\"},{\"idx\":99,\"name\":\"first_browser_encoded_Mobile Firefox\"},{\"idx\":100,\"name\":\"first_browser_encoded_RockMelt\"},{\"idx\":101,\"name\":\"first_browser_encoded_SiteKiosk\"},{\"idx\":102,\"name\":\"first_browser_encoded_Iron\"},{\"idx\":103,\"name\":\"first_browser_encoded_IceWeasel\"},{\"idx\":104,\"name\":\"first_browser_encoded_Pale Moon\"},{\"idx\":105,\"name\":\"first_browser_encoded_CometBird\"},{\"idx\":106,\"name\":\"first_browser_encoded_SeaMonkey\"},{\"idx\":107,\"name\":\"first_browser_encoded_Yandex.Browser\"},{\"idx\":108,\"name\":\"first_browser_encoded_Camino\"},{\"idx\":109,\"name\":\"first_browser_encoded_TenFourFox\"},{\"idx\":110,\"name\":\"first_browser_encoded_CoolNovo\"},{\"idx\":111,\"name\":\"first_browser_encoded_wOSBrowser\"},{\"idx\":112,\"name\":\"first_browser_encoded_Avant Browser\"},{\"idx\":113,\"name\":\"first_browser_encoded_Opera Mini\"},{\"idx\":114,\"name\":\"first_browser_encoded_Mozilla\"},{\"idx\":115,\"name\":\"first_browser_encoded_Comodo Dragon\"},{\"idx\":116,\"name\":\"first_browser_encoded_Crazy Browser\"},{\"idx\":117,\"name\":\"first_browser_encoded_Flock\"},{\"idx\":118,\"name\":\"first_browser_encoded_OmniWeb\"},{\"idx\":119,\"name\":\"first_browser_encoded_Opera Mobile\"},{\"idx\":120,\"name\":\"first_browser_encoded_SlimBrowser\"},{\"idx\":121,\"name\":\"first_browser_encoded_TheWorld Browser\"},{\"idx\":122,\"name\":\"first_browser_encoded_Arora\"},{\"idx\":123,\"name\":\"first_browser_encoded_Conkeror\"},{\"idx\":124,\"name\":\"first_browser_encoded_Epic\"},{\"idx\":125,\"name\":\"first_browser_encoded_Google Earth\"},{\"idx\":126,\"name\":\"first_browser_encoded_Googlebot\"},{\"idx\":127,\"name\":\"first_browser_encoded_IceDragon\"},{\"idx\":128,\"name\":\"first_browser_encoded_Kindle Browser\"},{\"idx\":129,\"name\":\"first_browser_encoded_NetNewsWire\"},{\"idx\":130,\"name\":\"first_browser_encoded_Outlook 2007\"},{\"idx\":131,\"name\":\"first_browser_encoded_PS Vita browser\"},{\"idx\":132,\"name\":\"first_browser_encoded_Palm Pre web browser\"},{\"idx\":133,\"name\":\"first_browser_encoded_Stainless\"}]},\"num_attrs\":143}}",
         "name": "features",
         "type": "{\"type\":\"udt\",\"class\":\"org.apache.spark.ml.linalg.VectorUDT\",\"pyClass\":\"pyspark.ml.linalg.VectorUDT\",\"sqlType\":{\"type\":\"struct\",\"fields\":[{\"name\":\"type\",\"type\":\"byte\",\"nullable\":false,\"metadata\":{}},{\"name\":\"size\",\"type\":\"integer\",\"nullable\":true,\"metadata\":{}},{\"name\":\"indices\",\"type\":{\"type\":\"array\",\"elementType\":\"integer\",\"containsNull\":false},\"nullable\":true,\"metadata\":{}},{\"name\":\"values\",\"type\":{\"type\":\"array\",\"elementType\":\"double\",\"containsNull\":false},\"nullable\":true,\"metadata\":{}}]}}"
        },
        {
         "metadata": "{\"ml_attr\":{\"num_attrs\":143}}",
         "name": "scaled_features",
         "type": "{\"type\":\"udt\",\"class\":\"org.apache.spark.ml.linalg.VectorUDT\",\"pyClass\":\"pyspark.ml.linalg.VectorUDT\",\"sqlType\":{\"type\":\"struct\",\"fields\":[{\"name\":\"type\",\"type\":\"byte\",\"nullable\":false,\"metadata\":{}},{\"name\":\"size\",\"type\":\"integer\",\"nullable\":true,\"metadata\":{}},{\"name\":\"indices\",\"type\":{\"type\":\"array\",\"elementType\":\"integer\",\"containsNull\":false},\"nullable\":true,\"metadata\":{}},{\"name\":\"values\",\"type\":{\"type\":\"array\",\"elementType\":\"double\",\"containsNull\":false},\"nullable\":true,\"metadata\":{}}]}}"
        },
        {
         "metadata": "{\"ml_attr\":{\"vals\":[\"NDF\",\"US\",\"other\",\"FR\",\"IT\",\"GB\",\"ES\",\"CA\",\"DE\",\"NL\",\"AU\",\"PT\",\"__unknown\"],\"type\":\"nominal\",\"name\":\"label\"}}",
         "name": "label",
         "type": "\"double\""
        }
       ],
       "type": "table"
      }
     },
     "output_type": "display_data"
    }
   ],
   "source": [
    "processed_train_users = preprocess_train_data(new_train_users)\n",
    "display(processed_train_users.limit(10))"
   ]
  },
  {
   "cell_type": "markdown",
   "metadata": {
    "application/vnd.databricks.v1+cell": {
     "cellMetadata": {
      "byteLimit": 2048000,
      "rowLimit": 10000
     },
     "inputWidgets": {},
     "nuid": "f413a9c2-6e6c-4ecd-81a5-651bbfb5b63c",
     "showTitle": false,
     "tableResultSettingsMap": {},
     "title": ""
    }
   },
   "source": [
    "-----------------------------------------------------------------------------------------"
   ]
  },
  {
   "cell_type": "markdown",
   "metadata": {
    "application/vnd.databricks.v1+cell": {
     "cellMetadata": {
      "byteLimit": 2048000,
      "rowLimit": 10000
     },
     "inputWidgets": {},
     "nuid": "297ec3fb-d022-4d5c-bb48-fc734e77d841",
     "showTitle": false,
     "tableResultSettingsMap": {},
     "title": ""
    }
   },
   "source": [
    "## Save processed data as parquet file"
   ]
  },
  {
   "cell_type": "code",
   "execution_count": null,
   "metadata": {
    "application/vnd.databricks.v1+cell": {
     "cellMetadata": {
      "byteLimit": 2048000,
      "rowLimit": 10000
     },
     "inputWidgets": {},
     "nuid": "e5a086cf-a943-4f25-a378-587f8cec80d8",
     "showTitle": false,
     "tableResultSettingsMap": {},
     "title": ""
    }
   },
   "outputs": [],
   "source": [
    "# Save as Parquet for optimized storage and faster querying\n",
    "processed_train_users.write.parquet(\"/dbfs/mnt/data/optimized_train_df.parquet\", mode=\"overwrite\")\n",
    "processed_test_users_raw.write.parquet(\"/dbfs/mnt/data/optimized_test_df.parquet\", mode=\"overwrite\")\n"
   ]
  },
  {
   "cell_type": "code",
   "execution_count": null,
   "metadata": {
    "application/vnd.databricks.v1+cell": {
     "cellMetadata": {
      "byteLimit": 2048000,
      "rowLimit": 10000
     },
     "inputWidgets": {},
     "nuid": "c5e5a4fa-0eac-4ccb-b287-87c97e44e08b",
     "showTitle": false,
     "tableResultSettingsMap": {},
     "title": ""
    }
   },
   "outputs": [
    {
     "name": "stdout",
     "output_type": "stream",
     "text": [
      "root\n",
      " |-- gender: string (nullable = true)\n",
      " |-- age: float (nullable = true)\n",
      " |-- signup_method: string (nullable = true)\n",
      " |-- signup_flow: float (nullable = true)\n",
      " |-- language: string (nullable = true)\n",
      " |-- affiliate_channel: string (nullable = true)\n",
      " |-- affiliate_provider: string (nullable = true)\n",
      " |-- first_affiliate_tracked: string (nullable = true)\n",
      " |-- signup_app: string (nullable = true)\n",
      " |-- first_device_type: string (nullable = true)\n",
      " |-- first_browser: string (nullable = true)\n",
      " |-- country_destination: string (nullable = true)\n",
      " |-- sum_secs_elapsed: double (nullable = true)\n",
      " |-- Generation: string (nullable = true)\n",
      " |-- dac_year: integer (nullable = true)\n",
      " |-- dac_month: integer (nullable = true)\n",
      " |-- dac_day: integer (nullable = true)\n",
      " |-- tfa_year: integer (nullable = true)\n",
      " |-- tfa_month: integer (nullable = true)\n",
      " |-- tfa_day: integer (nullable = true)\n",
      " |-- Generation_indexed: double (nullable = true)\n",
      " |-- gender_indexed: double (nullable = true)\n",
      " |-- signup_method_indexed: double (nullable = true)\n",
      " |-- language_indexed: double (nullable = true)\n",
      " |-- affiliate_channel_indexed: double (nullable = true)\n",
      " |-- affiliate_provider_indexed: double (nullable = true)\n",
      " |-- first_affiliate_tracked_indexed: double (nullable = true)\n",
      " |-- signup_app_indexed: double (nullable = true)\n",
      " |-- first_device_type_indexed: double (nullable = true)\n",
      " |-- first_browser_indexed: double (nullable = true)\n",
      " |-- Generation_encoded: vector (nullable = true)\n",
      " |-- gender_encoded: vector (nullable = true)\n",
      " |-- signup_method_encoded: vector (nullable = true)\n",
      " |-- language_encoded: vector (nullable = true)\n",
      " |-- affiliate_channel_encoded: vector (nullable = true)\n",
      " |-- affiliate_provider_encoded: vector (nullable = true)\n",
      " |-- first_affiliate_tracked_encoded: vector (nullable = true)\n",
      " |-- signup_app_encoded: vector (nullable = true)\n",
      " |-- first_device_type_encoded: vector (nullable = true)\n",
      " |-- first_browser_encoded: vector (nullable = true)\n",
      " |-- features: vector (nullable = true)\n",
      " |-- scaled_features: vector (nullable = true)\n",
      " |-- label: double (nullable = true)\n",
      "\n",
      "root\n",
      " |-- gender: string (nullable = true)\n",
      " |-- age: float (nullable = true)\n",
      " |-- signup_method: string (nullable = true)\n",
      " |-- signup_flow: float (nullable = true)\n",
      " |-- language: string (nullable = true)\n",
      " |-- affiliate_channel: string (nullable = true)\n",
      " |-- affiliate_provider: string (nullable = true)\n",
      " |-- first_affiliate_tracked: string (nullable = true)\n",
      " |-- signup_app: string (nullable = true)\n",
      " |-- first_device_type: string (nullable = true)\n",
      " |-- first_browser: string (nullable = true)\n",
      " |-- sum_secs_elapsed: double (nullable = true)\n",
      " |-- Generation: string (nullable = true)\n",
      " |-- dac_year: integer (nullable = true)\n",
      " |-- dac_month: integer (nullable = true)\n",
      " |-- dac_day: integer (nullable = true)\n",
      " |-- tfa_year: integer (nullable = true)\n",
      " |-- tfa_month: integer (nullable = true)\n",
      " |-- tfa_day: integer (nullable = true)\n",
      " |-- Generation_indexed: double (nullable = true)\n",
      " |-- gender_indexed: double (nullable = true)\n",
      " |-- signup_method_indexed: double (nullable = true)\n",
      " |-- language_indexed: double (nullable = true)\n",
      " |-- affiliate_channel_indexed: double (nullable = true)\n",
      " |-- affiliate_provider_indexed: double (nullable = true)\n",
      " |-- first_affiliate_tracked_indexed: double (nullable = true)\n",
      " |-- signup_app_indexed: double (nullable = true)\n",
      " |-- first_device_type_indexed: double (nullable = true)\n",
      " |-- first_browser_indexed: double (nullable = true)\n",
      " |-- Generation_encoded: vector (nullable = true)\n",
      " |-- gender_encoded: vector (nullable = true)\n",
      " |-- signup_method_encoded: vector (nullable = true)\n",
      " |-- language_encoded: vector (nullable = true)\n",
      " |-- affiliate_channel_encoded: vector (nullable = true)\n",
      " |-- affiliate_provider_encoded: vector (nullable = true)\n",
      " |-- first_affiliate_tracked_encoded: vector (nullable = true)\n",
      " |-- signup_app_encoded: vector (nullable = true)\n",
      " |-- first_device_type_encoded: vector (nullable = true)\n",
      " |-- first_browser_encoded: vector (nullable = true)\n",
      " |-- features: vector (nullable = true)\n",
      " |-- scaled_features: vector (nullable = true)\n",
      "\n"
     ]
    }
   ],
   "source": [
    "# To read from Parquet\n",
    "processed_train_users = spark.read.parquet(\"/dbfs/mnt/data/optimized_train_df.parquet\")\n",
    "processed_test_users_raw = spark.read.parquet(\"/dbfs/mnt/data/optimized_test_df.parquet\")\n",
    "\n",
    "# Show schema \n",
    "processed_train_users.printSchema()\n",
    "processed_test_users_raw.printSchema()\n"
   ]
  },
  {
   "cell_type": "markdown",
   "metadata": {
    "application/vnd.databricks.v1+cell": {
     "cellMetadata": {
      "byteLimit": 2048000,
      "rowLimit": 10000
     },
     "inputWidgets": {},
     "nuid": "40734411-593c-4cab-b5cc-6772eaede323",
     "showTitle": false,
     "tableResultSettingsMap": {},
     "title": ""
    }
   },
   "source": [
    "## Trainging the Model"
   ]
  },
  {
   "cell_type": "markdown",
   "metadata": {
    "application/vnd.databricks.v1+cell": {
     "cellMetadata": {
      "byteLimit": 2048000,
      "rowLimit": 10000
     },
     "inputWidgets": {},
     "nuid": "711e9275-9cfc-4796-b808-46e3bb6f796c",
     "showTitle": false,
     "tableResultSettingsMap": {},
     "title": ""
    }
   },
   "source": [
    "#### RandomForest Classifier"
   ]
  },
  {
   "cell_type": "code",
   "execution_count": null,
   "metadata": {
    "application/vnd.databricks.v1+cell": {
     "cellMetadata": {
      "byteLimit": 2048000,
      "rowLimit": 10000
     },
     "inputWidgets": {},
     "nuid": "b149a35d-04e2-4f40-a8c3-837bf03b2c33",
     "showTitle": false,
     "tableResultSettingsMap": {},
     "title": ""
    }
   },
   "outputs": [
    {
     "data": {
      "application/vnd.databricks.v1+bamboolib_hint": "{\"pd.DataFrames\": [], \"version\": \"0.0.1\"}",
      "text/plain": []
     },
     "metadata": {},
     "output_type": "display_data"
    }
   ],
   "source": [
    "from pyspark.ml.classification import RandomForestClassifier\n",
    "from pyspark.ml.evaluation import MulticlassClassificationEvaluator\n",
    "from pyspark.sql.functions import col, expr, arrays_zip, desc\n",
    "import pandas as pd"
   ]
  },
  {
   "cell_type": "code",
   "execution_count": null,
   "metadata": {
    "application/vnd.databricks.v1+cell": {
     "cellMetadata": {
      "byteLimit": 2048000,
      "rowLimit": 10000
     },
     "inputWidgets": {},
     "nuid": "44155e42-4f3c-4261-8565-dfcf7ff9810e",
     "showTitle": false,
     "tableResultSettingsMap": {},
     "title": ""
    }
   },
   "outputs": [],
   "source": [
    "# Train RandomForest\n",
    "rf = RandomForestClassifier(labelCol=\"label\", featuresCol=\"scaled_features\", \n",
    "                             numTrees=100, maxDepth=4)\n",
    "\n",
    "# Fit the model, this will inside the fun \n",
    "model = rf.fit(processed_train_users)\n",
    "\n",
    "# Get feature importances\n",
    "feature_importance_df = model.featureImportances"
   ]
  },
  {
   "cell_type": "code",
   "execution_count": null,
   "metadata": {
    "application/vnd.databricks.v1+cell": {
     "cellMetadata": {
      "byteLimit": 2048000,
      "rowLimit": 10000
     },
     "inputWidgets": {},
     "nuid": "e4a76e02-221f-4645-9db5-9bd63988b9e5",
     "showTitle": false,
     "tableResultSettingsMap": {},
     "title": ""
    }
   },
   "outputs": [
    {
     "data": {
      "text/html": [
       "<style scoped>\n",
       "  .table-result-container {\n",
       "    max-height: 300px;\n",
       "    overflow: auto;\n",
       "  }\n",
       "  table, th, td {\n",
       "    border: 1px solid black;\n",
       "    border-collapse: collapse;\n",
       "  }\n",
       "  th, td {\n",
       "    padding: 5px;\n",
       "  }\n",
       "  th {\n",
       "    text-align: left;\n",
       "  }\n",
       "</style><div class='table-result-container'><table class='table-result'><thead style='background-color: white'><tr><th>feature_index</th><th>importance</th></tr></thead><tbody><tr><td>0</td><td>0.10282086826051834</td></tr><tr><td>1</td><td>0.03672201606758878</td></tr><tr><td>2</td><td>0.01772654210287805</td></tr><tr><td>3</td><td>0.0030943830088390684</td></tr><tr><td>4</td><td>0.1267660516548639</td></tr><tr><td>5</td><td>0.024448161583968092</td></tr><tr><td>6</td><td>0.03477745755667136</td></tr><tr><td>7</td><td>1.6314780772320824E-4</td></tr><tr><td>8</td><td>0.0457220809589154</td></tr><tr><td>9</td><td>0.051965724287481516</td></tr><tr><td>10</td><td>0.0</td></tr><tr><td>11</td><td>0.0013018986682563334</td></tr><tr><td>12</td><td>8.209536418170808E-5</td></tr><tr><td>13</td><td>0.0</td></tr><tr><td>14</td><td>3.991817351522137E-5</td></tr><tr><td>15</td><td>6.164691125427195E-5</td></tr><tr><td>16</td><td>3.7322429131365194E-5</td></tr><tr><td>17</td><td>0.0</td></tr><tr><td>18</td><td>1.4322804539855982E-4</td></tr><tr><td>19</td><td>7.318476405174614E-5</td></tr><tr><td>20</td><td>0.0</td></tr><tr><td>21</td><td>2.4722546872921744E-6</td></tr><tr><td>22</td><td>0.0</td></tr><tr><td>23</td><td>0.0</td></tr><tr><td>24</td><td>1.2449951131907672E-5</td></tr><tr><td>25</td><td>4.618517596022659E-5</td></tr><tr><td>26</td><td>0.0</td></tr><tr><td>27</td><td>1.3011858750328422E-5</td></tr><tr><td>28</td><td>0.0</td></tr><tr><td>29</td><td>0.0</td></tr><tr><td>30</td><td>0.0</td></tr><tr><td>31</td><td>0.0</td></tr><tr><td>32</td><td>1.9278520056505497E-5</td></tr><tr><td>33</td><td>0.0</td></tr><tr><td>34</td><td>0.0</td></tr><tr><td>35</td><td>0.0</td></tr><tr><td>36</td><td>0.0035260178176453657</td></tr><tr><td>37</td><td>3.057728381036547E-4</td></tr><tr><td>38</td><td>0.00783246687640092</td></tr><tr><td>39</td><td>7.380429800472951E-5</td></tr><tr><td>40</td><td>2.9541418801141956E-4</td></tr><tr><td>41</td><td>0.0013069350074092559</td></tr><tr><td>42</td><td>0.03387418812325768</td></tr><tr><td>43</td><td>0.0</td></tr><tr><td>44</td><td>0.0017569801515952869</td></tr><tr><td>45</td><td>9.93489209185601E-4</td></tr><tr><td>46</td><td>6.998157039428887E-4</td></tr><tr><td>47</td><td>3.571842172527441E-5</td></tr><tr><td>48</td><td>1.273484127008071E-5</td></tr><tr><td>49</td><td>3.4037942734215583E-4</td></tr><tr><td>50</td><td>0.0</td></tr><tr><td>51</td><td>1.710075276669559E-4</td></tr><tr><td>52</td><td>1.1950249623682176E-4</td></tr><tr><td>53</td><td>1.1082143688146283E-5</td></tr><tr><td>54</td><td>0.0</td></tr><tr><td>55</td><td>9.275757248565181E-5</td></tr><tr><td>56</td><td>0.0</td></tr><tr><td>57</td><td>0.0</td></tr><tr><td>58</td><td>0.0</td></tr><tr><td>59</td><td>0.0</td></tr><tr><td>60</td><td>0.0</td></tr><tr><td>61</td><td>0.0</td></tr><tr><td>62</td><td>0.0031174410334172866</td></tr><tr><td>63</td><td>2.3766626990813947E-4</td></tr><tr><td>64</td><td>0.008359251795239508</td></tr><tr><td>65</td><td>2.1132824413684712E-4</td></tr><tr><td>66</td><td>2.279334641666798E-5</td></tr><tr><td>67</td><td>0.0</td></tr><tr><td>68</td><td>0.0</td></tr><tr><td>69</td><td>0.01644359215021765</td></tr><tr><td>70</td><td>0.0034264443018900284</td></tr><tr><td>71</td><td>3.692057924645334E-4</td></tr><tr><td>72</td><td>0.02117503952533213</td></tr><tr><td>73</td><td>0.010947841726765339</td></tr><tr><td>74</td><td>0.0013372262232781266</td></tr><tr><td>75</td><td>0.0038533257847225863</td></tr><tr><td>76</td><td>2.9566993877980276E-5</td></tr><tr><td>77</td><td>8.910865942434579E-5</td></tr><tr><td>78</td><td>3.8426970169346317E-4</td></tr><tr><td>79</td><td>8.147483867227808E-6</td></tr><tr><td>80</td><td>0.0</td></tr><tr><td>81</td><td>2.2424416573895165E-5</td></tr><tr><td>82</td><td>0.004391983460962271</td></tr><tr><td>83</td><td>2.447974500504353E-4</td></tr><tr><td>84</td><td>0.009252707902672042</td></tr><tr><td>85</td><td>0.03794534374522879</td></tr><tr><td>86</td><td>0.0022370294482475374</td></tr><tr><td>87</td><td>0.0</td></tr><tr><td>88</td><td>2.635222061955889E-4</td></tr><tr><td>89</td><td>1.3615561705659034E-5</td></tr><tr><td>90</td><td>7.478933535237948E-5</td></tr><tr><td>91</td><td>0.0</td></tr><tr><td>92</td><td>0.0</td></tr><tr><td>93</td><td>0.0</td></tr><tr><td>94</td><td>0.0</td></tr><tr><td>95</td><td>0.0</td></tr><tr><td>96</td><td>0.0</td></tr><tr><td>97</td><td>0.0</td></tr><tr><td>98</td><td>0.0</td></tr><tr><td>99</td><td>0.0</td></tr><tr><td>100</td><td>0.0</td></tr><tr><td>101</td><td>0.0</td></tr><tr><td>102</td><td>0.0</td></tr><tr><td>103</td><td>0.0</td></tr><tr><td>104</td><td>0.0</td></tr><tr><td>105</td><td>0.0</td></tr><tr><td>106</td><td>0.0</td></tr><tr><td>107</td><td>3.022610766104244E-6</td></tr><tr><td>108</td><td>0.0</td></tr><tr><td>109</td><td>0.0</td></tr><tr><td>110</td><td>0.0</td></tr><tr><td>111</td><td>6.33168743073164E-5</td></tr><tr><td>112</td><td>0.0</td></tr><tr><td>113</td><td>8.015780380287747E-5</td></tr><tr><td>114</td><td>0.0</td></tr><tr><td>115</td><td>0.0</td></tr><tr><td>116</td><td>0.0</td></tr><tr><td>117</td><td>0.0</td></tr><tr><td>118</td><td>0.0</td></tr><tr><td>119</td><td>0.0</td></tr><tr><td>120</td><td>0.0</td></tr><tr><td>121</td><td>0.0</td></tr><tr><td>122</td><td>0.0</td></tr><tr><td>123</td><td>0.0</td></tr><tr><td>124</td><td>0.0</td></tr><tr><td>125</td><td>0.0</td></tr><tr><td>126</td><td>0.0</td></tr><tr><td>127</td><td>0.0</td></tr><tr><td>128</td><td>0.0</td></tr><tr><td>129</td><td>0.0</td></tr><tr><td>130</td><td>0.0</td></tr><tr><td>131</td><td>0.0</td></tr><tr><td>132</td><td>0.0</td></tr><tr><td>133</td><td>0.0</td></tr><tr><td>134</td><td>0.23015857721568325</td></tr><tr><td>135</td><td>0.026336384250654484</td></tr><tr><td>136</td><td>0.05959360856131761</td></tr><tr><td>137</td><td>0.0010453452820373555</td></tr><tr><td>138</td><td>3.816923449109595E-4</td></tr><tr><td>139</td><td>0.0476526819143693</td></tr><tr><td>140</td><td>0.003481278574558184</td></tr><tr><td>141</td><td>8.832087102648891E-5</td></tr><tr><td>142</td><td>0.009169959087130279</td></tr></tbody></table></div>"
      ]
     },
     "metadata": {
      "application/vnd.databricks.v1+output": {
       "addedWidgets": {},
       "aggData": [],
       "aggError": "",
       "aggOverflow": false,
       "aggSchema": [],
       "aggSeriesLimitReached": false,
       "aggType": "",
       "arguments": {},
       "columnCustomDisplayInfos": {},
       "data": [
        [
         0,
         0.10282086826051834
        ],
        [
         1,
         0.03672201606758878
        ],
        [
         2,
         0.01772654210287805
        ],
        [
         3,
         0.0030943830088390684
        ],
        [
         4,
         0.1267660516548639
        ],
        [
         5,
         0.024448161583968092
        ],
        [
         6,
         0.03477745755667136
        ],
        [
         7,
         0.00016314780772320824
        ],
        [
         8,
         0.0457220809589154
        ],
        [
         9,
         0.051965724287481516
        ],
        [
         10,
         0
        ],
        [
         11,
         0.0013018986682563334
        ],
        [
         12,
         0.00008209536418170808
        ],
        [
         13,
         0
        ],
        [
         14,
         0.00003991817351522137
        ],
        [
         15,
         0.00006164691125427195
        ],
        [
         16,
         0.000037322429131365194
        ],
        [
         17,
         0
        ],
        [
         18,
         0.00014322804539855982
        ],
        [
         19,
         0.00007318476405174614
        ],
        [
         20,
         0
        ],
        [
         21,
         0.0000024722546872921744
        ],
        [
         22,
         0
        ],
        [
         23,
         0
        ],
        [
         24,
         0.000012449951131907672
        ],
        [
         25,
         0.00004618517596022659
        ],
        [
         26,
         0
        ],
        [
         27,
         0.000013011858750328422
        ],
        [
         28,
         0
        ],
        [
         29,
         0
        ],
        [
         30,
         0
        ],
        [
         31,
         0
        ],
        [
         32,
         0.000019278520056505497
        ],
        [
         33,
         0
        ],
        [
         34,
         0
        ],
        [
         35,
         0
        ],
        [
         36,
         0.0035260178176453657
        ],
        [
         37,
         0.0003057728381036547
        ],
        [
         38,
         0.00783246687640092
        ],
        [
         39,
         0.00007380429800472951
        ],
        [
         40,
         0.00029541418801141956
        ],
        [
         41,
         0.0013069350074092559
        ],
        [
         42,
         0.03387418812325768
        ],
        [
         43,
         0
        ],
        [
         44,
         0.0017569801515952869
        ],
        [
         45,
         0.000993489209185601
        ],
        [
         46,
         0.0006998157039428887
        ],
        [
         47,
         0.00003571842172527441
        ],
        [
         48,
         0.00001273484127008071
        ],
        [
         49,
         0.00034037942734215583
        ],
        [
         50,
         0
        ],
        [
         51,
         0.0001710075276669559
        ],
        [
         52,
         0.00011950249623682176
        ],
        [
         53,
         0.000011082143688146283
        ],
        [
         54,
         0
        ],
        [
         55,
         0.00009275757248565181
        ],
        [
         56,
         0
        ],
        [
         57,
         0
        ],
        [
         58,
         0
        ],
        [
         59,
         0
        ],
        [
         60,
         0
        ],
        [
         61,
         0
        ],
        [
         62,
         0.0031174410334172866
        ],
        [
         63,
         0.00023766626990813947
        ],
        [
         64,
         0.008359251795239508
        ],
        [
         65,
         0.00021132824413684712
        ],
        [
         66,
         0.00002279334641666798
        ],
        [
         67,
         0
        ],
        [
         68,
         0
        ],
        [
         69,
         0.01644359215021765
        ],
        [
         70,
         0.0034264443018900284
        ],
        [
         71,
         0.0003692057924645334
        ],
        [
         72,
         0.02117503952533213
        ],
        [
         73,
         0.010947841726765339
        ],
        [
         74,
         0.0013372262232781266
        ],
        [
         75,
         0.0038533257847225863
        ],
        [
         76,
         0.000029566993877980276
        ],
        [
         77,
         0.00008910865942434579
        ],
        [
         78,
         0.00038426970169346317
        ],
        [
         79,
         0.000008147483867227808
        ],
        [
         80,
         0
        ],
        [
         81,
         0.000022424416573895165
        ],
        [
         82,
         0.004391983460962271
        ],
        [
         83,
         0.0002447974500504353
        ],
        [
         84,
         0.009252707902672042
        ],
        [
         85,
         0.03794534374522879
        ],
        [
         86,
         0.0022370294482475374
        ],
        [
         87,
         0
        ],
        [
         88,
         0.0002635222061955889
        ],
        [
         89,
         0.000013615561705659034
        ],
        [
         90,
         0.00007478933535237948
        ],
        [
         91,
         0
        ],
        [
         92,
         0
        ],
        [
         93,
         0
        ],
        [
         94,
         0
        ],
        [
         95,
         0
        ],
        [
         96,
         0
        ],
        [
         97,
         0
        ],
        [
         98,
         0
        ],
        [
         99,
         0
        ],
        [
         100,
         0
        ],
        [
         101,
         0
        ],
        [
         102,
         0
        ],
        [
         103,
         0
        ],
        [
         104,
         0
        ],
        [
         105,
         0
        ],
        [
         106,
         0
        ],
        [
         107,
         0.000003022610766104244
        ],
        [
         108,
         0
        ],
        [
         109,
         0
        ],
        [
         110,
         0
        ],
        [
         111,
         0.0000633168743073164
        ],
        [
         112,
         0
        ],
        [
         113,
         0.00008015780380287747
        ],
        [
         114,
         0
        ],
        [
         115,
         0
        ],
        [
         116,
         0
        ],
        [
         117,
         0
        ],
        [
         118,
         0
        ],
        [
         119,
         0
        ],
        [
         120,
         0
        ],
        [
         121,
         0
        ],
        [
         122,
         0
        ],
        [
         123,
         0
        ],
        [
         124,
         0
        ],
        [
         125,
         0
        ],
        [
         126,
         0
        ],
        [
         127,
         0
        ],
        [
         128,
         0
        ],
        [
         129,
         0
        ],
        [
         130,
         0
        ],
        [
         131,
         0
        ],
        [
         132,
         0
        ],
        [
         133,
         0
        ],
        [
         134,
         0.23015857721568325
        ],
        [
         135,
         0.026336384250654484
        ],
        [
         136,
         0.05959360856131761
        ],
        [
         137,
         0.0010453452820373555
        ],
        [
         138,
         0.0003816923449109595
        ],
        [
         139,
         0.0476526819143693
        ],
        [
         140,
         0.003481278574558184
        ],
        [
         141,
         0.00008832087102648891
        ],
        [
         142,
         0.009169959087130279
        ]
       ],
       "datasetInfos": [],
       "dbfsResultPath": null,
       "isJsonSchema": true,
       "metadata": {},
       "overflow": false,
       "plotOptions": {
        "customPlotOptions": {},
        "displayType": "table",
        "pivotAggregation": null,
        "pivotColumns": null,
        "xColumns": null,
        "yColumns": null
       },
       "removedWidgets": [],
       "schema": [
        {
         "metadata": "{}",
         "name": "feature_index",
         "type": "\"long\""
        },
        {
         "metadata": "{}",
         "name": "importance",
         "type": "\"double\""
        }
       ],
       "type": "table"
      }
     },
     "output_type": "display_data"
    },
    {
     "name": "stdout",
     "output_type": "stream",
     "text": [
      "Total feature importance: feature_index    10153.0\n",
      "importance           1.0\n",
      "dtype: float64\n"
     ]
    }
   ],
   "source": [
    "# Convert to Pandas DataFrame\n",
    "pandas_feature_importance = pd.DataFrame(\n",
    "    list(enumerate(feature_importance_df.toArray())), \n",
    "    columns=['feature_index', 'importance']\n",
    ")\n",
    "display(pandas_feature_importance)\n",
    "print(f\"Total feature importance: {pandas_feature_importance.sum()}\")\n"
   ]
  },
  {
   "cell_type": "code",
   "execution_count": null,
   "metadata": {
    "application/vnd.databricks.v1+cell": {
     "cellMetadata": {
      "byteLimit": 2048000,
      "rowLimit": 10000
     },
     "inputWidgets": {},
     "nuid": "a09ae049-b303-4119-920f-1f3ebfbb1539",
     "showTitle": false,
     "tableResultSettingsMap": {},
     "title": ""
    }
   },
   "outputs": [
    {
     "name": "stdout",
     "output_type": "stream",
     "text": [
      "{'ml_attr': {'attrs': {'numeric': [{'idx': 134, 'name': 'age'}, {'idx': 135, 'name': 'signup_flow'}, {'idx': 136, 'name': 'dac_year'}, {'idx': 137, 'name': 'dac_month'}, {'idx': 138, 'name': 'dac_day'}, {'idx': 139, 'name': 'tfa_year'}, {'idx': 140, 'name': 'tfa_month'}, {'idx': 141, 'name': 'tfa_day'}, {'idx': 142, 'name': 'sum_secs_elapsed'}], 'binary': [{'idx': 0, 'name': 'Generation_encoded_Millennials'}, {'idx': 1, 'name': 'Generation_encoded_Gen Z'}, {'idx': 2, 'name': 'Generation_encoded_Gen X'}, {'idx': 3, 'name': 'Generation_encoded_The Baby Boomer Generation'}, {'idx': 4, 'name': 'gender_encoded_-unknown-'}, {'idx': 5, 'name': 'gender_encoded_female'}, {'idx': 6, 'name': 'gender_encoded_male'}, {'idx': 7, 'name': 'gender_encoded_other'}, {'idx': 8, 'name': 'signup_method_encoded_basic'}, {'idx': 9, 'name': 'signup_method_encoded_facebook'}, {'idx': 10, 'name': 'signup_method_encoded_google'}, {'idx': 11, 'name': 'language_encoded_en'}, {'idx': 12, 'name': 'language_encoded_zh'}, {'idx': 13, 'name': 'language_encoded_fr'}, {'idx': 14, 'name': 'language_encoded_es'}, {'idx': 15, 'name': 'language_encoded_ko'}, {'idx': 16, 'name': 'language_encoded_de'}, {'idx': 17, 'name': 'language_encoded_it'}, {'idx': 18, 'name': 'language_encoded_ru'}, {'idx': 19, 'name': 'language_encoded_pt'}, {'idx': 20, 'name': 'language_encoded_ja'}, {'idx': 21, 'name': 'language_encoded_sv'}, {'idx': 22, 'name': 'language_encoded_nl'}, {'idx': 23, 'name': 'language_encoded_tr'}, {'idx': 24, 'name': 'language_encoded_da'}, {'idx': 25, 'name': 'language_encoded_pl'}, {'idx': 26, 'name': 'language_encoded_cs'}, {'idx': 27, 'name': 'language_encoded_no'}, {'idx': 28, 'name': 'language_encoded_el'}, {'idx': 29, 'name': 'language_encoded_th'}, {'idx': 30, 'name': 'language_encoded_id'}, {'idx': 31, 'name': 'language_encoded_hu'}, {'idx': 32, 'name': 'language_encoded_fi'}, {'idx': 33, 'name': 'language_encoded_ca'}, {'idx': 34, 'name': 'language_encoded_is'}, {'idx': 35, 'name': 'language_encoded_hr'}, {'idx': 36, 'name': 'affiliate_channel_encoded_direct'}, {'idx': 37, 'name': 'affiliate_channel_encoded_sem-brand'}, {'idx': 38, 'name': 'affiliate_channel_encoded_sem-non-brand'}, {'idx': 39, 'name': 'affiliate_channel_encoded_seo'}, {'idx': 40, 'name': 'affiliate_channel_encoded_other'}, {'idx': 41, 'name': 'affiliate_channel_encoded_api'}, {'idx': 42, 'name': 'affiliate_channel_encoded_content'}, {'idx': 43, 'name': 'affiliate_channel_encoded_remarketing'}, {'idx': 44, 'name': 'affiliate_provider_encoded_direct'}, {'idx': 45, 'name': 'affiliate_provider_encoded_google'}, {'idx': 46, 'name': 'affiliate_provider_encoded_other'}, {'idx': 47, 'name': 'affiliate_provider_encoded_craigslist'}, {'idx': 48, 'name': 'affiliate_provider_encoded_bing'}, {'idx': 49, 'name': 'affiliate_provider_encoded_facebook'}, {'idx': 50, 'name': 'affiliate_provider_encoded_padmapper'}, {'idx': 51, 'name': 'affiliate_provider_encoded_vast'}, {'idx': 52, 'name': 'affiliate_provider_encoded_facebook-open-graph'}, {'idx': 53, 'name': 'affiliate_provider_encoded_yahoo'}, {'idx': 54, 'name': 'affiliate_provider_encoded_gsp'}, {'idx': 55, 'name': 'affiliate_provider_encoded_meetup'}, {'idx': 56, 'name': 'affiliate_provider_encoded_email-marketing'}, {'idx': 57, 'name': 'affiliate_provider_encoded_naver'}, {'idx': 58, 'name': 'affiliate_provider_encoded_baidu'}, {'idx': 59, 'name': 'affiliate_provider_encoded_yandex'}, {'idx': 60, 'name': 'affiliate_provider_encoded_wayn'}, {'idx': 61, 'name': 'affiliate_provider_encoded_daum'}, {'idx': 62, 'name': 'first_affiliate_tracked_encoded_untracked'}, {'idx': 63, 'name': 'first_affiliate_tracked_encoded_linked'}, {'idx': 64, 'name': 'first_affiliate_tracked_encoded_omg'}, {'idx': 65, 'name': 'first_affiliate_tracked_encoded_tracked-other'}, {'idx': 66, 'name': 'first_affiliate_tracked_encoded_product'}, {'idx': 67, 'name': 'first_affiliate_tracked_encoded_marketing'}, {'idx': 68, 'name': 'first_affiliate_tracked_encoded_local ops'}, {'idx': 69, 'name': 'signup_app_encoded_Web'}, {'idx': 70, 'name': 'signup_app_encoded_iOS'}, {'idx': 71, 'name': 'signup_app_encoded_Moweb'}, {'idx': 72, 'name': 'signup_app_encoded_Android'}, {'idx': 73, 'name': 'first_device_type_encoded_Mac Desktop'}, {'idx': 74, 'name': 'first_device_type_encoded_Windows Desktop'}, {'idx': 75, 'name': 'first_device_type_encoded_iPhone'}, {'idx': 76, 'name': 'first_device_type_encoded_iPad'}, {'idx': 77, 'name': 'first_device_type_encoded_Other/Unknown'}, {'idx': 78, 'name': 'first_device_type_encoded_Android Phone'}, {'idx': 79, 'name': 'first_device_type_encoded_Android Tablet'}, {'idx': 80, 'name': 'first_device_type_encoded_Desktop (Other)'}, {'idx': 81, 'name': 'first_device_type_encoded_SmartPhone (Other)'}, {'idx': 82, 'name': 'first_browser_encoded_Chrome'}, {'idx': 83, 'name': 'first_browser_encoded_Safari'}, {'idx': 84, 'name': 'first_browser_encoded_Firefox'}, {'idx': 85, 'name': 'first_browser_encoded_-unknown-'}, {'idx': 86, 'name': 'first_browser_encoded_IE'}, {'idx': 87, 'name': 'first_browser_encoded_Mobile Safari'}, {'idx': 88, 'name': 'first_browser_encoded_Chrome Mobile'}, {'idx': 89, 'name': 'first_browser_encoded_Android Browser'}, {'idx': 90, 'name': 'first_browser_encoded_AOL Explorer'}, {'idx': 91, 'name': 'first_browser_encoded_Opera'}, {'idx': 92, 'name': 'first_browser_encoded_Silk'}, {'idx': 93, 'name': 'first_browser_encoded_Chromium'}, {'idx': 94, 'name': 'first_browser_encoded_BlackBerry Browser'}, {'idx': 95, 'name': 'first_browser_encoded_Maxthon'}, {'idx': 96, 'name': 'first_browser_encoded_Apple Mail'}, {'idx': 97, 'name': 'first_browser_encoded_IE Mobile'}, {'idx': 98, 'name': 'first_browser_encoded_Sogou Explorer'}, {'idx': 99, 'name': 'first_browser_encoded_Mobile Firefox'}, {'idx': 100, 'name': 'first_browser_encoded_RockMelt'}, {'idx': 101, 'name': 'first_browser_encoded_SiteKiosk'}, {'idx': 102, 'name': 'first_browser_encoded_Iron'}, {'idx': 103, 'name': 'first_browser_encoded_IceWeasel'}, {'idx': 104, 'name': 'first_browser_encoded_Pale Moon'}, {'idx': 105, 'name': 'first_browser_encoded_CometBird'}, {'idx': 106, 'name': 'first_browser_encoded_SeaMonkey'}, {'idx': 107, 'name': 'first_browser_encoded_Yandex.Browser'}, {'idx': 108, 'name': 'first_browser_encoded_Camino'}, {'idx': 109, 'name': 'first_browser_encoded_TenFourFox'}, {'idx': 110, 'name': 'first_browser_encoded_CoolNovo'}, {'idx': 111, 'name': 'first_browser_encoded_wOSBrowser'}, {'idx': 112, 'name': 'first_browser_encoded_Avant Browser'}, {'idx': 113, 'name': 'first_browser_encoded_Opera Mini'}, {'idx': 114, 'name': 'first_browser_encoded_Mozilla'}, {'idx': 115, 'name': 'first_browser_encoded_Comodo Dragon'}, {'idx': 116, 'name': 'first_browser_encoded_Crazy Browser'}, {'idx': 117, 'name': 'first_browser_encoded_Flock'}, {'idx': 118, 'name': 'first_browser_encoded_OmniWeb'}, {'idx': 119, 'name': 'first_browser_encoded_Opera Mobile'}, {'idx': 120, 'name': 'first_browser_encoded_SlimBrowser'}, {'idx': 121, 'name': 'first_browser_encoded_TheWorld Browser'}, {'idx': 122, 'name': 'first_browser_encoded_Arora'}, {'idx': 123, 'name': 'first_browser_encoded_Conkeror'}, {'idx': 124, 'name': 'first_browser_encoded_Epic'}, {'idx': 125, 'name': 'first_browser_encoded_Google Earth'}, {'idx': 126, 'name': 'first_browser_encoded_Googlebot'}, {'idx': 127, 'name': 'first_browser_encoded_IceDragon'}, {'idx': 128, 'name': 'first_browser_encoded_Kindle Browser'}, {'idx': 129, 'name': 'first_browser_encoded_NetNewsWire'}, {'idx': 130, 'name': 'first_browser_encoded_Outlook 2007'}, {'idx': 131, 'name': 'first_browser_encoded_PS Vita browser'}, {'idx': 132, 'name': 'first_browser_encoded_Palm Pre web browser'}, {'idx': 133, 'name': 'first_browser_encoded_Stainless'}]}, 'num_attrs': 143}}\n"
     ]
    }
   ],
   "source": [
    "# Print out all metadata to understand the structure\n",
    "print(processed_train_users.schema[\"features\"].metadata)"
   ]
  },
  {
   "cell_type": "code",
   "execution_count": null,
   "metadata": {
    "application/vnd.databricks.v1+cell": {
     "cellMetadata": {
      "byteLimit": 2048000,
      "rowLimit": 10000
     },
     "inputWidgets": {},
     "nuid": "e314202c-3df0-4d9e-a423-149bcec5ed43",
     "showTitle": false,
     "tableResultSettingsMap": {},
     "title": ""
    }
   },
   "outputs": [
    {
     "data": {
      "text/html": [
       "<style scoped>\n",
       "  .table-result-container {\n",
       "    max-height: 300px;\n",
       "    overflow: auto;\n",
       "  }\n",
       "  table, th, td {\n",
       "    border: 1px solid black;\n",
       "    border-collapse: collapse;\n",
       "  }\n",
       "  th, td {\n",
       "    padding: 5px;\n",
       "  }\n",
       "  th {\n",
       "    text-align: left;\n",
       "  }\n",
       "</style><div class='table-result-container'><table class='table-result'><thead style='background-color: white'><tr><th>feature_index</th><th>importance</th><th>feature_name</th></tr></thead><tbody><tr><td>134</td><td>0.23015857721568325</td><td>first_browser_encoded_Google Earth</td></tr><tr><td>4</td><td>0.1267660516548639</td><td>dac_day</td></tr><tr><td>0</td><td>0.10282086826051834</td><td>age</td></tr><tr><td>136</td><td>0.05959360856131761</td><td>first_browser_encoded_IceDragon</td></tr><tr><td>9</td><td>0.051965724287481516</td><td>Generation_encoded_Millennials</td></tr><tr><td>139</td><td>0.0476526819143693</td><td>first_browser_encoded_Outlook 2007</td></tr><tr><td>8</td><td>0.0457220809589154</td><td>sum_secs_elapsed</td></tr><tr><td>85</td><td>0.03794534374522879</td><td>first_device_type_encoded_iPad</td></tr><tr><td>1</td><td>0.03672201606758878</td><td>signup_flow</td></tr><tr><td>6</td><td>0.03477745755667136</td><td>tfa_month</td></tr><tr><td>42</td><td>0.03387418812325768</td><td>language_encoded_ca</td></tr><tr><td>135</td><td>0.026336384250654484</td><td>first_browser_encoded_Googlebot</td></tr><tr><td>5</td><td>0.024448161583968092</td><td>tfa_year</td></tr><tr><td>72</td><td>0.02117503952533213</td><td>first_affiliate_tracked_encoded_linked</td></tr><tr><td>2</td><td>0.01772654210287805</td><td>dac_year</td></tr><tr><td>69</td><td>0.01644359215021765</td><td>affiliate_provider_encoded_wayn</td></tr><tr><td>73</td><td>0.010947841726765339</td><td>first_affiliate_tracked_encoded_omg</td></tr><tr><td>84</td><td>0.009252707902672042</td><td>first_device_type_encoded_iPhone</td></tr><tr><td>142</td><td>0.009169959087130279</td><td>first_browser_encoded_Stainless</td></tr><tr><td>64</td><td>0.008359251795239508</td><td>affiliate_provider_encoded_meetup</td></tr><tr><td>38</td><td>0.00783246687640092</td><td>language_encoded_th</td></tr><tr><td>82</td><td>0.004391983460962271</td><td>first_device_type_encoded_Mac Desktop</td></tr><tr><td>75</td><td>0.0038533257847225863</td><td>first_affiliate_tracked_encoded_product</td></tr><tr><td>36</td><td>0.0035260178176453657</td><td>language_encoded_no</td></tr><tr><td>140</td><td>0.003481278574558184</td><td>first_browser_encoded_PS Vita browser</td></tr><tr><td>70</td><td>0.0034264443018900284</td><td>affiliate_provider_encoded_daum</td></tr><tr><td>62</td><td>0.0031174410334172866</td><td>affiliate_provider_encoded_yahoo</td></tr><tr><td>3</td><td>0.0030943830088390684</td><td>dac_month</td></tr><tr><td>86</td><td>0.0022370294482475374</td><td>first_device_type_encoded_Other/Unknown</td></tr><tr><td>44</td><td>0.0017569801515952869</td><td>language_encoded_hr</td></tr><tr><td>74</td><td>0.0013372262232781266</td><td>first_affiliate_tracked_encoded_tracked-other</td></tr><tr><td>41</td><td>0.0013069350074092559</td><td>language_encoded_fi</td></tr><tr><td>11</td><td>0.0013018986682563334</td><td>Generation_encoded_Gen X</td></tr><tr><td>137</td><td>0.0010453452820373555</td><td>first_browser_encoded_Kindle Browser</td></tr><tr><td>45</td><td>9.93489209185601E-4</td><td>affiliate_channel_encoded_direct</td></tr><tr><td>46</td><td>6.998157039428887E-4</td><td>affiliate_channel_encoded_sem-brand</td></tr><tr><td>78</td><td>3.8426970169346317E-4</td><td>signup_app_encoded_Web</td></tr><tr><td>138</td><td>3.816923449109595E-4</td><td>first_browser_encoded_NetNewsWire</td></tr><tr><td>71</td><td>3.692057924645334E-4</td><td>first_affiliate_tracked_encoded_untracked</td></tr><tr><td>49</td><td>3.4037942734215583E-4</td><td>affiliate_channel_encoded_other</td></tr><tr><td>37</td><td>3.057728381036547E-4</td><td>language_encoded_el</td></tr><tr><td>40</td><td>2.9541418801141956E-4</td><td>language_encoded_hu</td></tr><tr><td>88</td><td>2.635222061955889E-4</td><td>first_device_type_encoded_Android Tablet</td></tr><tr><td>83</td><td>2.447974500504353E-4</td><td>first_device_type_encoded_Windows Desktop</td></tr><tr><td>63</td><td>2.3766626990813947E-4</td><td>affiliate_provider_encoded_gsp</td></tr><tr><td>65</td><td>2.1132824413684712E-4</td><td>affiliate_provider_encoded_email-marketing</td></tr><tr><td>51</td><td>1.710075276669559E-4</td><td>affiliate_channel_encoded_content</td></tr><tr><td>7</td><td>1.6314780772320824E-4</td><td>tfa_day</td></tr><tr><td>18</td><td>1.4322804539855982E-4</td><td>signup_method_encoded_facebook</td></tr><tr><td>52</td><td>1.1950249623682176E-4</td><td>affiliate_channel_encoded_remarketing</td></tr><tr><td>55</td><td>9.275757248565181E-5</td><td>affiliate_provider_encoded_other</td></tr><tr><td>77</td><td>8.910865942434579E-5</td><td>first_affiliate_tracked_encoded_local ops</td></tr><tr><td>141</td><td>8.832087102648891E-5</td><td>first_browser_encoded_Palm Pre web browser</td></tr><tr><td>12</td><td>8.209536418170808E-5</td><td>Generation_encoded_The Baby Boomer Generation</td></tr><tr><td>113</td><td>8.015780380287747E-5</td><td>first_browser_encoded_Pale Moon</td></tr><tr><td>90</td><td>7.478933535237948E-5</td><td>first_device_type_encoded_SmartPhone (Other)</td></tr><tr><td>39</td><td>7.380429800472951E-5</td><td>language_encoded_id</td></tr><tr><td>19</td><td>7.318476405174614E-5</td><td>signup_method_encoded_google</td></tr><tr><td>111</td><td>6.33168743073164E-5</td><td>first_browser_encoded_Iron</td></tr><tr><td>15</td><td>6.164691125427195E-5</td><td>gender_encoded_male</td></tr><tr><td>25</td><td>4.618517596022659E-5</td><td>language_encoded_de</td></tr><tr><td>14</td><td>3.991817351522137E-5</td><td>gender_encoded_female</td></tr><tr><td>16</td><td>3.7322429131365194E-5</td><td>gender_encoded_other</td></tr><tr><td>47</td><td>3.571842172527441E-5</td><td>affiliate_channel_encoded_sem-non-brand</td></tr><tr><td>76</td><td>2.9566993877980276E-5</td><td>first_affiliate_tracked_encoded_marketing</td></tr><tr><td>66</td><td>2.279334641666798E-5</td><td>affiliate_provider_encoded_naver</td></tr><tr><td>81</td><td>2.2424416573895165E-5</td><td>signup_app_encoded_Android</td></tr><tr><td>32</td><td>1.9278520056505497E-5</td><td>language_encoded_tr</td></tr><tr><td>89</td><td>1.3615561705659034E-5</td><td>first_device_type_encoded_Desktop (Other)</td></tr><tr><td>27</td><td>1.3011858750328422E-5</td><td>language_encoded_ru</td></tr><tr><td>48</td><td>1.273484127008071E-5</td><td>affiliate_channel_encoded_seo</td></tr><tr><td>24</td><td>1.2449951131907672E-5</td><td>language_encoded_ko</td></tr><tr><td>53</td><td>1.1082143688146283E-5</td><td>affiliate_provider_encoded_direct</td></tr><tr><td>79</td><td>8.147483867227808E-6</td><td>signup_app_encoded_iOS</td></tr><tr><td>107</td><td>3.022610766104244E-6</td><td>first_browser_encoded_Sogou Explorer</td></tr><tr><td>21</td><td>2.4722546872921744E-6</td><td>language_encoded_zh</td></tr><tr><td>133</td><td>0.0</td><td>first_browser_encoded_Epic</td></tr><tr><td>121</td><td>0.0</td><td>first_browser_encoded_Avant Browser</td></tr><tr><td>108</td><td>0.0</td><td>first_browser_encoded_Mobile Firefox</td></tr><tr><td>109</td><td>0.0</td><td>first_browser_encoded_RockMelt</td></tr><tr><td>110</td><td>0.0</td><td>first_browser_encoded_SiteKiosk</td></tr><tr><td>112</td><td>0.0</td><td>first_browser_encoded_IceWeasel</td></tr><tr><td>28</td><td>0.0</td><td>language_encoded_pt</td></tr><tr><td>114</td><td>0.0</td><td>first_browser_encoded_CometBird</td></tr><tr><td>115</td><td>0.0</td><td>first_browser_encoded_SeaMonkey</td></tr><tr><td>116</td><td>0.0</td><td>first_browser_encoded_Yandex.Browser</td></tr><tr><td>117</td><td>0.0</td><td>first_browser_encoded_Camino</td></tr><tr><td>118</td><td>0.0</td><td>first_browser_encoded_TenFourFox</td></tr><tr><td>119</td><td>0.0</td><td>first_browser_encoded_CoolNovo</td></tr><tr><td>120</td><td>0.0</td><td>first_browser_encoded_wOSBrowser</td></tr><tr><td>122</td><td>0.0</td><td>first_browser_encoded_Opera Mini</td></tr><tr><td>10</td><td>0.0</td><td>Generation_encoded_Gen Z</td></tr><tr><td>22</td><td>0.0</td><td>language_encoded_fr</td></tr><tr><td>123</td><td>0.0</td><td>first_browser_encoded_Mozilla</td></tr><tr><td>124</td><td>0.0</td><td>first_browser_encoded_Comodo Dragon</td></tr><tr><td>125</td><td>0.0</td><td>first_browser_encoded_Crazy Browser</td></tr><tr><td>23</td><td>0.0</td><td>language_encoded_es</td></tr><tr><td>126</td><td>0.0</td><td>first_browser_encoded_Flock</td></tr><tr><td>127</td><td>0.0</td><td>first_browser_encoded_OmniWeb</td></tr><tr><td>106</td><td>0.0</td><td>first_browser_encoded_IE Mobile</td></tr><tr><td>129</td><td>0.0</td><td>first_browser_encoded_SlimBrowser</td></tr><tr><td>130</td><td>0.0</td><td>first_browser_encoded_TheWorld Browser</td></tr><tr><td>26</td><td>0.0</td><td>language_encoded_it</td></tr><tr><td>131</td><td>0.0</td><td>first_browser_encoded_Arora</td></tr><tr><td>132</td><td>0.0</td><td>first_browser_encoded_Conkeror</td></tr><tr><td>128</td><td>0.0</td><td>first_browser_encoded_Opera Mobile</td></tr><tr><td>58</td><td>0.0</td><td>affiliate_provider_encoded_facebook</td></tr><tr><td>105</td><td>0.0</td><td>first_browser_encoded_Apple Mail</td></tr><tr><td>104</td><td>0.0</td><td>first_browser_encoded_Maxthon</td></tr><tr><td>33</td><td>0.0</td><td>language_encoded_da</td></tr><tr><td>34</td><td>0.0</td><td>language_encoded_pl</td></tr><tr><td>20</td><td>0.0</td><td>language_encoded_en</td></tr><tr><td>80</td><td>0.0</td><td>signup_app_encoded_Moweb</td></tr><tr><td>35</td><td>0.0</td><td>language_encoded_cs</td></tr><tr><td>43</td><td>0.0</td><td>language_encoded_is</td></tr><tr><td>50</td><td>0.0</td><td>affiliate_channel_encoded_api</td></tr><tr><td>17</td><td>0.0</td><td>signup_method_encoded_basic</td></tr><tr><td>68</td><td>0.0</td><td>affiliate_provider_encoded_yandex</td></tr><tr><td>67</td><td>0.0</td><td>affiliate_provider_encoded_baidu</td></tr><tr><td>54</td><td>0.0</td><td>affiliate_provider_encoded_google</td></tr><tr><td>56</td><td>0.0</td><td>affiliate_provider_encoded_craigslist</td></tr><tr><td>57</td><td>0.0</td><td>affiliate_provider_encoded_bing</td></tr><tr><td>61</td><td>0.0</td><td>affiliate_provider_encoded_facebook-open-graph</td></tr><tr><td>60</td><td>0.0</td><td>affiliate_provider_encoded_vast</td></tr><tr><td>13</td><td>0.0</td><td>gender_encoded_-unknown-</td></tr><tr><td>31</td><td>0.0</td><td>language_encoded_nl</td></tr><tr><td>87</td><td>0.0</td><td>first_device_type_encoded_Android Phone</td></tr><tr><td>97</td><td>0.0</td><td>first_browser_encoded_Chrome Mobile</td></tr><tr><td>103</td><td>0.0</td><td>first_browser_encoded_BlackBerry Browser</td></tr><tr><td>102</td><td>0.0</td><td>first_browser_encoded_Chromium</td></tr><tr><td>101</td><td>0.0</td><td>first_browser_encoded_Silk</td></tr><tr><td>59</td><td>0.0</td><td>affiliate_provider_encoded_padmapper</td></tr><tr><td>99</td><td>0.0</td><td>first_browser_encoded_AOL Explorer</td></tr><tr><td>98</td><td>0.0</td><td>first_browser_encoded_Android Browser</td></tr><tr><td>96</td><td>0.0</td><td>first_browser_encoded_Mobile Safari</td></tr><tr><td>30</td><td>0.0</td><td>language_encoded_sv</td></tr><tr><td>95</td><td>0.0</td><td>first_browser_encoded_IE</td></tr><tr><td>94</td><td>0.0</td><td>first_browser_encoded_-unknown-</td></tr><tr><td>93</td><td>0.0</td><td>first_browser_encoded_Firefox</td></tr><tr><td>92</td><td>0.0</td><td>first_browser_encoded_Safari</td></tr><tr><td>91</td><td>0.0</td><td>first_browser_encoded_Chrome</td></tr><tr><td>29</td><td>0.0</td><td>language_encoded_ja</td></tr><tr><td>100</td><td>0.0</td><td>first_browser_encoded_Opera</td></tr></tbody></table></div>"
      ]
     },
     "metadata": {
      "application/vnd.databricks.v1+output": {
       "addedWidgets": {},
       "aggData": [],
       "aggError": "",
       "aggOverflow": false,
       "aggSchema": [],
       "aggSeriesLimitReached": false,
       "aggType": "",
       "arguments": {},
       "columnCustomDisplayInfos": {},
       "data": [
        [
         134,
         0.23015857721568325,
         "first_browser_encoded_Google Earth"
        ],
        [
         4,
         0.1267660516548639,
         "dac_day"
        ],
        [
         0,
         0.10282086826051834,
         "age"
        ],
        [
         136,
         0.05959360856131761,
         "first_browser_encoded_IceDragon"
        ],
        [
         9,
         0.051965724287481516,
         "Generation_encoded_Millennials"
        ],
        [
         139,
         0.0476526819143693,
         "first_browser_encoded_Outlook 2007"
        ],
        [
         8,
         0.0457220809589154,
         "sum_secs_elapsed"
        ],
        [
         85,
         0.03794534374522879,
         "first_device_type_encoded_iPad"
        ],
        [
         1,
         0.03672201606758878,
         "signup_flow"
        ],
        [
         6,
         0.03477745755667136,
         "tfa_month"
        ],
        [
         42,
         0.03387418812325768,
         "language_encoded_ca"
        ],
        [
         135,
         0.026336384250654484,
         "first_browser_encoded_Googlebot"
        ],
        [
         5,
         0.024448161583968092,
         "tfa_year"
        ],
        [
         72,
         0.02117503952533213,
         "first_affiliate_tracked_encoded_linked"
        ],
        [
         2,
         0.01772654210287805,
         "dac_year"
        ],
        [
         69,
         0.01644359215021765,
         "affiliate_provider_encoded_wayn"
        ],
        [
         73,
         0.010947841726765339,
         "first_affiliate_tracked_encoded_omg"
        ],
        [
         84,
         0.009252707902672042,
         "first_device_type_encoded_iPhone"
        ],
        [
         142,
         0.009169959087130279,
         "first_browser_encoded_Stainless"
        ],
        [
         64,
         0.008359251795239508,
         "affiliate_provider_encoded_meetup"
        ],
        [
         38,
         0.00783246687640092,
         "language_encoded_th"
        ],
        [
         82,
         0.004391983460962271,
         "first_device_type_encoded_Mac Desktop"
        ],
        [
         75,
         0.0038533257847225863,
         "first_affiliate_tracked_encoded_product"
        ],
        [
         36,
         0.0035260178176453657,
         "language_encoded_no"
        ],
        [
         140,
         0.003481278574558184,
         "first_browser_encoded_PS Vita browser"
        ],
        [
         70,
         0.0034264443018900284,
         "affiliate_provider_encoded_daum"
        ],
        [
         62,
         0.0031174410334172866,
         "affiliate_provider_encoded_yahoo"
        ],
        [
         3,
         0.0030943830088390684,
         "dac_month"
        ],
        [
         86,
         0.0022370294482475374,
         "first_device_type_encoded_Other/Unknown"
        ],
        [
         44,
         0.0017569801515952869,
         "language_encoded_hr"
        ],
        [
         74,
         0.0013372262232781266,
         "first_affiliate_tracked_encoded_tracked-other"
        ],
        [
         41,
         0.0013069350074092559,
         "language_encoded_fi"
        ],
        [
         11,
         0.0013018986682563334,
         "Generation_encoded_Gen X"
        ],
        [
         137,
         0.0010453452820373555,
         "first_browser_encoded_Kindle Browser"
        ],
        [
         45,
         0.000993489209185601,
         "affiliate_channel_encoded_direct"
        ],
        [
         46,
         0.0006998157039428887,
         "affiliate_channel_encoded_sem-brand"
        ],
        [
         78,
         0.00038426970169346317,
         "signup_app_encoded_Web"
        ],
        [
         138,
         0.0003816923449109595,
         "first_browser_encoded_NetNewsWire"
        ],
        [
         71,
         0.0003692057924645334,
         "first_affiliate_tracked_encoded_untracked"
        ],
        [
         49,
         0.00034037942734215583,
         "affiliate_channel_encoded_other"
        ],
        [
         37,
         0.0003057728381036547,
         "language_encoded_el"
        ],
        [
         40,
         0.00029541418801141956,
         "language_encoded_hu"
        ],
        [
         88,
         0.0002635222061955889,
         "first_device_type_encoded_Android Tablet"
        ],
        [
         83,
         0.0002447974500504353,
         "first_device_type_encoded_Windows Desktop"
        ],
        [
         63,
         0.00023766626990813947,
         "affiliate_provider_encoded_gsp"
        ],
        [
         65,
         0.00021132824413684712,
         "affiliate_provider_encoded_email-marketing"
        ],
        [
         51,
         0.0001710075276669559,
         "affiliate_channel_encoded_content"
        ],
        [
         7,
         0.00016314780772320824,
         "tfa_day"
        ],
        [
         18,
         0.00014322804539855982,
         "signup_method_encoded_facebook"
        ],
        [
         52,
         0.00011950249623682176,
         "affiliate_channel_encoded_remarketing"
        ],
        [
         55,
         0.00009275757248565181,
         "affiliate_provider_encoded_other"
        ],
        [
         77,
         0.00008910865942434579,
         "first_affiliate_tracked_encoded_local ops"
        ],
        [
         141,
         0.00008832087102648891,
         "first_browser_encoded_Palm Pre web browser"
        ],
        [
         12,
         0.00008209536418170808,
         "Generation_encoded_The Baby Boomer Generation"
        ],
        [
         113,
         0.00008015780380287747,
         "first_browser_encoded_Pale Moon"
        ],
        [
         90,
         0.00007478933535237948,
         "first_device_type_encoded_SmartPhone (Other)"
        ],
        [
         39,
         0.00007380429800472951,
         "language_encoded_id"
        ],
        [
         19,
         0.00007318476405174614,
         "signup_method_encoded_google"
        ],
        [
         111,
         0.0000633168743073164,
         "first_browser_encoded_Iron"
        ],
        [
         15,
         0.00006164691125427195,
         "gender_encoded_male"
        ],
        [
         25,
         0.00004618517596022659,
         "language_encoded_de"
        ],
        [
         14,
         0.00003991817351522137,
         "gender_encoded_female"
        ],
        [
         16,
         0.000037322429131365194,
         "gender_encoded_other"
        ],
        [
         47,
         0.00003571842172527441,
         "affiliate_channel_encoded_sem-non-brand"
        ],
        [
         76,
         0.000029566993877980276,
         "first_affiliate_tracked_encoded_marketing"
        ],
        [
         66,
         0.00002279334641666798,
         "affiliate_provider_encoded_naver"
        ],
        [
         81,
         0.000022424416573895165,
         "signup_app_encoded_Android"
        ],
        [
         32,
         0.000019278520056505497,
         "language_encoded_tr"
        ],
        [
         89,
         0.000013615561705659034,
         "first_device_type_encoded_Desktop (Other)"
        ],
        [
         27,
         0.000013011858750328422,
         "language_encoded_ru"
        ],
        [
         48,
         0.00001273484127008071,
         "affiliate_channel_encoded_seo"
        ],
        [
         24,
         0.000012449951131907672,
         "language_encoded_ko"
        ],
        [
         53,
         0.000011082143688146283,
         "affiliate_provider_encoded_direct"
        ],
        [
         79,
         0.000008147483867227808,
         "signup_app_encoded_iOS"
        ],
        [
         107,
         0.000003022610766104244,
         "first_browser_encoded_Sogou Explorer"
        ],
        [
         21,
         0.0000024722546872921744,
         "language_encoded_zh"
        ],
        [
         133,
         0,
         "first_browser_encoded_Epic"
        ],
        [
         121,
         0,
         "first_browser_encoded_Avant Browser"
        ],
        [
         108,
         0,
         "first_browser_encoded_Mobile Firefox"
        ],
        [
         109,
         0,
         "first_browser_encoded_RockMelt"
        ],
        [
         110,
         0,
         "first_browser_encoded_SiteKiosk"
        ],
        [
         112,
         0,
         "first_browser_encoded_IceWeasel"
        ],
        [
         28,
         0,
         "language_encoded_pt"
        ],
        [
         114,
         0,
         "first_browser_encoded_CometBird"
        ],
        [
         115,
         0,
         "first_browser_encoded_SeaMonkey"
        ],
        [
         116,
         0,
         "first_browser_encoded_Yandex.Browser"
        ],
        [
         117,
         0,
         "first_browser_encoded_Camino"
        ],
        [
         118,
         0,
         "first_browser_encoded_TenFourFox"
        ],
        [
         119,
         0,
         "first_browser_encoded_CoolNovo"
        ],
        [
         120,
         0,
         "first_browser_encoded_wOSBrowser"
        ],
        [
         122,
         0,
         "first_browser_encoded_Opera Mini"
        ],
        [
         10,
         0,
         "Generation_encoded_Gen Z"
        ],
        [
         22,
         0,
         "language_encoded_fr"
        ],
        [
         123,
         0,
         "first_browser_encoded_Mozilla"
        ],
        [
         124,
         0,
         "first_browser_encoded_Comodo Dragon"
        ],
        [
         125,
         0,
         "first_browser_encoded_Crazy Browser"
        ],
        [
         23,
         0,
         "language_encoded_es"
        ],
        [
         126,
         0,
         "first_browser_encoded_Flock"
        ],
        [
         127,
         0,
         "first_browser_encoded_OmniWeb"
        ],
        [
         106,
         0,
         "first_browser_encoded_IE Mobile"
        ],
        [
         129,
         0,
         "first_browser_encoded_SlimBrowser"
        ],
        [
         130,
         0,
         "first_browser_encoded_TheWorld Browser"
        ],
        [
         26,
         0,
         "language_encoded_it"
        ],
        [
         131,
         0,
         "first_browser_encoded_Arora"
        ],
        [
         132,
         0,
         "first_browser_encoded_Conkeror"
        ],
        [
         128,
         0,
         "first_browser_encoded_Opera Mobile"
        ],
        [
         58,
         0,
         "affiliate_provider_encoded_facebook"
        ],
        [
         105,
         0,
         "first_browser_encoded_Apple Mail"
        ],
        [
         104,
         0,
         "first_browser_encoded_Maxthon"
        ],
        [
         33,
         0,
         "language_encoded_da"
        ],
        [
         34,
         0,
         "language_encoded_pl"
        ],
        [
         20,
         0,
         "language_encoded_en"
        ],
        [
         80,
         0,
         "signup_app_encoded_Moweb"
        ],
        [
         35,
         0,
         "language_encoded_cs"
        ],
        [
         43,
         0,
         "language_encoded_is"
        ],
        [
         50,
         0,
         "affiliate_channel_encoded_api"
        ],
        [
         17,
         0,
         "signup_method_encoded_basic"
        ],
        [
         68,
         0,
         "affiliate_provider_encoded_yandex"
        ],
        [
         67,
         0,
         "affiliate_provider_encoded_baidu"
        ],
        [
         54,
         0,
         "affiliate_provider_encoded_google"
        ],
        [
         56,
         0,
         "affiliate_provider_encoded_craigslist"
        ],
        [
         57,
         0,
         "affiliate_provider_encoded_bing"
        ],
        [
         61,
         0,
         "affiliate_provider_encoded_facebook-open-graph"
        ],
        [
         60,
         0,
         "affiliate_provider_encoded_vast"
        ],
        [
         13,
         0,
         "gender_encoded_-unknown-"
        ],
        [
         31,
         0,
         "language_encoded_nl"
        ],
        [
         87,
         0,
         "first_device_type_encoded_Android Phone"
        ],
        [
         97,
         0,
         "first_browser_encoded_Chrome Mobile"
        ],
        [
         103,
         0,
         "first_browser_encoded_BlackBerry Browser"
        ],
        [
         102,
         0,
         "first_browser_encoded_Chromium"
        ],
        [
         101,
         0,
         "first_browser_encoded_Silk"
        ],
        [
         59,
         0,
         "affiliate_provider_encoded_padmapper"
        ],
        [
         99,
         0,
         "first_browser_encoded_AOL Explorer"
        ],
        [
         98,
         0,
         "first_browser_encoded_Android Browser"
        ],
        [
         96,
         0,
         "first_browser_encoded_Mobile Safari"
        ],
        [
         30,
         0,
         "language_encoded_sv"
        ],
        [
         95,
         0,
         "first_browser_encoded_IE"
        ],
        [
         94,
         0,
         "first_browser_encoded_-unknown-"
        ],
        [
         93,
         0,
         "first_browser_encoded_Firefox"
        ],
        [
         92,
         0,
         "first_browser_encoded_Safari"
        ],
        [
         91,
         0,
         "first_browser_encoded_Chrome"
        ],
        [
         29,
         0,
         "language_encoded_ja"
        ],
        [
         100,
         0,
         "first_browser_encoded_Opera"
        ]
       ],
       "datasetInfos": [],
       "dbfsResultPath": null,
       "isJsonSchema": true,
       "metadata": {},
       "overflow": false,
       "plotOptions": {
        "customPlotOptions": {},
        "displayType": "table",
        "pivotAggregation": null,
        "pivotColumns": null,
        "xColumns": null,
        "yColumns": null
       },
       "removedWidgets": [],
       "schema": [
        {
         "metadata": "{}",
         "name": "feature_index",
         "type": "\"long\""
        },
        {
         "metadata": "{}",
         "name": "importance",
         "type": "\"double\""
        },
        {
         "metadata": "{}",
         "name": "feature_name",
         "type": "\"string\""
        }
       ],
       "type": "table"
      }
     },
     "output_type": "display_data"
    }
   ],
   "source": [
    "# Extract numeric feature names\n",
    "numeric_features = [attr['name'] for attr in processed_train_users.schema[\"features\"].metadata['ml_attr']['attrs']['numeric']]\n",
    "\n",
    "# Extract binary feature names\n",
    "binary_features = [attr['name'] for attr in processed_train_users.schema[\"features\"].metadata['ml_attr']['attrs']['binary']]\n",
    "\n",
    "# Combine all feature names\n",
    "all_feature_names = numeric_features + binary_features\n",
    "\n",
    "# Now use this for feature importance\n",
    "pandas_feature_importance = pd.DataFrame(\n",
    "    list(enumerate(model.featureImportances.toArray())), \n",
    "    columns=['feature_index', 'importance']\n",
    ")\n",
    "\n",
    "# Add feature names\n",
    "pandas_feature_importance['feature_name'] = all_feature_names\n",
    "\n",
    "# Sort by importance\n",
    "pandas_feature_importance = pandas_feature_importance.sort_values('importance', ascending=False)\n",
    "\n",
    "# Display\n",
    "display(pandas_feature_importance)"
   ]
  },
  {
   "cell_type": "markdown",
   "metadata": {
    "application/vnd.databricks.v1+cell": {
     "cellMetadata": {
      "byteLimit": 2048000,
      "rowLimit": 10000
     },
     "inputWidgets": {},
     "nuid": "3a1629a4-a238-403b-895b-77caa08b99fc",
     "showTitle": false,
     "tableResultSettingsMap": {},
     "title": ""
    }
   },
   "source": [
    "### Saving the model for further predictions."
   ]
  },
  {
   "cell_type": "code",
   "execution_count": null,
   "metadata": {
    "application/vnd.databricks.v1+cell": {
     "cellMetadata": {
      "byteLimit": 2048000,
      "rowLimit": 10000
     },
     "inputWidgets": {},
     "nuid": "4ffc5ab1-a34f-4d6c-a7b5-000cbb9854dc",
     "showTitle": false,
     "tableResultSettingsMap": {},
     "title": ""
    }
   },
   "outputs": [],
   "source": [
    "from pyspark.ml.classification import RandomForestClassificationModel\n",
    "\n",
    "model.write().overwrite().save(\"/dbfs/mnt/project_2_model\")"
   ]
  },
  {
   "cell_type": "markdown",
   "metadata": {
    "application/vnd.databricks.v1+cell": {
     "cellMetadata": {
      "byteLimit": 2048000,
      "rowLimit": 10000
     },
     "inputWidgets": {},
     "nuid": "8c207190-143d-47ab-993c-801bb50e9307",
     "showTitle": false,
     "tableResultSettingsMap": {},
     "title": ""
    }
   },
   "source": [
    "### Load the model if needed"
   ]
  },
  {
   "cell_type": "code",
   "execution_count": null,
   "metadata": {
    "application/vnd.databricks.v1+cell": {
     "cellMetadata": {
      "byteLimit": 2048000,
      "rowLimit": 10000
     },
     "inputWidgets": {},
     "nuid": "c62bef02-4ae6-49c0-94cb-460af5968555",
     "showTitle": false,
     "tableResultSettingsMap": {},
     "title": ""
    }
   },
   "outputs": [],
   "source": [
    "from pyspark.ml.classification import RandomForestClassificationModel\n",
    "\n",
    "loaded_model = RandomForestClassificationModel.load(\"/dbfs/mnt/project_2_model\")"
   ]
  },
  {
   "cell_type": "markdown",
   "metadata": {
    "application/vnd.databricks.v1+cell": {
     "cellMetadata": {},
     "inputWidgets": {},
     "nuid": "e019e4ff-5f07-4b47-b74f-4335269d0da5",
     "showTitle": false,
     "tableResultSettingsMap": {},
     "title": ""
    }
   },
   "source": [
    "----------------------------------------------------------------------------"
   ]
  },
  {
   "cell_type": "markdown",
   "metadata": {
    "application/vnd.databricks.v1+cell": {
     "cellMetadata": {},
     "inputWidgets": {},
     "nuid": "04bec976-eb7a-40c1-a5d2-845e1482a6fe",
     "showTitle": false,
     "tableResultSettingsMap": {},
     "title": ""
    }
   },
   "source": [
    "### split train data into train and validation set so we can do some optimization"
   ]
  },
  {
   "cell_type": "code",
   "execution_count": null,
   "metadata": {
    "application/vnd.databricks.v1+cell": {
     "cellMetadata": {
      "byteLimit": 2048000,
      "rowLimit": 10000
     },
     "inputWidgets": {},
     "nuid": "bc74c756-0f1e-4458-be4b-0d89901d86db",
     "showTitle": false,
     "tableResultSettingsMap": {},
     "title": ""
    }
   },
   "outputs": [],
   "source": [
    "# Split data into training and validation\n",
    "train_data, val_data = processed_train_users.randomSplit([0.8, 0.2], seed=42)"
   ]
  },
  {
   "cell_type": "code",
   "execution_count": null,
   "metadata": {
    "application/vnd.databricks.v1+cell": {
     "cellMetadata": {
      "byteLimit": 2048000,
      "rowLimit": 10000
     },
     "inputWidgets": {},
     "nuid": "c926a088-8490-4dd0-bc34-1d1cfb6eeeaa",
     "showTitle": false,
     "tableResultSettingsMap": {},
     "title": ""
    }
   },
   "outputs": [],
   "source": [
    "# Train RandomForest\n",
    "rf = RandomForestClassifier(labelCol=\"label\", featuresCol=\"scaled_features\", \n",
    "                             numTrees=100, maxDepth=6)\n",
    "\n",
    "# Fit the model, this will inside the fun \n",
    "model = rf.fit(train_data)"
   ]
  },
  {
   "cell_type": "code",
   "execution_count": null,
   "metadata": {
    "application/vnd.databricks.v1+cell": {
     "cellMetadata": {
      "byteLimit": 2048000,
      "rowLimit": 10000
     },
     "inputWidgets": {},
     "nuid": "72c747ba-9fa3-4853-8b5f-6d2097c958e9",
     "showTitle": false,
     "tableResultSettingsMap": {},
     "title": ""
    }
   },
   "outputs": [],
   "source": [
    "# Collect predictions to calculate\n",
    "predictions = model.transform(val_data)\n",
    "\n",
    "label_col = 'label'\n",
    "prediction_col = 'prediction'\n",
    "# Initialize evaluator for multiclass metrics\n",
    "evaluator = MulticlassClassificationEvaluator(labelCol=label_col, predictionCol=prediction_col)\n",
    "\n",
    "# Accuracy, F1 score, Precision and Recall\n",
    "\n",
    "accuracy = evaluator.evaluate(predictions)\n",
    "\n",
    "f1_evaluator = MulticlassClassificationEvaluator(labelCol=label_col, predictionCol=prediction_col, metricName=\"f1\")\n",
    "f1_sc = f1_evaluator.evaluate(predictions, {f1_evaluator.metricName: \"f1\"})\n",
    "\n",
    "precision_evaluator = MulticlassClassificationEvaluator(labelCol=label_col, predictionCol=prediction_col, metricName=\"precisionByLabel\")\n",
    "precision_sc = precision_evaluator.evaluate(predictions, {precision_evaluator.metricName: \"precisionByLabel\"})\n",
    "\n",
    "recall_evaluator = MulticlassClassificationEvaluator(labelCol=label_col, predictionCol=prediction_col, metricName=\"recallByLabel\")\n",
    "recall_sc = recall_evaluator.evaluate(predictions, {recall_evaluator.metricName: \"recallByLabel\"})\n"
   ]
  },
  {
   "cell_type": "code",
   "execution_count": null,
   "metadata": {
    "application/vnd.databricks.v1+cell": {
     "cellMetadata": {
      "byteLimit": 2048000,
      "rowLimit": 10000
     },
     "inputWidgets": {},
     "nuid": "b1142107-53c6-4791-a393-758906b9645a",
     "showTitle": false,
     "tableResultSettingsMap": {},
     "title": ""
    }
   },
   "outputs": [
    {
     "name": "stdout",
     "output_type": "stream",
     "text": [
      " Recall: 0.9879723655734975\n",
      " Precision: 0.5903608465345304\n",
      " F1: 0.45495071514377383\n"
     ]
    }
   ],
   "source": [
    "print(f\" Recall: {recall_sc}\")\n",
    "print(f\" Precision: {precision_sc}\")\n",
    "print(f\" F1: {f1_sc}\")"
   ]
  },
  {
   "cell_type": "markdown",
   "metadata": {
    "application/vnd.databricks.v1+cell": {
     "cellMetadata": {},
     "inputWidgets": {},
     "nuid": "18ee4e7d-0b7b-4651-aa65-9f1d25d4682d",
     "showTitle": false,
     "tableResultSettingsMap": {},
     "title": ""
    }
   },
   "source": [
    "### Hyperparameter Tuning (optional)"
   ]
  },
  {
   "cell_type": "markdown",
   "metadata": {
    "application/vnd.databricks.v1+cell": {
     "cellMetadata": {},
     "inputWidgets": {},
     "nuid": "79260c02-4ae6-4acb-8b3e-6f3fc64e9c84",
     "showTitle": false,
     "tableResultSettingsMap": {},
     "title": ""
    }
   },
   "source": [
    "Parameter Grid Size:\n",
    "\n",
    "You have defined a grid with:\n",
    "\n",
    "rf.numTrees: 4 values [20, 50, 100, 500]\n",
    "rf.maxDepth: 4 values [3, 5, 10, 15]\n",
    "\n",
    "Total combinations: 4×4=16\n",
    "\n",
    "Number of Folds (numFolds=5):\n",
    "\n",
    "For each parameter combination, the data is split into 5 folds.\n",
    "\n",
    "Total model fits: 16×5=80\n",
    "\n",
    "**Training Time for 1 Model:**\n",
    "\n",
    "Suppose training one Random Forest model takes ~2 minutes.\n",
    "\n",
    "Total Models in Grid Search:\n",
    "\n",
    "16 combinations × 5 folds = 80\n",
    " \n",
    "models:\n",
    "\n",
    "16 combinations × 5 folds = 80 models\n",
    "\n",
    "Total Time Estimate: 80×2 minutes = 160 minutes (≈2.7hours)\n"
   ]
  },
  {
   "cell_type": "code",
   "execution_count": null,
   "metadata": {
    "application/vnd.databricks.v1+cell": {
     "cellMetadata": {
      "byteLimit": 2048000,
      "rowLimit": 10000
     },
     "inputWidgets": {},
     "nuid": "e2fe46ff-43de-459b-be4a-bdede0bb30b9",
     "showTitle": false,
     "tableResultSettingsMap": {},
     "title": ""
    }
   },
   "outputs": [],
   "source": [
    "from pyspark.ml.tuning import CrossValidator, ParamGridBuilder\n",
    "from pyspark.ml.evaluation import MulticlassClassificationEvaluator\n",
    "from pyspark.ml.classification import RandomForestClassifier\n",
    "\n",
    "# Initialize the model (RandomForest in this case)\n",
    "rf = RandomForestClassifier(labelCol=\"label\", featuresCol=\"scaled_features\")\n",
    "\n",
    "# Create a parameter grid to tune hyperparameters\n",
    "param_grid = (ParamGridBuilder()\n",
    "              .addGrid(rf.numTrees, [20, 50, 100, 500])    # Hyperparameter for number of trees\n",
    "              .addGrid(rf.maxDepth, [3, 5, 10, 15])      # Hyperparameter for max depth\n",
    "              .build())\n",
    "\n",
    "# Define the evaluator (F1 score)\n",
    "evaluator = MulticlassClassificationEvaluator(labelCol=\"label\", predictionCol=\"prediction\", metricName=\"f1\")\n",
    "\n",
    "# Set up the CrossValidator\n",
    "cv = CrossValidator(estimator=rf, \n",
    "                    estimatorParamMaps=param_grid, \n",
    "                    evaluator=evaluator, \n",
    "                    numFolds=5,  # You can adjust the number of folds\n",
    "                    seed=42)\n",
    "\n",
    "# Train the model with cross-validation\n",
    "cv_model = cv.fit(train_data)\n",
    "\n",
    "# Get the best model\n",
    "best_model = cv_model.bestModel\n",
    "print(f\"Best Model: {best_model}\")\n"
   ]
  },
  {
   "cell_type": "code",
   "execution_count": null,
   "metadata": {
    "application/vnd.databricks.v1+cell": {
     "cellMetadata": {
      "byteLimit": 2048000,
      "rowLimit": 10000
     },
     "inputWidgets": {},
     "nuid": "5cc88349-7730-4046-ba55-70ed275e079c",
     "showTitle": false,
     "tableResultSettingsMap": {},
     "title": ""
    }
   },
   "outputs": [],
   "source": [
    "# Make predictions with the best model found by cross-validation\n",
    "val_predictions = best_model.transform(val_data)\n",
    "\n",
    "# Evaluate the best model using F1 score\n",
    "f1_score = evaluator.evaluate(val_predictions)\n",
    "print(f\"Optimized F1 Score on Validation Set: {f1_score}\")\n"
   ]
  },
  {
   "cell_type": "code",
   "execution_count": null,
   "metadata": {
    "application/vnd.databricks.v1+cell": {
     "cellMetadata": {},
     "inputWidgets": {},
     "nuid": "1b46fb21-ca40-4b7a-9660-26e36d50c4a4",
     "showTitle": false,
     "tableResultSettingsMap": {},
     "title": ""
    }
   },
   "outputs": [],
   "source": [
    "# Stop Spark session\n",
    "spark.stop()"
   ]
  }
 ],
 "metadata": {
  "application/vnd.databricks.v1+notebook": {
   "computePreferences": null,
   "dashboards": [],
   "environmentMetadata": null,
   "language": "python",
   "notebookMetadata": {
    "pythonIndentUnit": 4
   },
   "notebookName": "AirBnb",
   "widgets": {}
  },
  "language_info": {
   "name": "python"
  }
 },
 "nbformat": 4,
 "nbformat_minor": 0
}
